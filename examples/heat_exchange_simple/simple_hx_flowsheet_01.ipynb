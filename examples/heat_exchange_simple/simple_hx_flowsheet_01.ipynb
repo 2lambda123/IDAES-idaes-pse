{
 "cells": [
  {
   "cell_type": "markdown",
   "metadata": {},
   "source": [
    "# Simple Example with Steam and Heat Exchangers\n",
    "\n",
    "This notebook demonstrates how to assemble, initialize, and run a very simple flowsheet using steam and heat exchangers. This breifly demonstrates the basics of setting up a flowsheet.  See the documentation for a more complete description of the framework."
   ]
  },
  {
   "cell_type": "markdown",
   "metadata": {},
   "source": [
    "## Imports\n",
    "\n",
    "Import all the Pyomo and IDAES modules, classes and functions needed for this example. In the imports below the ```delta_temperature_amtd_rule``` is a function that is used for a Pyomo rule to generate an expression for the temperature difference driving force for a heatexchanger. This is used later to overrive the default LMTD calcualtion.  This makes this example slightly more robust when experimenting with different inputs. "
   ]
  },
  {
   "cell_type": "code",
   "execution_count": 1,
   "metadata": {},
   "outputs": [],
   "source": [
    "import pyomo.environ as pe    # Frequently used Pyomo classes and functions \n",
    "from pyomo.network import Arc # Class for objects used to connect ports, similar to a material stream\n",
    "from idaes.core import FlowsheetBlock # IDAES flowsheet model class\n",
    "from idaes.unit_models import Heater, HeatExchanger # Heater and HeatExchanger model classes\n",
    "from idaes.unit_models.heat_exchanger import delta_temperature_amtd_rule # A delta T rule\n",
    "from idaes.property_models import Iapws95ParameterBlock # Physical property parameter block class "
   ]
  },
  {
   "cell_type": "markdown",
   "metadata": {},
   "source": [
    "## Initialize DMF\n",
    "\n",
    "Features of the DMF provide easy online access to documentation.  In the cell below initialize the DMF.\n",
    "\n",
    "### Example Code\n",
    "\n",
    "```python\n",
    "from idaes.dmf import magics\n",
    "%dmf init . create\n",
    "```"
   ]
  },
  {
   "cell_type": "code",
   "execution_count": 2,
   "metadata": {},
   "outputs": [
    {
     "data": {
      "text/markdown": [
       "Cannot create new configuration at \".\": file \"config.yaml\" exists. Will try without \"create\" option"
      ]
     },
     "metadata": {},
     "output_type": "display_data"
    },
    {
     "data": {
      "text/markdown": [
       "*Success!* Using workspace at \".\""
      ]
     },
     "metadata": {},
     "output_type": "display_data"
    }
   ],
   "source": [
    "from idaes.dmf import magics\n",
    "%dmf init . create"
   ]
  },
  {
   "cell_type": "markdown",
   "metadata": {},
   "source": [
    "## Function to Display Material Contitions\n",
    "\n",
    "This function will create a table of the material state in every state block.  This makes looking at the results of this example a little easier. This is similar to a steam table, but it shows the ports of each side of the steam, and material states internal to the model if those exist and more that just the inlet and outlet."
   ]
  },
  {
   "cell_type": "code",
   "execution_count": 9,
   "metadata": {},
   "outputs": [],
   "source": [
    "import pandas as pd\n",
    "from idaes.core import StateBlockBase\n",
    "\n",
    "def state_table(m):\n",
    "    \"\"\"\n",
    "    Create a Pandas data frame that shows the material state in\n",
    "    every state block.\n",
    "    \n",
    "    Args:\n",
    "        m: a Pyomo model containing IDAES StateBlockBase objects\n",
    "    \n",
    "    Returns:\n",
    "        A Pandas dataframe with material states\n",
    "    \"\"\"\n",
    "    head = [\"State Block\", \n",
    "        \"Flow (mol/s)\",\n",
    "        \"Temperature (K)\",\n",
    "        \"Pressure (Pa)\",\n",
    "        \"Enthalpy (J/mol)\",\n",
    "        \"Vapor Fraction\"]\n",
    "    st = pd.DataFrame(columns=head)\n",
    "    j = 0\n",
    "    for c in model.component_objects():\n",
    "        if isinstance(c, StateBlockBase):\n",
    "            for i in c:\n",
    "                row = [c[i].name, \n",
    "                       pe.value(c[i].flow_mol), \n",
    "                       pe.value(c[i].temperature), \n",
    "                       pe.value(c[i].pressure), \n",
    "                       pe.value(c[i].enth_mol),\n",
    "                       pe.value(c[i].vapor_frac)]\n",
    "                st.loc[j] = row\n",
    "                j += 1\n",
    "    return st"
   ]
  },
  {
   "cell_type": "markdown",
   "metadata": {},
   "source": [
    "## Create a Flowsheet\n",
    "\n",
    "The first step to creating a running IDAES model is to create a flowsheet obojet. In the code below the following steps should be performed.\n",
    "\n",
    "* Create and a Pyomo ConcreteModel (called \"model\")\n",
    "* Add a steady-state flowsheet object the model (attribute of \"model\" called \"fs\") \n",
    "* Add a property parameter block to the flowsheet (attribute of \"fs\" called \"properties\")\n",
    "\n",
    "Parameter blocks contain parameters that are (usually) constant and common to all propery methods of the same type. Sharing a common parameter block is more efficent and also easier to modify when doing things like parameter estimation.\n",
    "\n",
    "When creating the Flowsheet model (or other idaes block model) The default argument takes a dictionary with configuration options for the model.  In this case the \"dynamic\" options should be set to False to create a steady-state flowsheet.\n",
    "\n",
    "\n",
    "### Example Code\n",
    "\n",
    "```python\n",
    "model = pe.ConcreteModel()\n",
    "model.fs = FlowsheetBlock(default={\"dynamic\": False})\n",
    "model.fs.properties = Iapws95ParameterBlock()\n",
    "```"
   ]
  },
  {
   "cell_type": "code",
   "execution_count": 3,
   "metadata": {},
   "outputs": [],
   "source": [
    "model = pe.ConcreteModel()\n",
    "model.fs = FlowsheetBlock(default={\"dynamic\": False})\n",
    "model.fs.properties = Iapws95ParameterBlock()"
   ]
  },
  {
   "cell_type": "markdown",
   "metadata": {},
   "source": [
    "## Create a Heater and HeatExchanger Model\n",
    "\n",
    "Next unit models can be added to the flowsheet. Here we need to create a Heater object and a HeatExchanger object called \"model.fs.heater\" and \"model.fs.heat_exchanger\".  For the heater only configuration option that needs to be passed is \"property_package\" which takes a property parameter block, in this case \"model.fs.properties\".\n",
    "\n",
    "The heat exchanger model is a little more complicated.  It has two sides and each side can use a different property package. The default LMTD rule is also going to be replaced with the AMTD rule which was imported in the first step.  The heat excahger config dictionary is shown below. The \"side_1\" and \"side_2\" keys are each paired with a dicionary for configuring the two ControlVolume0Ds representing the two sides of the heat exchangter.  The \"delta_temperature_rule\" key is paired with a function that takes a Pyomo block and a time index and return a temperature difference expression.\n",
    "\n",
    "```python\n",
    "{\n",
    "    \"delta_temperature_rule\":delta_temperature_amtd_rule,\n",
    "    \"side_1\":{\"property_package\": model.fs.properties},\n",
    "    \"side_2\":{\"property_package\": model.fs.properties}\n",
    "}\n",
    "```\n",
    "\n",
    "### Example Code\n",
    "\n",
    "```python\n",
    "model.fs.heater = Heater(default={\"property_package\": model.fs.properties})\n",
    "model.fs.heat_exchanger = HeatExchanger(default={\n",
    "        \"delta_temperature_rule\":delta_temperature_amtd_rule,\n",
    "        \"side_1\":{\"property_package\": model.fs.properties},\n",
    "        \"side_2\":{\"property_package\": model.fs.properties}})\n",
    "```"
   ]
  },
  {
   "cell_type": "code",
   "execution_count": 4,
   "metadata": {},
   "outputs": [],
   "source": [
    "model.fs.heater = Heater(default={\"property_package\": model.fs.properties})\n",
    "model.fs.heat_exchanger = HeatExchanger(default={\n",
    "        \"delta_temperature_rule\":delta_temperature_amtd_rule,\n",
    "        \"side_1\":{\"property_package\": model.fs.properties},\n",
    "        \"side_2\":{\"property_package\": model.fs.properties}})"
   ]
  },
  {
   "cell_type": "markdown",
   "metadata": {},
   "source": [
    "## Getting Reference Documentation\n",
    "\n",
    "The DMF provides easy access to IDAES framework reference documentation. For example:\n",
    "```python\n",
    "%dmf help HeatExchanger\n",
    "```\n",
    "will open a new browser tab showing the HeatExchanger class documentation. "
   ]
  },
  {
   "cell_type": "code",
   "execution_count": 19,
   "metadata": {},
   "outputs": [
    {
     "name": "stderr",
     "output_type": "stream",
     "text": [
      "2018-12-12 12:58:12,602 [INFO] idaes.dmf.help: find HTML docs for module=idaes.unit_models.heat_exchanger class=HeatExchanger on paths=['/home/jeslick/git/idaes/docs/build/html']\n"
     ]
    }
   ],
   "source": [
    "%dmf help HeatExchanger"
   ]
  },
  {
   "cell_type": "markdown",
   "metadata": {},
   "source": [
    "## Fix Inlets and Initialize\n",
    "\n",
    "Fix the inlets of the heater and heat exchanger and the heat duty for the heater. Initialize the units.\n",
    "\n",
    "The heater model has the has one inlet called \"inlet\" and a heat duty called \"heat_duty\" that can be fixed resulting in 0 degrees of freedom for the model. The inlet and the heat duty are indexed by time, but since this is a steady state model, only time zero exists.  The state variables for the inlet are \"enth_mol\", \"flow_mol\", and \"pressure\".  These state varaibles depend on the physical property pacakage.  In this case a version of the IAPWS-95 properties for steam is being used, which uses enthalpy and pressure as state varaibles. \n",
    "\n",
    "Set the heater inlet to: molar enthalpy = 4000 J/mol, molar flow = 100 mol/s, and pressure = 101325 Pa.  Set the heater heat duty to 2000000 J/s.\n",
    "\n",
    "The heat exchanger has two inlets \"inlet_1\" for \"side_1\" and \"inlet_2\" for \"side_2\".  Fix the inlets as shown in the table.\n",
    "\n",
    "| variable    | inlet_1    | inlet_2   |\n",
    "|-------------|------------|-----------|\n",
    "| enth_mole   | 4000       | 3000      |\n",
    "| pressure    | 101325     | 101325    |\n",
    "| flow_mol    | 100        | 100       |\n",
    "\n",
    "Each unit model has an initilialize method to get the model to a solvable state. Call the inititialize methods for each unit.\n",
    "\n",
    "### Example Heater Code\n",
    "\n",
    "```python\n",
    "# Fix both heat exchanger intlets and initialize\n",
    "model.fs.heater.inlet[0].enth_mol.fix(4000)\n",
    "model.fs.heater.inlet[0].flow_mol.fix(100)\n",
    "model.fs.heater.inlet[0].pressure.fix(101325)\n",
    "model.fs.heater.heat_duty[0].fix(2000000)\n",
    "\n",
    "model.fs.heater.initialize()\n",
    "```\n",
    "\n",
    "### Example Heat Exchanger Code\n",
    "\n",
    "```python\n",
    "# Fix both heat exchanger intlets and initialize\n",
    "model.fs.heat_exchanger.inlet_1[0].flow_mol.fix(100)\n",
    "model.fs.heat_exchanger.inlet_1[0].pressure.fix(101325)\n",
    "model.fs.heat_exchanger.inlet_1[0].enth_mol.fix(4000)\n",
    "model.fs.heat_exchanger.inlet_2[0].flow_mol.fix(100)\n",
    "model.fs.heat_exchanger.inlet_2[0].pressure.fix(101325)\n",
    "model.fs.heat_exchanger.inlet_2[0].enth_mol.fix(3000)\n",
    "\n",
    "model.fs.heat_exchanger.initialize()\n",
    "```"
   ]
  },
  {
   "cell_type": "code",
   "execution_count": 5,
   "metadata": {},
   "outputs": [],
   "source": [
    "# Fix heater inlets and heat duty then initialize unit\n",
    "model.fs.heater.inlet[0].enth_mol.fix(4000)\n",
    "model.fs.heater.inlet[0].flow_mol.fix(100)\n",
    "model.fs.heater.inlet[0].pressure.fix(101325)\n",
    "model.fs.heater.heat_duty[0].fix(2000000)\n",
    "\n",
    "model.fs.heater.initialize()"
   ]
  },
  {
   "cell_type": "code",
   "execution_count": 6,
   "metadata": {},
   "outputs": [],
   "source": [
    "# Fix both heat exchanger intlets and initialize\n",
    "model.fs.heat_exchanger.inlet_1[0].flow_mol.fix(100)\n",
    "model.fs.heat_exchanger.inlet_1[0].pressure.fix(101325)\n",
    "model.fs.heat_exchanger.inlet_1[0].enth_mol.fix(4000)\n",
    "model.fs.heat_exchanger.inlet_2[0].flow_mol.fix(100)\n",
    "model.fs.heat_exchanger.inlet_2[0].pressure.fix(101325)\n",
    "model.fs.heat_exchanger.inlet_2[0].enth_mol.fix(3000)\n",
    "\n",
    "model.fs.heat_exchanger.initialize()"
   ]
  },
  {
   "cell_type": "markdown",
   "metadata": {},
   "source": [
    "## Solve the Disconnected Flowsheet\n",
    "\n",
    "The next step in this example is to make sure the disconnected flowsheet will solve.  To solve the model create a slover the solve like a normal Pyomo model.\n",
    "\n",
    "### Example Code\n",
    "```python\n",
    "solver = pe.SolverFactory('ipopt')\n",
    "solver.solve(model, tee=True)\n",
    "```"
   ]
  },
  {
   "cell_type": "code",
   "execution_count": 7,
   "metadata": {},
   "outputs": [],
   "source": [
    "solver = pe.SolverFactory('ipopt')"
   ]
  },
  {
   "cell_type": "code",
   "execution_count": 8,
   "metadata": {},
   "outputs": [
    {
     "name": "stdout",
     "output_type": "stream",
     "text": [
      "Ipopt 3.12.11: \n",
      "\n",
      "******************************************************************************\n",
      "This program contains Ipopt, a library for large-scale nonlinear optimization.\n",
      " Ipopt is released as open source code under the Eclipse Public License (EPL).\n",
      "         For more information visit http://projects.coin-or.org/Ipopt\n",
      "******************************************************************************\n",
      "\n",
      "This is Ipopt version 3.12.11, running with linear solver ma27.\n",
      "\n",
      "Number of nonzeros in equality constraint Jacobian...:       21\n",
      "Number of nonzeros in inequality constraint Jacobian.:        0\n",
      "Number of nonzeros in Lagrangian Hessian.............:        9\n",
      "\n",
      "Total number of variables............................:       11\n",
      "                     variables with only lower bounds:        6\n",
      "                variables with lower and upper bounds:        0\n",
      "                     variables with only upper bounds:        0\n",
      "Total number of equality constraints.................:       11\n",
      "Total number of inequality constraints...............:        0\n",
      "        inequality constraints with only lower bounds:        0\n",
      "   inequality constraints with lower and upper bounds:        0\n",
      "        inequality constraints with only upper bounds:        0\n",
      "\n",
      "iter    objective    inf_pr   inf_du lg(mu)  ||d||  lg(rg) alpha_du alpha_pr  ls\n",
      "   0  0.0000000e+00 9.90e-07 1.00e+00  -1.0 0.00e+00    -  0.00e+00 0.00e+00   0\n",
      "   1  0.0000000e+00 2.33e-07 1.00e-02  -1.0 6.93e-08    -  9.90e-01 1.00e+00h  1\n",
      "   2  0.0000000e+00 2.59e-07 1.00e-04  -1.0 1.63e-08    -  9.90e-01 1.00e+00h  1\n",
      "   3  0.0000000e+00 4.25e-08 1.01e-06  -1.0 1.81e-08    -  1.00e+00 1.00e+00h  1\n",
      "\n",
      "Number of Iterations....: 3\n",
      "\n",
      "                                   (scaled)                 (unscaled)\n",
      "Objective...............:   0.0000000000000000e+00    0.0000000000000000e+00\n",
      "Dual infeasibility......:   0.0000000000000000e+00    0.0000000000000000e+00\n",
      "Constraint violation....:   6.3987691367953064e-09    4.2491592466831207e-08\n",
      "Complementarity.........:   0.0000000000000000e+00    0.0000000000000000e+00\n",
      "Overall NLP error.......:   6.3987691367953064e-09    4.2491592466831207e-08\n",
      "\n",
      "\n",
      "Number of objective function evaluations             = 4\n",
      "Number of objective gradient evaluations             = 4\n",
      "Number of equality constraint evaluations            = 4\n",
      "Number of inequality constraint evaluations          = 0\n",
      "Number of equality constraint Jacobian evaluations   = 4\n",
      "Number of inequality constraint Jacobian evaluations = 0\n",
      "Number of Lagrangian Hessian evaluations             = 3\n",
      "Total CPU secs in IPOPT (w/o function evaluations)   =      0.021\n",
      "Total CPU secs in NLP function evaluations           =      0.022\n",
      "\n",
      "EXIT: Optimal Solution Found.\n",
      "\b"
     ]
    },
    {
     "data": {
      "text/plain": [
       "{'Problem': [{'Lower bound': -inf, 'Upper bound': inf, 'Number of objectives': 1, 'Number of constraints': 11, 'Number of variables': 11, 'Sense': 'unknown'}], 'Solver': [{'Status': 'ok', 'Message': 'Ipopt 3.12.11\\\\x3a Optimal Solution Found', 'Termination condition': 'optimal', 'Id': 0, 'Error rc': 0, 'Time': 0.06775021553039551}], 'Solution': [OrderedDict([('number of solutions', 0), ('number of solutions displayed', 0)])]}"
      ]
     },
     "execution_count": 8,
     "metadata": {},
     "output_type": "execute_result"
    }
   ],
   "source": [
    "solver.solve(model, tee=True)"
   ]
  },
  {
   "cell_type": "markdown",
   "metadata": {},
   "source": [
    "## Show States\n",
    "\n",
    "Call the ```state_table(model)``` function written earlier to show a table of results. "
   ]
  },
  {
   "cell_type": "code",
   "execution_count": 10,
   "metadata": {},
   "outputs": [
    {
     "data": {
      "text/html": [
       "<div>\n",
       "<style scoped>\n",
       "    .dataframe tbody tr th:only-of-type {\n",
       "        vertical-align: middle;\n",
       "    }\n",
       "\n",
       "    .dataframe tbody tr th {\n",
       "        vertical-align: top;\n",
       "    }\n",
       "\n",
       "    .dataframe thead th {\n",
       "        text-align: right;\n",
       "    }\n",
       "</style>\n",
       "<table border=\"1\" class=\"dataframe\">\n",
       "  <thead>\n",
       "    <tr style=\"text-align: right;\">\n",
       "      <th></th>\n",
       "      <th>State Block</th>\n",
       "      <th>Flow (mol/s)</th>\n",
       "      <th>Temperature (K)</th>\n",
       "      <th>Pressure (Pa)</th>\n",
       "      <th>Enthalpy (J/mol)</th>\n",
       "      <th>Vapor Fraction</th>\n",
       "    </tr>\n",
       "  </thead>\n",
       "  <tbody>\n",
       "    <tr>\n",
       "      <th>0</th>\n",
       "      <td>fs.heater.control_volume.properties_in[0.0]</td>\n",
       "      <td>100</td>\n",
       "      <td>326.166708</td>\n",
       "      <td>101325</td>\n",
       "      <td>4000</td>\n",
       "      <td>0.000000</td>\n",
       "    </tr>\n",
       "    <tr>\n",
       "      <th>1</th>\n",
       "      <td>fs.heater.control_volume.properties_out[0.0]</td>\n",
       "      <td>100</td>\n",
       "      <td>373.124296</td>\n",
       "      <td>101325</td>\n",
       "      <td>24000</td>\n",
       "      <td>0.404678</td>\n",
       "    </tr>\n",
       "    <tr>\n",
       "      <th>2</th>\n",
       "      <td>fs.heat_exchanger.side_1.properties_in[0.0]</td>\n",
       "      <td>100</td>\n",
       "      <td>326.166708</td>\n",
       "      <td>101325</td>\n",
       "      <td>4000</td>\n",
       "      <td>0.000000</td>\n",
       "    </tr>\n",
       "    <tr>\n",
       "      <th>3</th>\n",
       "      <td>fs.heat_exchanger.side_1.properties_out[0.0]</td>\n",
       "      <td>100</td>\n",
       "      <td>313.819218</td>\n",
       "      <td>101325</td>\n",
       "      <td>3070.04</td>\n",
       "      <td>0.000000</td>\n",
       "    </tr>\n",
       "    <tr>\n",
       "      <th>4</th>\n",
       "      <td>fs.heat_exchanger.side_2.properties_in[0.0]</td>\n",
       "      <td>100</td>\n",
       "      <td>312.888963</td>\n",
       "      <td>101325</td>\n",
       "      <td>3000</td>\n",
       "      <td>0.000000</td>\n",
       "    </tr>\n",
       "    <tr>\n",
       "      <th>5</th>\n",
       "      <td>fs.heat_exchanger.side_2.properties_out[0.0]</td>\n",
       "      <td>100</td>\n",
       "      <td>325.237048</td>\n",
       "      <td>101325</td>\n",
       "      <td>3929.96</td>\n",
       "      <td>0.000000</td>\n",
       "    </tr>\n",
       "  </tbody>\n",
       "</table>\n",
       "</div>"
      ],
      "text/plain": [
       "                                    State Block Flow (mol/s)  Temperature (K)  \\\n",
       "0   fs.heater.control_volume.properties_in[0.0]          100       326.166708   \n",
       "1  fs.heater.control_volume.properties_out[0.0]          100       373.124296   \n",
       "2   fs.heat_exchanger.side_1.properties_in[0.0]          100       326.166708   \n",
       "3  fs.heat_exchanger.side_1.properties_out[0.0]          100       313.819218   \n",
       "4   fs.heat_exchanger.side_2.properties_in[0.0]          100       312.888963   \n",
       "5  fs.heat_exchanger.side_2.properties_out[0.0]          100       325.237048   \n",
       "\n",
       "  Pressure (Pa) Enthalpy (J/mol)  Vapor Fraction  \n",
       "0        101325             4000        0.000000  \n",
       "1        101325            24000        0.404678  \n",
       "2        101325             4000        0.000000  \n",
       "3        101325          3070.04        0.000000  \n",
       "4        101325             3000        0.000000  \n",
       "5        101325          3929.96        0.000000  "
      ]
     },
     "execution_count": 10,
     "metadata": {},
     "output_type": "execute_result"
    }
   ],
   "source": [
    "state_table(model)"
   ]
  },
  {
   "cell_type": "markdown",
   "metadata": {},
   "source": [
    "## Conncect the Flowsheet\n",
    "\n",
    "The next step is to connect the outlet of the heater to the side_1 inlet of the heatexchanger.  First infix the varialbes in ```model.fs.heat_exchanger.inlet_1```. Also increase the flow rate of through side_2 of the heat exchanger to 600 mol/s.\n",
    "\n",
    "Use a Pyomo Arc to connect the heater outlet to heatexchanger inlet_1 and apply the transforamtion to axpand the arc to a set of constraints.\n",
    "\n",
    "### Example Code\n",
    "\n",
    "```python\n",
    "model.fs.heat_exchanger.inlet_1[0].flow_mol.unfix()\n",
    "model.fs.heat_exchanger.inlet_1[0].pressure.unfix()\n",
    "model.fs.heat_exchanger.inlet_1[0].enth_mol.unfix()\n",
    "\n",
    "model.fs.heat_exchanger.inlet_2[0].flow_mol.fix(600)\n",
    "\n",
    "model.fs.stream_1 = Arc(source=model.fs.heater.outlet[0], \n",
    "                        destination=model.fs.heat_exchanger.inlet_1[0])\n",
    "\n",
    "pe.TransformationFactory(\"network.expand_arcs\").apply_to(model)\n",
    "\n",
    "```"
   ]
  },
  {
   "cell_type": "code",
   "execution_count": 11,
   "metadata": {},
   "outputs": [
    {
     "data": {
      "text/plain": [
       "[None]"
      ]
     },
     "execution_count": 11,
     "metadata": {},
     "output_type": "execute_result"
    }
   ],
   "source": [
    "model.fs.heat_exchanger.inlet_1[0].flow_mol.unfix()\n",
    "model.fs.heat_exchanger.inlet_1[0].pressure.unfix()\n",
    "model.fs.heat_exchanger.inlet_1[0].enth_mol.unfix()\n",
    "\n",
    "model.fs.heat_exchanger.inlet_2[0].flow_mol.fix(600)\n",
    "\n",
    "model.fs.stream_1 = Arc(source=model.fs.heater.outlet[0], \n",
    "                        destination=model.fs.heat_exchanger.inlet_1[0])\n",
    "\n",
    "pe.TransformationFactory(\"network.expand_arcs\").apply_to(model)"
   ]
  },
  {
   "cell_type": "markdown",
   "metadata": {},
   "source": [
    "## Solve the Connected Model\n",
    "\n",
    "Solve the model again, and show results.\n",
    "\n",
    "### Example Code\n",
    "\n",
    "```python\n",
    "solver.solve(model, tee=True)\n",
    "state_table(model)\n",
    "```"
   ]
  },
  {
   "cell_type": "code",
   "execution_count": 20,
   "metadata": {},
   "outputs": [
    {
     "name": "stdout",
     "output_type": "stream",
     "text": [
      "Ipopt 3.12.11: \n",
      "\n",
      "******************************************************************************\n",
      "This program contains Ipopt, a library for large-scale nonlinear optimization.\n",
      " Ipopt is released as open source code under the Eclipse Public License (EPL).\n",
      "         For more information visit http://projects.coin-or.org/Ipopt\n",
      "******************************************************************************\n",
      "\n",
      "This is Ipopt version 3.12.11, running with linear solver ma27.\n",
      "\n",
      "Number of nonzeros in equality constraint Jacobian...:       33\n",
      "Number of nonzeros in inequality constraint Jacobian.:        0\n",
      "Number of nonzeros in Lagrangian Hessian.............:       13\n",
      "\n",
      "Total number of variables............................:       14\n",
      "                     variables with only lower bounds:        8\n",
      "                variables with lower and upper bounds:        0\n",
      "                     variables with only upper bounds:        0\n",
      "Total number of equality constraints.................:       14\n",
      "Total number of inequality constraints...............:        0\n",
      "        inequality constraints with only lower bounds:        0\n",
      "   inequality constraints with lower and upper bounds:        0\n",
      "        inequality constraints with only upper bounds:        0\n",
      "\n",
      "iter    objective    inf_pr   inf_du lg(mu)  ||d||  lg(rg) alpha_du alpha_pr  ls\n",
      "   0  0.0000000e+00 2.00e-08 1.00e+00  -1.0 0.00e+00    -  0.00e+00 0.00e+00   0\n",
      "\n",
      "Number of Iterations....: 0\n",
      "\n",
      "                                   (scaled)                 (unscaled)\n",
      "Objective...............:   0.0000000000000000e+00    0.0000000000000000e+00\n",
      "Dual infeasibility......:   0.0000000000000000e+00    0.0000000000000000e+00\n",
      "Constraint violation....:   3.0196192688164557e-09    2.0023435354232788e-08\n",
      "Complementarity.........:   0.0000000000000000e+00    0.0000000000000000e+00\n",
      "Overall NLP error.......:   3.0196192688164557e-09    2.0023435354232788e-08\n",
      "\n",
      "\n",
      "Number of objective function evaluations             = 1\n",
      "Number of objective gradient evaluations             = 1\n",
      "Number of equality constraint evaluations            = 1\n",
      "Number of inequality constraint evaluations          = 0\n",
      "Number of equality constraint Jacobian evaluations   = 1\n",
      "Number of inequality constraint Jacobian evaluations = 0\n",
      "Number of Lagrangian Hessian evaluations             = 0\n",
      "Total CPU secs in IPOPT (w/o function evaluations)   =      0.022\n",
      "Total CPU secs in NLP function evaluations           =      0.000\n",
      "\n",
      "EXIT: Optimal Solution Found.\n",
      "\b"
     ]
    },
    {
     "data": {
      "text/html": [
       "<div>\n",
       "<style scoped>\n",
       "    .dataframe tbody tr th:only-of-type {\n",
       "        vertical-align: middle;\n",
       "    }\n",
       "\n",
       "    .dataframe tbody tr th {\n",
       "        vertical-align: top;\n",
       "    }\n",
       "\n",
       "    .dataframe thead th {\n",
       "        text-align: right;\n",
       "    }\n",
       "</style>\n",
       "<table border=\"1\" class=\"dataframe\">\n",
       "  <thead>\n",
       "    <tr style=\"text-align: right;\">\n",
       "      <th></th>\n",
       "      <th>State Block</th>\n",
       "      <th>Flow (mol/s)</th>\n",
       "      <th>Temperature (K)</th>\n",
       "      <th>Pressure (Pa)</th>\n",
       "      <th>Enthalpy (J/mol)</th>\n",
       "      <th>Vapor Fraction</th>\n",
       "    </tr>\n",
       "  </thead>\n",
       "  <tbody>\n",
       "    <tr>\n",
       "      <th>0</th>\n",
       "      <td>fs.heater.control_volume.properties_in[0.0]</td>\n",
       "      <td>100</td>\n",
       "      <td>326.166708</td>\n",
       "      <td>101325</td>\n",
       "      <td>4000</td>\n",
       "      <td>0.000000</td>\n",
       "    </tr>\n",
       "    <tr>\n",
       "      <th>1</th>\n",
       "      <td>fs.heater.control_volume.properties_out[0.0]</td>\n",
       "      <td>100</td>\n",
       "      <td>373.124296</td>\n",
       "      <td>101325</td>\n",
       "      <td>24000</td>\n",
       "      <td>0.404678</td>\n",
       "    </tr>\n",
       "    <tr>\n",
       "      <th>2</th>\n",
       "      <td>fs.heat_exchanger.side_1.properties_in[0.0]</td>\n",
       "      <td>100</td>\n",
       "      <td>373.124296</td>\n",
       "      <td>101325</td>\n",
       "      <td>24000</td>\n",
       "      <td>0.404678</td>\n",
       "    </tr>\n",
       "    <tr>\n",
       "      <th>3</th>\n",
       "      <td>fs.heat_exchanger.side_1.properties_out[0.0]</td>\n",
       "      <td>100</td>\n",
       "      <td>334.275568</td>\n",
       "      <td>101325</td>\n",
       "      <td>4611.18</td>\n",
       "      <td>0.000000</td>\n",
       "    </tr>\n",
       "    <tr>\n",
       "      <th>4</th>\n",
       "      <td>fs.heat_exchanger.side_2.properties_in[0.0]</td>\n",
       "      <td>600</td>\n",
       "      <td>312.888963</td>\n",
       "      <td>101325</td>\n",
       "      <td>3000</td>\n",
       "      <td>0.000000</td>\n",
       "    </tr>\n",
       "    <tr>\n",
       "      <th>5</th>\n",
       "      <td>fs.heat_exchanger.side_2.properties_out[0.0]</td>\n",
       "      <td>600</td>\n",
       "      <td>355.733262</td>\n",
       "      <td>101325</td>\n",
       "      <td>6231.47</td>\n",
       "      <td>0.000000</td>\n",
       "    </tr>\n",
       "  </tbody>\n",
       "</table>\n",
       "</div>"
      ],
      "text/plain": [
       "                                    State Block Flow (mol/s)  Temperature (K)  \\\n",
       "0   fs.heater.control_volume.properties_in[0.0]          100       326.166708   \n",
       "1  fs.heater.control_volume.properties_out[0.0]          100       373.124296   \n",
       "2   fs.heat_exchanger.side_1.properties_in[0.0]          100       373.124296   \n",
       "3  fs.heat_exchanger.side_1.properties_out[0.0]          100       334.275568   \n",
       "4   fs.heat_exchanger.side_2.properties_in[0.0]          600       312.888963   \n",
       "5  fs.heat_exchanger.side_2.properties_out[0.0]          600       355.733262   \n",
       "\n",
       "  Pressure (Pa) Enthalpy (J/mol)  Vapor Fraction  \n",
       "0        101325             4000        0.000000  \n",
       "1        101325            24000        0.404678  \n",
       "2        101325            24000        0.404678  \n",
       "3        101325          4611.18        0.000000  \n",
       "4        101325             3000        0.000000  \n",
       "5        101325          6231.47        0.000000  "
      ]
     },
     "execution_count": 20,
     "metadata": {},
     "output_type": "execute_result"
    }
   ],
   "source": [
    "solver.solve(model, tee=True)\n",
    "state_table(model)"
   ]
  },
  {
   "cell_type": "code",
   "execution_count": 15,
   "metadata": {},
   "outputs": [
    {
     "data": {
      "text/html": [
       "<div>\n",
       "<style scoped>\n",
       "    .dataframe tbody tr th:only-of-type {\n",
       "        vertical-align: middle;\n",
       "    }\n",
       "\n",
       "    .dataframe tbody tr th {\n",
       "        vertical-align: top;\n",
       "    }\n",
       "\n",
       "    .dataframe thead th {\n",
       "        text-align: right;\n",
       "    }\n",
       "</style>\n",
       "<table border=\"1\" class=\"dataframe\">\n",
       "  <thead>\n",
       "    <tr style=\"text-align: right;\">\n",
       "      <th></th>\n",
       "      <th>State Block</th>\n",
       "      <th>Flow (mol/s)</th>\n",
       "      <th>Temperature (K)</th>\n",
       "      <th>Pressure (Pa)</th>\n",
       "      <th>Enthalpy (J/mol)</th>\n",
       "      <th>Vapor Fraction</th>\n",
       "    </tr>\n",
       "  </thead>\n",
       "  <tbody>\n",
       "    <tr>\n",
       "      <th>0</th>\n",
       "      <td>fs.heater.control_volume.properties_in[0.0]</td>\n",
       "      <td>100</td>\n",
       "      <td>326.166708</td>\n",
       "      <td>101325</td>\n",
       "      <td>4000</td>\n",
       "      <td>0.000000</td>\n",
       "    </tr>\n",
       "    <tr>\n",
       "      <th>1</th>\n",
       "      <td>fs.heater.control_volume.properties_out[0.0]</td>\n",
       "      <td>100</td>\n",
       "      <td>373.124296</td>\n",
       "      <td>101325</td>\n",
       "      <td>24000</td>\n",
       "      <td>0.404678</td>\n",
       "    </tr>\n",
       "    <tr>\n",
       "      <th>2</th>\n",
       "      <td>fs.heat_exchanger.side_1.properties_in[0.0]</td>\n",
       "      <td>100</td>\n",
       "      <td>373.124296</td>\n",
       "      <td>101325</td>\n",
       "      <td>24000</td>\n",
       "      <td>0.404678</td>\n",
       "    </tr>\n",
       "    <tr>\n",
       "      <th>3</th>\n",
       "      <td>fs.heat_exchanger.side_1.properties_out[0.0]</td>\n",
       "      <td>100</td>\n",
       "      <td>334.275568</td>\n",
       "      <td>101325</td>\n",
       "      <td>4611.18</td>\n",
       "      <td>0.000000</td>\n",
       "    </tr>\n",
       "    <tr>\n",
       "      <th>4</th>\n",
       "      <td>fs.heat_exchanger.side_2.properties_in[0.0]</td>\n",
       "      <td>600</td>\n",
       "      <td>312.888963</td>\n",
       "      <td>101325</td>\n",
       "      <td>3000</td>\n",
       "      <td>0.000000</td>\n",
       "    </tr>\n",
       "    <tr>\n",
       "      <th>5</th>\n",
       "      <td>fs.heat_exchanger.side_2.properties_out[0.0]</td>\n",
       "      <td>600</td>\n",
       "      <td>355.733262</td>\n",
       "      <td>101325</td>\n",
       "      <td>6231.47</td>\n",
       "      <td>0.000000</td>\n",
       "    </tr>\n",
       "  </tbody>\n",
       "</table>\n",
       "</div>"
      ],
      "text/plain": [
       "                                    State Block Flow (mol/s)  Temperature (K)  \\\n",
       "0   fs.heater.control_volume.properties_in[0.0]          100       326.166708   \n",
       "1  fs.heater.control_volume.properties_out[0.0]          100       373.124296   \n",
       "2   fs.heat_exchanger.side_1.properties_in[0.0]          100       373.124296   \n",
       "3  fs.heat_exchanger.side_1.properties_out[0.0]          100       334.275568   \n",
       "4   fs.heat_exchanger.side_2.properties_in[0.0]          600       312.888963   \n",
       "5  fs.heat_exchanger.side_2.properties_out[0.0]          600       355.733262   \n",
       "\n",
       "  Pressure (Pa) Enthalpy (J/mol)  Vapor Fraction  \n",
       "0        101325             4000        0.000000  \n",
       "1        101325            24000        0.404678  \n",
       "2        101325            24000        0.404678  \n",
       "3        101325          4611.18        0.000000  \n",
       "4        101325             3000        0.000000  \n",
       "5        101325          6231.47        0.000000  "
      ]
     },
     "execution_count": 15,
     "metadata": {},
     "output_type": "execute_result"
    }
   ],
   "source": []
  },
  {
   "cell_type": "code",
   "execution_count": 16,
   "metadata": {},
   "outputs": [
    {
     "name": "stderr",
     "output_type": "stream",
     "text": [
      "2018-12-12 12:47:57,369 [INFO] idaes.dmf.help: find HTML docs for module=idaes.unit_models.heat_exchanger class=HeatExchanger on paths=['/home/jeslick/git/idaes/docs/build/html']\n"
     ]
    }
   ],
   "source": [
    "%dmf help HeatExchanger"
   ]
  },
  {
   "cell_type": "code",
   "execution_count": null,
   "metadata": {},
   "outputs": [],
   "source": []
  }
 ],
 "metadata": {
  "kernelspec": {
   "display_name": "Python 3",
   "language": "python",
   "name": "python3"
  },
  "language_info": {
   "codemirror_mode": {
    "name": "ipython",
    "version": 3
   },
   "file_extension": ".py",
   "mimetype": "text/x-python",
   "name": "python",
   "nbconvert_exporter": "python",
   "pygments_lexer": "ipython3",
   "version": "3.7.0"
  }
 },
 "nbformat": 4,
 "nbformat_minor": 2
}
