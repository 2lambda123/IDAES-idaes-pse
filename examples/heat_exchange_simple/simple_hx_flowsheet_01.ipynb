{
 "cells": [
  {
   "cell_type": "markdown",
   "metadata": {},
   "source": [
    "# Simple Flowsheet Example with Heat Exchangers\n",
    "\n",
    "This notebook demonstrates how to assemble, initialize, and run a very simple flowsheet using steam and heat exchangers. This briefly demonstrates the basics of setting up a flowsheet.  See the documentation for a more complete description of the framework."
   ]
  },
  {
   "cell_type": "markdown",
   "metadata": {},
   "source": [
    "## Imports\n",
    "\n",
    "Import all the Pyomo and IDAES modules, classes and functions needed for this example. In the imports below the ```delta_temperature_amtd_rule``` is a function that is used for a Pyomo rule to generate an expression for the averge temperature difference in a heat exchanger. This is used later to override the default LMTD calculation, making the example slightly more robust when experimenting with different inputs. "
   ]
  },
  {
   "cell_type": "code",
   "execution_count": 1,
   "metadata": {},
   "outputs": [],
   "source": [
    "import pyomo.environ as pyo    # Frequently used Pyomo classes and functions \n",
    "from pyomo.network import Arc # Class for objects used to connect ports, similar to a material stream\n",
    "from idaes.core import FlowsheetBlock # IDAES flowsheet model class\n",
    "from idaes.unit_models import Heater, HeatExchanger # Heater and HeatExchanger model classes\n",
    "from idaes.unit_models.heat_exchanger import delta_temperature_amtd_rule # A delta T rule\n",
    "from idaes.property_models import Iapws95ParameterBlock # Physical property parameter block class \n",
    "from IPython.display import display, Markdown"
   ]
  },
  {
   "cell_type": "markdown",
   "metadata": {},
   "source": [
    "## Initialize DMF\n",
    "\n",
    "Features of the DMF provide easy online access to documentation.  In the cell below initialize the DMF.\n",
    "\n",
    "### Example Code\n",
    "\n",
    "```python\n",
    "from idaes.dmf import magics\n",
    "%dmf init . create\n",
    "```"
   ]
  },
  {
   "cell_type": "code",
   "execution_count": 2,
   "metadata": {},
   "outputs": [
    {
     "data": {
      "text/markdown": [
       "Cannot create new configuration at \".\": file \"config.yaml\" exists. Will try without \"create\" option"
      ]
     },
     "metadata": {},
     "output_type": "display_data"
    },
    {
     "data": {
      "text/markdown": [
       "*Success!* Using workspace at \".\""
      ]
     },
     "metadata": {},
     "output_type": "display_data"
    }
   ],
   "source": [
    "from idaes.dmf import magics\n",
    "%dmf init . create"
   ]
  },
  {
   "cell_type": "markdown",
   "metadata": {},
   "source": [
    "## Function to Display Material Contitions\n",
    "\n",
    "This function will create a table of the material state in every state block.  This makes looking at results a little easier."
   ]
  },
  {
   "cell_type": "code",
   "execution_count": 3,
   "metadata": {},
   "outputs": [],
   "source": [
    "import pandas as pd\n",
    "from idaes.core import StateBlock\n",
    "\n",
    "def state_table(m):\n",
    "    \"\"\"\n",
    "    Create a Pandas data frame that shows the material state in\n",
    "    every state block.\n",
    "    \n",
    "    Args:\n",
    "        m: a Pyomo model containing IDAES StateBlockBase objects\n",
    "    \n",
    "    Returns:\n",
    "        A Pandas dataframe with material states\n",
    "    \"\"\"\n",
    "    head = [\"State Block\", \n",
    "        \"Flow (mol/s)\",\n",
    "        \"Temperature (K)\",\n",
    "        \"Pressure (Pa)\",\n",
    "        \"Enthalpy (J/mol)\",\n",
    "        \"Vapor Fraction\"]\n",
    "    st = pd.DataFrame(columns=head)\n",
    "    j = 0\n",
    "    for c in model.component_objects():\n",
    "        if isinstance(c, StateBlock):\n",
    "            for i in c:\n",
    "                row = [c[i].name, \n",
    "                       pyo.value(c[i].flow_mol), \n",
    "                       pyo.value(c[i].temperature), \n",
    "                       pyo.value(c[i].pressure), \n",
    "                       pyo.value(c[i].enth_mol),\n",
    "                       pyo.value(c[i].vapor_frac)]\n",
    "                st.loc[j] = row\n",
    "                j += 1\n",
    "    return st"
   ]
  },
  {
   "cell_type": "markdown",
   "metadata": {},
   "source": [
    "## Create a Flowsheet\n",
    "\n",
    "The first step to creating a running IDAES model is to create a flowsheet object. In the code below the following steps should be performed.\n",
    "\n",
    "* Create a Pyomo ConcreteModel (called \"model\")\n",
    "* Add a steady-state flowsheet object to the model (attribute of \"model\" called \"fs\") \n",
    "* Add a property parameter block to the flowsheet (attribute of \"model.fs\" called \"properties\")\n",
    "\n",
    "Parameter blocks contain parameters that are (usually) constant and common to all property methods of the same type. Sharing a common parameter block is more efficient and also easier to modify when doing things like parameter estimation.\n",
    "\n",
    "When creating the Flowsheet model (or other idaes block models) The default argument takes a dictionary with configuration options for the model.  In this case the \"dynamic\" option should be set to False to create a steady-state flowsheet.\n",
    "\n",
    "\n",
    "### Example Code\n",
    "\n",
    "```python\n",
    "model = pe.ConcreteModel()\n",
    "model.fs = FlowsheetBlock(default={\"dynamic\": False})\n",
    "model.fs.properties = Iapws95ParameterBlock()\n",
    "```"
   ]
  },
  {
   "cell_type": "code",
   "execution_count": 4,
   "metadata": {},
   "outputs": [],
   "source": [
    "model = pyo.ConcreteModel()\n",
    "model.fs = FlowsheetBlock(default={\"dynamic\": False})\n",
    "model.fs.properties = Iapws95ParameterBlock()"
   ]
  },
  {
   "cell_type": "markdown",
   "metadata": {},
   "source": [
    "## Create a Heater and HeatExchanger Model\n",
    "\n",
    "Next unit models can be added to the flowsheet. Here we need to create a Heater and HeatExchanger object called \"model.fs.heater\" and \"model.fs.heat_exchanger\".  For the heater, the only configuration option that needed is \"property_package\" which takes a property parameter block, in this case \"model.fs.properties\". The property method in this example uses molar enthalpy and pressure as the state variables.\n",
    "\n",
    "The heat exchanger model is a little more complicated.  It has two sides and each side can use a different property package. The default LMTD rule is also going to be replaced with the AMTD rule which was imported in the first step.  The heat exchanger config dictionary is shown below. The \"side_1\" and \"side_2\" keys are each paired with a dictionary for configuring the two ControlVolume0Ds representing the two sides of the heat exchanger.  The \"delta_temperature_rule\" key is paired with a function that takes a HeatExchanger instance and a time index and returns a temperature difference expression.\n",
    "\n",
    "```python\n",
    "{\"delta_temperature_rule\":delta_temperature_amtd_rule,\n",
    " \"side_1\":{\"property_package\": model.fs.properties},\n",
    " \"side_2\":{\"property_package\": model.fs.properties}}\n",
    "```\n",
    "\n",
    "### Example Code\n",
    "\n",
    "```python\n",
    "model.fs.heater = Heater(default={\"property_package\": model.fs.properties})\n",
    "model.fs.heat_exchanger = HeatExchanger(default={\n",
    "        \"delta_temperature_rule\":delta_temperature_amtd_rule,\n",
    "        \"side_1\":{\"property_package\": model.fs.properties},\n",
    "        \"side_2\":{\"property_package\": model.fs.properties}})\n",
    "```"
   ]
  },
  {
   "cell_type": "code",
   "execution_count": 5,
   "metadata": {},
   "outputs": [],
   "source": [
    "model.fs.heater = Heater(default={\"property_package\": model.fs.properties})\n",
    "model.fs.heat_exchanger = HeatExchanger(default={\n",
    "        \"delta_temperature_rule\":delta_temperature_amtd_rule,\n",
    "        \"side_1\":{\"property_package\": model.fs.properties},\n",
    "        \"side_2\":{\"property_package\": model.fs.properties}})"
   ]
  },
  {
   "cell_type": "markdown",
   "metadata": {},
   "source": [
    "## Getting Reference Documentation\n",
    "\n",
    "The DMF provides easy access to IDAES framework reference documentation. For example:\n",
    "```python\n",
    "%dmf help HeatExchanger\n",
    "```\n",
    "will open a new browser tab showing the HeatExchanger class documentation. "
   ]
  },
  {
   "cell_type": "code",
   "execution_count": 6,
   "metadata": {},
   "outputs": [
    {
     "name": "stderr",
     "output_type": "stream",
     "text": [
      "2019-03-01 15:26:28,959 [INFO] idaes.dmf.help: find HTML docs for module=idaes.unit_models.heat_exchanger class=HeatExchanger on paths=['/home/jeslick/git/idaes-dev/docs/build/html']\n"
     ]
    },
    {
     "data": {
      "text/markdown": [
       "No Sphinx docs found for \"HeatExchanger\""
      ]
     },
     "metadata": {},
     "output_type": "display_data"
    }
   ],
   "source": [
    "%dmf help HeatExchanger"
   ]
  },
  {
   "cell_type": "markdown",
   "metadata": {},
   "source": [
    "## Fix Inlets and Initialize\n",
    "\n",
    "Fix the inlets of the heater and heat exchanger and the heat duty for the heater. Initialize the units.\n",
    "\n",
    "The heater model has the has one inlet called \"inlet\" and a heat duty called \"heat_duty\" that can be fixed resulting in 0 degrees of freedom for the model. The inlet and the heat duty are indexed by time, but since this is a steady-state model, only time zero exists.  The state variables for the inlet are \"enth_mol\", \"flow_mol\", and \"pressure\".  These state variables depend on the physical property package.  In this case a version of the IAPWS-95 properties for steam is being used, which uses enthalpy and pressure as state variables. \n",
    "\n",
    "Set the heater inlet to: molar enthalpy = 4000 J/mol, molar flow = 100 mol/s, and pressure = 101325 Pa.  Set the heater heat duty to 2000000 J/s.\n",
    "\n",
    "The heat exchanger has two inlets \"inlet_1\" for \"side_1\" and \"inlet_2\" for \"side_2\".  Fix the inlets as shown in the table.\n",
    "\n",
    "| variable    | inlet_1    | inlet_2    |\n",
    "|-------------|------------|------------|\n",
    "| enth_mole   | 4000 J/mol | 3000 J/mol |\n",
    "| pressure    | 101325 Pa  | 101325 Pa  |\n",
    "| flow_mol    | 100 mol/s  | 100 mol/s  |\n",
    "\n",
    "Each unit model has an initialize method to get the model to a solvable state. Call the initialize methods for each unit.\n",
    "\n",
    "### Example Heater Code\n",
    "\n",
    "```python\n",
    "# Fix both heat exchanger intlets and initialize\n",
    "model.fs.heater.inlet[0].enth_mol.fix(4000)\n",
    "model.fs.heater.inlet[0].flow_mol.fix(100)\n",
    "model.fs.heater.inlet[0].pressure.fix(101325)\n",
    "model.fs.heater.heat_duty[0].fix(2000000)\n",
    "\n",
    "model.fs.heater.initialize()\n",
    "```\n",
    "\n",
    "### Example Heat Exchanger Code\n",
    "\n",
    "```python\n",
    "# Fix both heat exchanger intlets and initialize\n",
    "model.fs.heat_exchanger.inlet_1[0].flow_mol.fix(100)\n",
    "model.fs.heat_exchanger.inlet_1[0].pressure.fix(101325)\n",
    "model.fs.heat_exchanger.inlet_1[0].enth_mol.fix(4000)\n",
    "model.fs.heat_exchanger.inlet_2[0].flow_mol.fix(100)\n",
    "model.fs.heat_exchanger.inlet_2[0].pressure.fix(101325)\n",
    "model.fs.heat_exchanger.inlet_2[0].enth_mol.fix(3000)\n",
    "model.fs.heat_exchanger.overall_heat_transfer_coefficent.fix(100)\n",
    "\n",
    "model.fs.heat_exchanger.initialize()\n",
    "```"
   ]
  },
  {
   "cell_type": "code",
   "execution_count": 7,
   "metadata": {},
   "outputs": [],
   "source": [
    "# Fix heater inlets and heat duty then initialize unit\n",
    "model.fs.heater.inlet.enth_mol.fix(4000)\n",
    "model.fs.heater.inlet.flow_mol.fix(100)\n",
    "model.fs.heater.inlet.pressure.fix(101325)\n",
    "model.fs.heater.heat_duty[0].fix(2000000)\n",
    "\n",
    "model.fs.heater.initialize()"
   ]
  },
  {
   "cell_type": "code",
   "execution_count": 8,
   "metadata": {},
   "outputs": [],
   "source": [
    "# Fix both heat exchanger intlets and initialize\n",
    "model.fs.heat_exchanger.inlet_1.flow_mol.fix(100)\n",
    "model.fs.heat_exchanger.inlet_1.pressure.fix(101325)\n",
    "model.fs.heat_exchanger.inlet_1.enth_mol.fix(4000)\n",
    "model.fs.heat_exchanger.inlet_2.flow_mol.fix(100)\n",
    "model.fs.heat_exchanger.inlet_2.pressure.fix(101325)\n",
    "model.fs.heat_exchanger.inlet_2.enth_mol.fix(3000)\n",
    "model.fs.heat_exchanger.overall_heat_transfer_coefficient.fix(100)\n",
    "\n",
    "model.fs.heat_exchanger.initialize()"
   ]
  },
  {
   "cell_type": "markdown",
   "metadata": {},
   "source": [
    "## Solve the Disconnected Flowsheet\n",
    "\n",
    "The next step in this example is to make sure the disconnected flowsheet will solve.  To solve the model create a slover the solve like a normal Pyomo model.\n",
    "\n",
    "### Example Code\n",
    "```python\n",
    "solver = pyo.SolverFactory('ipopt')\n",
    "solver.solve(model, tee=True)\n",
    "```"
   ]
  },
  {
   "cell_type": "code",
   "execution_count": 9,
   "metadata": {},
   "outputs": [],
   "source": [
    "solver = pyo.SolverFactory('ipopt')"
   ]
  },
  {
   "cell_type": "code",
   "execution_count": 10,
   "metadata": {},
   "outputs": [
    {
     "name": "stdout",
     "output_type": "stream",
     "text": [
      "Ipopt 3.12.11: \n",
      "\n",
      "******************************************************************************\n",
      "This program contains Ipopt, a library for large-scale nonlinear optimization.\n",
      " Ipopt is released as open source code under the Eclipse Public License (EPL).\n",
      "         For more information visit http://projects.coin-or.org/Ipopt\n",
      "******************************************************************************\n",
      "\n",
      "This is Ipopt version 3.12.11, running with linear solver ma27.\n",
      "\n",
      "Number of nonzeros in equality constraint Jacobian...:       21\n",
      "Number of nonzeros in inequality constraint Jacobian.:        0\n",
      "Number of nonzeros in Lagrangian Hessian.............:        9\n",
      "\n",
      "Total number of variables............................:       11\n",
      "                     variables with only lower bounds:        6\n",
      "                variables with lower and upper bounds:        0\n",
      "                     variables with only upper bounds:        0\n",
      "Total number of equality constraints.................:       11\n",
      "Total number of inequality constraints...............:        0\n",
      "        inequality constraints with only lower bounds:        0\n",
      "   inequality constraints with lower and upper bounds:        0\n",
      "        inequality constraints with only upper bounds:        0\n",
      "\n",
      "iter    objective    inf_pr   inf_du lg(mu)  ||d||  lg(rg) alpha_du alpha_pr  ls\n",
      "   0  0.0000000e+00 9.90e-07 1.00e+00  -1.0 0.00e+00    -  0.00e+00 0.00e+00   0\n",
      "   1  0.0000000e+00 2.33e-07 1.00e-02  -1.0 6.93e-08    -  9.90e-01 1.00e+00h  1\n",
      "   2  0.0000000e+00 2.59e-07 1.00e-04  -1.0 1.63e-08    -  9.90e-01 1.00e+00h  1\n",
      "   3  0.0000000e+00 4.25e-08 1.01e-06  -1.0 1.81e-08    -  1.00e+00 1.00e+00h  1\n",
      "\n",
      "Number of Iterations....: 3\n",
      "\n",
      "                                   (scaled)                 (unscaled)\n",
      "Objective...............:   0.0000000000000000e+00    0.0000000000000000e+00\n",
      "Dual infeasibility......:   0.0000000000000000e+00    0.0000000000000000e+00\n",
      "Constraint violation....:   6.3987691367953064e-09    4.2491592466831207e-08\n",
      "Complementarity.........:   0.0000000000000000e+00    0.0000000000000000e+00\n",
      "Overall NLP error.......:   6.3987691367953064e-09    4.2491592466831207e-08\n",
      "\n",
      "\n",
      "Number of objective function evaluations             = 4\n",
      "Number of objective gradient evaluations             = 4\n",
      "Number of equality constraint evaluations            = 4\n",
      "Number of inequality constraint evaluations          = 0\n",
      "Number of equality constraint Jacobian evaluations   = 4\n",
      "Number of inequality constraint Jacobian evaluations = 0\n",
      "Number of Lagrangian Hessian evaluations             = 3\n",
      "Total CPU secs in IPOPT (w/o function evaluations)   =      0.023\n",
      "Total CPU secs in NLP function evaluations           =      0.025\n",
      "\n",
      "EXIT: Optimal Solution Found.\n",
      "\b"
     ]
    },
    {
     "data": {
      "text/plain": [
       "{'Problem': [{'Lower bound': -inf, 'Upper bound': inf, 'Number of objectives': 1, 'Number of constraints': 11, 'Number of variables': 11, 'Sense': 'unknown'}], 'Solver': [{'Status': 'ok', 'Message': 'Ipopt 3.12.11\\\\x3a Optimal Solution Found', 'Termination condition': 'optimal', 'Id': 0, 'Error rc': 0, 'Time': 0.06637787818908691}], 'Solution': [OrderedDict([('number of solutions', 0), ('number of solutions displayed', 0)])]}"
      ]
     },
     "execution_count": 10,
     "metadata": {},
     "output_type": "execute_result"
    }
   ],
   "source": [
    "solver.solve(model, tee=True)"
   ]
  },
  {
   "cell_type": "markdown",
   "metadata": {},
   "source": [
    "## Show States\n",
    "\n",
    "Call the ```state_table(model)``` function written earlier to show a table of results. "
   ]
  },
  {
   "cell_type": "code",
   "execution_count": 11,
   "metadata": {},
   "outputs": [
    {
     "data": {
      "text/html": [
       "<div>\n",
       "<style scoped>\n",
       "    .dataframe tbody tr th:only-of-type {\n",
       "        vertical-align: middle;\n",
       "    }\n",
       "\n",
       "    .dataframe tbody tr th {\n",
       "        vertical-align: top;\n",
       "    }\n",
       "\n",
       "    .dataframe thead th {\n",
       "        text-align: right;\n",
       "    }\n",
       "</style>\n",
       "<table border=\"1\" class=\"dataframe\">\n",
       "  <thead>\n",
       "    <tr style=\"text-align: right;\">\n",
       "      <th></th>\n",
       "      <th>State Block</th>\n",
       "      <th>Flow (mol/s)</th>\n",
       "      <th>Temperature (K)</th>\n",
       "      <th>Pressure (Pa)</th>\n",
       "      <th>Enthalpy (J/mol)</th>\n",
       "      <th>Vapor Fraction</th>\n",
       "    </tr>\n",
       "  </thead>\n",
       "  <tbody>\n",
       "    <tr>\n",
       "      <th>0</th>\n",
       "      <td>fs.heater.control_volume.properties_in[0.0]</td>\n",
       "      <td>100</td>\n",
       "      <td>326.166708</td>\n",
       "      <td>101325</td>\n",
       "      <td>4000</td>\n",
       "      <td>0.000000</td>\n",
       "    </tr>\n",
       "    <tr>\n",
       "      <th>1</th>\n",
       "      <td>fs.heater.control_volume.properties_out[0.0]</td>\n",
       "      <td>100</td>\n",
       "      <td>373.124296</td>\n",
       "      <td>101325</td>\n",
       "      <td>24000</td>\n",
       "      <td>0.404678</td>\n",
       "    </tr>\n",
       "    <tr>\n",
       "      <th>2</th>\n",
       "      <td>fs.heat_exchanger.side_1.properties_in[0.0]</td>\n",
       "      <td>100</td>\n",
       "      <td>326.166708</td>\n",
       "      <td>101325</td>\n",
       "      <td>4000</td>\n",
       "      <td>0.000000</td>\n",
       "    </tr>\n",
       "    <tr>\n",
       "      <th>3</th>\n",
       "      <td>fs.heat_exchanger.side_1.properties_out[0.0]</td>\n",
       "      <td>100</td>\n",
       "      <td>313.819218</td>\n",
       "      <td>101325</td>\n",
       "      <td>3070.04</td>\n",
       "      <td>0.000000</td>\n",
       "    </tr>\n",
       "    <tr>\n",
       "      <th>4</th>\n",
       "      <td>fs.heat_exchanger.side_2.properties_in[0.0]</td>\n",
       "      <td>100</td>\n",
       "      <td>312.888963</td>\n",
       "      <td>101325</td>\n",
       "      <td>3000</td>\n",
       "      <td>0.000000</td>\n",
       "    </tr>\n",
       "    <tr>\n",
       "      <th>5</th>\n",
       "      <td>fs.heat_exchanger.side_2.properties_out[0.0]</td>\n",
       "      <td>100</td>\n",
       "      <td>325.237048</td>\n",
       "      <td>101325</td>\n",
       "      <td>3929.96</td>\n",
       "      <td>0.000000</td>\n",
       "    </tr>\n",
       "  </tbody>\n",
       "</table>\n",
       "</div>"
      ],
      "text/plain": [
       "                                    State Block Flow (mol/s)  Temperature (K)  \\\n",
       "0   fs.heater.control_volume.properties_in[0.0]          100       326.166708   \n",
       "1  fs.heater.control_volume.properties_out[0.0]          100       373.124296   \n",
       "2   fs.heat_exchanger.side_1.properties_in[0.0]          100       326.166708   \n",
       "3  fs.heat_exchanger.side_1.properties_out[0.0]          100       313.819218   \n",
       "4   fs.heat_exchanger.side_2.properties_in[0.0]          100       312.888963   \n",
       "5  fs.heat_exchanger.side_2.properties_out[0.0]          100       325.237048   \n",
       "\n",
       "  Pressure (Pa) Enthalpy (J/mol)  Vapor Fraction  \n",
       "0        101325             4000        0.000000  \n",
       "1        101325            24000        0.404678  \n",
       "2        101325             4000        0.000000  \n",
       "3        101325          3070.04        0.000000  \n",
       "4        101325             3000        0.000000  \n",
       "5        101325          3929.96        0.000000  "
      ]
     },
     "execution_count": 11,
     "metadata": {},
     "output_type": "execute_result"
    }
   ],
   "source": [
    "state_table(model)"
   ]
  },
  {
   "cell_type": "markdown",
   "metadata": {},
   "source": [
    "## Conncect the Flowsheet\n",
    "\n",
    "The next step is to connect the outlet of the heater to the side_1 inlet of the heat exchanger. First unfix the varialbes in ```model.fs.heat_exchanger.inlet_1```. Also increase the flow rate of through side_2 of the heat exchanger to 600 mol/s.\n",
    "\n",
    "Use a Pyomo Arc to connect the heater outlet to heat exchanger inlet_1 and apply the transforamtion to expand the arc to a set of constraints.\n",
    "\n",
    "### Example Code\n",
    "\n",
    "```python\n",
    "model.fs.heat_exchanger.inlet_1.flow_mol.unfix()\n",
    "model.fs.heat_exchanger.inlet_1.pressure.unfix()\n",
    "model.fs.heat_exchanger.inlet_1.enth_mol.unfix()\n",
    "\n",
    "model.fs.heat_exchanger.inlet_2.flow_mol.fix(600)\n",
    "\n",
    "model.fs.stream_1 = Arc(source=model.fs.heater.outlet, \n",
    "                        destination=model.fs.heat_exchanger.inlet_1)\n",
    "\n",
    "pyo.TransformationFactory(\"network.expand_arcs\").apply_to(model)\n",
    "\n",
    "```"
   ]
  },
  {
   "cell_type": "code",
   "execution_count": 12,
   "metadata": {},
   "outputs": [],
   "source": [
    "model.fs.heat_exchanger.inlet_1.flow_mol.unfix()\n",
    "model.fs.heat_exchanger.inlet_1.pressure.unfix()\n",
    "model.fs.heat_exchanger.inlet_1.enth_mol.unfix()\n",
    "\n",
    "model.fs.heat_exchanger.inlet_2.flow_mol.fix(600)\n",
    "\n",
    "model.fs.stream_1 = Arc(source=model.fs.heater.outlet, \n",
    "                        destination=model.fs.heat_exchanger.inlet_1)\n",
    "\n",
    "pyo.TransformationFactory(\"network.expand_arcs\").apply_to(model)"
   ]
  },
  {
   "cell_type": "markdown",
   "metadata": {},
   "source": [
    "## Solve the Connected Model\n",
    "\n",
    "Solve the model again, and show results.\n",
    "\n",
    "### Example Code\n",
    "\n",
    "```python\n",
    "solver.solve(model, tee=True)\n",
    "state_table(model)\n",
    "```"
   ]
  },
  {
   "cell_type": "code",
   "execution_count": 13,
   "metadata": {},
   "outputs": [
    {
     "name": "stdout",
     "output_type": "stream",
     "text": [
      "Ipopt 3.12.11: \n",
      "\n",
      "******************************************************************************\n",
      "This program contains Ipopt, a library for large-scale nonlinear optimization.\n",
      " Ipopt is released as open source code under the Eclipse Public License (EPL).\n",
      "         For more information visit http://projects.coin-or.org/Ipopt\n",
      "******************************************************************************\n",
      "\n",
      "This is Ipopt version 3.12.11, running with linear solver ma27.\n",
      "\n",
      "Number of nonzeros in equality constraint Jacobian...:       33\n",
      "Number of nonzeros in inequality constraint Jacobian.:        0\n",
      "Number of nonzeros in Lagrangian Hessian.............:       13\n",
      "\n",
      "Total number of variables............................:       14\n",
      "                     variables with only lower bounds:        8\n",
      "                variables with lower and upper bounds:        0\n",
      "                     variables with only upper bounds:        0\n",
      "Total number of equality constraints.................:       14\n",
      "Total number of inequality constraints...............:        0\n",
      "        inequality constraints with only lower bounds:        0\n",
      "   inequality constraints with lower and upper bounds:        0\n",
      "        inequality constraints with only upper bounds:        0\n",
      "\n",
      "iter    objective    inf_pr   inf_du lg(mu)  ||d||  lg(rg) alpha_du alpha_pr  ls\n",
      "   0  0.0000000e+00 2.00e+04 1.00e+00  -1.0 0.00e+00    -  0.00e+00 0.00e+00   0\n",
      "   1  0.0000000e+00 2.63e+06 5.01e+00  -1.0 2.08e+06    -  1.65e-01 1.00e+00h  1\n",
      "   2  0.0000000e+00 9.93e+05 8.35e-03  -1.0 3.44e+05    -  9.90e-01 1.00e+00h  1\n",
      "   3  0.0000000e+00 7.94e+02 8.35e-05  -1.0 1.14e+05    -  9.90e-01 1.00e+00h  1\n",
      "   4  0.0000000e+00 3.75e-04 1.00e-06  -1.0 9.09e+01    -  1.00e+00 1.00e+00h  1\n",
      "   5  0.0000000e+00 1.55e-07 2.83e-08  -2.5 4.29e-05    -  1.00e+00 1.00e+00h  1\n",
      "   6  0.0000000e+00 1.09e-07 1.50e-09  -3.8 1.75e-08    -  1.00e+00 1.00e+00h  1\n",
      "   7  0.0000000e+00 8.27e-08 1.84e-11  -5.7 1.25e-08    -  1.00e+00 1.00e+00h  1\n",
      "   8  0.0000000e+00 2.00e-08 2.51e-14  -8.6 9.63e-09    -  1.00e+00 1.00e+00H  1\n",
      "\n",
      "Number of Iterations....: 8\n",
      "\n",
      "                                   (scaled)                 (unscaled)\n",
      "Objective...............:   0.0000000000000000e+00    0.0000000000000000e+00\n",
      "Dual infeasibility......:   0.0000000000000000e+00    0.0000000000000000e+00\n",
      "Constraint violation....:   3.0153103877500909e-09    2.0023435354232788e-08\n",
      "Complementarity.........:   0.0000000000000000e+00    0.0000000000000000e+00\n",
      "Overall NLP error.......:   3.0153103877500909e-09    2.0023435354232788e-08\n",
      "\n",
      "\n",
      "Number of objective function evaluations             = 10\n",
      "Number of objective gradient evaluations             = 9\n",
      "Number of equality constraint evaluations            = 10\n",
      "Number of inequality constraint evaluations          = 0\n",
      "Number of equality constraint Jacobian evaluations   = 9\n",
      "Number of inequality constraint Jacobian evaluations = 0\n",
      "Number of Lagrangian Hessian evaluations             = 8\n",
      "Total CPU secs in IPOPT (w/o function evaluations)   =      0.032\n",
      "Total CPU secs in NLP function evaluations           =      0.049\n",
      "\n",
      "EXIT: Optimal Solution Found.\n",
      "\b"
     ]
    },
    {
     "data": {
      "text/html": [
       "<div>\n",
       "<style scoped>\n",
       "    .dataframe tbody tr th:only-of-type {\n",
       "        vertical-align: middle;\n",
       "    }\n",
       "\n",
       "    .dataframe tbody tr th {\n",
       "        vertical-align: top;\n",
       "    }\n",
       "\n",
       "    .dataframe thead th {\n",
       "        text-align: right;\n",
       "    }\n",
       "</style>\n",
       "<table border=\"1\" class=\"dataframe\">\n",
       "  <thead>\n",
       "    <tr style=\"text-align: right;\">\n",
       "      <th></th>\n",
       "      <th>State Block</th>\n",
       "      <th>Flow (mol/s)</th>\n",
       "      <th>Temperature (K)</th>\n",
       "      <th>Pressure (Pa)</th>\n",
       "      <th>Enthalpy (J/mol)</th>\n",
       "      <th>Vapor Fraction</th>\n",
       "    </tr>\n",
       "  </thead>\n",
       "  <tbody>\n",
       "    <tr>\n",
       "      <th>0</th>\n",
       "      <td>fs.heater.control_volume.properties_in[0.0]</td>\n",
       "      <td>100</td>\n",
       "      <td>326.166708</td>\n",
       "      <td>101325</td>\n",
       "      <td>4000</td>\n",
       "      <td>0.000000</td>\n",
       "    </tr>\n",
       "    <tr>\n",
       "      <th>1</th>\n",
       "      <td>fs.heater.control_volume.properties_out[0.0]</td>\n",
       "      <td>100</td>\n",
       "      <td>373.124296</td>\n",
       "      <td>101325</td>\n",
       "      <td>24000</td>\n",
       "      <td>0.404678</td>\n",
       "    </tr>\n",
       "    <tr>\n",
       "      <th>2</th>\n",
       "      <td>fs.heat_exchanger.side_1.properties_in[0.0]</td>\n",
       "      <td>100</td>\n",
       "      <td>373.124296</td>\n",
       "      <td>101325</td>\n",
       "      <td>24000</td>\n",
       "      <td>0.404678</td>\n",
       "    </tr>\n",
       "    <tr>\n",
       "      <th>3</th>\n",
       "      <td>fs.heat_exchanger.side_1.properties_out[0.0]</td>\n",
       "      <td>100</td>\n",
       "      <td>334.275568</td>\n",
       "      <td>101325</td>\n",
       "      <td>4611.18</td>\n",
       "      <td>0.000000</td>\n",
       "    </tr>\n",
       "    <tr>\n",
       "      <th>4</th>\n",
       "      <td>fs.heat_exchanger.side_2.properties_in[0.0]</td>\n",
       "      <td>600</td>\n",
       "      <td>312.888963</td>\n",
       "      <td>101325</td>\n",
       "      <td>3000</td>\n",
       "      <td>0.000000</td>\n",
       "    </tr>\n",
       "    <tr>\n",
       "      <th>5</th>\n",
       "      <td>fs.heat_exchanger.side_2.properties_out[0.0]</td>\n",
       "      <td>600</td>\n",
       "      <td>355.733262</td>\n",
       "      <td>101325</td>\n",
       "      <td>6231.47</td>\n",
       "      <td>0.000000</td>\n",
       "    </tr>\n",
       "  </tbody>\n",
       "</table>\n",
       "</div>"
      ],
      "text/plain": [
       "                                    State Block Flow (mol/s)  Temperature (K)  \\\n",
       "0   fs.heater.control_volume.properties_in[0.0]          100       326.166708   \n",
       "1  fs.heater.control_volume.properties_out[0.0]          100       373.124296   \n",
       "2   fs.heat_exchanger.side_1.properties_in[0.0]          100       373.124296   \n",
       "3  fs.heat_exchanger.side_1.properties_out[0.0]          100       334.275568   \n",
       "4   fs.heat_exchanger.side_2.properties_in[0.0]          600       312.888963   \n",
       "5  fs.heat_exchanger.side_2.properties_out[0.0]          600       355.733262   \n",
       "\n",
       "  Pressure (Pa) Enthalpy (J/mol)  Vapor Fraction  \n",
       "0        101325             4000        0.000000  \n",
       "1        101325            24000        0.404678  \n",
       "2        101325            24000        0.404678  \n",
       "3        101325          4611.18        0.000000  \n",
       "4        101325             3000        0.000000  \n",
       "5        101325          6231.47        0.000000  "
      ]
     },
     "execution_count": 13,
     "metadata": {},
     "output_type": "execute_result"
    }
   ],
   "source": [
    "solver.solve(model, tee=True)\n",
    "state_table(model)"
   ]
  },
  {
   "cell_type": "markdown",
   "metadata": {},
   "source": [
    "## Seeing Constraints\n",
    "\n",
    "Sometimes you may want to see the exact equations that you are solving.  IDAES has some features to document model constraints.  First we will look at the constraints in the heat_excnger model. Between blocks duplicating symobols in the constraints is unavoidable, so each constraint is documented with its own symbol table and duplicate symbols within the constraints are indexed within angle brackets.  The fully qualified Pyomo component names are provided in the symbol tables."
   ]
  },
  {
   "cell_type": "code",
   "execution_count": 14,
   "metadata": {},
   "outputs": [],
   "source": [
    "from idaes.core.util.expr_doc import ipython_document_constraints"
   ]
  },
  {
   "cell_type": "code",
   "execution_count": 15,
   "metadata": {},
   "outputs": [
    {
     "data": {
      "text/markdown": [
       "## fs.heat_exchanger.unit_heat_balance[0.0]\n",
       "$$0.0 \\le Q_{ 1 ,0.0 } + Q_{ 2 ,0.0 }\\le 0.0$$\n",
       "\n",
       "Symbol | Doc | Path\n",
       " ---: | --- | ---\n",
       "**Variable** | **Doc** | **Path**\n",
       "$Q_1$|Heat transfered in unit [J/s]|fs.heat_exchanger.side_1.heat\n",
       "$Q_2$|Heat transfered in unit [J/s]|fs.heat_exchanger.side_2.heat\n",
       "\n",
       "## fs.heat_exchanger.heat_transfer_equation[0.0]\n",
       "$$0.0 \\le - \\Delta T_{ 0.0 } U_{ 0.0 } A + Q_{ 2 ,0.0 }\\le 0.0$$\n",
       "\n",
       "Symbol | Doc | Path\n",
       " ---: | --- | ---\n",
       "**Variable** | **Doc** | **Path**\n",
       "$Q_2$|Heat transfered in unit [J/s]|fs.heat_exchanger.side_2.heat\n",
       "$U$|Overall heat transfer coefficient|fs.heat_exchanger.overall_heat_transfer_coefficient\n",
       "$A$|Heat exchange area|fs.heat_exchanger.area\n",
       "**Expression** | **Doc** | **Path**\n",
       "$\\Delta T$|Temperature difference driving force for heat transfer|fs.heat_exchanger.delta_temperature\n",
       "\n",
       "## fs.heat_exchanger.side_1.material_balances[0.0,Mix,H2O]\n",
       "$$0.0 \\le F - F_{ D1 }\\le 0.0$$\n",
       "\n",
       "Symbol | Doc | Path\n",
       " ---: | --- | ---\n",
       "**Variable** | **Doc** | **Path**\n",
       "$F$|Total flow [mol/s]|fs.heat_exchanger.side_1.properties_in[0.0].flow_mol\n",
       "$F_{ D1 }$|Total flow [mol/s]|fs.heat_exchanger.side_1.properties_out[0.0].flow_mol\n",
       "\n",
       "## fs.heat_exchanger.side_1.enthalpy_balances[0.0]\n",
       "$$0.0 \\le 1.0 \\cdot 10^{-6} h F - 1.0 \\cdot 10^{-6} h_{ D1 } F_{ D1 } + 1.0 \\cdot 10^{-6} Q_{ 1 ,0.0 }\\le 0.0$$\n",
       "\n",
       "Symbol | Doc | Path\n",
       " ---: | --- | ---\n",
       "**Variable** | **Doc** | **Path**\n",
       "$h$|Total molar enthalpy (J/mol)|fs.heat_exchanger.side_1.properties_in[0.0].enth_mol\n",
       "$F$|Total flow [mol/s]|fs.heat_exchanger.side_1.properties_in[0.0].flow_mol\n",
       "$h_{ D1 }$|Total molar enthalpy (J/mol)|fs.heat_exchanger.side_1.properties_out[0.0].enth_mol\n",
       "$F_{ D1 }$|Total flow [mol/s]|fs.heat_exchanger.side_1.properties_out[0.0].flow_mol\n",
       "$Q_1$|Heat transfered in unit [J/s]|fs.heat_exchanger.side_1.heat\n",
       "\n",
       "## fs.heat_exchanger.side_1.pressure_balance[0.0]\n",
       "$$0.0 \\le 0.0001 P - 0.0001 P_{ D1 }\\le 0.0$$\n",
       "\n",
       "Symbol | Doc | Path\n",
       " ---: | --- | ---\n",
       "**Variable** | **Doc** | **Path**\n",
       "$P$|Pressure [Pa]|fs.heat_exchanger.side_1.properties_in[0.0].pressure\n",
       "$P_{ D1 }$|Pressure [Pa]|fs.heat_exchanger.side_1.properties_out[0.0].pressure\n",
       "\n",
       "## fs.heat_exchanger.side_2.material_balances[0.0,Mix,H2O]\n",
       "$$0.0 \\le F - F_{ D1 }\\le 0.0$$\n",
       "\n",
       "Symbol | Doc | Path\n",
       " ---: | --- | ---\n",
       "**Variable** | **Doc** | **Path**\n",
       "$F$|Total flow [mol/s]|fs.heat_exchanger.side_2.properties_in[0.0].flow_mol\n",
       "$F_{ D1 }$|Total flow [mol/s]|fs.heat_exchanger.side_2.properties_out[0.0].flow_mol\n",
       "\n",
       "## fs.heat_exchanger.side_2.enthalpy_balances[0.0]\n",
       "$$0.0 \\le 1.0 \\cdot 10^{-6} h F - 1.0 \\cdot 10^{-6} h_{ D1 } F_{ D1 } + 1.0 \\cdot 10^{-6} Q_{ 2 ,0.0 }\\le 0.0$$\n",
       "\n",
       "Symbol | Doc | Path\n",
       " ---: | --- | ---\n",
       "**Variable** | **Doc** | **Path**\n",
       "$h$|Total molar enthalpy (J/mol)|fs.heat_exchanger.side_2.properties_in[0.0].enth_mol\n",
       "$F$|Total flow [mol/s]|fs.heat_exchanger.side_2.properties_in[0.0].flow_mol\n",
       "$h_{ D1 }$|Total molar enthalpy (J/mol)|fs.heat_exchanger.side_2.properties_out[0.0].enth_mol\n",
       "$F_{ D1 }$|Total flow [mol/s]|fs.heat_exchanger.side_2.properties_out[0.0].flow_mol\n",
       "$Q_2$|Heat transfered in unit [J/s]|fs.heat_exchanger.side_2.heat\n",
       "\n",
       "## fs.heat_exchanger.side_2.pressure_balance[0.0]\n",
       "$$0.0 \\le 0.0001 P - 0.0001 P_{ D1 }\\le 0.0$$\n",
       "\n",
       "Symbol | Doc | Path\n",
       " ---: | --- | ---\n",
       "**Variable** | **Doc** | **Path**\n",
       "$P$|Pressure [Pa]|fs.heat_exchanger.side_2.properties_in[0.0].pressure\n",
       "$P_{ D1 }$|Pressure [Pa]|fs.heat_exchanger.side_2.properties_out[0.0].pressure\n"
      ],
      "text/plain": [
       "<IPython.core.display.Markdown object>"
      ]
     },
     "metadata": {},
     "output_type": "display_data"
    }
   ],
   "source": [
    "ipython_document_constraints(model.fs.heat_exchanger)"
   ]
  },
  {
   "cell_type": "markdown",
   "metadata": {},
   "source": [
    "## Named Expressions\n",
    "\n",
    "Looking at the heat transfer equation above you see that $\\Delta T$ is not a variable but a expression.  To find out how $\\Delta T$ is calculated call ipython_document_constraints() again with the $\\Delta T$ as the argument.  With a named expression at the top level, the constraint documenting function will descend into the expression.  Clos inspection will show that will show that this is the arethmetic average of the temperature differences at the two ends of the heat exchanger. "
   ]
  },
  {
   "cell_type": "code",
   "execution_count": 16,
   "metadata": {},
   "outputs": [
    {
     "data": {
      "text/markdown": [
       "$$0.5 T - 0.5 T_{ D1 } + 0.5 T_{ D2 } - 0.5 T_{ D3 }$$\n",
       "\n",
       "Symbol | Doc | Path\n",
       " ---: | --- | ---\n",
       "**Expression** | **Doc** | **Path**\n",
       "$\\Delta T$|Temperature difference driving force for heat transfer|fs.heat_exchanger.delta_temperature\n",
       "$T$|Temperature (K)|fs.heat_exchanger.side_1.properties_in[0.0].temperature\n",
       "$T_{ D1 }$|Temperature (K)|fs.heat_exchanger.side_2.properties_out[0.0].temperature\n",
       "$T_{ D2 }$|Temperature (K)|fs.heat_exchanger.side_1.properties_out[0.0].temperature\n",
       "$T_{ D3 }$|Temperature (K)|fs.heat_exchanger.side_2.properties_in[0.0].temperature\n"
      ],
      "text/plain": [
       "<IPython.core.display.Markdown object>"
      ]
     },
     "metadata": {},
     "output_type": "display_data"
    }
   ],
   "source": [
    "ipython_document_constraints(model.fs.heat_exchanger.delta_temperature[0])"
   ]
  },
  {
   "cell_type": "markdown",
   "metadata": {},
   "source": [
    "## ExternalFunctions\n",
    "\n",
    "The above results for $\\Delta T$ show that even temperature itself is an expression. Temperature is an expression because the property method used in this example has molar enthalpy and pressure as state variables.  Temperature is actually computed by an external function. The external function returns $T_c/T$ as a function of enthalpy in kJ/kg and pressure in kPa, so there are some conversions built into the temperature expression. "
   ]
  },
  {
   "cell_type": "code",
   "execution_count": 17,
   "metadata": {},
   "outputs": [
    {
     "data": {
      "text/markdown": [
       "$$\\frac{647.096}{\\operatorname{func_{0}}{\\left (0.001 u_1,0.001 P \\right )}}$$\n",
       "\n",
       "Symbol | Doc | Path\n",
       " ---: | --- | ---\n",
       "**Variable** | **Doc** | **Path**\n",
       "$P$|Pressure [Pa]|fs.heat_exchanger.side_1.properties_in[0.0].pressure\n",
       "**Expression** | **Doc** | **Path**\n",
       "$T$|Temperature (K)|fs.heat_exchanger.side_1.properties_in[0.0].temperature\n",
       "$u_1$|Mass enthalpy (J/kg)|fs.heat_exchanger.side_1.properties_in[0.0].enth_mass\n",
       "**Function** | **Doc** | **Path**\n",
       "$func_0$|None|fs.heat_exchanger.side_1.properties_in[0.0].func_tau\n"
      ],
      "text/plain": [
       "<IPython.core.display.Markdown object>"
      ]
     },
     "metadata": {},
     "output_type": "display_data"
    }
   ],
   "source": [
    "ipython_document_constraints(model.fs.heat_exchanger.side_1.properties_in[0].temperature)"
   ]
  }
 ],
 "metadata": {
  "kernelspec": {
   "display_name": "Python 3",
   "language": "python",
   "name": "python3"
  },
  "language_info": {
   "codemirror_mode": {
    "name": "ipython",
    "version": 3
   },
   "file_extension": ".py",
   "mimetype": "text/x-python",
   "name": "python",
   "nbconvert_exporter": "python",
   "pygments_lexer": "ipython3",
   "version": "3.7.2"
  }
 },
 "nbformat": 4,
 "nbformat_minor": 2
}
