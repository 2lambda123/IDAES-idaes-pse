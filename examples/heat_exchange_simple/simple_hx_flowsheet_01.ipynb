{
 "cells": [
  {
   "cell_type": "markdown",
   "metadata": {},
   "source": [
    "# Simple Example with Steam and Heat Exchangers\n",
    "\n",
    "This notebook demonstrates how to assemble, initialize, and run a very simple flowsheet using steam and heat exchangers. This breifly demonstrates the basics of setting up a flowsheet.  See the documentation for a more complete description of the framework."
   ]
  },
  {
   "cell_type": "markdown",
   "metadata": {},
   "source": [
    "## Imports\n",
    "Standard Pyomo and IDAES core components are imported below along with Panda with will be used in this example to print a table of steam states at different locations in the flowsheet."
   ]
  },
  {
   "cell_type": "code",
   "execution_count": 1,
   "metadata": {},
   "outputs": [],
   "source": [
    "import pyomo.environ as pe\n",
    "from pyomo.network import Arc\n",
    "from idaes.core import FlowsheetBlock, StateBlockBase\n",
    "from idaes.unit_models import Heater, HeatExchanger\n",
    "from idaes.unit_models.heat_exchanger import delta_temperature_amtd_rule\n",
    "from idaes.property_models import iapws95_ph\n",
    "import pandas as pd"
   ]
  },
  {
   "cell_type": "markdown",
   "metadata": {},
   "source": [
    "## Create a Flowsheet\n",
    "\n",
    "The lines below create a Pyomo concrete model, flowsheet and steam property parameter block instance. The steam property parameter block contains constants that can be shared among all similar state blocks in a flowsheet."
   ]
  },
  {
   "cell_type": "code",
   "execution_count": 2,
   "metadata": {},
   "outputs": [],
   "source": [
    "model = pe.ConcreteModel()\n",
    "model.fs = FlowsheetBlock(default={\"dynamic\": False})\n",
    "model.fs.properties = iapws95_ph.Iapws95ParameterBlock()"
   ]
  },
  {
   "cell_type": "markdown",
   "metadata": {},
   "source": [
    "## Create a Heater and HeatExchanger Model\n",
    "\n",
    "Steam properties are used, notice in the heat exchanger model different properties can be used for each side. The default log-mean temperature difference was also swapped out for the arethmetic mean better behaved equations for this example."
   ]
  },
  {
   "cell_type": "code",
   "execution_count": 3,
   "metadata": {},
   "outputs": [],
   "source": [
    "model.fs.heater = Heater(default={\"property_package\": model.fs.properties})\n",
    "model.fs.heat_exchanger = HeatExchanger(default={\n",
    "        \"delta_temperature_rule\":delta_temperature_amtd_rule,\n",
    "        \"side_1\":{\"property_package\": model.fs.properties},\n",
    "        \"side_2\":{\"property_package\": model.fs.properties}})"
   ]
  },
  {
   "cell_type": "markdown",
   "metadata": {},
   "source": [
    "## Fix Inlets and Initialize"
   ]
  },
  {
   "cell_type": "code",
   "execution_count": 4,
   "metadata": {},
   "outputs": [],
   "source": [
    "# Fix heater inlets and heat duty then initialize unit\n",
    "model.fs.heater.inlet[:].enth_mol.fix(4000)\n",
    "model.fs.heater.inlet[:].flow_mol.fix(100)\n",
    "model.fs.heater.inlet[:].pressure.fix(101325)\n",
    "model.fs.heater.heat_duty[0].fix(100*20000)\n",
    "model.fs.heater.initialize()"
   ]
  },
  {
   "cell_type": "code",
   "execution_count": 5,
   "metadata": {},
   "outputs": [],
   "source": [
    "# Fix both heat exchanger intlets and initialize\n",
    "model.fs.heat_exchanger.inlet_1[:].flow_mol.fix(100)\n",
    "model.fs.heat_exchanger.inlet_1[:].pressure.fix(101325)\n",
    "model.fs.heat_exchanger.inlet_1[:].enth_mol.fix(4000)\n",
    "model.fs.heat_exchanger.inlet_2[:].flow_mol.fix(100)\n",
    "model.fs.heat_exchanger.inlet_2[:].pressure.fix(101325)\n",
    "model.fs.heat_exchanger.inlet_2[:].enth_mol.fix(3000)\n",
    "\n",
    "model.fs.heat_exchanger.initialize()"
   ]
  },
  {
   "cell_type": "markdown",
   "metadata": {},
   "source": [
    "## Solve the Disconnected Flowsheet"
   ]
  },
  {
   "cell_type": "code",
   "execution_count": 6,
   "metadata": {},
   "outputs": [],
   "source": [
    "solver = pe.SolverFactory('ipopt')"
   ]
  },
  {
   "cell_type": "code",
   "execution_count": 7,
   "metadata": {},
   "outputs": [
    {
     "name": "stdout",
     "output_type": "stream",
     "text": [
      "Ipopt 3.12.11: \n",
      "\n",
      "******************************************************************************\n",
      "This program contains Ipopt, a library for large-scale nonlinear optimization.\n",
      " Ipopt is released as open source code under the Eclipse Public License (EPL).\n",
      "         For more information visit http://projects.coin-or.org/Ipopt\n",
      "******************************************************************************\n",
      "\n",
      "This is Ipopt version 3.12.11, running with linear solver ma27.\n",
      "\n",
      "Number of nonzeros in equality constraint Jacobian...:       21\n",
      "Number of nonzeros in inequality constraint Jacobian.:        0\n",
      "Number of nonzeros in Lagrangian Hessian.............:        9\n",
      "\n",
      "Total number of variables............................:       11\n",
      "                     variables with only lower bounds:        6\n",
      "                variables with lower and upper bounds:        0\n",
      "                     variables with only upper bounds:        0\n",
      "Total number of equality constraints.................:       11\n",
      "Total number of inequality constraints...............:        0\n",
      "        inequality constraints with only lower bounds:        0\n",
      "   inequality constraints with lower and upper bounds:        0\n",
      "        inequality constraints with only upper bounds:        0\n",
      "\n",
      "iter    objective    inf_pr   inf_du lg(mu)  ||d||  lg(rg) alpha_du alpha_pr  ls\n",
      "   0  0.0000000e+00 9.90e-07 1.00e+00  -1.0 0.00e+00    -  0.00e+00 0.00e+00   0\n",
      "   1  0.0000000e+00 2.33e-07 1.00e-02  -1.0 6.93e-08    -  9.90e-01 1.00e+00h  1\n",
      "   2  0.0000000e+00 2.59e-07 1.00e-04  -1.0 1.63e-08    -  9.90e-01 1.00e+00h  1\n",
      "   3  0.0000000e+00 4.25e-08 1.01e-06  -1.0 1.81e-08    -  1.00e+00 1.00e+00h  1\n",
      "\n",
      "Number of Iterations....: 3\n",
      "\n",
      "                                   (scaled)                 (unscaled)\n",
      "Objective...............:   0.0000000000000000e+00    0.0000000000000000e+00\n",
      "Dual infeasibility......:   0.0000000000000000e+00    0.0000000000000000e+00\n",
      "Constraint violation....:   6.3987691367953064e-09    4.2491592466831207e-08\n",
      "Complementarity.........:   0.0000000000000000e+00    0.0000000000000000e+00\n",
      "Overall NLP error.......:   6.3987691367953064e-09    4.2491592466831207e-08\n",
      "\n",
      "\n",
      "Number of objective function evaluations             = 4\n",
      "Number of objective gradient evaluations             = 4\n",
      "Number of equality constraint evaluations            = 4\n",
      "Number of inequality constraint evaluations          = 0\n",
      "Number of equality constraint Jacobian evaluations   = 4\n",
      "Number of inequality constraint Jacobian evaluations = 0\n",
      "Number of Lagrangian Hessian evaluations             = 3\n",
      "Total CPU secs in IPOPT (w/o function evaluations)   =      0.034\n",
      "Total CPU secs in NLP function evaluations           =      0.023\n",
      "\n",
      "EXIT: Optimal Solution Found.\n",
      "\b"
     ]
    },
    {
     "data": {
      "text/plain": [
       "{'Problem': [{'Lower bound': -inf, 'Upper bound': inf, 'Number of objectives': 1, 'Number of constraints': 11, 'Number of variables': 11, 'Sense': 'unknown'}], 'Solver': [{'Status': 'ok', 'Message': 'Ipopt 3.12.11\\\\x3a Optimal Solution Found', 'Termination condition': 'optimal', 'Id': 0, 'Error rc': 0, 'Time': 0.09377336502075195}], 'Solution': [OrderedDict([('number of solutions', 0), ('number of solutions displayed', 0)])]}"
      ]
     },
     "execution_count": 7,
     "metadata": {},
     "output_type": "execute_result"
    }
   ],
   "source": [
    "solver.solve(model, tee=True)"
   ]
  },
  {
   "cell_type": "markdown",
   "metadata": {},
   "source": [
    "## Write a Function to Show States at Ports\n",
    "\n",
    "Write a function that will give a nice tabulated overview of the conditions in the process."
   ]
  },
  {
   "cell_type": "code",
   "execution_count": 8,
   "metadata": {},
   "outputs": [],
   "source": [
    "def state_table(m):\n",
    "    head = [\"State Block\", \n",
    "        \"Flow (mol/s)\",\n",
    "        \"Temperature (K)\",\n",
    "        \"Pressure (Pa)\",\n",
    "        \"Enthalpy (J/mol)\",\n",
    "        \"Vapor Fraction\"]\n",
    "    st = pd.DataFrame(columns=head)\n",
    "    j = 0\n",
    "    for c in model.component_objects():\n",
    "        if isinstance(c, StateBlockBase):\n",
    "            for i in c:\n",
    "                row = [c[i].name, \n",
    "                       pe.value(c[i].flow_mol), \n",
    "                       pe.value(c[i].temperature), \n",
    "                       pe.value(c[i].pressure), \n",
    "                       pe.value(c[i].enth_mol),\n",
    "                       pe.value(c[i].vapor_frac)]\n",
    "                st.loc[j] = row\n",
    "                j += 1\n",
    "    return st"
   ]
  },
  {
   "cell_type": "markdown",
   "metadata": {},
   "source": [
    "## Show States\n",
    "\n",
    "Have a look at the results for the disconneted sheet."
   ]
  },
  {
   "cell_type": "code",
   "execution_count": 15,
   "metadata": {},
   "outputs": [
    {
     "data": {
      "text/html": [
       "<div>\n",
       "<style scoped>\n",
       "    .dataframe tbody tr th:only-of-type {\n",
       "        vertical-align: middle;\n",
       "    }\n",
       "\n",
       "    .dataframe tbody tr th {\n",
       "        vertical-align: top;\n",
       "    }\n",
       "\n",
       "    .dataframe thead th {\n",
       "        text-align: right;\n",
       "    }\n",
       "</style>\n",
       "<table border=\"1\" class=\"dataframe\">\n",
       "  <thead>\n",
       "    <tr style=\"text-align: right;\">\n",
       "      <th></th>\n",
       "      <th>State Block</th>\n",
       "      <th>Flow (mol/s)</th>\n",
       "      <th>Temperature (K)</th>\n",
       "      <th>Pressure (Pa)</th>\n",
       "      <th>Enthalpy (J/mol)</th>\n",
       "      <th>Vapor Fraction</th>\n",
       "    </tr>\n",
       "  </thead>\n",
       "  <tbody>\n",
       "    <tr>\n",
       "      <th>0</th>\n",
       "      <td>fs.heater.control_volume.properties_in[0.0]</td>\n",
       "      <td>100</td>\n",
       "      <td>326.166708</td>\n",
       "      <td>101325</td>\n",
       "      <td>4000</td>\n",
       "      <td>0.000000</td>\n",
       "    </tr>\n",
       "    <tr>\n",
       "      <th>1</th>\n",
       "      <td>fs.heater.control_volume.properties_out[0.0]</td>\n",
       "      <td>100</td>\n",
       "      <td>373.124296</td>\n",
       "      <td>101325</td>\n",
       "      <td>24000</td>\n",
       "      <td>0.404678</td>\n",
       "    </tr>\n",
       "    <tr>\n",
       "      <th>2</th>\n",
       "      <td>fs.heat_exchanger.side_1.properties_in[0.0]</td>\n",
       "      <td>100</td>\n",
       "      <td>373.124296</td>\n",
       "      <td>101325</td>\n",
       "      <td>24000</td>\n",
       "      <td>0.404678</td>\n",
       "    </tr>\n",
       "    <tr>\n",
       "      <th>3</th>\n",
       "      <td>fs.heat_exchanger.side_1.properties_out[0.0]</td>\n",
       "      <td>100</td>\n",
       "      <td>334.275568</td>\n",
       "      <td>101325</td>\n",
       "      <td>4611.18</td>\n",
       "      <td>0.000000</td>\n",
       "    </tr>\n",
       "    <tr>\n",
       "      <th>4</th>\n",
       "      <td>fs.heat_exchanger.side_2.properties_in[0.0]</td>\n",
       "      <td>600</td>\n",
       "      <td>312.888963</td>\n",
       "      <td>101325</td>\n",
       "      <td>3000</td>\n",
       "      <td>0.000000</td>\n",
       "    </tr>\n",
       "    <tr>\n",
       "      <th>5</th>\n",
       "      <td>fs.heat_exchanger.side_2.properties_out[0.0]</td>\n",
       "      <td>600</td>\n",
       "      <td>355.733262</td>\n",
       "      <td>101325</td>\n",
       "      <td>6231.47</td>\n",
       "      <td>0.000000</td>\n",
       "    </tr>\n",
       "  </tbody>\n",
       "</table>\n",
       "</div>"
      ],
      "text/plain": [
       "                                    State Block Flow (mol/s)  Temperature (K)  \\\n",
       "0   fs.heater.control_volume.properties_in[0.0]          100       326.166708   \n",
       "1  fs.heater.control_volume.properties_out[0.0]          100       373.124296   \n",
       "2   fs.heat_exchanger.side_1.properties_in[0.0]          100       373.124296   \n",
       "3  fs.heat_exchanger.side_1.properties_out[0.0]          100       334.275568   \n",
       "4   fs.heat_exchanger.side_2.properties_in[0.0]          600       312.888963   \n",
       "5  fs.heat_exchanger.side_2.properties_out[0.0]          600       355.733262   \n",
       "\n",
       "  Pressure (Pa) Enthalpy (J/mol)  Vapor Fraction  \n",
       "0        101325             4000        0.000000  \n",
       "1        101325            24000        0.404678  \n",
       "2        101325            24000        0.404678  \n",
       "3        101325          4611.18        0.000000  \n",
       "4        101325             3000        0.000000  \n",
       "5        101325          6231.47        0.000000  "
      ]
     },
     "execution_count": 15,
     "metadata": {},
     "output_type": "execute_result"
    }
   ],
   "source": [
    "state_table(model)"
   ]
  },
  {
   "cell_type": "markdown",
   "metadata": {},
   "source": [
    "## Conncect the Flowsheet\n",
    "\n",
    "Now a flowsheet will be connected where steam will be generated in the heater model and used to heat water in the heat exchanger model."
   ]
  },
  {
   "cell_type": "code",
   "execution_count": 10,
   "metadata": {},
   "outputs": [
    {
     "data": {
      "text/plain": [
       "[None]"
      ]
     },
     "execution_count": 10,
     "metadata": {},
     "output_type": "execute_result"
    }
   ],
   "source": [
    "model.fs.heat_exchanger.inlet_1[:].flow_mol.unfix()\n",
    "model.fs.heat_exchanger.inlet_1[:].pressure.unfix()\n",
    "model.fs.heat_exchanger.inlet_1[:].enth_mol.unfix()\n",
    "\n",
    "model.fs.heat_exchanger.inlet_2[:].flow_mol.fix(600)"
   ]
  },
  {
   "cell_type": "code",
   "execution_count": 11,
   "metadata": {},
   "outputs": [],
   "source": [
    "model.fs.stream_1 = Arc(source=model.fs.heater.outlet[0], \n",
    "                        destination=model.fs.heat_exchanger.inlet_1[0])"
   ]
  },
  {
   "cell_type": "code",
   "execution_count": 12,
   "metadata": {},
   "outputs": [],
   "source": [
    "pe.TransformationFactory(\"network.expand_arcs\").apply_to(model)"
   ]
  },
  {
   "cell_type": "code",
   "execution_count": 13,
   "metadata": {},
   "outputs": [
    {
     "name": "stdout",
     "output_type": "stream",
     "text": [
      "Ipopt 3.12.11: \n",
      "\n",
      "******************************************************************************\n",
      "This program contains Ipopt, a library for large-scale nonlinear optimization.\n",
      " Ipopt is released as open source code under the Eclipse Public License (EPL).\n",
      "         For more information visit http://projects.coin-or.org/Ipopt\n",
      "******************************************************************************\n",
      "\n",
      "This is Ipopt version 3.12.11, running with linear solver ma27.\n",
      "\n",
      "Number of nonzeros in equality constraint Jacobian...:       33\n",
      "Number of nonzeros in inequality constraint Jacobian.:        0\n",
      "Number of nonzeros in Lagrangian Hessian.............:       13\n",
      "\n",
      "Total number of variables............................:       14\n",
      "                     variables with only lower bounds:        8\n",
      "                variables with lower and upper bounds:        0\n",
      "                     variables with only upper bounds:        0\n",
      "Total number of equality constraints.................:       14\n",
      "Total number of inequality constraints...............:        0\n",
      "        inequality constraints with only lower bounds:        0\n",
      "   inequality constraints with lower and upper bounds:        0\n",
      "        inequality constraints with only upper bounds:        0\n",
      "\n",
      "iter    objective    inf_pr   inf_du lg(mu)  ||d||  lg(rg) alpha_du alpha_pr  ls\n",
      "   0  0.0000000e+00 2.00e+04 1.00e+00  -1.0 0.00e+00    -  0.00e+00 0.00e+00   0\n",
      "   1  0.0000000e+00 2.63e+06 5.01e+00  -1.0 2.08e+06    -  1.65e-01 1.00e+00h  1\n",
      "   2  0.0000000e+00 9.93e+05 8.35e-03  -1.0 3.44e+05    -  9.90e-01 1.00e+00h  1\n",
      "   3  0.0000000e+00 7.94e+02 8.35e-05  -1.0 1.14e+05    -  9.90e-01 1.00e+00h  1\n",
      "   4  0.0000000e+00 3.75e-04 1.00e-06  -1.0 9.09e+01    -  1.00e+00 1.00e+00h  1\n",
      "   5  0.0000000e+00 1.55e-07 2.83e-08  -2.5 4.29e-05    -  1.00e+00 1.00e+00h  1\n",
      "   6  0.0000000e+00 1.09e-07 1.50e-09  -3.8 1.75e-08    -  1.00e+00 1.00e+00h  1\n",
      "   7  0.0000000e+00 8.27e-08 1.84e-11  -5.7 1.25e-08    -  1.00e+00 1.00e+00h  1\n",
      "   8  0.0000000e+00 2.00e-08 2.51e-14  -8.6 9.63e-09    -  1.00e+00 1.00e+00H  1\n",
      "\n",
      "Number of Iterations....: 8\n",
      "\n",
      "                                   (scaled)                 (unscaled)\n",
      "Objective...............:   0.0000000000000000e+00    0.0000000000000000e+00\n",
      "Dual infeasibility......:   0.0000000000000000e+00    0.0000000000000000e+00\n",
      "Constraint violation....:   3.0153103877500909e-09    2.0023435354232788e-08\n",
      "Complementarity.........:   0.0000000000000000e+00    0.0000000000000000e+00\n",
      "Overall NLP error.......:   3.0153103877500909e-09    2.0023435354232788e-08\n",
      "\n",
      "\n",
      "Number of objective function evaluations             = 10\n",
      "Number of objective gradient evaluations             = 9\n",
      "Number of equality constraint evaluations            = 10\n",
      "Number of inequality constraint evaluations          = 0\n",
      "Number of equality constraint Jacobian evaluations   = 9\n",
      "Number of inequality constraint Jacobian evaluations = 0\n",
      "Number of Lagrangian Hessian evaluations             = 8\n",
      "Total CPU secs in IPOPT (w/o function evaluations)   =      0.032\n",
      "Total CPU secs in NLP function evaluations           =      0.055\n",
      "\n",
      "EXIT: Optimal Solution Found.\n",
      "\b"
     ]
    },
    {
     "data": {
      "text/plain": [
       "{'Problem': [{'Lower bound': -inf, 'Upper bound': inf, 'Number of objectives': 1, 'Number of constraints': 14, 'Number of variables': 14, 'Sense': 'unknown'}], 'Solver': [{'Status': 'ok', 'Message': 'Ipopt 3.12.11\\\\x3a Optimal Solution Found', 'Termination condition': 'optimal', 'Id': 0, 'Error rc': 0, 'Time': 0.10614275932312012}], 'Solution': [OrderedDict([('number of solutions', 0), ('number of solutions displayed', 0)])]}"
      ]
     },
     "execution_count": 13,
     "metadata": {},
     "output_type": "execute_result"
    }
   ],
   "source": [
    "solver.solve(model, tee=True)"
   ]
  },
  {
   "cell_type": "code",
   "execution_count": 14,
   "metadata": {},
   "outputs": [
    {
     "data": {
      "text/html": [
       "<div>\n",
       "<style scoped>\n",
       "    .dataframe tbody tr th:only-of-type {\n",
       "        vertical-align: middle;\n",
       "    }\n",
       "\n",
       "    .dataframe tbody tr th {\n",
       "        vertical-align: top;\n",
       "    }\n",
       "\n",
       "    .dataframe thead th {\n",
       "        text-align: right;\n",
       "    }\n",
       "</style>\n",
       "<table border=\"1\" class=\"dataframe\">\n",
       "  <thead>\n",
       "    <tr style=\"text-align: right;\">\n",
       "      <th></th>\n",
       "      <th>State Block</th>\n",
       "      <th>Flow (mol/s)</th>\n",
       "      <th>Temperature (K)</th>\n",
       "      <th>Pressure (Pa)</th>\n",
       "      <th>Enthalpy (J/mol)</th>\n",
       "      <th>Vapor Fraction</th>\n",
       "    </tr>\n",
       "  </thead>\n",
       "  <tbody>\n",
       "    <tr>\n",
       "      <th>0</th>\n",
       "      <td>fs.heater.control_volume.properties_in[0.0]</td>\n",
       "      <td>100</td>\n",
       "      <td>326.166708</td>\n",
       "      <td>101325</td>\n",
       "      <td>4000</td>\n",
       "      <td>0.000000</td>\n",
       "    </tr>\n",
       "    <tr>\n",
       "      <th>1</th>\n",
       "      <td>fs.heater.control_volume.properties_out[0.0]</td>\n",
       "      <td>100</td>\n",
       "      <td>373.124296</td>\n",
       "      <td>101325</td>\n",
       "      <td>24000</td>\n",
       "      <td>0.404678</td>\n",
       "    </tr>\n",
       "    <tr>\n",
       "      <th>2</th>\n",
       "      <td>fs.heat_exchanger.side_1.properties_in[0.0]</td>\n",
       "      <td>100</td>\n",
       "      <td>373.124296</td>\n",
       "      <td>101325</td>\n",
       "      <td>24000</td>\n",
       "      <td>0.404678</td>\n",
       "    </tr>\n",
       "    <tr>\n",
       "      <th>3</th>\n",
       "      <td>fs.heat_exchanger.side_1.properties_out[0.0]</td>\n",
       "      <td>100</td>\n",
       "      <td>334.275568</td>\n",
       "      <td>101325</td>\n",
       "      <td>4611.18</td>\n",
       "      <td>0.000000</td>\n",
       "    </tr>\n",
       "    <tr>\n",
       "      <th>4</th>\n",
       "      <td>fs.heat_exchanger.side_2.properties_in[0.0]</td>\n",
       "      <td>600</td>\n",
       "      <td>312.888963</td>\n",
       "      <td>101325</td>\n",
       "      <td>3000</td>\n",
       "      <td>0.000000</td>\n",
       "    </tr>\n",
       "    <tr>\n",
       "      <th>5</th>\n",
       "      <td>fs.heat_exchanger.side_2.properties_out[0.0]</td>\n",
       "      <td>600</td>\n",
       "      <td>355.733262</td>\n",
       "      <td>101325</td>\n",
       "      <td>6231.47</td>\n",
       "      <td>0.000000</td>\n",
       "    </tr>\n",
       "  </tbody>\n",
       "</table>\n",
       "</div>"
      ],
      "text/plain": [
       "                                    State Block Flow (mol/s)  Temperature (K)  \\\n",
       "0   fs.heater.control_volume.properties_in[0.0]          100       326.166708   \n",
       "1  fs.heater.control_volume.properties_out[0.0]          100       373.124296   \n",
       "2   fs.heat_exchanger.side_1.properties_in[0.0]          100       373.124296   \n",
       "3  fs.heat_exchanger.side_1.properties_out[0.0]          100       334.275568   \n",
       "4   fs.heat_exchanger.side_2.properties_in[0.0]          600       312.888963   \n",
       "5  fs.heat_exchanger.side_2.properties_out[0.0]          600       355.733262   \n",
       "\n",
       "  Pressure (Pa) Enthalpy (J/mol)  Vapor Fraction  \n",
       "0        101325             4000        0.000000  \n",
       "1        101325            24000        0.404678  \n",
       "2        101325            24000        0.404678  \n",
       "3        101325          4611.18        0.000000  \n",
       "4        101325             3000        0.000000  \n",
       "5        101325          6231.47        0.000000  "
      ]
     },
     "execution_count": 14,
     "metadata": {},
     "output_type": "execute_result"
    }
   ],
   "source": [
    "state_table(model)"
   ]
  },
  {
   "cell_type": "code",
   "execution_count": null,
   "metadata": {},
   "outputs": [],
   "source": []
  }
 ],
 "metadata": {
  "kernelspec": {
   "display_name": "Python 3",
   "language": "python",
   "name": "python3"
  },
  "language_info": {
   "codemirror_mode": {
    "name": "ipython",
    "version": 3
   },
   "file_extension": ".py",
   "mimetype": "text/x-python",
   "name": "python",
   "nbconvert_exporter": "python",
   "pygments_lexer": "ipython3",
   "version": "3.7.0"
  }
 },
 "nbformat": 4,
 "nbformat_minor": 2
}
