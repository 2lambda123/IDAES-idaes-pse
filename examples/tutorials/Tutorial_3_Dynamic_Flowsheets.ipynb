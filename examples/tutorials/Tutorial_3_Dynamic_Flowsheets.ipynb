{
 "cells": [
  {
   "cell_type": "markdown",
   "metadata": {},
   "source": [
    "Tutorial 3 - Dynamic Flowsheets\n",
    "=============================\n",
    "\n",
    "Introduction\n",
    "------------\n",
    "\n",
    "The previous tutorials have looked at developing flowsheets for steady-state processes, however it is often important to study how a process behaves under transient conditions. This tutorial will demonstrate how to create a model for a dynamic process using the IDAES modleing framework.\n",
    "\n",
    "For this tutorial, we will use a similar process to the previous tutorials, using two CSTRs to perform a simple chemicl reaction. However, for this tutorial we will add a second feed stream and a mixer unit before hte first reactor, to represent the mixing of two reactant streams as shown below.\n",
    "\n",
    "<img src=\"mix_2cstrs.png\">\n",
    "\n",
    "<center>ethyl acetate + NaOH $\\rightarrow$ sodium acetate + ethanol</center>\n",
    "\n",
    "In this tutorial, you will learn how to:\n",
    "\n",
    "* stup a dynamic flowsheet and define the time domain\n",
    "* add additonal variables and constraints to a Unit Model\n",
    "* transform a time domain to automatically populate the time domain and define derivative terms\n",
    "* set initial conditions for a dynamic model\n",
    "* initialize and solve a dynamic model\n",
    "* introduce a step change to the model\n",
    "* plot profiles of key variables as a function of time\n",
    "\n",
    "Importing Libraries\n",
    "----------------------------\n",
    "\n",
    "As before, the first step in creating our model is to import the necessary components from Python, Pyomo and IDAES. FThe componets we will require are discussed below.\n",
    "\n",
    "Firstly, we need all the components from Pyomo that we have used in the previous tutorials (`ConcreteModel`, `SolverFactory` and  `TransformationFactory` from `pyomo.environ` and `Arc` from `pyomo.network`). In addition to this, we are going to the need the `Constraint` and `Var` components from `pyomo.environ` in order to add additonal variables and constraints to our model.\n",
    "\n",
    "Import these components below:"
   ]
  },
  {
   "cell_type": "code",
   "execution_count": 1,
   "metadata": {},
   "outputs": [],
   "source": [
    "from pyomo.environ import (ConcreteModel, SolverFactory, TransformationFactory,\n",
    "                           Var, Constraint)\n",
    "from pyomo.network import Arc"
   ]
  },
  {
   "cell_type": "markdown",
   "metadata": {},
   "source": [
    "Next, we will need the IDAES compoennts we have used in the previous tutorials:\n",
    "\n",
    "`FlowsheetBlock` from `idaes.core`, \n",
    "`idaes.property_models.examples.saponification_thermo`\n",
    "`idaes.property_models.examples.saponification_reactions`\n",
    "`CSTR` from `idaes.unit_models`\n",
    "\n",
    "We will alson need the `Mixer` model from the IDAES unit model library (`idaes.unit_models`)\n",
    "\n",
    "Import these components below:"
   ]
  },
  {
   "cell_type": "code",
   "execution_count": 2,
   "metadata": {},
   "outputs": [],
   "source": [
    "from idaes.core import FlowsheetBlock\n",
    "\n",
    "import idaes.property_models.examples.saponification_thermo as thermo_props\n",
    "import idaes.property_models.examples.saponification_reactions as \\\n",
    "    reaction_props\n",
    "\n",
    "from idaes.unit_models import CSTR, Mixer"
   ]
  },
  {
   "cell_type": "markdown",
   "metadata": {},
   "source": [
    "Finally, we are going to need a tool for plotting our results. For this tutorial, we will use the `pyplot` tool in `matplotlib` (part of most scientific Python distributions), which we will import as `plt` for convenience.\n",
    "\n",
    "If you do not have `matplotlib` installed in your Python distribution, see you Python package manager for details on how to install it.\n",
    "\n",
    "The code to import `pyplot` is given below."
   ]
  },
  {
   "cell_type": "code",
   "execution_count": 3,
   "metadata": {},
   "outputs": [],
   "source": [
    "import matplotlib.pyplot as plt"
   ]
  },
  {
   "cell_type": "markdown",
   "metadata": {},
   "source": [
    "Creating Our Model\n",
    "-----------------------------\n",
    "\n",
    "Now that we have imported all the tools we will need, we can begin constructing our model. As before, the first step is to create a `ConcreteModel` to hold our flowhseet."
   ]
  },
  {
   "cell_type": "code",
   "execution_count": 4,
   "metadata": {},
   "outputs": [],
   "source": [
    "m = ConcreteModel()"
   ]
  },
  {
   "cell_type": "markdown",
   "metadata": {},
   "source": [
    "Next, we add a `FlowsheetBlock` to our model. In previous tutorials, we have set the `dynamic` argument to be `False`, indicating a steady-state flowsheet. In this case however, we wish to create a dynamic flowsheet, so we set this argumnet to `True`.\n",
    "\n",
    "Additionally, for a dynamic model, we need to provide some information about the time domain for our model. At a minimum, we need to set the start and end times for our time domain, which for this case will be 0 and 8 seconds respectively. We can also specify specific time points that we wish to ensure are in our time domain, such as points where we know a step-chenge will occur. For this tutorial, we will introduce a step-change at t = 1 second later in the tutorial, so we will include this in our time domain now.\n",
    "\n",
    "Thus, we want to create a time domain that begins at t = 0, has a point at t = 1 and ends at t = 8. To do this, we use the `time_set` argument when creating our `FlowhseetBlock` and provide these values as a Python list (or equivalent) - i.e. `time_set: [0, 1, 8]` (note that the time vlaues may be integers or floating point numbers at this stage).\n",
    "\n",
    "The code to do this is shown below:"
   ]
  },
  {
   "cell_type": "code",
   "execution_count": 5,
   "metadata": {},
   "outputs": [],
   "source": [
    "m.fs = FlowsheetBlock(default={\"dynamic\": True, \"time_set\": [0, 1, 8]})"
   ]
  },
  {
   "cell_type": "markdown",
   "metadata": {},
   "source": [
    "To see what happened in this set, let us `display` the time domain of our flowhseet."
   ]
  },
  {
   "cell_type": "code",
   "execution_count": 6,
   "metadata": {},
   "outputs": [
    {
     "name": "stdout",
     "output_type": "stream",
     "text": [
      "time : Dim=0, Dimen=1, Size=3, Domain=None, Ordered=Sorted, Bounds=(0.0, 8.0)\n",
      "    [0.0, 1.0, 8.0]\n"
     ]
    }
   ],
   "source": [
    "m.fs.time.display()"
   ]
  },
  {
   "cell_type": "markdown",
   "metadata": {},
   "source": [
    "We should see the following:\n",
    "\n",
    "```\n",
    "time : Dim=0, Dimen=1, Size=3, Domain=None, Ordered=Sorted, Bounds=(0.0, 8.0)\n",
    "    [0.0, 1.0, 8.0]\n",
    "```\n",
    "\n",
    "This shows us that our `time` domain is a sorted Pyomo `Set` (`Ordered=Sorted`) with points at 0.0, 1.0 and 8.0 and bounds of 0.0 and 8.0. This is waht we would expect, as we told the `FlowsheetBlock` to create a time domain with these points.\n",
    "\n",
    "The fact that the `Set` is sorted is important, as indicates the points in the `Set` are in order, allowing us to find the next and previous points if required."
   ]
  },
  {
   "cell_type": "code",
   "execution_count": null,
   "metadata": {},
   "outputs": [],
   "source": [
    "m.fs.thermo_params = thermo_props.SaponificationParameterBlock()\n",
    "m.fs.reaction_params = reaction_props.SaponificationReactionParameterBlock(\n",
    "    default={\"property_package\": m.fs.thermo_params})"
   ]
  },
  {
   "cell_type": "code",
   "execution_count": null,
   "metadata": {},
   "outputs": [],
   "source": [
    "m.fs.mix = Mixer(default={\"dynamic\": False,\n",
    "                          \"property_package\": m.fs.thermo_params})"
   ]
  },
  {
   "cell_type": "code",
   "execution_count": null,
   "metadata": {},
   "outputs": [],
   "source": [
    "m.fs.Tank1 = CSTR(default={\"property_package\": m.fs.thermo_params,\n",
    "                           \"reaction_package\": m.fs.reaction_params,\n",
    "                           \"has_holdup\": True,\n",
    "                           \"has_equilibrium_reactions\": False,\n",
    "                           \"has_heat_transfer\": True,\n",
    "                           \"has_pressure_change\": False,\n",
    "                           \"dynamic\": False})\n",
    "m.fs.Tank2 = CSTR(default={\"property_package\": m.fs.thermo_params,\n",
    "                           \"reaction_package\": m.fs.reaction_params,\n",
    "                           \"has_holdup\": True,\n",
    "                           \"has_equilibrium_reactions\": False,\n",
    "                           \"has_heat_transfer\": True,\n",
    "                           \"has_pressure_change\": False})"
   ]
  },
  {
   "cell_type": "code",
   "execution_count": null,
   "metadata": {},
   "outputs": [],
   "source": [
    "m.fs.Tank1.height = Var(m.fs.time,\n",
    "                        initialize=1.0,\n",
    "                        doc=\"Depth of fluid in tank [m]\")\n",
    "m.fs.Tank1.area = Var(initialize=1.0,\n",
    "                      doc=\"Cross-sectional area of tank [m^2]\")\n",
    "m.fs.Tank1.flow_coeff = Var(m.fs.time,\n",
    "                            initialize=5e-5,\n",
    "                            doc=\"Tank outlet flow coefficient\")"
   ]
  },
  {
   "cell_type": "code",
   "execution_count": null,
   "metadata": {},
   "outputs": [],
   "source": [
    "def geometry(b, t):\n",
    "    return b.volume[t] == b.area*b.height[t]\n",
    "m.fs.Tank1.geometry = Constraint(m.fs.time, rule=geometry)"
   ]
  },
  {
   "cell_type": "code",
   "execution_count": null,
   "metadata": {},
   "outputs": [],
   "source": [
    "def outlet_flowrate(b, t):\n",
    "    return b.control_volume.properties_out[t].flow_vol == b.flow_coeff[t]*b.height[t]\n",
    "m.fs.Tank1.outlet_flowrate = Constraint(m.fs.time, rule=outlet_flowrate)"
   ]
  },
  {
   "cell_type": "code",
   "execution_count": null,
   "metadata": {},
   "outputs": [],
   "source": [
    "m.fs.Tank2.height = Var(m.fs.time,\n",
    "                        initialize=1.0,\n",
    "                        doc=\"Depth of fluid in tank [m]\")\n",
    "m.fs.Tank2.area = Var(initialize=1.0,\n",
    "                      doc=\"Cross-sectional area of tank [m^2]\")\n",
    "m.fs.Tank2.flow_coeff = Var(m.fs.time,\n",
    "                            initialize=5e-5,\n",
    "                            doc=\"Tank outlet flow coefficient\")\n",
    "\n",
    "m.fs.Tank2.geometry = Constraint(m.fs.time, rule=geometry)\n",
    "m.fs.Tank2.outlet_flowrate = Constraint(m.fs.time, rule=outlet_flowrate)"
   ]
  },
  {
   "cell_type": "code",
   "execution_count": null,
   "metadata": {},
   "outputs": [],
   "source": [
    "m.fs.stream1 = Arc(source=m.fs.mix.outlet, destination=m.fs.Tank1.inlet)\n",
    "m.fs.stream2 = Arc(source=m.fs.Tank1.outlet, destination=m.fs.Tank2.inlet)"
   ]
  },
  {
   "cell_type": "code",
   "execution_count": null,
   "metadata": {},
   "outputs": [],
   "source": [
    "m.discretizer = TransformationFactory('dae.finite_difference')\n",
    "m.discretizer.apply_to(m,\n",
    "                       nfe=200,\n",
    "                       wrt=m.fs.time,\n",
    "                       scheme=\"BACKWARD\")"
   ]
  },
  {
   "cell_type": "code",
   "execution_count": null,
   "metadata": {},
   "outputs": [],
   "source": [
    "TransformationFactory(\"network.expand_arcs\").apply_to(m)"
   ]
  },
  {
   "cell_type": "code",
   "execution_count": null,
   "metadata": {},
   "outputs": [],
   "source": [
    "m.fs.mix.inlet_1.flow_vol.fix(0.5)\n",
    "m.fs.mix.inlet_1.conc_mol_comp[:, \"H2O\"].fix(55388.0)\n",
    "m.fs.mix.inlet_1.conc_mol_comp[:, \"NaOH\"].fix(100.0)\n",
    "m.fs.mix.inlet_1.conc_mol_comp[:, \"EthylAcetate\"].fix(0.0)\n",
    "m.fs.mix.inlet_1.conc_mol_comp[:, \"SodiumAcetate\"].fix(0.0)\n",
    "m.fs.mix.inlet_1.conc_mol_comp[:, \"Ethanol\"].fix(0.0)\n",
    "m.fs.mix.inlet_1.temperature.fix(303.15)\n",
    "m.fs.mix.inlet_1.pressure.fix(101325.0)\n",
    "\n",
    "m.fs.mix.inlet_2.flow_vol.fix(0.5)\n",
    "m.fs.mix.inlet_2.conc_mol_comp[:, \"H2O\"].fix(55388.0)\n",
    "m.fs.mix.inlet_2.conc_mol_comp[:, \"NaOH\"].fix(0.0)\n",
    "m.fs.mix.inlet_2.conc_mol_comp[:, \"EthylAcetate\"].fix(100.0)\n",
    "m.fs.mix.inlet_2.conc_mol_comp[:, \"SodiumAcetate\"].fix(0.0)\n",
    "m.fs.mix.inlet_2.conc_mol_comp[:, \"Ethanol\"].fix(0.0)\n",
    "m.fs.mix.inlet_2.temperature.fix(303.15)\n",
    "m.fs.mix.inlet_2.pressure.fix(101325.0)"
   ]
  },
  {
   "cell_type": "code",
   "execution_count": null,
   "metadata": {},
   "outputs": [],
   "source": [
    "m.fs.Tank1.area.fix(1.0)\n",
    "m.fs.Tank1.flow_coeff.fix(0.5)\n",
    "m.fs.Tank1.heat_duty.fix(0.0)\n",
    "\n",
    "m.fs.Tank2.area.fix(1.0)\n",
    "m.fs.Tank2.flow_coeff.fix(0.5)\n",
    "m.fs.Tank2.heat_duty.fix(0.0)"
   ]
  },
  {
   "cell_type": "code",
   "execution_count": null,
   "metadata": {},
   "outputs": [],
   "source": [
    "m.fs.fix_initial_conditions()"
   ]
  },
  {
   "cell_type": "code",
   "execution_count": null,
   "metadata": {},
   "outputs": [],
   "source": [
    "m.fs.mix.initialize()"
   ]
  },
  {
   "cell_type": "code",
   "execution_count": null,
   "metadata": {},
   "outputs": [],
   "source": [
    "m.fs.Tank1.initialize(state_args={\n",
    "            \"flow_vol\": m.fs.mix.outlet.flow_vol[0].value,\n",
    "            \"conc_mol_comp\": {\"H2O\": m.fs.mix.outlet.conc_mol_comp[0, \"H2O\"].value,\n",
    "                              \"NaOH\": m.fs.mix.outlet.conc_mol_comp[0, \"NaOH\"].value,\n",
    "                              \"EthylAcetate\": m.fs.mix.outlet.conc_mol_comp[0, \"EthylAcetate\"].value,\n",
    "                              \"SodiumAcetate\": m.fs.mix.outlet.conc_mol_comp[0, \"SodiumAcetate\"].value,\n",
    "                              \"Ethanol\": m.fs.mix.outlet.conc_mol_comp[0, \"Ethanol\"].value},\n",
    "            \"temperature\": m.fs.mix.outlet.temperature[0].value,\n",
    "            \"pressure\": m.fs.mix.outlet.pressure[0].value})"
   ]
  },
  {
   "cell_type": "code",
   "execution_count": null,
   "metadata": {},
   "outputs": [],
   "source": [
    "m.fs.Tank2.initialize(state_args={\n",
    "            \"flow_vol\": m.fs.Tank1.outlet.flow_vol[0].value,\n",
    "            \"conc_mol_comp\": {\"H2O\": m.fs.Tank1.outlet.conc_mol_comp[0, \"H2O\"].value,\n",
    "                              \"NaOH\": m.fs.Tank1.outlet.conc_mol_comp[0, \"NaOH\"].value,\n",
    "                              \"EthylAcetate\": m.fs.Tank1.outlet.conc_mol_comp[0, \"EthylAcetate\"].value,\n",
    "                              \"SodiumAcetate\": m.fs.Tank1.outlet.conc_mol_comp[0, \"SodiumAcetate\"].value,\n",
    "                              \"Ethanol\": m.fs.Tank1.outlet.conc_mol_comp[0, \"Ethanol\"].value},\n",
    "            \"temperature\": m.fs.Tank1.outlet.temperature[0].value,\n",
    "            \"pressure\": m.fs.Tank1.outlet.pressure[0].value})"
   ]
  },
  {
   "cell_type": "code",
   "execution_count": null,
   "metadata": {},
   "outputs": [],
   "source": [
    "solver = SolverFactory('ipopt')\n",
    "results = solver.solve(m.fs)"
   ]
  },
  {
   "cell_type": "code",
   "execution_count": null,
   "metadata": {},
   "outputs": [],
   "source": [
    "for t in m.fs.time:\n",
    "    if t > 1.0:\n",
    "        m.fs.mix.inlet_2.conc_mol_comp[t, \"EthylAcetate\"].fix(90.0)\n",
    "results = solver.solve(m.fs)"
   ]
  },
  {
   "cell_type": "code",
   "execution_count": null,
   "metadata": {},
   "outputs": [],
   "source": [
    "print(results)"
   ]
  },
  {
   "cell_type": "code",
   "execution_count": null,
   "metadata": {},
   "outputs": [],
   "source": [
    "plt.figure(\"Tank 1 Outlet\")\n",
    "plt.plot(m.fs.time,\n",
    "         list(m.fs.Tank1.outlet.conc_mol_comp[:, \"NaOH\"].value),\n",
    "         label='NaOH')\n",
    "plt.plot(m.fs.time,\n",
    "         list(m.fs.Tank1.outlet.conc_mol_comp[:, \"EthylAcetate\"].value),\n",
    "         label='EthylAcetate')\n",
    "plt.plot(m.fs.time,\n",
    "         list(m.fs.Tank1.outlet.conc_mol_comp[:, \"SodiumAcetate\"].value),\n",
    "         label='SodiumAcetate')\n",
    "plt.plot(m.fs.time,\n",
    "         list(m.fs.Tank1.outlet.conc_mol_comp[:, \"NaOH\"].value),\n",
    "         label='Ethanol')\n",
    "plt.legend()\n",
    "plt.grid()\n",
    "plt.xlabel(\"Time [s]\")\n",
    "plt.ylabel(\"Concentration [mol/m^3]\")"
   ]
  },
  {
   "cell_type": "code",
   "execution_count": null,
   "metadata": {},
   "outputs": [],
   "source": [
    "plt.figure(\"Tank 2 Outlet\")\n",
    "plt.plot(m.fs.time,\n",
    "         list(m.fs.Tank2.outlet.conc_mol_comp[:, \"NaOH\"].value),\n",
    "         label='NaOH')\n",
    "plt.plot(m.fs.time,\n",
    "         list(m.fs.Tank2.outlet.conc_mol_comp[:, \"EthylAcetate\"].value),\n",
    "         label='EthylAcetate')\n",
    "plt.plot(m.fs.time,\n",
    "         list(m.fs.Tank2.outlet.conc_mol_comp[:, \"SodiumAcetate\"].value),\n",
    "         label='SodiumAcetate')\n",
    "plt.plot(m.fs.time,\n",
    "         list(m.fs.Tank2.outlet.conc_mol_comp[:, \"NaOH\"].value),\n",
    "         label='Ethanol')\n",
    "plt.legend()\n",
    "plt.grid()\n",
    "plt.xlabel(\"Time [s]\")\n",
    "plt.ylabel(\"Concentration [mol/m^3]\")"
   ]
  },
  {
   "cell_type": "code",
   "execution_count": null,
   "metadata": {},
   "outputs": [],
   "source": []
  }
 ],
 "metadata": {
  "kernelspec": {
   "display_name": "Python 3",
   "language": "python",
   "name": "python3"
  },
  "language_info": {
   "codemirror_mode": {
    "name": "ipython",
    "version": 3
   },
   "file_extension": ".py",
   "mimetype": "text/x-python",
   "name": "python",
   "nbconvert_exporter": "python",
   "pygments_lexer": "ipython3",
   "version": "3.6.8"
  }
 },
 "nbformat": 4,
 "nbformat_minor": 2
}
