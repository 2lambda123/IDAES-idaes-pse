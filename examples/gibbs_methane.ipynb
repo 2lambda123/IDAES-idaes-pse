{
 "cells": [
  {
   "cell_type": "markdown",
   "metadata": {},
   "source": [
    "# Gibbs Reactor\n",
    "Construct a simple *flowsheet* with a single unit model, which will be a Gibbs reactor and an ideal gas property package.\n",
    "\n",
    "**Author:** Andrew Lee <andrew.lee@netl.doe.gov>\n",
    "\n",
    "Conversion to Jupyter Notebook: Dan Gunter <dkgunter@lbl.gov>"
   ]
  },
  {
   "cell_type": "markdown",
   "metadata": {},
   "source": [
    "## 1. Setup"
   ]
  },
  {
   "cell_type": "markdown",
   "metadata": {},
   "source": [
    "### Load the Solver\n",
    "In order to determine the output of the model, a \"solver\" is needed. Pyomo provides a convenient interface to choose the solver dynamically without rewriting the later code which uses it. Here we load the freely available Interior Point Optimizer (IPOPT) solver (see https://projects.coin-or.org/Ipopt). This solver can solver certain classes of non-linear problems, and like all solvers is better for some problems than others.\n",
    "\n",
    "*Note: Installation of IPOPT should have occurred as part of the installation of the IDAES software. If this next cell prints out an error message, then you need to check that you are running this Jupyter notebook in the right environment and/or revisit your installation steps.*"
   ]
  },
  {
   "cell_type": "code",
   "execution_count": null,
   "metadata": {},
   "outputs": [],
   "source": [
    "from pyomo.environ import SolverFactory\n",
    "\n",
    "if SolverFactory('ipopt').available():\n",
    "    solver = SolverFactory('ipopt')\n",
    "    solver.options = {'tol': 1e-6,\n",
    "                      'mu_init': 1e-8,\n",
    "                      'bound_push': 1e-8}\n",
    "    print('IPOPT solver found')\n",
    "else:\n",
    "    solver = None\n",
    "    print('Error: IPOPT not found: Cannot solve the system!')"
   ]
  },
  {
   "cell_type": "markdown",
   "metadata": {},
   "source": [
    "### Initialize the DMF\n",
    "The IDAES Data Management Frameork, or DMF, is the place you can load/store models and results. For the purposes of this example its main use will be conveniently locating the documentation for objects and classes. The command below creates a new \"workspace\" in the current directory, where settings and data can be accessed."
   ]
  },
  {
   "cell_type": "code",
   "execution_count": null,
   "metadata": {},
   "outputs": [],
   "source": [
    "from idaes.dmf import magics\n",
    "%dmf init . create\n",
    "# Ignore warnings about \"Using existing path\"\n",
    "# Turn down IDAES logging to minimal levels:\n",
    "import logging; logging.getLogger('idaes.dmf').setLevel(logging.WARNING)"
   ]
  },
  {
   "cell_type": "code",
   "execution_count": null,
   "metadata": {},
   "outputs": [],
   "source": [
    "from idaes.ui.report import degrees_of_freedom"
   ]
  },
  {
   "cell_type": "markdown",
   "metadata": {},
   "source": [
    "## 2. Build the model\n",
    "Now it is time to build our IDAES model. Underneath, this is really a Pyomo model, so some of the operations use Pyomo modules and classes."
   ]
  },
  {
   "cell_type": "markdown",
   "metadata": {},
   "source": [
    "Create a *concrete* Pyomo model, which will be initialized with data values instead of abstract symbols. You can read more about concrete vs. abstract models [here](https://software.sandia.gov/downloads/pub/coopr/CooprGettingStarted.html#_abstract_versus_concrete_models)."
   ]
  },
  {
   "cell_type": "code",
   "execution_count": null,
   "metadata": {},
   "outputs": [],
   "source": [
    "from pyomo.environ import ConcreteModel\n",
    "m = ConcreteModel()"
   ]
  },
  {
   "cell_type": "markdown",
   "metadata": {},
   "source": [
    "### Initialize the flowsheet\n",
    "The IDAES *flowsheet* is the top-level container for all the models and their connections. The class you use for a flowsheet is called `FlowsheetBlock`. Below, we import this class from the `core` module in the idaes package. Then we use the `%dmf help` magic to jump over to the documentation of the class for more information."
   ]
  },
  {
   "cell_type": "code",
   "execution_count": null,
   "metadata": {},
   "outputs": [],
   "source": [
    "from idaes.core import FlowsheetBlock\n",
    "%dmf help FlowsheetBlock  # pops up a new window with the Sphinx docs"
   ]
  },
  {
   "cell_type": "markdown",
   "metadata": {},
   "source": [
    "Next, we create an empty IDAES flowsheet. The `\"dynamic\": False` setting means that this will be a steady-state model. We add the flowsheet to the concrete model by assigning it to the `.fs` attribute of the model."
   ]
  },
  {
   "cell_type": "code",
   "execution_count": null,
   "metadata": {},
   "outputs": [],
   "source": [
    "m.fs = FlowsheetBlock(default={\"dynamic\": False})"
   ]
  },
  {
   "cell_type": "markdown",
   "metadata": {},
   "source": [
    "### Add a property package to the flowsheet\n",
    "The first thing we add to the flowsheet is a property package, which represents the physical properties associated with the reactor. The available property packages\n",
    "are in the `idaes.property_models` subpackage. You can use the DMF help magic to look at the package and its subpackages."
   ]
  },
  {
   "cell_type": "code",
   "execution_count": null,
   "metadata": {},
   "outputs": [],
   "source": [
    "import idaes.property_models\n",
    "%dmf help idaes.property_models"
   ]
  },
  {
   "cell_type": "markdown",
   "metadata": {},
   "source": [
    "Now we will import the actual property package we need. In property packages, the main class that you will use is called `MethaneCombustionParameterBlock`. An instance of this class is assigned to the `.properties` attribute in the IDAES flowsheet."
   ]
  },
  {
   "cell_type": "code",
   "execution_count": null,
   "metadata": {},
   "outputs": [],
   "source": [
    "from idaes.property_models.methane_combustion_ideal import MethaneCombustionParameterBlock\n",
    "\n",
    "m.fs.properties = MethaneCombustionParameterBlock()"
   ]
  },
  {
   "cell_type": "markdown",
   "metadata": {},
   "source": [
    "### Add Gibbs reactor unit model\n",
    "Once we have added our properties, we can add the model that represents a Gibbs minimization reactor. In IDAES this is found in the `idaes.unit_models.gibbs_reactor` module under the class named `GibbsReactor`. Although we have already added the properties to the flowsheet, we must remember to also tell the reactor model to use these properties. We also add a parameter that tells the model that terms for heat transfer should be constructed. "
   ]
  },
  {
   "cell_type": "code",
   "execution_count": null,
   "metadata": {},
   "outputs": [],
   "source": [
    "from idaes.unit_models.gibbs_reactor import GibbsReactor\n",
    "m.fs.gibbs = GibbsReactor(default={\"property_package\": m.fs.properties,\n",
    "                                   \"has_heat_transfer\": True})"
   ]
  },
  {
   "cell_type": "markdown",
   "metadata": {},
   "source": [
    "### Admire your handiwork\n",
    "You have now constructed a very simple flowsheet containing a Gibbs reactor model and associated property data. Although extremely simple, we have a complete IDAES model ready to solve. Congratulations! You can look at all the initial settings by invoking the `.display()` method on the Gibbs reactor model."
   ]
  },
  {
   "cell_type": "code",
   "execution_count": null,
   "metadata": {},
   "outputs": [],
   "source": [
    "m.fs.gibbs.display()"
   ]
  },
  {
   "cell_type": "markdown",
   "metadata": {},
   "source": [
    "## 3. Solve the model\n",
    "We will now proceed to solve this simple model in two ways:\n",
    "* for a target (fixed) outlet temperature (degrees C)\n",
    "* for a target (fixed) heat duty (W)"
   ]
  },
  {
   "cell_type": "markdown",
   "metadata": {},
   "source": [
    "In either case, we will first set the inlet flow parameters to fixed rates, as well as set the inlet temperature. Note that all these are operations on the Gibbs reactor model, in the flowsheet attached to our concrete Pyomo model, which is notated `m.fs.gibbs`. The flow rates are set for all the inlets by using the notation `inlet`, and then selecting the component at a given point in time and adding `.fix(<VALUE>)` to set the value."
   ]
  },
  {
   "cell_type": "code",
   "execution_count": null,
   "metadata": {},
   "outputs": [],
   "source": [
    "m.fs.gibbs.inlet.flow_mol_comp[0, \"H2\"].fix(10.0)\n",
    "m.fs.gibbs.inlet.flow_mol_comp[0, \"N2\"].fix(150.0)\n",
    "m.fs.gibbs.inlet.flow_mol_comp[0, \"O2\"].fix(40.0)\n",
    "m.fs.gibbs.inlet.flow_mol_comp[0, \"CO2\"].fix(1e-5)\n",
    "m.fs.gibbs.inlet.flow_mol_comp[0, \"CH4\"].fix(30.0)\n",
    "m.fs.gibbs.inlet.flow_mol_comp[0, \"CO\"].fix(1e-5)\n",
    "m.fs.gibbs.inlet.flow_mol_comp[0, \"H2O\"].fix(1e-5)\n",
    "m.fs.gibbs.inlet.flow_mol_comp[0, \"NH3\"].fix(1e-5)"
   ]
  },
  {
   "cell_type": "markdown",
   "metadata": {},
   "source": [
    "Next we set the inlet temperature(s) and pressure(s) to constant values."
   ]
  },
  {
   "cell_type": "code",
   "execution_count": null,
   "metadata": {},
   "outputs": [],
   "source": [
    "m.fs.gibbs.inlet.temperature.fix(1500.0)\n",
    "m.fs.gibbs.inlet.pressure.fix(101325.0)"
   ]
  },
  {
   "cell_type": "markdown",
   "metadata": {},
   "source": [
    "### Solve for given outlet temperature\n",
    "Finally, for the first type of optimization, we fix the outlet temperature."
   ]
  },
  {
   "cell_type": "code",
   "execution_count": null,
   "metadata": {},
   "outputs": [],
   "source": [
    "m.fs.gibbs.outlet.temperature.fix(2844.38)"
   ]
  },
  {
   "cell_type": "markdown",
   "metadata": {},
   "source": [
    "We can check that we have specified all the required constraints by checking that there are zero degrees of freedom in the model. This can be done most simply by using a convenience function defined in the `idaes.ui.report` module."
   ]
  },
  {
   "cell_type": "code",
   "execution_count": null,
   "metadata": {},
   "outputs": [],
   "source": [
    "from idaes.ui.report import degrees_of_freedom\n",
    "def check_dof(m):\n",
    "    dof = degrees_of_freedom(m)\n",
    "    if dof == 0:\n",
    "        print('Model has zero degrees of freedom. Good to go!')\n",
    "    else:\n",
    "        print('Error: Model has {:d} degrees of freedom!'.format(dof))\n",
    "check_dof(m)"
   ]
  },
  {
   "cell_type": "markdown",
   "metadata": {},
   "source": [
    "Now that the system is set up, we simply calculate the equilibrium state with the `.initialize()` method. This invokes the Ipopt solver, which produces a fair amount of output. Since, in the case of this simple model, the equilibrium state *is* the final solution of the system, this is the only run of the solver that needs to be performed."
   ]
  },
  {
   "cell_type": "code",
   "execution_count": null,
   "metadata": {},
   "outputs": [],
   "source": [
    "m.fs.gibbs.initialize(outlvl=5,\n",
    "                      optarg={'tol': 1e-6},\n",
    "                      state_args={'temperature': 2844.38,\n",
    "                                  'pressure': 101325.0,\n",
    "                                  'flow_mol_comp': {'CH4': 1e-5,\n",
    "                                                    'CO': 23.0,\n",
    "                                                    'CO2': 7.05,\n",
    "                                                    'H2': 29.0,\n",
    "                                                    'H2O': 41.0,\n",
    "                                                    'N2': 150.0,\n",
    "                                                    'NH3': 1e-5,\n",
    "                                                    'O2': 1.0}})"
   ]
  },
  {
   "cell_type": "markdown",
   "metadata": {},
   "source": [
    "### Solve for a given heat duty\n",
    "We can now repeat the steps above to create an identical model that we solve for a given (fixed) heat duty, instead of temperature."
   ]
  },
  {
   "cell_type": "code",
   "execution_count": null,
   "metadata": {},
   "outputs": [],
   "source": [
    "m.fs.gibbs.outlet[:].temperature.unfix()\n",
    "m.fs.gibbs.heat_duty[:].fix(161882.303661)\n",
    "check_dof(m)"
   ]
  },
  {
   "cell_type": "code",
   "execution_count": null,
   "metadata": {},
   "outputs": [],
   "source": [
    "# instead: solver.solve(model)\n",
    "m.fs.gibbs.initialize(outlvl=5,\n",
    "                      optarg={'tol': 1e-6},\n",
    "                      state_args={'temperature': 2844.38,\n",
    "                                  'pressure': 101325.0,\n",
    "                                  'flow_mol_comp': {'CH4': 1e-5,\n",
    "                                                    'CO': 23.0,\n",
    "                                                    'CO2': 7.05,\n",
    "                                                    'H2': 29.0,\n",
    "                                                    'H2O': 41.0,\n",
    "                                                    'N2': 150.0,\n",
    "                                                    'NH3': 1e-5,\n",
    "                                                    'O2': 1.0}})"
   ]
  },
  {
   "cell_type": "markdown",
   "metadata": {},
   "source": [
    "## Fin.\n",
    "This is the end of this example. If you have questions or comments, please contact the IDAES team. See the [website](https://idaes.org/) for more information."
   ]
  },
  {
   "cell_type": "code",
   "execution_count": null,
   "metadata": {},
   "outputs": [],
   "source": []
  }
 ],
 "metadata": {
  "kernelspec": {
   "display_name": "Python 3",
   "language": "python",
   "name": "python3"
  },
  "language_info": {
   "codemirror_mode": {
    "name": "ipython",
    "version": 3
   },
   "file_extension": ".py",
   "mimetype": "text/x-python",
   "name": "python",
   "nbconvert_exporter": "python",
   "pygments_lexer": "ipython3",
   "version": "3.6.8"
  }
 },
 "nbformat": 4,
 "nbformat_minor": 2
}
