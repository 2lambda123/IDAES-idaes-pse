{
 "cells": [
  {
   "cell_type": "markdown",
   "metadata": {},
   "source": [
    "# Gibbs Solver\n",
    "Tests for ControlVolumeBase.\n",
    "\n",
    "Author: Andrew Lee\n",
    "\n",
    "Conversion to Jupyter Notebook: Dan Gunter"
   ]
  },
  {
   "cell_type": "markdown",
   "metadata": {},
   "source": [
    "## 1. Setup"
   ]
  },
  {
   "cell_type": "markdown",
   "metadata": {},
   "source": [
    "### Load the Solver\n",
    "In order to determine the output of the model, a \"solver\" is needed. Pyomo provides a convenient interface to choose the solver dynamically without rewriting the later code which uses it. Here we load the freely available Interior Point Optimizer (IPOPT) solver (see https://projects.coin-or.org/Ipopt). This solver can solver certain classes of non-linear problems, and like all solvers is better for some problems than others.\n",
    "\n",
    "*Note: Installation of IPOPT should have occurred as part of the installation of the IDAES software. If this next cell prints out an error message, then you need to check that you are running this Jupyter notebook in the right environment and/or revisit your installation steps.*"
   ]
  },
  {
   "cell_type": "code",
   "execution_count": 1,
   "metadata": {},
   "outputs": [
    {
     "name": "stdout",
     "output_type": "stream",
     "text": [
      "IPOPT solver found\n"
     ]
    }
   ],
   "source": [
    "from pyomo.environ import SolverFactory\n",
    "\n",
    "if SolverFactory('ipopt').available():\n",
    "    solver = SolverFactory('ipopt')\n",
    "    solver.options = {'tol': 1e-6,\n",
    "                      'mu_init': 1e-8,\n",
    "                      'bound_push': 1e-8}\n",
    "    print('IPOPT solver found')\n",
    "else:\n",
    "    solver = None\n",
    "    print('Error: IPOPT not found: Cannot solve the system!')"
   ]
  },
  {
   "cell_type": "markdown",
   "metadata": {},
   "source": [
    "### Initialize the DMF\n",
    "The IDAES Data Management Frameork, or DMF, is the place you can load/store models and results. For the purposes of this example its main use will be conveniently locating the documentation for objects and classes. The command below creates a new \"workspace\" in the current directory, where settings and data can be accessed."
   ]
  },
  {
   "cell_type": "code",
   "execution_count": 2,
   "metadata": {},
   "outputs": [
    {
     "data": {
      "text/markdown": [
       "Cannot create new configuration at \".\": file \"config.yaml\" exists. Will try without \"create\" option"
      ]
     },
     "metadata": {},
     "output_type": "display_data"
    },
    {
     "data": {
      "text/markdown": [
       "*Success!* Using workspace at \".\""
      ]
     },
     "metadata": {},
     "output_type": "display_data"
    }
   ],
   "source": [
    "from idaes.dmf import magics\n",
    "%dmf init . create\n",
    "# Ignore warnings about \"Using existing path\"\n",
    "# Turn down IDAES logging to minimal levels:\n",
    "import logging; logging.getLogger('idaes.dmf').setLevel(logging.WARNING)"
   ]
  },
  {
   "cell_type": "code",
   "execution_count": 3,
   "metadata": {},
   "outputs": [],
   "source": [
    "from idaes.ui.report import degrees_of_freedom"
   ]
  },
  {
   "cell_type": "markdown",
   "metadata": {},
   "source": [
    "## 2. Build the model\n",
    "Now it is time to build our IDAES model. Underneath, this is really a Pyomo model, so some of the operations use Pyomo modules and classes."
   ]
  },
  {
   "cell_type": "markdown",
   "metadata": {},
   "source": [
    "Create a *concrete* Pyomo model, which will be initialized with data values instead of abstract symbols. You can read more about concrete vs. abstract models [here](https://software.sandia.gov/downloads/pub/coopr/CooprGettingStarted.html#_abstract_versus_concrete_models)."
   ]
  },
  {
   "cell_type": "code",
   "execution_count": 4,
   "metadata": {},
   "outputs": [],
   "source": [
    "from pyomo.environ import ConcreteModel\n",
    "m = ConcreteModel()"
   ]
  },
  {
   "cell_type": "markdown",
   "metadata": {},
   "source": [
    "### Initialize the flowsheet\n",
    "The IDAES *flowsheet* is the top-level container for all the models and their connections. The class you use for a flowsheet is called `FlowsheetBlock`. Below, we import this class from the `core` module in the idaes package. Then we use the `%dmf help` magic to jump over to the documentation of the class for more information."
   ]
  },
  {
   "cell_type": "code",
   "execution_count": 5,
   "metadata": {},
   "outputs": [],
   "source": [
    "from idaes.core import FlowsheetBlock\n",
    "%dmf help FlowsheetBlock"
   ]
  },
  {
   "cell_type": "markdown",
   "metadata": {},
   "source": [
    "Next, we create an empty IDAES flowsheet. The `\"dynamic\": False` setting means that this will be a steady-state model. We add the flowsheet to the concrete model by assigning it to the `.fs` attribute of the model."
   ]
  },
  {
   "cell_type": "code",
   "execution_count": 6,
   "metadata": {},
   "outputs": [],
   "source": [
    "m.fs = FlowsheetBlock(default={\"dynamic\": False})"
   ]
  },
  {
   "cell_type": "markdown",
   "metadata": {},
   "source": [
    "### Add a property package to the flowsheet\n",
    "The first thing we add to the flowsheet is a property package, which represents the physical properties associated with the reactor. The available property packages\n",
    "are in the `idaes.property_models` subpackage. You can use the DMF help magic to look at the package and its subpackages."
   ]
  },
  {
   "cell_type": "code",
   "execution_count": 7,
   "metadata": {},
   "outputs": [],
   "source": [
    "import idaes.property_models\n",
    "%dmf help idaes.property_models"
   ]
  },
  {
   "cell_type": "markdown",
   "metadata": {},
   "source": [
    "Now we will import the actual property package we need. In property packages, the main class that you will use is called `PhysicalParameterBlock`. An instance of this class is assigned to the `.properties` attribute in the IDAES flowsheet."
   ]
  },
  {
   "cell_type": "code",
   "execution_count": 8,
   "metadata": {},
   "outputs": [],
   "source": [
    "from idaes.property_models.methane_combustion_ideal import PhysicalParameterBlock\n",
    "\n",
    "m.fs.properties = PhysicalParameterBlock()"
   ]
  },
  {
   "cell_type": "markdown",
   "metadata": {},
   "source": [
    "### Add Gibbs reactor unit model\n",
    "Once we have added our properties, we can add the model that represents a Gibbs minimization reactor. In IDAES this is found in the `idaes.unit_models.gibbs_reactor` module under the class named `GibbsReactor`. Although we have already added the properties to the flowsheet, we must remember to also tell the reactor model to use these properties. We also add a parameter that tells the model that terms for heat transfer should be constructed. "
   ]
  },
  {
   "cell_type": "code",
   "execution_count": 9,
   "metadata": {},
   "outputs": [],
   "source": [
    "from idaes.unit_models.gibbs_reactor import GibbsReactor\n",
    "m.fs.gibbs = GibbsReactor(default={\"property_package\": m.fs.properties,\n",
    "                                   \"has_heat_transfer\": True})"
   ]
  },
  {
   "cell_type": "markdown",
   "metadata": {},
   "source": [
    "### Admire your handiwork\n",
    "You have now constructed a very simple flowsheet containing a Gibbs reactor model and associated property data. Although extremely simple, we have a complete IDAES model ready to solve. Congratulations! You can look at all the initial settings by invoking the `.display()` method on the Gibbs reactor model."
   ]
  },
  {
   "cell_type": "code",
   "execution_count": 10,
   "metadata": {},
   "outputs": [
    {
     "name": "stdout",
     "output_type": "stream",
     "text": [
      "Block fs.gibbs\n",
      "\n",
      "  Variables:\n",
      "    lagrange_mult : Lagrangian multipliers\n",
      "        Size=4, Index=fs.gibbs.lagrange_mult_index\n",
      "        Key        : Lower : Value : Upper : Fixed : Stale : Domain\n",
      "        (0.0, 'C') :  None :   100 :  None : False : False :  Reals\n",
      "        (0.0, 'H') :  None :   100 :  None : False : False :  Reals\n",
      "        (0.0, 'N') :  None :   100 :  None : False : False :  Reals\n",
      "        (0.0, 'O') :  None :   100 :  None : False : False :  Reals\n",
      "\n",
      "  Objectives:\n",
      "    None\n",
      "\n",
      "  Constraints:\n",
      "    gibbs_minimization : Size=8\n",
      "        Key                 : Lower : Body  : Upper\n",
      "        (0.0, 'Vap', 'CH4') :   0.0 : 500.0 :   0.0\n",
      "         (0.0, 'Vap', 'CO') :   0.0 : 200.0 :   0.0\n",
      "        (0.0, 'Vap', 'CO2') :   0.0 : 300.0 :   0.0\n",
      "         (0.0, 'Vap', 'H2') :   0.0 : 200.0 :   0.0\n",
      "        (0.0, 'Vap', 'H2O') :   0.0 : 300.0 :   0.0\n",
      "         (0.0, 'Vap', 'N2') :   0.0 : 200.0 :   0.0\n",
      "        (0.0, 'Vap', 'NH3') :   0.0 : 400.0 :   0.0\n",
      "         (0.0, 'Vap', 'O2') :   0.0 : 200.0 :   0.0\n",
      "\n",
      "  Blocks:\n",
      "    Block fs.gibbs.control_volume\n",
      "    \n",
      "      Variables:\n",
      "        heat : Heat transfered in unit [J/s]\n",
      "            Size=1, Index=fs.time\n",
      "            Key : Lower : Value : Upper : Fixed : Stale : Domain\n",
      "            0.0 :  None :   0.0 :  None : False : False :  Reals\n",
      "    \n",
      "      Objectives:\n",
      "        None\n",
      "    \n",
      "      Constraints:\n",
      "        element_balances : Size=4\n",
      "            Key        : Lower : Body : Upper\n",
      "            (0.0, 'C') :   0.0 :  0.0 :   0.0\n",
      "            (0.0, 'H') :   0.0 :  0.0 :   0.0\n",
      "            (0.0, 'N') :   0.0 :  0.0 :   0.0\n",
      "            (0.0, 'O') :   0.0 :  0.0 :   0.0\n",
      "        enthalpy_balances : Size=1\n",
      "            Key : Lower : Body : Upper\n",
      "            0.0 :   0.0 :  0.0 :   0.0\n",
      "        pressure_balance : Size=1\n",
      "            Key : Lower : Body : Upper\n",
      "            0.0 :   0.0 :  0.0 :   0.0\n",
      "    \n",
      "      Blocks:\n",
      "        Block fs.gibbs.control_volume.properties_in[0.0]\n",
      "        \n",
      "          Variables:\n",
      "            flow_mol_comp : Component molar flowrate [mol/s]\n",
      "                Size=8, Index=fs.properties.component_list\n",
      "                Key : Lower : Value : Upper : Fixed : Stale : Domain\n",
      "                CH4 :  None :   1.0 :  None : False : False :  Reals\n",
      "                 CO :  None :   1.0 :  None : False : False :  Reals\n",
      "                CO2 :  None :   1.0 :  None : False : False :  Reals\n",
      "                 H2 :  None :   1.0 :  None : False : False :  Reals\n",
      "                H2O :  None :   1.0 :  None : False : False :  Reals\n",
      "                 N2 :  None :   1.0 :  None : False : False :  Reals\n",
      "                NH3 :  None :   1.0 :  None : False : False :  Reals\n",
      "                 O2 :  None :   1.0 :  None : False : False :  Reals\n",
      "            pressure : State pressure [Pa]\n",
      "                Size=1, Index=None\n",
      "                Key  : Lower  : Value    : Upper     : Fixed : Stale : Domain\n",
      "                None : 1000.0 : 101325.0 : 1000000.0 : False : False :  Reals\n",
      "            temperature : State temperature [K]\n",
      "                Size=1, Index=None\n",
      "                Key  : Lower : Value : Upper : Fixed : Stale : Domain\n",
      "                None :  1450 :  1500 :  3000 : False : False :  Reals\n",
      "            mole_frac : State component mole fractions [-]\n",
      "                Size=8, Index=fs.properties.component_list\n",
      "                Key : Lower : Value : Upper : Fixed : Stale : Domain\n",
      "                CH4 :  None :   0.0 :  None : False : False :  Reals\n",
      "                 CO :  None :   0.0 :  None : False : False :  Reals\n",
      "                CO2 :  None :   0.0 :  None : False : False :  Reals\n",
      "                 H2 :  None :   0.0 :  None : False : False :  Reals\n",
      "                H2O :  None :   0.0 :  None : False : False :  Reals\n",
      "                 N2 :  None :   0.0 :  None : False : False :  Reals\n",
      "                NH3 :  None :   0.0 :  None : False : False :  Reals\n",
      "                 O2 :  None :   0.0 :  None : False : False :  Reals\n",
      "            flow_mol : Total mixture molar flowrate [mol/s]\n",
      "                Size=1, Index=None\n",
      "                Key  : Lower : Value : Upper : Fixed : Stale : Domain\n",
      "                None :  None :   1.0 :  None : False : False :  Reals\n",
      "            enth_mol : Mixture specific enthalpy [J/mol]\n",
      "                Size=1, Index=None\n",
      "                Key  : Lower : Value : Upper : Fixed : Stale : Domain\n",
      "                None :  None :   0.0 :  None : False : False :  Reals\n",
      "            enth_mol_phase_comp : Pure component enthalpies [J/mol]\n",
      "                Size=8, Index=fs.gibbs.control_volume.properties_in[0.0].enth_mol_phase_comp_index\n",
      "                Key            : Lower : Value : Upper : Fixed : Stale : Domain\n",
      "                ('Vap', 'CH4') :  None :   1.0 :  None : False : False :  Reals\n",
      "                 ('Vap', 'CO') :  None :   1.0 :  None : False : False :  Reals\n",
      "                ('Vap', 'CO2') :  None :   1.0 :  None : False : False :  Reals\n",
      "                 ('Vap', 'H2') :  None :   1.0 :  None : False : False :  Reals\n",
      "                ('Vap', 'H2O') :  None :   1.0 :  None : False : False :  Reals\n",
      "                 ('Vap', 'N2') :  None :   1.0 :  None : False : False :  Reals\n",
      "                ('Vap', 'NH3') :  None :   1.0 :  None : False : False :  Reals\n",
      "                 ('Vap', 'O2') :  None :   1.0 :  None : False : False :  Reals\n",
      "        \n",
      "          Objectives:\n",
      "            None\n",
      "        \n",
      "          Constraints:\n",
      "            mole_frac_constraint : Size=8\n",
      "                Key : Lower : Body : Upper\n",
      "                CH4 :   0.0 :  1.0 :   0.0\n",
      "                 CO :   0.0 :  1.0 :   0.0\n",
      "                CO2 :   0.0 :  1.0 :   0.0\n",
      "                 H2 :   0.0 :  1.0 :   0.0\n",
      "                H2O :   0.0 :  1.0 :   0.0\n",
      "                 N2 :   0.0 :  1.0 :   0.0\n",
      "                NH3 :   0.0 :  1.0 :   0.0\n",
      "                 O2 :   0.0 :  1.0 :   0.0\n",
      "            total_flow_eqn : Size=1\n",
      "                Key  : Lower : Body : Upper\n",
      "                None :   0.0 : -7.0 :   0.0\n",
      "            enthalpy_shomate_eqn : Size=8\n",
      "                Key : Lower : Body               : Upper\n",
      "                CH4 :   0.0 :  74601.00211458332 :   0.0\n",
      "                 CO :   0.0 :    110530.99503125 :   0.0\n",
      "                CO2 :   0.0 :  393520.9996041667 :   0.0\n",
      "                 H2 :   0.0 : 0.9974062500041327 :   0.0\n",
      "                H2O :   0.0 :  241812.8743489583 :   0.0\n",
      "                 N2 :   0.0 : 0.9987500000061118 :   0.0\n",
      "                NH3 :   0.0 :  45900.99638020834 :   0.0\n",
      "                 O2 :   0.0 : 1.0031510416592937 :   0.0\n",
      "            mixture_enthalpy_eqn : Size=1\n",
      "                Key  : Lower : Body : Upper\n",
      "                None :   0.0 :  0.0 :   0.0\n",
      "        Block fs.gibbs.control_volume.properties_out[0.0]\n",
      "        \n",
      "          Variables:\n",
      "            flow_mol_comp : Component molar flowrate [mol/s]\n",
      "                Size=8, Index=fs.properties.component_list\n",
      "                Key : Lower : Value : Upper : Fixed : Stale : Domain\n",
      "                CH4 :  None :   1.0 :  None : False : False :  Reals\n",
      "                 CO :  None :   1.0 :  None : False : False :  Reals\n",
      "                CO2 :  None :   1.0 :  None : False : False :  Reals\n",
      "                 H2 :  None :   1.0 :  None : False : False :  Reals\n",
      "                H2O :  None :   1.0 :  None : False : False :  Reals\n",
      "                 N2 :  None :   1.0 :  None : False : False :  Reals\n",
      "                NH3 :  None :   1.0 :  None : False : False :  Reals\n",
      "                 O2 :  None :   1.0 :  None : False : False :  Reals\n",
      "            pressure : State pressure [Pa]\n",
      "                Size=1, Index=None\n",
      "                Key  : Lower  : Value    : Upper     : Fixed : Stale : Domain\n",
      "                None : 1000.0 : 101325.0 : 1000000.0 : False : False :  Reals\n",
      "            temperature : State temperature [K]\n",
      "                Size=1, Index=None\n",
      "                Key  : Lower : Value : Upper : Fixed : Stale : Domain\n",
      "                None :  1450 :  1500 :  3000 : False : False :  Reals\n",
      "            mole_frac : State component mole fractions [-]\n",
      "                Size=8, Index=fs.properties.component_list\n",
      "                Key : Lower : Value : Upper : Fixed : Stale : Domain\n",
      "                CH4 :  None :   0.0 :  None : False : False :  Reals\n",
      "                 CO :  None :   0.0 :  None : False : False :  Reals\n",
      "                CO2 :  None :   0.0 :  None : False : False :  Reals\n",
      "                 H2 :  None :   0.0 :  None : False : False :  Reals\n",
      "                H2O :  None :   0.0 :  None : False : False :  Reals\n",
      "                 N2 :  None :   0.0 :  None : False : False :  Reals\n",
      "                NH3 :  None :   0.0 :  None : False : False :  Reals\n",
      "                 O2 :  None :   0.0 :  None : False : False :  Reals\n",
      "            flow_mol : Total mixture molar flowrate [mol/s]\n",
      "                Size=1, Index=None\n",
      "                Key  : Lower : Value : Upper : Fixed : Stale : Domain\n",
      "                None :  None :   1.0 :  None : False : False :  Reals\n",
      "            enth_mol : Mixture specific enthalpy [J/mol]\n",
      "                Size=1, Index=None\n",
      "                Key  : Lower : Value : Upper : Fixed : Stale : Domain\n",
      "                None :  None :   0.0 :  None : False : False :  Reals\n",
      "            enth_mol_phase_comp : Pure component enthalpies [J/mol]\n",
      "                Size=8, Index=fs.gibbs.control_volume.properties_out[0.0].enth_mol_phase_comp_index\n",
      "                Key            : Lower : Value : Upper : Fixed : Stale : Domain\n",
      "                ('Vap', 'CH4') :  None :   1.0 :  None : False : False :  Reals\n",
      "                 ('Vap', 'CO') :  None :   1.0 :  None : False : False :  Reals\n",
      "                ('Vap', 'CO2') :  None :   1.0 :  None : False : False :  Reals\n",
      "                 ('Vap', 'H2') :  None :   1.0 :  None : False : False :  Reals\n",
      "                ('Vap', 'H2O') :  None :   1.0 :  None : False : False :  Reals\n",
      "                 ('Vap', 'N2') :  None :   1.0 :  None : False : False :  Reals\n",
      "                ('Vap', 'NH3') :  None :   1.0 :  None : False : False :  Reals\n",
      "                 ('Vap', 'O2') :  None :   1.0 :  None : False : False :  Reals\n",
      "            gibbs_mol_phase_comp : Partial component Gibbs free energy [J/mol]\n",
      "                Size=8, Index=fs.gibbs.control_volume.properties_out[0.0].gibbs_mol_phase_comp_index\n",
      "                Key            : Lower : Value : Upper : Fixed : Stale : Domain\n",
      "                ('Vap', 'CH4') :  None :   0.0 :  None : False : False :  Reals\n",
      "                 ('Vap', 'CO') :  None :   0.0 :  None : False : False :  Reals\n",
      "                ('Vap', 'CO2') :  None :   0.0 :  None : False : False :  Reals\n",
      "                 ('Vap', 'H2') :  None :   0.0 :  None : False : False :  Reals\n",
      "                ('Vap', 'H2O') :  None :   0.0 :  None : False : False :  Reals\n",
      "                 ('Vap', 'N2') :  None :   0.0 :  None : False : False :  Reals\n",
      "                ('Vap', 'NH3') :  None :   0.0 :  None : False : False :  Reals\n",
      "                 ('Vap', 'O2') :  None :   0.0 :  None : False : False :  Reals\n",
      "            entr_mol_phase_comp : Partial component entropies [J/mol.K]\n",
      "                Size=8, Index=fs.gibbs.control_volume.properties_out[0.0].entr_mol_phase_comp_index\n",
      "                Key            : Lower : Value : Upper : Fixed : Stale : Domain\n",
      "                ('Vap', 'CH4') :  None :   1.0 :  None : False : False :  Reals\n",
      "                 ('Vap', 'CO') :  None :   1.0 :  None : False : False :  Reals\n",
      "                ('Vap', 'CO2') :  None :   1.0 :  None : False : False :  Reals\n",
      "                 ('Vap', 'H2') :  None :   1.0 :  None : False : False :  Reals\n",
      "                ('Vap', 'H2O') :  None :   1.0 :  None : False : False :  Reals\n",
      "                 ('Vap', 'N2') :  None :   1.0 :  None : False : False :  Reals\n",
      "                ('Vap', 'NH3') :  None :   1.0 :  None : False : False :  Reals\n",
      "                 ('Vap', 'O2') :  None :   1.0 :  None : False : False :  Reals\n",
      "        \n",
      "          Objectives:\n",
      "            None\n",
      "        \n",
      "          Constraints:\n",
      "            mole_frac_constraint : Size=8\n",
      "                Key : Lower : Body : Upper\n",
      "                CH4 :   0.0 :  1.0 :   0.0\n",
      "                 CO :   0.0 :  1.0 :   0.0\n",
      "                CO2 :   0.0 :  1.0 :   0.0\n",
      "                 H2 :   0.0 :  1.0 :   0.0\n",
      "                H2O :   0.0 :  1.0 :   0.0\n",
      "                 N2 :   0.0 :  1.0 :   0.0\n",
      "                NH3 :   0.0 :  1.0 :   0.0\n",
      "                 O2 :   0.0 :  1.0 :   0.0\n",
      "            total_flow_eqn : Size=1\n",
      "                Key  : Lower : Body : Upper\n",
      "                None :   0.0 : -7.0 :   0.0\n",
      "            enthalpy_shomate_eqn : Size=8\n",
      "                Key : Lower : Body               : Upper\n",
      "                CH4 :   0.0 :  74601.00211458332 :   0.0\n",
      "                 CO :   0.0 :    110530.99503125 :   0.0\n",
      "                CO2 :   0.0 :  393520.9996041667 :   0.0\n",
      "                 H2 :   0.0 : 0.9974062500041327 :   0.0\n",
      "                H2O :   0.0 :  241812.8743489583 :   0.0\n",
      "                 N2 :   0.0 : 0.9987500000061118 :   0.0\n",
      "                NH3 :   0.0 :  45900.99638020834 :   0.0\n",
      "                 O2 :   0.0 : 1.0031510416592937 :   0.0\n",
      "            mixture_enthalpy_eqn : Size=1\n",
      "                Key  : Lower : Body : Upper\n",
      "                None :   0.0 :  0.0 :   0.0\n",
      "            partial_gibbs_energy_eqn : Size=8\n",
      "                Key : Lower : Body   : Upper\n",
      "                CH4 :   0.0 : 1499.0 :   0.0\n",
      "                 CO :   0.0 : 1499.0 :   0.0\n",
      "                CO2 :   0.0 : 1499.0 :   0.0\n",
      "                 H2 :   0.0 : 1499.0 :   0.0\n",
      "                H2O :   0.0 : 1499.0 :   0.0\n",
      "                 N2 :   0.0 : 1499.0 :   0.0\n",
      "                NH3 :   0.0 : 1499.0 :   0.0\n",
      "                 O2 :   0.0 : 1499.0 :   0.0\n",
      "            entropy_shomate_eqn : Size=8\n",
      "                Key : Lower : Body : Upper\n",
      "                CH4 :  None : None :  None\n",
      "                 CO :  None : None :  None\n",
      "                CO2 :  None : None :  None\n",
      "                 H2 :  None : None :  None\n",
      "                H2O :  None : None :  None\n",
      "                 N2 :  None : None :  None\n",
      "                NH3 :  None : None :  None\n",
      "                 O2 :  None : None :  None\n"
     ]
    }
   ],
   "source": [
    "m.fs.gibbs.display()"
   ]
  },
  {
   "cell_type": "markdown",
   "metadata": {},
   "source": [
    "## 3. Solve the model\n",
    "We will now proceed to solve this simple model in two ways:\n",
    "* for a target (fixed) outlet temperature (degrees C)\n",
    "* for a target (fixed) heat duty (W)"
   ]
  },
  {
   "cell_type": "markdown",
   "metadata": {},
   "source": [
    "In either case, we will first set the inlet flow parameters to fixed rates, as well as set the inlet temperature. Note that all these are operations on the Gibbs reactor model, in the flowsheet attached to our concrete Pyomo model, which is notated `m.fs.gibbs`. The flow rates are set for all the inlets by using the notation `inlet[:]` to include the entire list, and then selecting the component and adding `.fix(<VALUE>)` to set the value."
   ]
  },
  {
   "cell_type": "code",
   "execution_count": 11,
   "metadata": {},
   "outputs": [
    {
     "data": {
      "text/plain": [
       "[None]"
      ]
     },
     "execution_count": 11,
     "metadata": {},
     "output_type": "execute_result"
    }
   ],
   "source": [
    "m.fs.gibbs.inlet[:].flow_mol_comp[\"H2\"].fix(10.0)\n",
    "m.fs.gibbs.inlet[:].flow_mol_comp[\"N2\"].fix(150.0)\n",
    "m.fs.gibbs.inlet[:].flow_mol_comp[\"O2\"].fix(40.0)\n",
    "m.fs.gibbs.inlet[:].flow_mol_comp[\"CO2\"].fix(1e-5)\n",
    "m.fs.gibbs.inlet[:].flow_mol_comp[\"CH4\"].fix(30.0)\n",
    "m.fs.gibbs.inlet[:].flow_mol_comp[\"CO\"].fix(1e-5)\n",
    "m.fs.gibbs.inlet[:].flow_mol_comp[\"H2O\"].fix(1e-5)\n",
    "m.fs.gibbs.inlet[:].flow_mol_comp[\"NH3\"].fix(1e-5)"
   ]
  },
  {
   "cell_type": "markdown",
   "metadata": {},
   "source": [
    "Next we set the inlet temperature(s) and pressure(s) to constant values."
   ]
  },
  {
   "cell_type": "code",
   "execution_count": 12,
   "metadata": {},
   "outputs": [
    {
     "data": {
      "text/plain": [
       "[None]"
      ]
     },
     "execution_count": 12,
     "metadata": {},
     "output_type": "execute_result"
    }
   ],
   "source": [
    "m.fs.gibbs.inlet[:].temperature.fix(1500.0)\n",
    "m.fs.gibbs.inlet[:].pressure.fix(101325.0)"
   ]
  },
  {
   "cell_type": "markdown",
   "metadata": {},
   "source": [
    "### Solve for given outlet temperature\n",
    "Finally, for the first type of optimization, we fix the outlet temperature."
   ]
  },
  {
   "cell_type": "code",
   "execution_count": 13,
   "metadata": {},
   "outputs": [
    {
     "data": {
      "text/plain": [
       "[None]"
      ]
     },
     "execution_count": 13,
     "metadata": {},
     "output_type": "execute_result"
    }
   ],
   "source": [
    "m.fs.gibbs.outlet[:].temperature.fix(2844.38)"
   ]
  },
  {
   "cell_type": "markdown",
   "metadata": {},
   "source": [
    "We can check that we have specified all the required constraints by checking that there are zero degrees of freedom in the model. This can be done most simply by using a convenience function defined in the `idaes.ui.report` module."
   ]
  },
  {
   "cell_type": "code",
   "execution_count": 14,
   "metadata": {},
   "outputs": [
    {
     "name": "stdout",
     "output_type": "stream",
     "text": [
      "Model has zero degrees of freedom. Good to go!\n"
     ]
    }
   ],
   "source": [
    "from idaes.ui.report import degrees_of_freedom\n",
    "def check_dof(m):\n",
    "    dof = degrees_of_freedom(m)\n",
    "    if dof == 0:\n",
    "        print('Model has zero degrees of freedom. Good to go!')\n",
    "    else:\n",
    "        print('Error: Model has {:d} degrees of freedom!'.format(dof))\n",
    "check_dof(m)"
   ]
  },
  {
   "cell_type": "markdown",
   "metadata": {},
   "source": [
    "Now that the system is set up, we simply calculate the equilibrium state with the `.initialize()` method. This invokes the Ipopt solver, which produces a fair amount of output. Since, in the case of this simple model, the equilibrium state *is* the final solution of the system, this is the only run of the solver that needs to be performed."
   ]
  },
  {
   "cell_type": "code",
   "execution_count": 15,
   "metadata": {},
   "outputs": [
    {
     "name": "stderr",
     "output_type": "stream",
     "text": [
      "/home/dang/miniconda3/envs/idaes-pub3/bin/ipopt: Relink `/home/dang/miniconda3/envs/idaes-pub3/bin/../lib/./libgfortran.so.3' with `/lib/x86_64-linux-gnu/librt.so.1' for IFUNC symbol `clock_gettime'\n"
     ]
    },
    {
     "name": "stdout",
     "output_type": "stream",
     "text": [
      "Ipopt 3.12.12: tol=1e-06\n",
      "\n",
      "\n",
      "******************************************************************************\n",
      "This program contains Ipopt, a library for large-scale nonlinear optimization.\n",
      " Ipopt is released as open source code under the Eclipse Public License (EPL).\n",
      "         For more information visit http://projects.coin-or.org/Ipopt\n",
      "******************************************************************************\n",
      "\n",
      "This is Ipopt version 3.12.12, running with linear solver mumps.\n",
      "NOTE: Other linear solvers might be more efficient (see Ipopt documentation).\n",
      "\n",
      "Number of nonzeros in equality constraint Jacobian...:       34\n",
      "Number of nonzeros in inequality constraint Jacobian.:        0\n",
      "Number of nonzeros in Lagrangian Hessian.............:        8\n",
      "\n",
      "Total number of variables............................:       18\n",
      "                     variables with only lower bounds:        0\n",
      "                variables with lower and upper bounds:        0\n",
      "                     variables with only upper bounds:        0\n",
      "Total number of equality constraints.................:       18\n",
      "Total number of inequality constraints...............:        0\n",
      "        inequality constraints with only lower bounds:        0\n",
      "   inequality constraints with lower and upper bounds:        0\n",
      "        inequality constraints with only upper bounds:        0\n",
      "\n",
      "iter    objective    inf_pr   inf_du lg(mu)  ||d||  lg(rg) alpha_du alpha_pr  ls\n",
      "   0  0.0000000e+00 5.82e-11 0.00e+00  -1.0 0.00e+00    -  0.00e+00 0.00e+00   0\n",
      "\n",
      "Number of Iterations....: 0\n",
      "\n",
      "                                   (scaled)                 (unscaled)\n",
      "Objective...............:   0.0000000000000000e+00    0.0000000000000000e+00\n",
      "Dual infeasibility......:   0.0000000000000000e+00    0.0000000000000000e+00\n",
      "Constraint violation....:   5.8207660913467407e-11    5.8207660913467407e-11\n",
      "Complementarity.........:   0.0000000000000000e+00    0.0000000000000000e+00\n",
      "Overall NLP error.......:   5.8207660913467407e-11    5.8207660913467407e-11\n",
      "\n",
      "\n",
      "Number of objective function evaluations             = 1\n",
      "Number of objective gradient evaluations             = 1\n",
      "Number of equality constraint evaluations            = 1\n",
      "Number of inequality constraint evaluations          = 0\n",
      "Number of equality constraint Jacobian evaluations   = 1\n",
      "Number of inequality constraint Jacobian evaluations = 0\n",
      "Number of Lagrangian Hessian evaluations             = 0\n",
      "Total CPU secs in IPOPT (w/o function evaluations)   =      0.001\n",
      "Total CPU secs in NLP function evaluations           =      0.000\n",
      "\n",
      "EXIT: Optimal Solution Found.\n"
     ]
    },
    {
     "name": "stderr",
     "output_type": "stream",
     "text": [
      "2018-12-18 10:15:19 - INFO - idaes.property_models.methane_combustion_ideal - fs.gibbs.control_volume.properties_in Initialisation Step 1 Complete.\n",
      "2018-12-18 10:15:19 - INFO - idaes.property_models.methane_combustion_ideal - fs.gibbs.control_volume.properties_in Initialisation Complete.\n",
      "/home/dang/miniconda3/envs/idaes-pub3/bin/ipopt: Relink `/home/dang/miniconda3/envs/idaes-pub3/bin/../lib/./libgfortran.so.3' with `/lib/x86_64-linux-gnu/librt.so.1' for IFUNC symbol `clock_gettime'\n"
     ]
    },
    {
     "name": "stdout",
     "output_type": "stream",
     "text": [
      "Ipopt 3.12.12: tol=1e-06\n",
      "\n",
      "\n",
      "******************************************************************************\n",
      "This program contains Ipopt, a library for large-scale nonlinear optimization.\n",
      " Ipopt is released as open source code under the Eclipse Public License (EPL).\n",
      "         For more information visit http://projects.coin-or.org/Ipopt\n",
      "******************************************************************************\n",
      "\n",
      "This is Ipopt version 3.12.12, running with linear solver mumps.\n",
      "NOTE: Other linear solvers might be more efficient (see Ipopt documentation).\n",
      "\n",
      "Number of nonzeros in equality constraint Jacobian...:       74\n",
      "Number of nonzeros in inequality constraint Jacobian.:        0\n",
      "Number of nonzeros in Lagrangian Hessian.............:       16\n",
      "\n",
      "Total number of variables............................:       34\n",
      "                     variables with only lower bounds:        0\n",
      "                variables with lower and upper bounds:        0\n",
      "                     variables with only upper bounds:        0\n",
      "Total number of equality constraints.................:       34\n",
      "Total number of inequality constraints...............:        0\n",
      "        inequality constraints with only lower bounds:        0\n",
      "   inequality constraints with lower and upper bounds:        0\n",
      "        inequality constraints with only upper bounds:        0\n",
      "\n",
      "iter    objective    inf_pr   inf_du lg(mu)  ||d||  lg(rg) alpha_du alpha_pr  ls\n",
      "   0  0.0000000e+00 1.16e-10 0.00e+00  -1.0 0.00e+00    -  0.00e+00 0.00e+00   0\n",
      "\n",
      "Number of Iterations....: 0\n",
      "\n",
      "                                   (scaled)                 (unscaled)\n",
      "Objective...............:   0.0000000000000000e+00    0.0000000000000000e+00\n",
      "Dual infeasibility......:   0.0000000000000000e+00    0.0000000000000000e+00\n",
      "Constraint violation....:   2.9103830456733704e-11    1.1641532182693481e-10\n",
      "Complementarity.........:   0.0000000000000000e+00    0.0000000000000000e+00\n",
      "Overall NLP error.......:   2.9103830456733704e-11    1.1641532182693481e-10\n",
      "\n",
      "\n",
      "Number of objective function evaluations             = 1\n",
      "Number of objective gradient evaluations             = 1\n",
      "Number of equality constraint evaluations            = 1\n",
      "Number of inequality constraint evaluations          = 0\n",
      "Number of equality constraint Jacobian evaluations   = 1\n",
      "Number of inequality constraint Jacobian evaluations = 0\n",
      "Number of Lagrangian Hessian evaluations             = 0\n",
      "Total CPU secs in IPOPT (w/o function evaluations)   =      0.006\n",
      "Total CPU secs in NLP function evaluations           =      0.000\n",
      "\n",
      "EXIT: Optimal Solution Found.\n"
     ]
    },
    {
     "name": "stderr",
     "output_type": "stream",
     "text": [
      "2018-12-18 10:15:19 - INFO - idaes.property_models.methane_combustion_ideal - fs.gibbs.control_volume.properties_out Initialisation Step 1 Complete.\n",
      "2018-12-18 10:15:19 - INFO - idaes.property_models.methane_combustion_ideal - fs.gibbs.control_volume.properties_out Initialisation Complete.\n",
      "2018-12-18 10:15:19 - INFO - idaes.core.control_volume0d - fs.gibbs.control_volume Initialisation Complete\n",
      "2018-12-18 10:15:19 - INFO - idaes.core.unit_model - fs.gibbs Initialisation Step 1 Complete.\n",
      "/home/dang/miniconda3/envs/idaes-pub3/bin/ipopt: Relink `/home/dang/miniconda3/envs/idaes-pub3/bin/../lib/./libgfortran.so.3' with `/lib/x86_64-linux-gnu/librt.so.1' for IFUNC symbol `clock_gettime'\n"
     ]
    },
    {
     "name": "stdout",
     "output_type": "stream",
     "text": [
      "Ipopt 3.12.12: tol=1e-06\n",
      "\n",
      "\n",
      "******************************************************************************\n",
      "This program contains Ipopt, a library for large-scale nonlinear optimization.\n",
      " Ipopt is released as open source code under the Eclipse Public License (EPL).\n",
      "         For more information visit http://projects.coin-or.org/Ipopt\n",
      "******************************************************************************\n",
      "\n",
      "This is Ipopt version 3.12.12, running with linear solver mumps.\n",
      "NOTE: Other linear solvers might be more efficient (see Ipopt documentation).\n",
      "\n",
      "Number of nonzeros in equality constraint Jacobian...:      228\n",
      "Number of nonzeros in inequality constraint Jacobian.:        0\n",
      "Number of nonzeros in Lagrangian Hessian.............:       99\n",
      "\n",
      "Total number of variables............................:       66\n",
      "                     variables with only lower bounds:        0\n",
      "                variables with lower and upper bounds:        1\n",
      "                     variables with only upper bounds:        0\n",
      "Total number of equality constraints.................:       66\n",
      "Total number of inequality constraints...............:        0\n",
      "        inequality constraints with only lower bounds:        0\n",
      "   inequality constraints with lower and upper bounds:        0\n",
      "        inequality constraints with only upper bounds:        0\n",
      "\n",
      "iter    objective    inf_pr   inf_du lg(mu)  ||d||  lg(rg) alpha_du alpha_pr  ls\n",
      "   0  0.0000000e+00 1.34e+06 0.00e+00  -1.0 0.00e+00    -  0.00e+00 0.00e+00   0\n",
      "Error in an AMPL evaluation. Run with \"halt_on_ampl_error yes\" to see details.\n",
      "Warning: Cutting back alpha due to evaluation error\n",
      "Error in an AMPL evaluation. Run with \"halt_on_ampl_error yes\" to see details.\n",
      "Warning: Cutting back alpha due to evaluation error\n",
      "Error in an AMPL evaluation. Run with \"halt_on_ampl_error yes\" to see details.\n",
      "Warning: Cutting back alpha due to evaluation error\n",
      "Error in an AMPL evaluation. Run with \"halt_on_ampl_error yes\" to see details.\n",
      "Warning: Cutting back alpha due to evaluation error\n",
      "   1  0.0000000e+00 1.25e+06 8.21e-07  -1.0 4.46e+05    -  9.90e-01 6.25e-02h  5\n",
      "Error in an AMPL evaluation. Run with \"halt_on_ampl_error yes\" to see details.\n",
      "Warning: Cutting back alpha due to evaluation error\n",
      "Error in an AMPL evaluation. Run with \"halt_on_ampl_error yes\" to see details.\n",
      "Warning: Cutting back alpha due to evaluation error\n",
      "Error in an AMPL evaluation. Run with \"halt_on_ampl_error yes\" to see details.\n",
      "Warning: Cutting back alpha due to evaluation error\n",
      "Error in an AMPL evaluation. Run with \"halt_on_ampl_error yes\" to see details.\n",
      "Warning: Cutting back alpha due to evaluation error\n",
      "   2  0.0000000e+00 1.18e+06 7.78e-07  -1.0 4.18e+05    -  9.90e-01 6.25e-02h  5\n",
      "Error in an AMPL evaluation. Run with \"halt_on_ampl_error yes\" to see details.\n",
      "Warning: Cutting back alpha due to evaluation error\n",
      "Error in an AMPL evaluation. Run with \"halt_on_ampl_error yes\" to see details.\n",
      "Warning: Cutting back alpha due to evaluation error\n",
      "Error in an AMPL evaluation. Run with \"halt_on_ampl_error yes\" to see details.\n",
      "Warning: Cutting back alpha due to evaluation error\n",
      "Error in an AMPL evaluation. Run with \"halt_on_ampl_error yes\" to see details.\n",
      "Warning: Cutting back alpha due to evaluation error\n",
      "   3  0.0000000e+00 1.10e+06 7.30e-07  -1.0 3.92e+05    -  9.91e-01 6.25e-02h  5\n",
      "Error in an AMPL evaluation. Run with \"halt_on_ampl_error yes\" to see details.\n",
      "Warning: Cutting back alpha due to evaluation error\n",
      "Error in an AMPL evaluation. Run with \"halt_on_ampl_error yes\" to see details.\n",
      "Warning: Cutting back alpha due to evaluation error\n",
      "Error in an AMPL evaluation. Run with \"halt_on_ampl_error yes\" to see details.\n",
      "Warning: Cutting back alpha due to evaluation error\n",
      "Error in an AMPL evaluation. Run with \"halt_on_ampl_error yes\" to see details.\n",
      "Warning: Cutting back alpha due to evaluation error\n",
      "   4  0.0000000e+00 1.03e+06 6.84e-07  -1.0 3.67e+05    -  1.00e+00 6.25e-02h  5\n",
      "Error in an AMPL evaluation. Run with \"halt_on_ampl_error yes\" to see details.\n",
      "Warning: Cutting back alpha due to evaluation error\n",
      "Error in an AMPL evaluation. Run with \"halt_on_ampl_error yes\" to see details.\n",
      "Warning: Cutting back alpha due to evaluation error\n",
      "Error in an AMPL evaluation. Run with \"halt_on_ampl_error yes\" to see details.\n",
      "Warning: Cutting back alpha due to evaluation error\n",
      "   5  0.0000000e+00 9.04e+05 5.99e-07  -1.0 3.44e+05    -  1.00e+00 1.25e-01h  4\n",
      "Error in an AMPL evaluation. Run with \"halt_on_ampl_error yes\" to see details.\n",
      "Warning: Cutting back alpha due to evaluation error\n",
      "Error in an AMPL evaluation. Run with \"halt_on_ampl_error yes\" to see details.\n",
      "Warning: Cutting back alpha due to evaluation error\n",
      "Error in an AMPL evaluation. Run with \"halt_on_ampl_error yes\" to see details.\n",
      "Warning: Cutting back alpha due to evaluation error\n",
      "   6  0.0000000e+00 7.91e+05 5.24e-07  -1.0 3.01e+05    -  1.00e+00 1.25e-01h  4\n",
      "Error in an AMPL evaluation. Run with \"halt_on_ampl_error yes\" to see details.\n",
      "Warning: Cutting back alpha due to evaluation error\n",
      "Error in an AMPL evaluation. Run with \"halt_on_ampl_error yes\" to see details.\n",
      "Warning: Cutting back alpha due to evaluation error\n",
      "   7  0.0000000e+00 5.93e+05 3.93e-07  -1.0 2.64e+05    -  1.00e+00 2.50e-01h  3\n",
      "Error in an AMPL evaluation. Run with \"halt_on_ampl_error yes\" to see details.\n",
      "Warning: Cutting back alpha due to evaluation error\n",
      "   8  0.0000000e+00 2.97e+05 1.96e-07  -1.0 1.98e+05    -  1.00e+00 5.00e-01h  2\n",
      "   9  0.0000000e+00 4.45e-01 1.19e-22  -1.0 9.88e+04    -  1.00e+00 1.00e+00h  1\n",
      "iter    objective    inf_pr   inf_du lg(mu)  ||d||  lg(rg) alpha_du alpha_pr  ls\n",
      "  10  0.0000000e+00 1.16e-02 5.62e-23  -2.5 8.90e+02    -  1.00e+00 1.00e+00h  1\n",
      "  11  0.0000000e+00 8.04e-06 1.03e-24  -3.8 9.82e-01    -  1.00e+00 1.00e+00h  1\n",
      "\n",
      "Number of Iterations....: 11\n",
      "\n",
      "                                   (scaled)                 (unscaled)\n",
      "Objective...............:   0.0000000000000000e+00    0.0000000000000000e+00\n",
      "Dual infeasibility......:   0.0000000000000000e+00    0.0000000000000000e+00\n",
      "Constraint violation....:   8.1856377718121212e-12    8.0354666920356976e-06\n",
      "Complementarity.........:   0.0000000000000000e+00    0.0000000000000000e+00\n",
      "Overall NLP error.......:   8.1856377718121212e-12    8.0354666920356976e-06\n",
      "\n",
      "\n",
      "Number of objective function evaluations             = 12\n",
      "Number of objective gradient evaluations             = 12\n",
      "Number of equality constraint evaluations            = 37\n",
      "Number of inequality constraint evaluations          = 0\n",
      "Number of equality constraint Jacobian evaluations   = 12\n",
      "Number of inequality constraint Jacobian evaluations = 0\n",
      "Number of Lagrangian Hessian evaluations             = 11\n",
      "Total CPU secs in IPOPT (w/o function evaluations)   =      0.115\n",
      "Total CPU secs in NLP function evaluations           =      0.003\n",
      "\n",
      "EXIT: Optimal Solution Found.\n"
     ]
    },
    {
     "name": "stderr",
     "output_type": "stream",
     "text": [
      "2018-12-18 10:15:19 - INFO - idaes.core.unit_model - fs.gibbs Initialisation Step 2 Complete.\n",
      "2018-12-18 10:15:19 - INFO - idaes.property_models.methane_combustion_ideal - fs.gibbs.control_volume.properties_in State Released.\n",
      "2018-12-18 10:15:19 - INFO - idaes.core.unit_model - fs.gibbs Initialisation Complete.\n"
     ]
    }
   ],
   "source": [
    "m.fs.gibbs.initialize(outlvl=5,\n",
    "                      optarg={'tol': 1e-6},\n",
    "                      state_args={'temperature': 2844.38,\n",
    "                                  'pressure': 101325.0,\n",
    "                                  'flow_mol_comp': {'CH4': 1e-5,\n",
    "                                                    'CO': 23.0,\n",
    "                                                    'CO2': 7.05,\n",
    "                                                    'H2': 29.0,\n",
    "                                                    'H2O': 41.0,\n",
    "                                                    'N2': 150.0,\n",
    "                                                    'NH3': 1e-5,\n",
    "                                                    'O2': 1.0}})"
   ]
  },
  {
   "cell_type": "markdown",
   "metadata": {},
   "source": [
    "### Solve for a given heat duty\n",
    "We can now repeat the steps above to create an identical model that we solve for a given (fixed) heat duty, instead of temperature."
   ]
  },
  {
   "cell_type": "code",
   "execution_count": 16,
   "metadata": {},
   "outputs": [
    {
     "name": "stdout",
     "output_type": "stream",
     "text": [
      "Model has zero degrees of freedom. Good to go!\n"
     ]
    }
   ],
   "source": [
    "m.fs.gibbs.outlet[:].temperature.unfix()\n",
    "m.fs.gibbs.heat_duty[:].fix(161882.303661)\n",
    "check_dof(m)"
   ]
  },
  {
   "cell_type": "code",
   "execution_count": 17,
   "metadata": {},
   "outputs": [
    {
     "name": "stderr",
     "output_type": "stream",
     "text": [
      "/home/dang/miniconda3/envs/idaes-pub3/bin/ipopt: Relink `/home/dang/miniconda3/envs/idaes-pub3/bin/../lib/./libgfortran.so.3' with `/lib/x86_64-linux-gnu/librt.so.1' for IFUNC symbol `clock_gettime'\n"
     ]
    },
    {
     "name": "stdout",
     "output_type": "stream",
     "text": [
      "Ipopt 3.12.12: tol=1e-06\n",
      "\n",
      "\n",
      "******************************************************************************\n",
      "This program contains Ipopt, a library for large-scale nonlinear optimization.\n",
      " Ipopt is released as open source code under the Eclipse Public License (EPL).\n",
      "         For more information visit http://projects.coin-or.org/Ipopt\n",
      "******************************************************************************\n",
      "\n",
      "This is Ipopt version 3.12.12, running with linear solver mumps.\n",
      "NOTE: Other linear solvers might be more efficient (see Ipopt documentation).\n",
      "\n",
      "Number of nonzeros in equality constraint Jacobian...:       34\n",
      "Number of nonzeros in inequality constraint Jacobian.:        0\n",
      "Number of nonzeros in Lagrangian Hessian.............:        8\n",
      "\n",
      "Total number of variables............................:       18\n",
      "                     variables with only lower bounds:        0\n",
      "                variables with lower and upper bounds:        0\n",
      "                     variables with only upper bounds:        0\n",
      "Total number of equality constraints.................:       18\n",
      "Total number of inequality constraints...............:        0\n",
      "        inequality constraints with only lower bounds:        0\n",
      "   inequality constraints with lower and upper bounds:        0\n",
      "        inequality constraints with only upper bounds:        0\n",
      "\n",
      "iter    objective    inf_pr   inf_du lg(mu)  ||d||  lg(rg) alpha_du alpha_pr  ls\n",
      "   0  0.0000000e+00 5.82e-11 0.00e+00  -1.0 0.00e+00    -  0.00e+00 0.00e+00   0\n",
      "\n",
      "Number of Iterations....: 0\n",
      "\n",
      "                                   (scaled)                 (unscaled)\n",
      "Objective...............:   0.0000000000000000e+00    0.0000000000000000e+00\n",
      "Dual infeasibility......:   0.0000000000000000e+00    0.0000000000000000e+00\n",
      "Constraint violation....:   5.8207660913467407e-11    5.8207660913467407e-11\n",
      "Complementarity.........:   0.0000000000000000e+00    0.0000000000000000e+00\n",
      "Overall NLP error.......:   5.8207660913467407e-11    5.8207660913467407e-11\n",
      "\n",
      "\n",
      "Number of objective function evaluations             = 1\n",
      "Number of objective gradient evaluations             = 1\n",
      "Number of equality constraint evaluations            = 1\n",
      "Number of inequality constraint evaluations          = 0\n",
      "Number of equality constraint Jacobian evaluations   = 1\n",
      "Number of inequality constraint Jacobian evaluations = 0\n",
      "Number of Lagrangian Hessian evaluations             = 0\n",
      "Total CPU secs in IPOPT (w/o function evaluations)   =      0.004\n",
      "Total CPU secs in NLP function evaluations           =      0.000\n",
      "\n",
      "EXIT: Optimal Solution Found.\n"
     ]
    },
    {
     "name": "stderr",
     "output_type": "stream",
     "text": [
      "2018-12-18 10:15:19 - INFO - idaes.property_models.methane_combustion_ideal - fs.gibbs.control_volume.properties_in Initialisation Step 1 Complete.\n",
      "2018-12-18 10:15:19 - INFO - idaes.property_models.methane_combustion_ideal - fs.gibbs.control_volume.properties_in Initialisation Complete.\n",
      "/home/dang/miniconda3/envs/idaes-pub3/bin/ipopt: Relink `/home/dang/miniconda3/envs/idaes-pub3/bin/../lib/./libgfortran.so.3' with `/lib/x86_64-linux-gnu/librt.so.1' for IFUNC symbol `clock_gettime'\n"
     ]
    },
    {
     "name": "stdout",
     "output_type": "stream",
     "text": [
      "Ipopt 3.12.12: tol=1e-06\n",
      "\n",
      "\n",
      "******************************************************************************\n",
      "This program contains Ipopt, a library for large-scale nonlinear optimization.\n",
      " Ipopt is released as open source code under the Eclipse Public License (EPL).\n",
      "         For more information visit http://projects.coin-or.org/Ipopt\n",
      "******************************************************************************\n",
      "\n",
      "This is Ipopt version 3.12.12, running with linear solver mumps.\n",
      "NOTE: Other linear solvers might be more efficient (see Ipopt documentation).\n",
      "\n",
      "Number of nonzeros in equality constraint Jacobian...:       74\n",
      "Number of nonzeros in inequality constraint Jacobian.:        0\n",
      "Number of nonzeros in Lagrangian Hessian.............:       16\n",
      "\n",
      "Total number of variables............................:       34\n",
      "                     variables with only lower bounds:        0\n",
      "                variables with lower and upper bounds:        0\n",
      "                     variables with only upper bounds:        0\n",
      "Total number of equality constraints.................:       34\n",
      "Total number of inequality constraints...............:        0\n",
      "        inequality constraints with only lower bounds:        0\n",
      "   inequality constraints with lower and upper bounds:        0\n",
      "        inequality constraints with only upper bounds:        0\n",
      "\n",
      "iter    objective    inf_pr   inf_du lg(mu)  ||d||  lg(rg) alpha_du alpha_pr  ls\n",
      "   0  0.0000000e+00 1.16e-10 0.00e+00  -1.0 0.00e+00    -  0.00e+00 0.00e+00   0\n",
      "\n",
      "Number of Iterations....: 0\n",
      "\n",
      "                                   (scaled)                 (unscaled)\n",
      "Objective...............:   0.0000000000000000e+00    0.0000000000000000e+00\n",
      "Dual infeasibility......:   0.0000000000000000e+00    0.0000000000000000e+00\n",
      "Constraint violation....:   2.9103830456733704e-11    1.1641532182693481e-10\n",
      "Complementarity.........:   0.0000000000000000e+00    0.0000000000000000e+00\n",
      "Overall NLP error.......:   2.9103830456733704e-11    1.1641532182693481e-10\n",
      "\n",
      "\n",
      "Number of objective function evaluations             = 1\n",
      "Number of objective gradient evaluations             = 1\n",
      "Number of equality constraint evaluations            = 1\n",
      "Number of inequality constraint evaluations          = 0\n",
      "Number of equality constraint Jacobian evaluations   = 1\n",
      "Number of inequality constraint Jacobian evaluations = 0\n",
      "Number of Lagrangian Hessian evaluations             = 0\n",
      "Total CPU secs in IPOPT (w/o function evaluations)   =      0.007\n",
      "Total CPU secs in NLP function evaluations           =      0.000\n",
      "\n",
      "EXIT: Optimal Solution Found.\n"
     ]
    },
    {
     "name": "stderr",
     "output_type": "stream",
     "text": [
      "2018-12-18 10:15:19 - INFO - idaes.property_models.methane_combustion_ideal - fs.gibbs.control_volume.properties_out Initialisation Step 1 Complete.\n",
      "2018-12-18 10:15:19 - INFO - idaes.property_models.methane_combustion_ideal - fs.gibbs.control_volume.properties_out Initialisation Complete.\n",
      "2018-12-18 10:15:19 - INFO - idaes.core.control_volume0d - fs.gibbs.control_volume Initialisation Complete\n",
      "2018-12-18 10:15:19 - INFO - idaes.core.unit_model - fs.gibbs Initialisation Step 1 Complete.\n",
      "/home/dang/miniconda3/envs/idaes-pub3/bin/ipopt: Relink `/home/dang/miniconda3/envs/idaes-pub3/bin/../lib/./libgfortran.so.3' with `/lib/x86_64-linux-gnu/librt.so.1' for IFUNC symbol `clock_gettime'\n"
     ]
    },
    {
     "name": "stdout",
     "output_type": "stream",
     "text": [
      "Ipopt 3.12.12: tol=1e-06\n",
      "\n",
      "\n",
      "******************************************************************************\n",
      "This program contains Ipopt, a library for large-scale nonlinear optimization.\n",
      " Ipopt is released as open source code under the Eclipse Public License (EPL).\n",
      "         For more information visit http://projects.coin-or.org/Ipopt\n",
      "******************************************************************************\n",
      "\n",
      "This is Ipopt version 3.12.12, running with linear solver mumps.\n",
      "NOTE: Other linear solvers might be more efficient (see Ipopt documentation).\n",
      "\n",
      "Number of nonzeros in equality constraint Jacobian...:      251\n",
      "Number of nonzeros in inequality constraint Jacobian.:        0\n",
      "Number of nonzeros in Lagrangian Hessian.............:      108\n",
      "\n",
      "Total number of variables............................:       66\n",
      "                     variables with only lower bounds:        0\n",
      "                variables with lower and upper bounds:        2\n",
      "                     variables with only upper bounds:        0\n",
      "Total number of equality constraints.................:       66\n",
      "Total number of inequality constraints...............:        0\n",
      "        inequality constraints with only lower bounds:        0\n",
      "   inequality constraints with lower and upper bounds:        0\n",
      "        inequality constraints with only upper bounds:        0\n",
      "\n",
      "iter    objective    inf_pr   inf_du lg(mu)  ||d||  lg(rg) alpha_du alpha_pr  ls\n",
      "   0  0.0000000e+00 2.80e+05 0.00e+00  -1.0 0.00e+00    -  0.00e+00 0.00e+00   0\n",
      "Error in an AMPL evaluation. Run with \"halt_on_ampl_error yes\" to see details.\n",
      "Warning: Cutting back alpha due to evaluation error\n",
      "Error in an AMPL evaluation. Run with \"halt_on_ampl_error yes\" to see details.\n",
      "Warning: Cutting back alpha due to evaluation error\n",
      "Error in an AMPL evaluation. Run with \"halt_on_ampl_error yes\" to see details.\n",
      "Warning: Cutting back alpha due to evaluation error\n",
      "Error in an AMPL evaluation. Run with \"halt_on_ampl_error yes\" to see details.\n",
      "Warning: Cutting back alpha due to evaluation error\n",
      "   1  0.0000000e+00 2.63e+05 4.85e+00  -1.0 2.82e+05    -  9.89e-01 6.25e-02h  5\n",
      "Error in an AMPL evaluation. Run with \"halt_on_ampl_error yes\" to see details.\n",
      "Warning: Cutting back alpha due to evaluation error\n",
      "Error in an AMPL evaluation. Run with \"halt_on_ampl_error yes\" to see details.\n",
      "Warning: Cutting back alpha due to evaluation error\n",
      "Error in an AMPL evaluation. Run with \"halt_on_ampl_error yes\" to see details.\n",
      "Warning: Cutting back alpha due to evaluation error\n",
      "Error in an AMPL evaluation. Run with \"halt_on_ampl_error yes\" to see details.\n",
      "Warning: Cutting back alpha due to evaluation error\n",
      "   2  0.0000000e+00 2.47e+05 4.02e+00  -1.0 2.64e+05    -  9.90e-01 6.25e-02h  5\n",
      "Error in an AMPL evaluation. Run with \"halt_on_ampl_error yes\" to see details.\n",
      "Warning: Cutting back alpha due to evaluation error\n",
      "Error in an AMPL evaluation. Run with \"halt_on_ampl_error yes\" to see details.\n",
      "Warning: Cutting back alpha due to evaluation error\n",
      "Error in an AMPL evaluation. Run with \"halt_on_ampl_error yes\" to see details.\n",
      "Warning: Cutting back alpha due to evaluation error\n",
      "Error in an AMPL evaluation. Run with \"halt_on_ampl_error yes\" to see details.\n",
      "Warning: Cutting back alpha due to evaluation error\n",
      "   3  0.0000000e+00 2.31e+05 3.41e+00  -1.0 2.47e+05    -  9.91e-01 6.25e-02h  5\n",
      "Error in an AMPL evaluation. Run with \"halt_on_ampl_error yes\" to see details.\n",
      "Warning: Cutting back alpha due to evaluation error\n",
      "Error in an AMPL evaluation. Run with \"halt_on_ampl_error yes\" to see details.\n",
      "Warning: Cutting back alpha due to evaluation error\n",
      "Error in an AMPL evaluation. Run with \"halt_on_ampl_error yes\" to see details.\n",
      "Warning: Cutting back alpha due to evaluation error\n",
      "Error in an AMPL evaluation. Run with \"halt_on_ampl_error yes\" to see details.\n",
      "Warning: Cutting back alpha due to evaluation error\n",
      "   4  0.0000000e+00 2.17e+05 2.95e+00  -1.0 2.32e+05    -  1.00e+00 6.25e-02h  5\n",
      "Error in an AMPL evaluation. Run with \"halt_on_ampl_error yes\" to see details.\n",
      "Warning: Cutting back alpha due to evaluation error\n",
      "Error in an AMPL evaluation. Run with \"halt_on_ampl_error yes\" to see details.\n",
      "Warning: Cutting back alpha due to evaluation error\n",
      "Error in an AMPL evaluation. Run with \"halt_on_ampl_error yes\" to see details.\n",
      "Warning: Cutting back alpha due to evaluation error\n",
      "   5  0.0000000e+00 1.90e+05 1.09e+01  -1.0 2.17e+05    -  1.00e+00 1.25e-01h  4\n",
      "Error in an AMPL evaluation. Run with \"halt_on_ampl_error yes\" to see details.\n",
      "Warning: Cutting back alpha due to evaluation error\n",
      "Error in an AMPL evaluation. Run with \"halt_on_ampl_error yes\" to see details.\n",
      "Warning: Cutting back alpha due to evaluation error\n",
      "Error in an AMPL evaluation. Run with \"halt_on_ampl_error yes\" to see details.\n",
      "Warning: Cutting back alpha due to evaluation error\n",
      "   6  0.0000000e+00 1.66e+05 8.07e+00  -1.0 1.90e+05    -  1.00e+00 1.25e-01h  4\n",
      "Error in an AMPL evaluation. Run with \"halt_on_ampl_error yes\" to see details.\n",
      "Warning: Cutting back alpha due to evaluation error\n",
      "Error in an AMPL evaluation. Run with \"halt_on_ampl_error yes\" to see details.\n",
      "Warning: Cutting back alpha due to evaluation error\n",
      "   7  0.0000000e+00 1.24e+05 5.96e+00  -1.0 1.66e+05    -  1.00e+00 2.50e-01h  3\n",
      "Error in an AMPL evaluation. Run with \"halt_on_ampl_error yes\" to see details.\n",
      "Warning: Cutting back alpha due to evaluation error\n",
      "   8  0.0000000e+00 6.22e+04 5.61e+00  -1.0 1.24e+05    -  1.00e+00 5.00e-01h  2\n",
      "   9  0.0000000e+00 6.90e+00 8.36e-01  -1.0 6.20e+04    -  1.00e+00 1.00e+00h  1\n",
      "iter    objective    inf_pr   inf_du lg(mu)  ||d||  lg(rg) alpha_du alpha_pr  ls\n",
      "  10  0.0000000e+00 1.16e-02 2.03e-02  -1.7 5.54e+01    -  1.00e+00 1.00e+00h  1\n",
      "  11  0.0000000e+00 8.08e-06 9.01e-05  -3.8 4.16e-02    -  1.00e+00 1.00e+00h  1\n",
      "\n",
      "Number of Iterations....: 11\n",
      "\n",
      "                                   (scaled)                 (unscaled)\n",
      "Objective...............:   0.0000000000000000e+00    0.0000000000000000e+00\n",
      "Dual infeasibility......:   0.0000000000000000e+00    0.0000000000000000e+00\n",
      "Constraint violation....:   2.3283064365386963e-10    8.0781414624198078e-06\n",
      "Complementarity.........:   0.0000000000000000e+00    0.0000000000000000e+00\n",
      "Overall NLP error.......:   2.3283064365386963e-10    8.0781414624198078e-06\n",
      "\n",
      "\n",
      "Number of objective function evaluations             = 12\n",
      "Number of objective gradient evaluations             = 12\n",
      "Number of equality constraint evaluations            = 37\n",
      "Number of inequality constraint evaluations          = 0\n",
      "Number of equality constraint Jacobian evaluations   = 12\n",
      "Number of inequality constraint Jacobian evaluations = 0\n",
      "Number of Lagrangian Hessian evaluations             = 11\n",
      "Total CPU secs in IPOPT (w/o function evaluations)   =      0.099\n",
      "Total CPU secs in NLP function evaluations           =      0.005\n",
      "\n",
      "EXIT: Optimal Solution Found.\n"
     ]
    },
    {
     "name": "stderr",
     "output_type": "stream",
     "text": [
      "2018-12-18 10:15:19 - INFO - idaes.core.unit_model - fs.gibbs Initialisation Step 2 Complete.\n",
      "2018-12-18 10:15:19 - INFO - idaes.property_models.methane_combustion_ideal - fs.gibbs.control_volume.properties_in State Released.\n",
      "2018-12-18 10:15:19 - INFO - idaes.core.unit_model - fs.gibbs Initialisation Complete.\n"
     ]
    }
   ],
   "source": [
    "# instead: solver.solve(model)\n",
    "m.fs.gibbs.initialize(outlvl=5,\n",
    "                      optarg={'tol': 1e-6},\n",
    "                      state_args={'temperature': 2844.38,\n",
    "                                  'pressure': 101325.0,\n",
    "                                  'flow_mol_comp': {'CH4': 1e-5,\n",
    "                                                    'CO': 23.0,\n",
    "                                                    'CO2': 7.05,\n",
    "                                                    'H2': 29.0,\n",
    "                                                    'H2O': 41.0,\n",
    "                                                    'N2': 150.0,\n",
    "                                                    'NH3': 1e-5,\n",
    "                                                    'O2': 1.0}})"
   ]
  },
  {
   "cell_type": "code",
   "execution_count": null,
   "metadata": {},
   "outputs": [],
   "source": []
  }
 ],
 "metadata": {
  "kernelspec": {
   "display_name": "Python 3",
   "language": "python",
   "name": "python3"
  },
  "language_info": {
   "codemirror_mode": {
    "name": "ipython",
    "version": 3
   },
   "file_extension": ".py",
   "mimetype": "text/x-python",
   "name": "python",
   "nbconvert_exporter": "python",
   "pygments_lexer": "ipython3",
   "version": "3.7.1"
  }
 },
 "nbformat": 4,
 "nbformat_minor": 2
}
