{
 "cells": [
  {
   "cell_type": "markdown",
   "metadata": {},
   "source": [
    "# Module 1: Flash Unit\n",
    "In this module, we will familiarize ourselves with the IDAES framework by creating and working with a flowsheet that contains a single flash tank. The flash tank will be used to perform separation of Benzene and Toluene. The inlet specifications for this flash tank are:\n",
    "\n",
    "Inlet Specifications:\n",
    "* Mole fraction (Benzene) = 0.5\n",
    "* Mole fraction (Toluene) = 0.5\n",
    "* Pressure = 101325 Pa\n",
    "* Temperature = 368 K\n",
    "\n",
    "We will complete the following tasks:\n",
    "* Create the model and the IDAES Flowsheet object\n",
    "* Import the appropriate property packages\n",
    "* Create the flash unit and set the operating conditions\n",
    "* Initialize the model and simulate the system\n",
    "* Demonstrate analyses on this model through some examples and exercises\n",
    "\n",
    "## Key links to documentation\n",
    "* Main IDAES online documentation page: https://idaes-pse.readthedocs.io/en/latest/index.html\n",
    "* Core IDAES Library: https://idaes-pse.readthedocs.io/en/latest/core/index.html\n",
    "    * Flowsheet: https://idaes-pse.readthedocs.io/en/latest/core/flowsheet_model.html\n",
    "    * Property Packages: https://idaes-pse.readthedocs.io/en/latest/core/properties.html\n",
    "    * Unit Model: https://idaes-pse.readthedocs.io/en/latest/core/unit_model.html\n",
    "* Modeling Standards: https://idaes-pse.readthedocs.io/en/latest/standards.html\n",
    "    * Naming Conventions: https://idaes-pse.readthedocs.io/en/latest/standards.html#standard-naming-format\n",
    "* IDAES Unit Model Library: https://idaes-pse.readthedocs.io/en/latest/models/index.html \n",
    "\n",
    "## Create the Model and the IDAES Flowsheet\n",
    "\n",
    "In the next cell, we will perform the necessary imports to get us started. From `pyomo.environ` (a standard import for the Pyomo package), we are importing `ConcreteModel` (to create the Pyomo model that will contain the IDAES flowsheet) and `SolverFactory` (to create the object we will use to solve the equations). We will also import `Constraint` as we will be adding a constraint to the model later in the module. Lastly, we also import `value` from Pyomo. This is a function that can be used to return the current numerical value for variables and parameters in the model. These are all part of Pyomo.\n",
    "\n",
    "We will also import the main `FlowsheetBlock` from IDAES. The flowsheet block will contain our unit model.\n",
    "\n",
    "<div class=\"alert alert-block alert-info\">\n",
    "<b>Inline Exercise:</b>\n",
    "Execute the cell below to perform the imports. Let a workshop organizer know if you see any errors.\n",
    "</div>"
   ]
  },
  {
   "cell_type": "code",
   "execution_count": 1,
   "metadata": {},
   "outputs": [],
   "source": [
    "from pyomo.environ import ConcreteModel, SolverFactory, Constraint, value\n",
    "from idaes.core import FlowsheetBlock"
   ]
  },
  {
   "cell_type": "markdown",
   "metadata": {},
   "source": [
    "In the next cell, we will create the `ConcreteModel` and the `FlowsheetBlock`, and attach the flowsheet block to the Pyomo model.\n",
    "\n",
    "<div class=\"alert alert-block alert-info\">\n",
    "<b>Inline Exercise:</b>\n",
    "Execute the cell below to create the objects\n",
    "</div>"
   ]
  },
  {
   "cell_type": "code",
   "execution_count": 2,
   "metadata": {},
   "outputs": [],
   "source": [
    "m = ConcreteModel()\n",
    "m.fs = FlowsheetBlock(default={\"dynamic\": False})"
   ]
  },
  {
   "cell_type": "markdown",
   "metadata": {},
   "source": [
    "At this point, we have a single Pyomo model that contains an (almost) empty flowsheet block.\n",
    "\n",
    "<div class=\"alert alert-block alert-info\">\n",
    "<b>Inline Exercise:</b>\n",
    "Use the pprint method on the model, i.e. m.pprint(), to see what is currently contained in the model.\n",
    "</div>"
   ]
  },
  {
   "cell_type": "code",
   "execution_count": 3,
   "metadata": {},
   "outputs": [
    {
     "name": "stdout",
     "output_type": "stream",
     "text": [
      "1 Block Declarations\n",
      "    1 Set Declarations\n",
      "        time : Dim=0, Dimen=1, Size=1, Domain=None, Ordered=Insertion, Bounds=(0.0, 0.0)\n",
      "            [0.0]\n",
      "\n",
      "    1 Declarations: time\n",
      "\n",
      "1 Declarations: fs\n"
     ]
    }
   ],
   "source": [
    "# Todo: call pprint on the model\n",
    "m.pprint()"
   ]
  },
  {
   "cell_type": "markdown",
   "metadata": {},
   "source": [
    "## Define Properties\n",
    "\n",
    "We need to define the property package for our flowsheet. In this example, we have created a property package based on ideal VLE that contains the necessary components.\n",
    "\n",
    "IDAES supports creation of your own property packages that allow for specification of the fluid using any set of valid state variables (e.g., component molar flows vs overall flow and mole fractions). This flexibility is designed to support advanced modeling needs that may rely on specific formulations. As well, the IDAES team has completed some  general property packages (and is currently working on more). To learn about creating your own property package, please consult the online documentation at: https://idaes-pse.readthedocs.io/en/latest/core/properties.html and look at examples within IDAES\n",
    "\n",
    "For this workshop, we will import the BTX_idea_VLE property package and create a properties block for the flowsheet. This properties block will be passed to our unit model to define the appropriate state variables and equations for performing thermodynamic calculations.\n",
    "\n",
    "<div class=\"alert alert-block alert-info\">\n",
    "<b>Inline Exercise:</b>\n",
    "Execute the following two cells to import and create the properties block.\n",
    "</div>"
   ]
  },
  {
   "cell_type": "code",
   "execution_count": 4,
   "metadata": {},
   "outputs": [],
   "source": [
    "import BTX_ideal_VLE as ideal_props"
   ]
  },
  {
   "cell_type": "code",
   "execution_count": 5,
   "metadata": {},
   "outputs": [],
   "source": [
    "m.fs.properties = ideal_props.BTXParameterBlock()"
   ]
  },
  {
   "cell_type": "markdown",
   "metadata": {},
   "source": [
    "## Adding Flash Unit\n",
    "\n",
    "Now that we have the flowsheet and the properties defined, we can create the flash unit and add it to the flowsheet. \n",
    "\n",
    "**The Unit Model Library within IDAES includes a large set of common unit operations (see the online documentation for details: https://idaes-pse.readthedocs.io/en/latest/models/index.html**\n",
    "\n",
    "IDAES also fully supports the development of customized unit models (which we will see in a later module).\n",
    "\n",
    "Some of the IDAES pre-written unit models:\n",
    "* Mixer / Splitter\n",
    "* Heater / Cooler\n",
    "* Heat Exchangers (simple and 1D discretized)\n",
    "* Flash\n",
    "* Reactors (kinetic, equilibrium, gibbs, stoichiometric conversion)\n",
    "* Pressure changing equipment (compressors, expanders, pumps)\n",
    "* Feed and Product (source / sink) components\n",
    "\n",
    "In this module, we will import the `Flash` unit model from `idaes.unit_models` and create an instance of the flash unit, attaching it to the flowsheet. Each IDAES unit model has several configurable options to customize the model behavior, but also includes defaults for these options. In this example, we will specify that the property package to be used with the Flash is the one we created earlier.\n",
    "\n",
    "<div class=\"alert alert-block alert-info\">\n",
    "<b>Inline Exercise:</b>\n",
    "Execute the following two cells to import the Flash and create an instance of the unit model, attaching it to the flowsheet object.\n",
    "</div>"
   ]
  },
  {
   "cell_type": "code",
   "execution_count": 6,
   "metadata": {},
   "outputs": [],
   "source": [
    "from idaes.unit_models import Flash"
   ]
  },
  {
   "cell_type": "code",
   "execution_count": 7,
   "metadata": {},
   "outputs": [],
   "source": [
    "m.fs.flash = Flash(default={\"property_package\": m.fs.properties})"
   ]
  },
  {
   "cell_type": "markdown",
   "metadata": {},
   "source": [
    "At this point, we have created a flowsheet and a properties block. We have also created a flash unit and added it to the flowsheet. Under the hood, IDAES has created the required state variables and model equations. Everything is open. You can see these variables and equations by calling the Pyomo method `pprint` on the model, flowsheet, or flash tank objects. Note that this output is very exhaustive, and is not intended to provide any summary information about the model, but rather a complete picture of all of the variables and equations in the model."
   ]
  },
  {
   "cell_type": "markdown",
   "metadata": {},
   "source": [
    "## Set Operating Conditions\n",
    "\n",
    "Now that we have created our unit model, we can specify the necessary operating conditions. It is often very useful to determine the degrees of freedom before we specify any conditions.\n",
    "\n",
    "The `idaes.ui.report` package has a function `degrees_of_freedom`. To see how to use this function, we can make use of the Python function `help(func)`. This function prints the appropriate documentation string for the function.\n",
    "\n",
    "<div class=\"alert alert-block alert-info\">\n",
    "<b>Inline Exercise:</b>\n",
    "Import the degrees_of_freedom function and print the help for the function by calling the Python help function.\n",
    "</div>"
   ]
  },
  {
   "cell_type": "code",
   "execution_count": 8,
   "metadata": {},
   "outputs": [
    {
     "name": "stdout",
     "output_type": "stream",
     "text": [
      "Help on function degrees_of_freedom in module idaes.ui.report:\n",
      "\n",
      "degrees_of_freedom(blk)\n",
      "    Return the degrees of freedom.\n",
      "\n"
     ]
    }
   ],
   "source": [
    "# Todo: import the degrees_of_freedom function from the idaes.ui.report package\n",
    "from idaes.ui.report import degrees_of_freedom\n",
    "\n",
    "# Todo: Call the python help on the degrees_of_freedom function\n",
    "help(degrees_of_freedom)"
   ]
  },
  {
   "cell_type": "markdown",
   "metadata": {},
   "source": [
    "<div class=\"alert alert-block alert-info\">\n",
    "<b>Inline Exercise:</b>\n",
    "Now print the degrees of freedom for your model. The result should be 7.\n",
    "</div>"
   ]
  },
  {
   "cell_type": "code",
   "execution_count": 9,
   "metadata": {},
   "outputs": [
    {
     "name": "stdout",
     "output_type": "stream",
     "text": [
      "Degrees of Freedom = 7\n"
     ]
    }
   ],
   "source": [
    "# Todo: print the degrees of freedom for your model\n",
    "print(\"Degrees of Freedom =\", degrees_of_freedom(m))"
   ]
  },
  {
   "cell_type": "markdown",
   "metadata": {},
   "source": [
    "To satisfy our degrees of freedom, we will first specify the inlet conditions. We can specify these values through the `inlet` port of the flash unit.\n",
    "\n",
    "**To see the list of naming conventions for variables within the IDAES framework, consult the online documentation at: https://idaes-pse.readthedocs.io/en/latest/standards.html#standard-naming-format**\n",
    "\n",
    "As an  example, to fix the molar flow of the inlet to be 1.0, you can use the following notation:\n",
    "```python\n",
    "m.fs.flash.inlet.flow_mol.fix(1.0)\n",
    "```\n",
    "\n",
    "To specify variables that are indexed by components, you can use the following notation:\n",
    "```python\n",
    "m.fs.flash.inlet.mole_frac[0, \"benzene\"].fix(0.5)\n",
    "```\n",
    "\n",
    "<div class=\"alert alert-block alert-warning\">\n",
    "<b>Note:</b>\n",
    "The \"0\" in the indexing of the component mole fraction is present because IDAES models support both dynamic and steady state simulation, and the \"0\" refers to a timestep. Dynamic modeling is beyond the scope of this workshop. Since we are performing steady state modeling, there is only a single timestep in the model.\n",
    "</div>\n",
    "\n",
    "In the next cell, we will specify the inlet conditions. To satisfy the remaining degrees of freedom, we will make two additional specifications on the flash tank itself. The names of the key variables within the Flash unit model can also be found in the online documentation: https://idaes-pse.readthedocs.io/en/latest/models/flash.html#variables.\n",
    "\n",
    "\n",
    "To specify the value of a variable on the unit itself, use the following notation.\n",
    "\n",
    "```python\n",
    "m.fs.flash.heat_duty.fix(0)\n",
    "```\n",
    "\n",
    "For this module, we will use the following specifications:\n",
    "* inlet overall molar flow = 1.0 (`flow_mol`)\n",
    "* inlet temperature = 368 K (`temperature`)\n",
    "* inlet pressure = 101325 Pa (`pressure`)\n",
    "* inlet mole fraction (benzene) = 0.5 (`mole_frac[0, \"benzene\"]`)\n",
    "* inlet mole fraction (toluene) = 0.5 (`mole_frac[0, \"toluene\"]`)\n",
    "* The heat duty on the flash set to zero (`heat_duty`)\n",
    "* The pressure drop across the flash tank set to 0 (`deltaP`)\n",
    "\n",
    "<div class=\"alert alert-block alert-info\">\n",
    "<b>Inline Exercise:</b>\n",
    "Write the code below to specify the inlet conditions and unit specifications described above\n",
    "</div>"
   ]
  },
  {
   "cell_type": "code",
   "execution_count": 10,
   "metadata": {},
   "outputs": [],
   "source": [
    "# Inlet specifications given above\n",
    "m.fs.flash.inlet.flow_mol.fix(1)\n",
    "m.fs.flash.inlet.temperature.fix(368)\n",
    "m.fs.flash.inlet.pressure.fix(101325)\n",
    "m.fs.flash.inlet.mole_frac[0, \"benzene\"].fix(0.5)\n",
    "m.fs.flash.inlet.mole_frac[0, \"toluene\"].fix(0.5)\n",
    "\n",
    "# Todo: add code for the 2 flash unit specifications given above\n",
    "m.fs.flash.heat_duty.fix(0)\n",
    "m.fs.flash.deltaP.fix(0)"
   ]
  },
  {
   "cell_type": "markdown",
   "metadata": {},
   "source": [
    "<div class=\"alert alert-block alert-info\">\n",
    "<b>Inline Exercise:</b>\n",
    "Check the degrees of freedom again to ensure that the system is now square. You should see that the degrees of freedom is now 0.\n",
    "</div>"
   ]
  },
  {
   "cell_type": "code",
   "execution_count": 11,
   "metadata": {},
   "outputs": [
    {
     "name": "stdout",
     "output_type": "stream",
     "text": [
      "Degrees of Freedom = 0\n"
     ]
    }
   ],
   "source": [
    "# Todo: print the degrees of freedom for your model\n",
    "print(\"Degrees of Freedom =\", degrees_of_freedom(m))"
   ]
  },
  {
   "cell_type": "markdown",
   "metadata": {},
   "source": [
    "## Initializing the Model\n",
    "\n",
    "IDAES includes pre-written initialization routines for all unit models. You can call this initialize method on the units. In the next module, we will demonstrate the use of a sequential modular solve cycle to initialize flowsheets.\n",
    "\n",
    "<div class=\"alert alert-block alert-info\">\n",
    "<b>Inline Exercise:</b>\n",
    "Call the initialize method on the flash unit to initialize the model.\n",
    "</div>"
   ]
  },
  {
   "cell_type": "code",
   "execution_count": 12,
   "metadata": {},
   "outputs": [],
   "source": [
    "# Todo: initialize the flash unit\n",
    "m.fs.flash.initialize()"
   ]
  },
  {
   "cell_type": "markdown",
   "metadata": {},
   "source": [
    "Now that the model has been defined and intialized, we can solve the model.\n",
    "\n",
    "<div class=\"alert alert-block alert-info\">\n",
    "<b>Inline Exercise:</b>\n",
    "Using the notation described in the previous model, create an instance of the \"ipopt\" solver and use it to solve the model. Set the tee option to True to see the log output.\n",
    "</div>"
   ]
  },
  {
   "cell_type": "code",
   "execution_count": 13,
   "metadata": {},
   "outputs": [
    {
     "name": "stdout",
     "output_type": "stream",
     "text": [
      "Ipopt 3.12.12: \n",
      "\n",
      "******************************************************************************\n",
      "This program contains Ipopt, a library for large-scale nonlinear optimization.\n",
      " Ipopt is released as open source code under the Eclipse Public License (EPL).\n",
      "         For more information visit http://projects.coin-or.org/Ipopt\n",
      "******************************************************************************\n",
      "\n",
      "This is Ipopt version 3.12.12, running with linear solver mumps.\n",
      "NOTE: Other linear solvers might be more efficient (see Ipopt documentation).\n",
      "\n",
      "Number of nonzeros in equality constraint Jacobian...:      139\n",
      "Number of nonzeros in inequality constraint Jacobian.:        0\n",
      "Number of nonzeros in Lagrangian Hessian.............:       53\n",
      "\n",
      "Total number of variables............................:       43\n",
      "                     variables with only lower bounds:        3\n",
      "                variables with lower and upper bounds:       10\n",
      "                     variables with only upper bounds:        0\n",
      "Total number of equality constraints.................:       43\n",
      "Total number of inequality constraints...............:        0\n",
      "        inequality constraints with only lower bounds:        0\n",
      "   inequality constraints with lower and upper bounds:        0\n",
      "        inequality constraints with only upper bounds:        0\n",
      "\n",
      "iter    objective    inf_pr   inf_du lg(mu)  ||d||  lg(rg) alpha_du alpha_pr  ls\n",
      "   0  0.0000000e+00 7.45e-09 1.00e+00  -1.0 0.00e+00    -  0.00e+00 0.00e+00   0\n",
      "\n",
      "Number of Iterations....: 0\n",
      "\n",
      "                                   (scaled)                 (unscaled)\n",
      "Objective...............:   0.0000000000000000e+00    0.0000000000000000e+00\n",
      "Dual infeasibility......:   0.0000000000000000e+00    0.0000000000000000e+00\n",
      "Constraint violation....:   4.8319287785642854e-12    7.4505805969238281e-09\n",
      "Complementarity.........:   0.0000000000000000e+00    0.0000000000000000e+00\n",
      "Overall NLP error.......:   4.8319287785642854e-12    7.4505805969238281e-09\n",
      "\n",
      "\n",
      "Number of objective function evaluations             = 1\n",
      "Number of objective gradient evaluations             = 1\n",
      "Number of equality constraint evaluations            = 1\n",
      "Number of inequality constraint evaluations          = 0\n",
      "Number of equality constraint Jacobian evaluations   = 1\n",
      "Number of inequality constraint Jacobian evaluations = 0\n",
      "Number of Lagrangian Hessian evaluations             = 0\n",
      "Total CPU secs in IPOPT (w/o function evaluations)   =      0.008\n",
      "Total CPU secs in NLP function evaluations           =      0.000\n",
      "\n",
      "EXIT: Optimal Solution Found.\n",
      "\b"
     ]
    }
   ],
   "source": [
    "# Todo: create the ipopt solver\n",
    "solver = SolverFactory('ipopt')\n",
    "\n",
    "# Todo: solve the model\n",
    "status = solver.solve(m, tee=True)"
   ]
  },
  {
   "cell_type": "markdown",
   "metadata": {},
   "source": [
    "## Viewing the Results\n",
    "\n",
    "Once a model is solved, the values returned by the solver are loaded into the model object itself. We can access the value of any variable in the model with the `value` function. For example:\n",
    "```python\n",
    "print('Vap. Outlet Temperature = ', print(value(m.fs.flash.vap_outlet.temperature[0])))\n",
    "```\n",
    "\n",
    "You can also find more information about a variable or an entire port using the `display` method from Pyomo:\n",
    "```python\n",
    "m.fs.flash.vap_outlet.temperature.display()\n",
    "m.fs.flash.vap_outlet.display()\n",
    "```\n",
    "\n",
    "<div class=\"alert alert-block alert-info\">\n",
    "<b>Inline Exercise:</b>\n",
    "Execute the cells below to show the current value of the flash vapor outlet pressure. This cell also shows use of the display function to see the values of the variables in the vap_outlet and the liq_outlet.\n",
    "</div>"
   ]
  },
  {
   "cell_type": "code",
   "execution_count": 14,
   "metadata": {},
   "outputs": [
    {
     "name": "stdout",
     "output_type": "stream",
     "text": [
      "Pressure = 101325.0\n",
      "\n",
      "Output from display:\n",
      "vap_outlet : Size=1\n",
      "    Key  : Name        : Value\n",
      "    None :    flow_mol : {0.0: 0.3546244301390874}\n",
      "         :   mole_frac : {(0.0, 'benzene'): 0.6429364285519159, (0.0, 'toluene'): 0.35706357144808404}\n",
      "         :    pressure : {0.0: 101325.0}\n",
      "         : temperature : {0.0: 368.0}\n",
      "liq_outlet : Size=1\n",
      "    Key  : Name        : Value\n",
      "    None :    flow_mol : {0.0: 0.6453755698609127}\n",
      "         :   mole_frac : {(0.0, 'benzene'): 0.4214585244801508, (0.0, 'toluene'): 0.5785414755198491}\n",
      "         :    pressure : {0.0: 101325.0}\n",
      "         : temperature : {0.0: 368.0}\n"
     ]
    }
   ],
   "source": [
    "# Print the pressure of the flash vapor outlet\n",
    "print('Pressure =', value(m.fs.flash.vap_outlet.pressure[0]))\n",
    "\n",
    "print()\n",
    "print('Output from display:')\n",
    "# Call display on vap_outlet and liq_outlet of the flash\n",
    "m.fs.flash.vap_outlet.display()\n",
    "m.fs.flash.liq_outlet.display()"
   ]
  },
  {
   "cell_type": "markdown",
   "metadata": {},
   "source": [
    "The output from `display` is quite exhaustive and not really intended to provide quick summary information. Because Pyomo is built on Python, there are opportunities to format the output any way we like. The IDAES team is working on several potential solutions for effective viewing of model results.\n",
    "\n",
    "To help with this workshop, we created a short module called `workshoptools` that contains a few helpful functions. Here, we will import the `print_ports_summary` function from the `workshoptools` module and use it to view our results.\n",
    "\n",
    "<div class=\"alert alert-block alert-info\">\n",
    "<b>Inline Exercise:</b>\n",
    "Execute the cell below which uses the function above to print a summary of the key variables in the inlet, the vapor, and the liquid ports of the flash.  \n",
    "</div>"
   ]
  },
  {
   "cell_type": "code",
   "execution_count": 15,
   "metadata": {},
   "outputs": [
    {
     "name": "stdout",
     "output_type": "stream",
     "text": [
      "                   Variable\tfs.flash.inlet\tfs.flash.vap_outlet\tfs.flash.liq_outlet\t\n",
      "---------------------------\t--------------\t-------------------\t-------------------\t\n",
      "              flow_mol[0.0]\t      1.000000\t           0.354624\t           0.645376\t\n",
      "mole_frac[(0.0, 'benzene')]\t      0.500000\t           0.642936\t           0.421459\t\n",
      "mole_frac[(0.0, 'toluene')]\t      0.500000\t           0.357064\t           0.578541\t\n",
      "           temperature[0.0]\t    368.000000\t         368.000000\t         368.000000\t\n",
      "              pressure[0.0]\t 101325.000000\t      101325.000000\t      101325.000000\t\n"
     ]
    }
   ],
   "source": [
    "from workshoptools import print_ports_summary\n",
    "print_ports_summary([m.fs.flash.inlet, m.fs.flash.vap_outlet, m.fs.flash.liq_outlet])"
   ]
  },
  {
   "cell_type": "markdown",
   "metadata": {},
   "source": [
    "## Studying Purity as a Function of Heat Duty\n",
    "\n",
    "Since the entire modeling framework is built upon Python, it includes a complete programming environment for whatever analysis we may want to perform. In this next exercise, we will make use of what we learned in this and the previous module to generate a figure showing some output variables as a function of the heat duty in the flash tank.\n",
    "\n",
    "First, let's import the matplotlib package for plotting as we did in the previous module.\n",
    "<div class=\"alert alert-block alert-info\">\n",
    "<b>Inline Exercise:</b>\n",
    "Execute the cell below to import matplotlib appropriately.\n",
    "</div>"
   ]
  },
  {
   "cell_type": "code",
   "execution_count": 16,
   "metadata": {},
   "outputs": [],
   "source": [
    "import matplotlib.pyplot as plt"
   ]
  },
  {
   "cell_type": "markdown",
   "metadata": {},
   "source": [
    "Exercise specifications:\n",
    "* Generate a figure showing the flash tank heat duty (`m.fs.flash.heat_duty[0]`) vs. the vapor flowrate (`m.fs.flash.vap_outlet.mol_flow[0]`)\n",
    "* Specify the heat duty from -17000 to 25000 over 20 steps\n",
    "\n",
    "<div class=\"alert alert-block alert-info\">\n",
    "<b>Inline Exercise:</b>\n",
    "Using what you have learned so far, fill in the missing code below to generate the figure specified above. (Hint: import numpy and use the linspace function from the previous module)\n",
    "</div>"
   ]
  },
  {
   "cell_type": "code",
   "execution_count": 17,
   "metadata": {
    "scrolled": true
   },
   "outputs": [
    {
     "name": "stdout",
     "output_type": "stream",
     "text": [
      "Simulating with Q =  -17000.0\n",
      "... solve successful.\n",
      "Simulating with Q =  -14789.473684210527\n",
      "... solve successful.\n",
      "Simulating with Q =  -12578.947368421053\n",
      "... solve successful.\n",
      "Simulating with Q =  -10368.421052631578\n",
      "... solve successful.\n",
      "Simulating with Q =  -8157.894736842105\n",
      "... solve successful.\n",
      "Simulating with Q =  -5947.368421052632\n",
      "... solve successful.\n",
      "Simulating with Q =  -3736.8421052631566\n",
      "... solve successful.\n",
      "Simulating with Q =  -1526.3157894736833\n",
      "... solve successful.\n",
      "Simulating with Q =  684.21052631579\n",
      "... solve successful.\n",
      "Simulating with Q =  2894.7368421052633\n",
      "... solve successful.\n",
      "Simulating with Q =  5105.263157894737\n",
      "... solve successful.\n",
      "Simulating with Q =  7315.78947368421\n",
      "... solve successful.\n",
      "Simulating with Q =  9526.315789473687\n",
      "... solve successful.\n",
      "Simulating with Q =  11736.84210526316\n",
      "... solve successful.\n",
      "Simulating with Q =  13947.368421052633\n",
      "... solve successful.\n",
      "Simulating with Q =  16157.894736842107\n",
      "... solve successful.\n",
      "Simulating with Q =  18368.42105263158\n",
      "... solve successful.\n",
      "Simulating with Q =  20578.947368421053\n",
      "... solve successful.\n",
      "Simulating with Q =  22789.473684210527\n",
      "... solve successful.\n",
      "Simulating with Q =  25000.0\n",
      "... solve successful.\n"
     ]
    },
    {
     "data": {
      "image/png": "[encoded data removed]",
      "text/plain": [
       "<Figure size 432x288 with 1 Axes>"
      ]
     },
     "metadata": {
      "needs_background": "light"
     },
     "output_type": "display_data"
    }
   ],
   "source": [
    "# import the solve_successful checking function from workshop tools\n",
    "from workshoptools import solve_successful\n",
    "\n",
    "# Todo: import numpy\n",
    "import numpy as np\n",
    "\n",
    "# create the empty lists to store the results that will be plotted\n",
    "Q = []\n",
    "V = []\n",
    "\n",
    "# create the solver\n",
    "solver = SolverFactory('ipopt')\n",
    "\n",
    "# Todo: Write the for loop specification using numpy's linspace\n",
    "for duty in np.linspace(-17000, 25000, 20):\n",
    "    # fix the heat duty\n",
    "    m.fs.flash.heat_duty.fix(duty)\n",
    "    \n",
    "    # append the value of the duty to the Q list\n",
    "    Q.append(duty)\n",
    "    \n",
    "    # print the current simulation\n",
    "    print(\"Simulating with Q = \", value(m.fs.flash.heat_duty[0]))\n",
    "\n",
    "    # Solve the model\n",
    "    status = solver.solve(m)\n",
    "    \n",
    "    # append the value for vapor fraction if the solve was successful\n",
    "    if solve_successful(status):\n",
    "        V.append(value(m.fs.flash.vap_outlet.flow_mol[0]))\n",
    "        print('... solve successful.')\n",
    "    else:\n",
    "        V.append(0.0)\n",
    "        print('... solve failed.')\n",
    "    \n",
    "# Create and show the figure\n",
    "plt.figure(\"Vapor Fraction\")\n",
    "plt.plot(Q, V)\n",
    "plt.grid()\n",
    "plt.xlabel(\"Heat Duty [J]\")\n",
    "plt.ylabel(\"Vapor Fraction [-]\")\n",
    "plt.show()"
   ]
  },
  {
   "cell_type": "markdown",
   "metadata": {},
   "source": [
    "<div class=\"alert alert-block alert-info\">\n",
    "<b>Inline Exercise:</b>\n",
    "Repeate the exercise above, but create a figure showing the heat duty vs. the mole fraction of Benzene in the vapor outlet. Remove any unnecessary printing to create cleaner results.\n",
    "</div>"
   ]
  },
  {
   "cell_type": "code",
   "execution_count": 18,
   "metadata": {},
   "outputs": [
    {
     "data": {
      "image/png": "[encoded data removed]",
      "text/plain": [
       "<Figure size 432x288 with 1 Axes>"
      ]
     },
     "metadata": {
      "needs_background": "light"
     },
     "output_type": "display_data"
    }
   ],
   "source": [
    "# Todo: generate a figure of heat duty vs. mole fraction of Benzene in the vapor\n",
    "Q = []\n",
    "V = []\n",
    "\n",
    "for duty in np.linspace(-17000, 25000, 20):\n",
    "    # fix the heat duty\n",
    "    m.fs.flash.heat_duty.fix(duty)\n",
    "    \n",
    "    # append the value of the duty to the Q list\n",
    "    Q.append(duty)\n",
    "    \n",
    "    # solve the model\n",
    "    status = solver.solve(m)\n",
    "    \n",
    "    # append the value for vapor fraction if the solve was successful\n",
    "    if solve_successful(status):\n",
    "        V.append(value(m.fs.flash.vap_outlet.mole_frac[0, \"benzene\"]))\n",
    "    else:\n",
    "        V.append(0.0)\n",
    "        print('... solve failed.')\n",
    "    \n",
    "plt.figure(\"Purity\")\n",
    "plt.plot(Q, V)\n",
    "plt.grid()\n",
    "plt.xlabel(\"Heat Duty [J]\")\n",
    "plt.ylabel(\"Vapor Benzene Mole Fraction [-]\")\n",
    "plt.show()\n"
   ]
  },
  {
   "cell_type": "markdown",
   "metadata": {},
   "source": [
    "Recall that the IDAES framework is an equation-oriented modeling environment. This means that we can specify \"design\" problems natively. That is, there is no need to have our specifications on the inlet alone. We can put specifications on the outlet as long as we retain a well-posed, square system of equations.\n",
    "\n",
    "For example, we can remove the specification on heat duty and instead specify that we want the mole fraction of Benzene in the vapor outlet to be equal to 0.6. The mole fraction is not a native variable in the property block, so we cannot use \"fix\". We can, however, add a constraint to the model.\n",
    "\n",
    "Note that we have been executing a number of solves on the problem, and may not be sure of the current state. To help convergence, therefore, we will first call initialize, then add the new constraint and solve the problem. Note that the reference for the mole fraction of Benzene in the vapor outlet is `m.fs.flash.vap_outlet.mole_frac[0, \"benzene\"]`.\n",
    "\n",
    "<div class=\"alert alert-block alert-info\">\n",
    "<b>Inline Exercise:</b>\n",
    "Fill in the missing code below and add a constraint on the mole fraction of Benzene (to a value of 0.6) to find the required heat duty.\n",
    "</div>\n"
   ]
  },
  {
   "cell_type": "code",
   "execution_count": 19,
   "metadata": {},
   "outputs": [
    {
     "name": "stdout",
     "output_type": "stream",
     "text": [
      "Ipopt 3.12.12: \n",
      "\n",
      "******************************************************************************\n",
      "This program contains Ipopt, a library for large-scale nonlinear optimization.\n",
      " Ipopt is released as open source code under the Eclipse Public License (EPL).\n",
      "         For more information visit http://projects.coin-or.org/Ipopt\n",
      "******************************************************************************\n",
      "\n",
      "This is Ipopt version 3.12.12, running with linear solver mumps.\n",
      "NOTE: Other linear solvers might be more efficient (see Ipopt documentation).\n",
      "\n",
      "Number of nonzeros in equality constraint Jacobian...:      141\n",
      "Number of nonzeros in inequality constraint Jacobian.:        0\n",
      "Number of nonzeros in Lagrangian Hessian.............:       53\n",
      "\n",
      "Total number of variables............................:       44\n",
      "                     variables with only lower bounds:        3\n",
      "                variables with lower and upper bounds:       10\n",
      "                     variables with only upper bounds:        0\n",
      "Total number of equality constraints.................:       44\n",
      "Total number of inequality constraints...............:        0\n",
      "        inequality constraints with only lower bounds:        0\n",
      "   inequality constraints with lower and upper bounds:        0\n",
      "        inequality constraints with only upper bounds:        0\n",
      "\n",
      "iter    objective    inf_pr   inf_du lg(mu)  ||d||  lg(rg) alpha_du alpha_pr  ls\n",
      "   0  0.0000000e+00 6.88e-03 1.00e+00  -1.0 0.00e+00    -  0.00e+00 0.00e+00   0\n",
      "   1  0.0000000e+00 5.39e-02 1.03e-02  -1.0 1.02e+03    -  9.90e-01 1.00e+00H  1\n",
      "   2  0.0000000e+00 5.53e-10 2.30e-04  -1.0 2.01e-01    -  9.90e-01 1.00e+00h  1\n",
      "\n",
      "Number of Iterations....: 2\n",
      "\n",
      "                                   (scaled)                 (unscaled)\n",
      "Objective...............:   0.0000000000000000e+00    0.0000000000000000e+00\n",
      "Dual infeasibility......:   0.0000000000000000e+00    0.0000000000000000e+00\n",
      "Constraint violation....:   3.5152540356996045e-12    5.5297277867794037e-10\n",
      "Complementarity.........:   0.0000000000000000e+00    0.0000000000000000e+00\n",
      "Overall NLP error.......:   3.5152540356996045e-12    5.5297277867794037e-10\n",
      "\n",
      "\n",
      "Number of objective function evaluations             = 4\n",
      "Number of objective gradient evaluations             = 3\n",
      "Number of equality constraint evaluations            = 4\n",
      "Number of inequality constraint evaluations          = 0\n",
      "Number of equality constraint Jacobian evaluations   = 3\n",
      "Number of inequality constraint Jacobian evaluations = 0\n",
      "Number of Lagrangian Hessian evaluations             = 2\n",
      "Total CPU secs in IPOPT (w/o function evaluations)   =      0.017\n",
      "Total CPU secs in NLP function evaluations           =      0.001\n",
      "\n",
      "EXIT: Optimal Solution Found.\n",
      "\bQ = 6455.280946055264\n"
     ]
    }
   ],
   "source": [
    "# unfix the heat duty\n",
    "m.fs.flash.heat_duty.unfix()\n",
    "\n",
    "# re-initialize the model - this may or may not be required depending on current state\n",
    "m.fs.flash.initialize()\n",
    "\n",
    "# Todo: Add a new constraint (benzene mole fraction to 0.6)\n",
    "m.benz_purity_con = Constraint(expr= m.fs.flash.vap_outlet.mole_frac[0, \"benzene\"] == 0.6)\n",
    "\n",
    "# solve the problem\n",
    "status = solver.solve(m, tee=True)\n",
    "\n",
    "# print the value of the heat duty\n",
    "print('Q =', value(m.fs.flash.heat_duty[0]))"
   ]
  },
  {
   "cell_type": "code",
   "execution_count": null,
   "metadata": {},
   "outputs": [],
   "source": []
  }
 ],
 "metadata": {
  "kernelspec": {
   "display_name": "Python 3",
   "language": "python",
   "name": "python3"
  },
  "language_info": {
   "codemirror_mode": {
    "name": "ipython",
    "version": 3
   },
   "file_extension": ".py",
   "mimetype": "text/x-python",
   "name": "python",
   "nbconvert_exporter": "python",
   "pygments_lexer": "ipython3",
   "version": "3.6.8"
  }
 },
 "nbformat": 4,
 "nbformat_minor": 2
}
