{
 "cells": [
  {
   "cell_type": "markdown",
   "metadata": {},
   "source": [
    "Create Model and Flowsheet\n",
    "------------------------------------------"
   ]
  },
  {
   "cell_type": "code",
   "execution_count": null,
   "metadata": {},
   "outputs": [],
   "source": [
    "from pyomo.environ import ConcreteModel, SolverFactory, SolverStatus, TerminationCondition\n",
    "from idaes.core import FlowsheetBlock"
   ]
  },
  {
   "cell_type": "code",
   "execution_count": null,
   "metadata": {},
   "outputs": [],
   "source": [
    "m = ConcreteModel()"
   ]
  },
  {
   "cell_type": "code",
   "execution_count": null,
   "metadata": {},
   "outputs": [],
   "source": [
    "m.fs = FlowsheetBlock(default={\"dynamic\": False})"
   ]
  },
  {
   "cell_type": "markdown",
   "metadata": {},
   "source": [
    "Define Properties\n",
    "--------------------------"
   ]
  },
  {
   "cell_type": "code",
   "execution_count": null,
   "metadata": {},
   "outputs": [],
   "source": [
    "import idaes.property_models.ideal.BTX_ideal_VLE as ideal_props"
   ]
  },
  {
   "cell_type": "code",
   "execution_count": null,
   "metadata": {},
   "outputs": [],
   "source": [
    "m.fs.properties = ideal_props.BTXParameterBlock()"
   ]
  },
  {
   "cell_type": "markdown",
   "metadata": {},
   "source": [
    "Adding Flash Unit\n",
    "--------------------------"
   ]
  },
  {
   "cell_type": "code",
   "execution_count": null,
   "metadata": {},
   "outputs": [],
   "source": [
    "from idaes.unit_models import Flash"
   ]
  },
  {
   "cell_type": "code",
   "execution_count": null,
   "metadata": {},
   "outputs": [],
   "source": [
    "m.fs.flash = Flash(default={\"property_package\": m.fs.properties})"
   ]
  },
  {
   "cell_type": "markdown",
   "metadata": {},
   "source": [
    "Set Operating Conditions\n",
    "-------------------------------------"
   ]
  },
  {
   "cell_type": "code",
   "execution_count": null,
   "metadata": {},
   "outputs": [],
   "source": [
    "from idaes.ui.report import degrees_of_freedom\n",
    "print(\"Degrees of Freedom =\", degrees_of_freedom(m))"
   ]
  },
  {
   "cell_type": "code",
   "execution_count": null,
   "metadata": {},
   "outputs": [],
   "source": [
    "m.fs.flash.inlet.flow_mol.fix(1)\n",
    "m.fs.flash.inlet.temperature.fix(368)\n",
    "m.fs.flash.inlet.pressure.fix(101325)\n",
    "m.fs.flash.inlet.mole_frac[0, \"benzene\"].fix(0.5)\n",
    "m.fs.flash.inlet.mole_frac[0, \"toluene\"].fix(0.5)"
   ]
  },
  {
   "cell_type": "code",
   "execution_count": null,
   "metadata": {},
   "outputs": [],
   "source": [
    "m.fs.flash.heat_duty.fix(0)\n",
    "m.fs.flash.deltaP.fix(0)"
   ]
  },
  {
   "cell_type": "code",
   "execution_count": null,
   "metadata": {},
   "outputs": [],
   "source": [
    "print(\"Degrees of Freedom =\", degrees_of_freedom(m))"
   ]
  },
  {
   "cell_type": "markdown",
   "metadata": {},
   "source": [
    "Initializing the Model\n",
    "------------------------------"
   ]
  },
  {
   "cell_type": "code",
   "execution_count": null,
   "metadata": {},
   "outputs": [],
   "source": [
    "m.fs.flash.initialize()"
   ]
  },
  {
   "cell_type": "code",
   "execution_count": null,
   "metadata": {},
   "outputs": [],
   "source": [
    "solver = SolverFactory('ipopt')"
   ]
  },
  {
   "cell_type": "code",
   "execution_count": null,
   "metadata": {},
   "outputs": [],
   "source": [
    "results = solver.solve(m, tee=True)"
   ]
  },
  {
   "cell_type": "markdown",
   "metadata": {},
   "source": [
    "Viewing the Results\n",
    "-----------------------------"
   ]
  },
  {
   "cell_type": "code",
   "execution_count": null,
   "metadata": {},
   "outputs": [],
   "source": [
    "m.fs.flash.vap_outlet.display()"
   ]
  },
  {
   "cell_type": "code",
   "execution_count": null,
   "metadata": {},
   "outputs": [],
   "source": [
    "m.fs.flash.liq_outlet.display()"
   ]
  },
  {
   "cell_type": "markdown",
   "metadata": {},
   "source": [
    "Studying Purity as a Function of Heat Duty\n",
    "--------------------------------------------------------------"
   ]
  },
  {
   "cell_type": "code",
   "execution_count": null,
   "metadata": {},
   "outputs": [],
   "source": [
    "m.fs.flash.heat_duty.fix(-17000)\n",
    "\n",
    "q = []\n",
    "vap_frac = []\n",
    "y_benzene = []\n",
    "recovery = []\n",
    "\n",
    "while m.fs.flash.heat_duty[0].value <= 25000:\n",
    "    print(\"Q = \", m.fs.flash.heat_duty[0].value)\n",
    "    results = solver.solve(m)\n",
    "    \n",
    "    if (results.solver.termination_condition != TerminationCondition.optimal or\n",
    "            results.solver.status != SolverStatus.ok):\n",
    "        print(\"Solver error!\")\n",
    "        break\n",
    "    \n",
    "    q.append(m.fs.flash.heat_duty[0].value)\n",
    "    vap_frac.append(m.fs.flash.vap_outlet.flow_mol[0].expr.value)\n",
    "    y_benzene.append(m.fs.flash.vap_outlet.mole_frac[0, \"benzene\"].expr.value)\n",
    "    recovery.append(100*m.fs.flash.vap_outlet.flow_mol[0].expr.value*m.fs.flash.vap_outlet.mole_frac[0, \"benzene\"].expr.value/0.5)\n",
    "    \n",
    "    m.fs.flash.heat_duty.fix(m.fs.flash.heat_duty[0].value + 200)"
   ]
  },
  {
   "cell_type": "code",
   "execution_count": null,
   "metadata": {},
   "outputs": [],
   "source": [
    "from matplotlib import pyplot\n",
    "\n",
    "pyplot.figure(\"Vapor Fraction\")\n",
    "pyplot.plot(q, vap_frac)\n",
    "pyplot.grid()\n",
    "pyplot.xlabel(\"Heat Duty [J]\")\n",
    "pyplot.ylabel(\"Vapor Fraction [-]\")"
   ]
  },
  {
   "cell_type": "code",
   "execution_count": null,
   "metadata": {},
   "outputs": [],
   "source": [
    "pyplot.figure(\"Purity\")\n",
    "pyplot.plot(q, y_benzene)\n",
    "pyplot.grid()\n",
    "pyplot.xlabel(\"Heat Duty [J]\")\n",
    "pyplot.ylabel(\"Vapor Benzene Mole Fraction [-]\")"
   ]
  },
  {
   "cell_type": "code",
   "execution_count": null,
   "metadata": {},
   "outputs": [],
   "source": [
    "pyplot.figure(\"Recovery\")\n",
    "pyplot.plot(q, recovery)\n",
    "pyplot.grid()\n",
    "pyplot.xlabel(\"Heat Duty [J]\")\n",
    "pyplot.ylabel(\"Benzene Recovery [%]\")"
   ]
  },
  {
   "cell_type": "code",
   "execution_count": null,
   "metadata": {},
   "outputs": [],
   "source": [
    "pyplot.figure(\"Recovery vs. Purity\")\n",
    "pyplot.plot(y_benzene, recovery)\n",
    "pyplot.grid()\n",
    "pyplot.xlabel(\"Vapor Benzene Mole Fraction [-]\")\n",
    "pyplot.ylabel(\"Benzene Recovery [%]\")"
   ]
  },
  {
   "cell_type": "code",
   "execution_count": null,
   "metadata": {},
   "outputs": [],
   "source": []
  }
 ],
 "metadata": {
  "kernelspec": {
   "display_name": "Python 3",
   "language": "python",
   "name": "python3"
  },
  "language_info": {
   "codemirror_mode": {
    "name": "ipython",
    "version": 3
   },
   "file_extension": ".py",
   "mimetype": "text/x-python",
   "name": "python",
   "nbconvert_exporter": "python",
   "pygments_lexer": "ipython3",
   "version": "3.7.3"
  }
 },
 "nbformat": 4,
 "nbformat_minor": 2
}
