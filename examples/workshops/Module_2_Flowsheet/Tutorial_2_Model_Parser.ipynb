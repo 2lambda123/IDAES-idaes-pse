{
 "cells": [
  {
   "cell_type": "markdown",
   "metadata": {},
   "source": [
    "![](module_2_flowsheet.png) "
   ]
  },
  {
   "cell_type": "code",
   "execution_count": 2,
   "metadata": {},
   "outputs": [],
   "source": [
    "from pyomo.environ import (Constraint,\n",
    "                           Var,\n",
    "                           ConcreteModel,\n",
    "                           Expression,\n",
    "                           Objective,\n",
    "                           SolverFactory,\n",
    "                           TransformationFactory,\n",
    "                           value)\n",
    "from pyomo.network import Arc, SequentialDecomposition"
   ]
  },
  {
   "cell_type": "code",
   "execution_count": 3,
   "metadata": {},
   "outputs": [],
   "source": [
    "from idaes.core import FlowsheetBlock\n",
    "from idaes.unit_models import (PressureChanger,\n",
    "                               Mixer,\n",
    "                               Separator as Splitter,\n",
    "                               Heater,\n",
    "                               StoichiometricReactor)\n",
    "from idaes.unit_models import Flash\n",
    "from idaes.unit_models.pressure_changer import ThermodynamicAssumption\n",
    "import hda_ideal_VLE as thermo_props\n",
    "import hda_reaction as reaction_props"
   ]
  },
  {
   "cell_type": "code",
   "execution_count": 4,
   "metadata": {},
   "outputs": [],
   "source": [
    "m = ConcreteModel()\n",
    "m.fs = FlowsheetBlock(default={\"dynamic\": False})\n",
    "m.fs.thermo_params = thermo_props.HDAParameterBlock()\n",
    "m.fs.reaction_params = reaction_props.HDAReactionParameterBlock(\n",
    "        default={\"property_package\": m.fs.thermo_params})"
   ]
  },
  {
   "cell_type": "code",
   "execution_count": 5,
   "metadata": {},
   "outputs": [],
   "source": [
    "m.fs.M101 = Mixer(default={\"property_package\": m.fs.thermo_params,\n",
    "                           \"inlet_list\": [\"toluene_feed\", \"hydrogen_feed\", \"vapor_recycle\"]})\n",
    "\n",
    "m.fs.H101 = Heater(default={\"property_package\": m.fs.thermo_params,\n",
    "                            \"has_pressure_change\": False,\n",
    "                            \"has_phase_equilibrium\": True})\n",
    "m.fs.R101 = StoichiometricReactor(\n",
    "            default={\"property_package\": m.fs.thermo_params,\n",
    "                     \"reaction_package\": m.fs.reaction_params,\n",
    "                     \"has_heat_of_reaction\": True,\n",
    "                     \"has_heat_transfer\": True,\n",
    "                     \"has_pressure_change\": False})\n",
    "m.fs.F101 = Flash(default={\"property_package\": m.fs.thermo_params,\n",
    "                               \"has_heat_transfer\": True,\n",
    "                               \"has_pressure_change\": True})\n",
    "m.fs.S101 = Splitter(default={\"property_package\": m.fs.thermo_params,\n",
    "                               \"ideal_separation\": False,\n",
    "                               \"outlet_list\": [\"purge\", \"recycle\"]})\n",
    "    \n",
    "\n",
    "m.fs.C101 = PressureChanger(default={\n",
    "            \"property_package\": m.fs.thermo_params,\n",
    "            \"compressor\": True,\n",
    "            \"thermodynamic_assumption\": ThermodynamicAssumption.isothermal})\n",
    "    \n",
    "m.fs.F102 = Flash(default={\"property_package\": m.fs.thermo_params,\n",
    "                           \"has_heat_transfer\": True,\n",
    "                           \"has_pressure_change\": True})"
   ]
  },
  {
   "cell_type": "code",
   "execution_count": 6,
   "metadata": {},
   "outputs": [],
   "source": [
    "m.fs.s03 = Arc(source=m.fs.M101.outlet, destination=m.fs.H101.inlet)\n",
    "m.fs.s04 = Arc(source=m.fs.H101.outlet, destination=m.fs.R101.inlet)\n",
    "m.fs.s05 = Arc(source=m.fs.R101.outlet, destination=m.fs.F101.inlet)\n",
    "m.fs.s06 = Arc(source=m.fs.F101.vap_outlet, destination=m.fs.S101.inlet)\n",
    "m.fs.s08 = Arc(source=m.fs.S101.recycle, destination=m.fs.C101.inlet)\n",
    "m.fs.s09 = Arc(source=m.fs.C101.outlet,\n",
    "               destination=m.fs.M101.vapor_recycle)\n",
    "m.fs.s10 = Arc(source=m.fs.F101.liq_outlet, destination=m.fs.F102.inlet)"
   ]
  },
  {
   "cell_type": "code",
   "execution_count": null,
   "metadata": {},
   "outputs": [],
   "source": []
  },
  {
   "cell_type": "code",
   "execution_count": 7,
   "metadata": {},
   "outputs": [],
   "source": [
    "from idaes.core import UnitModelBlockData\n",
    "from pyomo.network.port import SimplePort\n",
    "from pyomo.network.arc import SimpleArc\n",
    "\n",
    "import json"
   ]
  },
  {
   "cell_type": "code",
   "execution_count": 8,
   "metadata": {},
   "outputs": [],
   "source": [
    "comps = m.component_objects(descend_into=False)\n",
    "flowsheet = next(comps)\n",
    "ports = {}\n",
    "\n",
    "unit_models = {}\n",
    "arcs = []\n",
    "for component in flowsheet.component_objects(descend_into=False):\n",
    "    if isinstance(component, UnitModelBlockData):\n",
    "        unit_models[component] = {\"name\": component.getname(), \"type\": type(component).__name__}\n",
    "        \n",
    "        for subcomponent in component.component_objects(descend_into=False):\n",
    "            if isinstance(subcomponent, SimplePort):\n",
    "                ports[subcomponent] = component\n",
    "                \n",
    "    elif isinstance(component, SimpleArc):\n",
    "       arcs.append(component)\n",
    "    \n",
    "edges = {}\n",
    "orphaned_ports = set(ports.keys())\n",
    "for arc in arcs:\n",
    "    edges[(ports[arc.source], ports[arc.dest])] = arc\n",
    "    orphaned_ports.discard(arc.source)\n",
    "    orphaned_ports.discard(arc.dest)\n",
    "    "
   ]
  },
  {
   "cell_type": "code",
   "execution_count": 9,
   "metadata": {},
   "outputs": [],
   "source": [
    "from collections import defaultdict\n",
    "\n",
    "labeled_edges = defaultdict(list)\n",
    "\n",
    "for (source, dest) in edges:\n",
    "    labeled_edges[source.getname()].append(dest.getname())\n",
    "    \n",
    "for port in orphaned_ports:\n",
    "    labeled_edges[\"Orphaned\"].append(ports[port].getname())\n",
    "\n",
    "with open('edges.json', 'w') as outfile:  \n",
    "    json.dump(labeled_edges, outfile)\n",
    "    \n",
    "named_components = {}\n",
    "for comp in unit_models.values():\n",
    "    named_components[comp[\"name\"]]= {\"type\": comp[\"type\"]}\n",
    "    \n",
    "with open('nodes.json', 'w') as outfile:  \n",
    "    json.dump(named_components, outfile)"
   ]
  },
  {
   "cell_type": "code",
   "execution_count": null,
   "metadata": {},
   "outputs": [],
   "source": [
    "    "
   ]
  }
 ],
 "metadata": {
  "kernelspec": {
   "display_name": "Python 3",
   "language": "python",
   "name": "python3"
  },
  "language_info": {
   "codemirror_mode": {
    "name": "ipython",
    "version": 3
   },
   "file_extension": ".py",
   "mimetype": "text/x-python",
   "name": "python",
   "nbconvert_exporter": "python",
   "pygments_lexer": "ipython3",
   "version": "3.7.3"
  }
 },
 "nbformat": 4,
 "nbformat_minor": 2
}
