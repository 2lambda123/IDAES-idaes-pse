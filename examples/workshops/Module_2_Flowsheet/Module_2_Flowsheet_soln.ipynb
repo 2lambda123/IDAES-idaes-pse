{
 "cells": [
  {
   "cell_type": "markdown",
   "metadata": {},
   "source": [
    "\n",
    "Learning outcomes\n",
    "------------------------------\n",
    "\n",
    "- Construct a steady-state flowsheet using the IDAES unit model library\n",
    "- Connecting unit models in a  flowsheet using Arcs\n",
    "- Using the SequentialDecomposition tool to initialize a flowsheet with recycle\n",
    "- Fomulate and solve an optimization problem\n",
    "    - Defining an objective function\n",
    "    - Setting variable bounds\n",
    "    - Adding additional constraints \n",
    "\n",
    "\n",
    "Problem Statement\n",
    "------\n",
    "\n",
    "Hydrodealkylation is a chemical reaction that often involves reacting\n",
    "an aromatic hydrocarbon in the presence of hydrogen gas to form a\n",
    "simpler aromatic hydrocarbon devoid of functional groups,. In this\n",
    "example, toluene will be reacted with hydrogen gas at high temperatures\n",
    " to form benzene via the following reaction:\n",
    "\n",
    "**C<sub>6</sub>H<sub>5</sub>CH<sub>3</sub> + H<sub>2</sub> → C<sub>6</sub>H<sub>6</sub> + CH<sub>4</sub>**\n",
    "\n",
    "\n",
    "This reaction is often accompanied by an equilibrium side reaction\n",
    "which forms diphenyl, which we will neglect for this example.\n",
    "\n",
    "This example is based on the 1967 AIChE Student Contest problem as\n",
    "present by Douglas, J.M., Chemical  Design of Chemical Processes, 1988,\n",
    "McGraw-Hill.\n",
    "\n",
    "The flowsheet that we will be using for this module is shown below with the stream conditions. We will be processing 872 TPY of toluene and 19 TPY of hydrogen to produce at least 369 TPY of benzene. As shown in the flowsheet, there are two flash tanks, F101 to separate out the non-condensibles and F102 to further separate the benzene-toluene mixture to improve the benzene purity.  Note that typically a distillation column is required to obtain high purity benzene but that is beyond the scope of this workshop. The non-condensibles separated out in F101 will be partially recycled back to M101 and the rest will be either purged or combusted for power generation.We will assume ideal gas for this flowsheet. The properties required for this module is available in the same directory:\n",
    "\n",
    "- hda_ideal_VLE.py\n",
    "- hda_reaction.py\n",
    "\n",
    "The state variables chosen for the property package are **flows of component by phase, temperature and pressure**. The components considered are: **toluene, hydrogen, benzene and methane**. Therefore, every stream has 8 flow variables, 1 temperature and 1 pressure variable. \n",
    "\n",
    "![](module_2_flowsheet.png)\n",
    "\n",
    "\n"
   ]
  },
  {
   "cell_type": "markdown",
   "metadata": {},
   "source": [
    "Importing required pyomo and idaes components\n",
    "-----------\n",
    "To construct a flowsheet, we will need several components from the pyomo and idaes package. Let us first import the components we need from Pyomo."
   ]
  },
  {
   "cell_type": "code",
   "execution_count": 1,
   "metadata": {},
   "outputs": [],
   "source": [
    "from pyomo.environ import (Constraint,\n",
    "                           Var,\n",
    "                           ConcreteModel,\n",
    "                           Expression,\n",
    "                           Objective,\n",
    "                           minimize,\n",
    "                           SolverFactory,\n",
    "                           TransformationFactory,\n",
    "                           value)\n",
    "from pyomo.network import Arc, SequentialDecomposition"
   ]
  },
  {
   "cell_type": "markdown",
   "metadata": {},
   "source": [
    "From idaes, we will be needing the FlowsheetBlock and the following unit models:\n",
    "- Mixer\n",
    "- <span style=\"color:blue\">**Heater**</span>\n",
    "- StoichiometricReactor\n",
    "- <span style=\"color:blue\">**Flash**</span>\n",
    "- Separator (splitter) \n",
    "- PressureChanger"
   ]
  },
  {
   "cell_type": "code",
   "execution_count": 2,
   "metadata": {},
   "outputs": [],
   "source": [
    "from idaes.core import FlowsheetBlock"
   ]
  },
  {
   "cell_type": "code",
   "execution_count": 3,
   "metadata": {},
   "outputs": [],
   "source": [
    "from idaes.unit_models import (PressureChanger,\n",
    "                               StoichiometricReactor,\n",
    "                               Mixer,\n",
    "                               Separator as Splitter)"
   ]
  },
  {
   "cell_type": "markdown",
   "metadata": {},
   "source": [
    "<div class=\"alert alert-block alert-info\">\n",
    "<b>Inline Exercise:</b>\n",
    "Now, import the remaining unit models highlighted in blue above and run the cell using `Shift+Enter` after typing in the code. \n",
    "</div>\n"
   ]
  },
  {
   "cell_type": "code",
   "execution_count": 4,
   "metadata": {},
   "outputs": [],
   "source": [
    "from idaes.unit_models import Heater, Flash"
   ]
  },
  {
   "cell_type": "markdown",
   "metadata": {},
   "source": [
    "We will also be needing some utility tools to put together the flowsheet and calculate the degrees of freedom. "
   ]
  },
  {
   "cell_type": "code",
   "execution_count": 5,
   "metadata": {},
   "outputs": [],
   "source": [
    "from idaes.unit_models.pressure_changer import ThermodynamicAssumption\n",
    "from idaes.ui.report import degrees_of_freedom"
   ]
  },
  {
   "cell_type": "markdown",
   "metadata": {},
   "source": [
    "Importing required thermo and reaction package\n",
    "-----------\n"
   ]
  },
  {
   "cell_type": "markdown",
   "metadata": {},
   "source": [
    "<div class=\"alert alert-block alert-info\">\n",
    "<b>Inline Exercise:</b>\n",
    "The final set of imports are to import the thermo and reaction package for the HDA process. We have created a custom thermo package that assumes Ideal Gas with support for VLE. The reaction package here is very simple as we will be using only a StochiometricReactor and the reaction package consists the stochiometric coefficients for the reaction. Import the following modules and they are in the same directory as this jupyter notebook:\n",
    "      <ul>\n",
    "         <li>hda_ideal_VLE as thermo_props</li>\n",
    "         <li>hda_reaction as reaction_props </li>\n",
    "      </ul>\n",
    "</div>"
   ]
  },
  {
   "cell_type": "code",
   "execution_count": 6,
   "metadata": {},
   "outputs": [],
   "source": [
    "import hda_ideal_VLE as thermo_props\n",
    "import hda_reaction as reaction_props"
   ]
  },
  {
   "cell_type": "markdown",
   "metadata": {},
   "source": [
    "Constructing the Flowsheet\n",
    "----------------------------------\n",
    "\n",
    "We have now imported all the components, unit models, and property modules we need to construct a flowsheet. Let us first create a ConcreteModel object as we did in Module 1. "
   ]
  },
  {
   "cell_type": "code",
   "execution_count": 7,
   "metadata": {},
   "outputs": [],
   "source": [
    "m = ConcreteModel()"
   ]
  },
  {
   "cell_type": "markdown",
   "metadata": {},
   "source": [
    "<div class=\"alert alert-block alert-info\">\n",
    "<b>Inline Exercise:</b>\n",
    "Now, add a FlowsheetBlock object to the concrete model. Please look at Module 1 on how to create a FlowsheetBlock and set dynamic to `False`. Once you have typed in the code, please use Shift+Enter to run the cell. \n",
    "</div>\n"
   ]
  },
  {
   "cell_type": "code",
   "execution_count": 8,
   "metadata": {},
   "outputs": [],
   "source": [
    "m.fs = FlowsheetBlock(default={\"dynamic\": False})"
   ]
  },
  {
   "cell_type": "markdown",
   "metadata": {},
   "source": [
    "We need to add the thermo properties and reaction properties for this flowsheet object. "
   ]
  },
  {
   "cell_type": "code",
   "execution_count": 9,
   "metadata": {},
   "outputs": [],
   "source": [
    "m.fs.thermo_params = thermo_props.HDAParameterBlock()\n",
    "m.fs.reaction_params = reaction_props.HDAReactionParameterBlock(\n",
    "        default={\"property_package\": m.fs.thermo_params})"
   ]
  },
  {
   "cell_type": "markdown",
   "metadata": {},
   "source": [
    "Adding Unit Models\n",
    "-----\n",
    "\n",
    "Let us start adding the unit models we have imported to the flowsheet. Here, we are adding the Mixer (assigned a name M101) and a Heater (assigned a name H101). Note that, all unit models need to be given a property package argument. In addition to that, there are several arguments depending on the unit model, please refer to the documentation for more details. For example, the Mixer unit model here is given a `list` consisting of names to the three inlets. "
   ]
  },
  {
   "cell_type": "code",
   "execution_count": 10,
   "metadata": {},
   "outputs": [],
   "source": [
    "m.fs.M101 = Mixer(default={\"property_package\": m.fs.thermo_params,\n",
    "                           \"inlet_list\": [\"toluene_feed\", \"hydrogen_feed\", \"vapor_recycle\"]})\n",
    "\n",
    "m.fs.H101 = Heater(default={\"property_package\": m.fs.thermo_params,\n",
    "                            \"has_pressure_change\": False,\n",
    "                            \"has_phase_equilibrium\": True})"
   ]
  },
  {
   "cell_type": "markdown",
   "metadata": {},
   "source": [
    "<div class=\"alert alert-block alert-info\">\n",
    "<b>Inline Exercise:</b>\n",
    "Let us now add the StoichiometricReactor(assign the name R101) and pass the following arguments:\n",
    "      <ul>\n",
    "         <li>\"property_package\": m.fs.thermo_params</li>\n",
    "         <li>\"reaction_package\": m.fs.reaction_params </li>\n",
    "         <li>\"has_heat_of_reaction\": True </li>\n",
    "         <li>\"has_heat_transfer\": True</li>\n",
    "         <li>\"has_pressure_change\": False</li>\n",
    "      </ul>\n",
    "</div>"
   ]
  },
  {
   "cell_type": "code",
   "execution_count": 11,
   "metadata": {},
   "outputs": [],
   "source": [
    "m.fs.R101 = StoichiometricReactor(\n",
    "            default={\"property_package\": m.fs.thermo_params,\n",
    "                     \"reaction_package\": m.fs.reaction_params,\n",
    "                     \"has_heat_of_reaction\": True,\n",
    "                     \"has_heat_transfer\": True,\n",
    "                     \"has_pressure_change\": False})"
   ]
  },
  {
   "cell_type": "markdown",
   "metadata": {},
   "source": [
    "<div class=\"alert alert-block alert-info\">\n",
    "<b>Inline Exercise:</b>\n",
    "Let us now add the Flash(assign the name F101) and pass the following arguments:\n",
    "      <ul>\n",
    "         <li>\"property_package\": m.fs.thermo_params</li>\n",
    "         <li>\"has_heat_transfer\": True</li>\n",
    "         <li>\"has_pressure_change\": False</li>\n",
    "      </ul>\n",
    "</div>"
   ]
  },
  {
   "cell_type": "code",
   "execution_count": 12,
   "metadata": {},
   "outputs": [],
   "source": [
    "m.fs.F101 = Flash(default={\"property_package\": m.fs.thermo_params,\n",
    "                               \"has_heat_transfer\": True,\n",
    "                               \"has_pressure_change\": True})"
   ]
  },
  {
   "cell_type": "markdown",
   "metadata": {},
   "source": [
    "Let us now add the Splitter(S101), PressureChanger(C101) and the second Flash(F102). "
   ]
  },
  {
   "cell_type": "code",
   "execution_count": 13,
   "metadata": {},
   "outputs": [],
   "source": [
    "m.fs.S101 = Splitter(default={\"property_package\": m.fs.thermo_params,\n",
    "                               \"ideal_separation\": False,\n",
    "                               \"outlet_list\": [\"purge\", \"recycle\"]})\n",
    "    \n",
    "\n",
    "m.fs.C101 = PressureChanger(default={\n",
    "            \"property_package\": m.fs.thermo_params,\n",
    "            \"compressor\": True,\n",
    "            \"thermodynamic_assumption\": ThermodynamicAssumption.isothermal})\n",
    "    \n",
    "m.fs.F102 = Flash(default={\"property_package\": m.fs.thermo_params,\n",
    "                           \"has_heat_transfer\": True,\n",
    "                           \"has_pressure_change\": True})"
   ]
  },
  {
   "cell_type": "markdown",
   "metadata": {},
   "source": [
    "Connecting Unit Models using Arcs\n",
    "-----\n",
    "We have now added all the unit models we need to the flowsheet. However, we have not yet specifed how the units are to be connected. To do this, we will be using the `Arc` which is a pyomo component that takes in two arguments: `source` and `destination`. Let us connect the outlet of the mixer(M101) to the inlet of the heater(H101). "
   ]
  },
  {
   "cell_type": "code",
   "execution_count": 14,
   "metadata": {},
   "outputs": [],
   "source": [
    "m.fs.s03 = Arc(source=m.fs.M101.outlet, destination=m.fs.H101.inlet)"
   ]
  },
  {
   "cell_type": "markdown",
   "metadata": {},
   "source": [
    "<div class=\"alert alert-block alert-info\">\n",
    "<b>Inline Exercise:</b>\n",
    "Add connections to the rest of the flowsheet. Note that the Flash unit model has two outlets called, `liq_outlet` and `vap_outlet`. We will need to add the following connections:\n",
    "      <ul>\n",
    "         <li>H101 outlet to R101 inlet</li>\n",
    "         <li>R101 outlet to F101 inlet</li>\n",
    "         <li>F101 vap_outlet to S101 inlet</li>\n",
    "         <li>S101 recycle to C101 inlet</li>\n",
    "         <li>C101 outlet to M101 vapor_recycle</li>\n",
    "         <li>F101 liq_outlet to F102 inlet</li>\n",
    "      </ul>\n",
    "</div>\n",
    "\n",
    "![](module_2_flowsheet.png) \n"
   ]
  },
  {
   "cell_type": "code",
   "execution_count": 15,
   "metadata": {},
   "outputs": [],
   "source": [
    "m.fs.s04 = Arc(source=m.fs.H101.outlet, destination=m.fs.R101.inlet)\n",
    "m.fs.s05 = Arc(source=m.fs.R101.outlet, destination=m.fs.F101.inlet)\n",
    "m.fs.s06 = Arc(source=m.fs.F101.vap_outlet, destination=m.fs.S101.inlet)\n",
    "m.fs.s08 = Arc(source=m.fs.S101.recycle, destination=m.fs.C101.inlet)\n",
    "m.fs.s09 = Arc(source=m.fs.C101.outlet,\n",
    "               destination=m.fs.M101.vapor_recycle)\n",
    "m.fs.s10 = Arc(source=m.fs.F101.liq_outlet, destination=m.fs.F102.inlet)"
   ]
  },
  {
   "cell_type": "markdown",
   "metadata": {},
   "source": [
    "We have now connected the unit model block using the arcs. However, each of these arcs link to ports on the two unit models that are connected. In this case, the ports consist of the state variables that need to be linked between the unit models. Pyomo provides a convenient method to write these equality constraints for us between two ports and this is done as follows:"
   ]
  },
  {
   "cell_type": "code",
   "execution_count": 16,
   "metadata": {},
   "outputs": [],
   "source": [
    "TransformationFactory(\"network.expand_arcs\").apply_to(m)"
   ]
  },
  {
   "cell_type": "markdown",
   "metadata": {},
   "source": [
    "Adding expressions to compute purity and operating costs\n",
    "---\n",
    "In this section, we will add a few Expressions that allows us to evaluate the performance. For this flowsheet, we are interested in the purity of the product Benzene stream (i.e. the mole fraction) and the operating cost which is a sum of the cooling and heating cost. "
   ]
  },
  {
   "cell_type": "markdown",
   "metadata": {},
   "source": [
    "Let us first add an Expression to compute the mole fraction of benzene in the `vap_outlet` of F102 which is our product stream. Please note that the var flow_mol_phase_comp has the index - [time, phase, component]. As this is a steady-state flowsheet, the time index by default is 0. The valid phases are [\"Liq\", \"Vap\"]. Similarly the valid component list is [\"benzene\", \"toluene\", \"hydrogen\", \"methane\"]."
   ]
  },
  {
   "cell_type": "code",
   "execution_count": 17,
   "metadata": {},
   "outputs": [],
   "source": [
    "m.fs.purity = Expression(\n",
    "        expr=m.fs.F102.vap_outlet.flow_mol_phase_comp[0, \"Vap\", \"benzene\"] /\n",
    "        (m.fs.F102.vap_outlet.flow_mol_phase_comp[0, \"Vap\", \"benzene\"]\n",
    "         + m.fs.F102.vap_outlet.flow_mol_phase_comp[0, \"Vap\", \"toluene\"]))"
   ]
  },
  {
   "cell_type": "markdown",
   "metadata": {},
   "source": [
    "Now, let us add an expression to compute the cooling cost assuming a cost of 0.212E-4 $/kW. Note that cooling utility is required for the reactor (R101) and the first flash (F101). "
   ]
  },
  {
   "cell_type": "code",
   "execution_count": 18,
   "metadata": {},
   "outputs": [],
   "source": [
    "m.fs.cooling_cost = Expression(expr=0.212e-7 * -m.fs.F101.heat_duty[0] +\n",
    "                                   0.212e-7 * -m.fs.R101.heat_duty[0])"
   ]
  },
  {
   "cell_type": "markdown",
   "metadata": {},
   "source": [
    "<div class=\"alert alert-block alert-info\">\n",
    "<b>Inline Exercise:</b>\n",
    "Add an expression to compute the heating cost. Assign the utility cost as follows:\n",
    "      <ul>\n",
    "         <li>2.2E-4 dollars/kW for H101</li>\n",
    "         <li>1.9E-4 dollars/kW for F102</li>\n",
    "      </ul>\n",
    "Note that the heat duty is in units of watt (J/s). \n",
    "</div>\n"
   ]
  },
  {
   "cell_type": "code",
   "execution_count": 19,
   "metadata": {},
   "outputs": [],
   "source": [
    "m.fs.heating_cost = Expression(expr=2.2e-7 * m.fs.H101.heat_duty[0] +\n",
    "                                   1.9e-7 * m.fs.F102.heat_duty[0])"
   ]
  },
  {
   "cell_type": "markdown",
   "metadata": {},
   "source": [
    "Let us now add an expression to compute the total operating cost per year. "
   ]
  },
  {
   "cell_type": "code",
   "execution_count": 20,
   "metadata": {},
   "outputs": [],
   "source": [
    "m.fs.operating_cost = Expression(expr=(3600 * 24 * 365 *\n",
    "                                           (m.fs.heating_cost +\n",
    "                                            m.fs.cooling_cost)))"
   ]
  },
  {
   "cell_type": "markdown",
   "metadata": {},
   "source": [
    "Fixing feed conditions\n",
    "---\n",
    "\n",
    "Let us first check how many degrees of freedom exist for this flowsheet using the `degrees_of_freedom` tool we imported earlier. "
   ]
  },
  {
   "cell_type": "code",
   "execution_count": 21,
   "metadata": {},
   "outputs": [
    {
     "name": "stdout",
     "output_type": "stream",
     "text": [
      "29\n"
     ]
    }
   ],
   "source": [
    "print(degrees_of_freedom(m))"
   ]
  },
  {
   "cell_type": "markdown",
   "metadata": {},
   "source": [
    "We will now be fixing the toluene feed stream to the conditions shown in the flowsheet above. Please note that though this is a pure toluene feed, the remaining components are still assigned a very small value to help with convergence and initializing. "
   ]
  },
  {
   "cell_type": "code",
   "execution_count": 22,
   "metadata": {},
   "outputs": [],
   "source": [
    "m.fs.M101.toluene_feed.flow_mol_phase_comp[0, \"Vap\", \"benzene\"].fix(1e-5)\n",
    "m.fs.M101.toluene_feed.flow_mol_phase_comp[0, \"Vap\", \"toluene\"].fix(1e-5)\n",
    "m.fs.M101.toluene_feed.flow_mol_phase_comp[0, \"Vap\", \"hydrogen\"].fix(1e-5)\n",
    "m.fs.M101.toluene_feed.flow_mol_phase_comp[0, \"Vap\", \"methane\"].fix(1e-5)\n",
    "m.fs.M101.toluene_feed.flow_mol_phase_comp[0, \"Liq\", \"benzene\"].fix(1e-5)\n",
    "m.fs.M101.toluene_feed.flow_mol_phase_comp[0, \"Liq\", \"toluene\"].fix(0.30)\n",
    "m.fs.M101.toluene_feed.flow_mol_phase_comp[0, \"Liq\", \"hydrogen\"].fix(1e-5)\n",
    "m.fs.M101.toluene_feed.flow_mol_phase_comp[0, \"Liq\", \"methane\"].fix(1e-5)\n",
    "m.fs.M101.toluene_feed.temperature.fix(303.2)\n",
    "m.fs.M101.toluene_feed.pressure.fix(350000)"
   ]
  },
  {
   "cell_type": "markdown",
   "metadata": {},
   "source": [
    "<div class=\"alert alert-block alert-info\">\n",
    "<b>Inline Exercise:</b>\n",
    "Fix the hydrogen feed to the following conditions using the syntax above as a guide in the next cell:\n",
    "      <ul>\n",
    "         <li>F<sub>H2</sub> = 0.30 mol/s</li>\n",
    "         <li>F<sub>CH4</sub> = 0.02 mol/s</li>\n",
    "         <li>Remaining components = 1e-5 mol/s</li>\n",
    "         <li>T = 303.2 K</li>\n",
    "         <li>P = 350000 Pa</li>\n",
    "      </ul>\n",
    "Use Shift+Enter to run the cell once you have typed in your code. \n",
    "</div>\n"
   ]
  },
  {
   "cell_type": "code",
   "execution_count": 23,
   "metadata": {},
   "outputs": [],
   "source": [
    "m.fs.M101.hydrogen_feed.flow_mol_phase_comp[0, \"Vap\", \"benzene\"].fix(1e-5)\n",
    "m.fs.M101.hydrogen_feed.flow_mol_phase_comp[0, \"Vap\", \"toluene\"].fix(1e-5)\n",
    "m.fs.M101.hydrogen_feed.flow_mol_phase_comp[0, \"Vap\", \"hydrogen\"].fix(0.30)\n",
    "m.fs.M101.hydrogen_feed.flow_mol_phase_comp[0, \"Vap\", \"methane\"].fix(0.02)\n",
    "m.fs.M101.hydrogen_feed.flow_mol_phase_comp[0, \"Liq\", \"benzene\"].fix(1e-5)\n",
    "m.fs.M101.hydrogen_feed.flow_mol_phase_comp[0, \"Liq\", \"toluene\"].fix(1e-5)\n",
    "m.fs.M101.hydrogen_feed.flow_mol_phase_comp[0, \"Liq\", \"hydrogen\"].fix(1e-5)\n",
    "m.fs.M101.hydrogen_feed.flow_mol_phase_comp[0, \"Liq\", \"methane\"].fix(1e-5)\n",
    "m.fs.M101.hydrogen_feed.temperature.fix(303.2)\n",
    "m.fs.M101.hydrogen_feed.pressure.fix(350000)"
   ]
  },
  {
   "cell_type": "markdown",
   "metadata": {},
   "source": [
    "Fixing unit model specifications\n",
    "---\n",
    "\n",
    "We will now be fixing the operating conditions for the unit models in the flowsheet. "
   ]
  },
  {
   "cell_type": "code",
   "execution_count": 24,
   "metadata": {},
   "outputs": [],
   "source": [
    "m.fs.H101.outlet.temperature.fix(600)"
   ]
  },
  {
   "cell_type": "markdown",
   "metadata": {},
   "source": [
    "For the StoichiometricReactor, we have to define the conversion in terms of toluene. This requires us to create a new variable for specifying the conversion and adding a Constraint that defines the conversion with respect to toluene. The second degree of freedom for the reactor is to define the heat duty. In this case, let us assume the reactor to be adiabatic i.e. Q = 0. "
   ]
  },
  {
   "cell_type": "code",
   "execution_count": 25,
   "metadata": {},
   "outputs": [],
   "source": [
    "m.fs.R101.conversion = Var(initialize=0.75, bounds=(0, 1))\n",
    "\n",
    "m.fs.R101.conv_constraint = Constraint(\n",
    "    expr=m.fs.R101.conversion*m.fs.R101.inlet.\n",
    "    flow_mol_phase_comp[0, \"Vap\", \"toluene\"] ==\n",
    "    (m.fs.R101.inlet.flow_mol_phase_comp[0, \"Vap\", \"toluene\"] -\n",
    "     m.fs.R101.outlet.flow_mol_phase_comp[0, \"Vap\", \"toluene\"]))\n",
    "\n",
    "m.fs.R101.conversion.fix(0.75)\n",
    "m.fs.R101.heat_duty.fix(0)"
   ]
  },
  {
   "cell_type": "markdown",
   "metadata": {},
   "source": [
    "The Flash conditions for F101 can be set as follows. "
   ]
  },
  {
   "cell_type": "code",
   "execution_count": 26,
   "metadata": {},
   "outputs": [],
   "source": [
    "m.fs.F101.vap_outlet.temperature.fix(325.0)\n",
    "m.fs.F101.deltaP.fix(0)"
   ]
  },
  {
   "cell_type": "markdown",
   "metadata": {},
   "source": [
    "<div class=\"alert alert-block alert-info\">\n",
    "<b>Inline Exercise:</b>\n",
    "Set the conditions for Flash F102 to the following conditions:\n",
    "      <ul>\n",
    "         <li>T = 375 K</li>\n",
    "         <li>deltaP = -200000</li>\n",
    "      </ul>\n",
    "\n",
    "Use Shift+Enter to run the cell once you have typed in your code. \n",
    "</div>"
   ]
  },
  {
   "cell_type": "code",
   "execution_count": 27,
   "metadata": {},
   "outputs": [],
   "source": [
    "m.fs.F102.vap_outlet.temperature.fix(375)\n",
    "m.fs.F102.deltaP.fix(-200000)"
   ]
  },
  {
   "cell_type": "markdown",
   "metadata": {},
   "source": [
    "Let us fix the purge split fraction to 20% and the outlet pressure of the compressor is set to 350000 Pa. "
   ]
  },
  {
   "cell_type": "code",
   "execution_count": 28,
   "metadata": {},
   "outputs": [],
   "source": [
    "m.fs.S101.split_fraction[0, \"purge\"].fix(0.2)\n",
    "m.fs.C101.outlet.pressure.fix(350000)"
   ]
  },
  {
   "cell_type": "markdown",
   "metadata": {},
   "source": [
    "<div class=\"alert alert-block alert-info\">\n",
    "<b>Inline Exercise:</b>\n",
    "We have now defined all the feed conditions and the inputs required for the unit models. The system should now have 0 degrees of freedom i.e. should be a square problem. Please check that the degrees of freedom is 0. \n",
    "\n",
    "Use Shift+Enter to run the cell once you have typed in your code. \n",
    "</div>"
   ]
  },
  {
   "cell_type": "code",
   "execution_count": 29,
   "metadata": {},
   "outputs": [
    {
     "name": "stdout",
     "output_type": "stream",
     "text": [
      "0\n"
     ]
    }
   ],
   "source": [
    "print(degrees_of_freedom(m))"
   ]
  },
  {
   "cell_type": "markdown",
   "metadata": {},
   "source": [
    "Scaling factors for this problem. "
   ]
  },
  {
   "cell_type": "code",
   "execution_count": 30,
   "metadata": {},
   "outputs": [],
   "source": [
    "m.fs.H101.control_volume.scaling_factor_energy = 1e-3\n",
    "m.fs.R101.control_volume.scaling_factor_energy = 1e-3\n",
    "m.fs.F101.control_volume.scaling_factor_energy = 1e-3\n",
    "m.fs.C101.control_volume.scaling_factor_energy = 1e-3\n",
    "m.fs.F102.control_volume.scaling_factor_energy = 1e-3"
   ]
  },
  {
   "cell_type": "markdown",
   "metadata": {},
   "source": [
    "Initialization\n",
    "------------------\n",
    "\n",
    "This section will demonstrate how to use the built-in sequential decomposition tool to initialize our flowsheet. Let us first create an object for the SequentialDecomposition. "
   ]
  },
  {
   "cell_type": "code",
   "execution_count": 31,
   "metadata": {},
   "outputs": [],
   "source": [
    "seq = SequentialDecomposition()\n",
    "seq.options.select_tear_method = \"heuristic\"\n",
    "seq.options.tear_method = \"Wegstein\"\n",
    "seq.options.iterLim = 5"
   ]
  },
  {
   "cell_type": "markdown",
   "metadata": {},
   "source": [
    "Show how to run first steps"
   ]
  },
  {
   "cell_type": "code",
   "execution_count": 32,
   "metadata": {},
   "outputs": [],
   "source": [
    "G = seq.create_graph(m)\n",
    "heu_result = seq.tear_set_arcs(G, method=\"heuristic\")\n",
    "order = seq.calculation_order(G)"
   ]
  },
  {
   "cell_type": "markdown",
   "metadata": {},
   "source": [
    "Display tear set and order"
   ]
  },
  {
   "cell_type": "code",
   "execution_count": 33,
   "metadata": {},
   "outputs": [
    {
     "name": "stdout",
     "output_type": "stream",
     "text": [
      "fs.s03\n"
     ]
    }
   ],
   "source": [
    "for o in heu_result:\n",
    "    print(o.name)"
   ]
  },
  {
   "cell_type": "code",
   "execution_count": 34,
   "metadata": {
    "scrolled": true
   },
   "outputs": [
    {
     "name": "stdout",
     "output_type": "stream",
     "text": [
      "fs.H101\n",
      "fs.R101\n",
      "fs.F101\n",
      "fs.S101\n",
      "fs.C101\n",
      "fs.M101\n"
     ]
    }
   ],
   "source": [
    "for o in order:\n",
    "    print(o[0].name)"
   ]
  },
  {
   "cell_type": "markdown",
   "metadata": {},
   "source": [
    "The SequentialDecomposition tool has determined that the tear stream is the mixer outlet. We will need to provide a reasonable guess for this. \n",
    "\n",
    "![](module_2_tear_stream.png) \n"
   ]
  },
  {
   "cell_type": "code",
   "execution_count": 35,
   "metadata": {},
   "outputs": [],
   "source": [
    "tear_guesses = {\n",
    "        \"flow_mol_phase_comp\": {\n",
    "                (0, \"Vap\", \"benzene\"): 1e-5,\n",
    "                (0, \"Vap\", \"toluene\"): 1e-5,\n",
    "                (0, \"Vap\", \"hydrogen\"): 0.30,\n",
    "                (0, \"Vap\", \"methane\"): 0.02,\n",
    "                (0, \"Liq\", \"benzene\"): 1e-5,\n",
    "                (0, \"Liq\", \"toluene\"): 0.30,\n",
    "                (0, \"Liq\", \"hydrogen\"): 1e-5,\n",
    "                (0, \"Liq\", \"methane\"): 1e-5},\n",
    "        \"temperature\": {0: 303},\n",
    "        \"pressure\": {0: 350000}}"
   ]
  },
  {
   "cell_type": "markdown",
   "metadata": {},
   "source": [
    "We now need to pass the guesses for the tear stream to the SD tool. "
   ]
  },
  {
   "cell_type": "code",
   "execution_count": 36,
   "metadata": {},
   "outputs": [],
   "source": [
    "seq.set_guesses_for(m.fs.H101.inlet, tear_guesses)"
   ]
  },
  {
   "cell_type": "markdown",
   "metadata": {},
   "source": [
    "Next, we need to tell the tool what to do to initialise each unit"
   ]
  },
  {
   "cell_type": "code",
   "execution_count": 37,
   "metadata": {},
   "outputs": [],
   "source": [
    "def function(unit):\n",
    "        unit.initialize(outlvl=1)"
   ]
  },
  {
   "cell_type": "markdown",
   "metadata": {},
   "source": [
    "Run the SequentialDecomposition tool"
   ]
  },
  {
   "cell_type": "code",
   "execution_count": 38,
   "metadata": {},
   "outputs": [
    {
     "name": "stderr",
     "output_type": "stream",
     "text": [
      "2019-05-14 15:00:51 - INFO - idaes.core.unit_model - fs.H101 Initialisation Step 1 Complete.\n",
      "2019-05-14 15:00:51 - INFO - idaes.core.unit_model - fs.H101 Initialisation Step 2 Complete.\n",
      "2019-05-14 15:00:51 - INFO - idaes.core.unit_model - fs.H101 Initialisation Complete.\n",
      "2019-05-14 15:00:51 - INFO - idaes.core.unit_model - fs.R101 Initialisation Step 1 Complete.\n",
      "2019-05-14 15:00:51 - INFO - idaes.core.unit_model - fs.R101 Initialisation Step 2 Complete.\n",
      "2019-05-14 15:00:51 - INFO - idaes.core.unit_model - fs.R101 Initialisation Complete.\n",
      "2019-05-14 15:00:51 - INFO - idaes.core.unit_model - fs.F101 Initialisation Step 1 Complete.\n",
      "2019-05-14 15:00:51 - INFO - idaes.core.unit_model - fs.F101 Initialisation Step 2 Complete.\n",
      "2019-05-14 15:00:51 - INFO - idaes.core.unit_model - fs.F101 Initialisation Complete.\n",
      "2019-05-14 15:00:51 - INFO - idaes.unit_models.separator - fs.S101 Initialisation Complete.\n",
      "2019-05-14 15:00:51 - INFO - idaes.core.unit_model - fs.F102 Initialisation Step 1 Complete.\n",
      "2019-05-14 15:00:51 - INFO - idaes.core.unit_model - fs.F102 Initialisation Step 2 Complete.\n",
      "2019-05-14 15:00:51 - INFO - idaes.core.unit_model - fs.F102 Initialisation Complete.\n",
      "2019-05-14 15:00:51 - INFO - idaes.core.unit_model - fs.C101 Initialisation Step 1 Complete.\n",
      "2019-05-14 15:00:51 - INFO - idaes.core.unit_model - fs.C101 Initialisation Step 2 Complete.\n",
      "2019-05-14 15:00:51 - INFO - idaes.core.unit_model - fs.C101 Initialisation Complete.\n",
      "2019-05-14 15:00:51 - INFO - idaes.unit_models.mixer - fs.M101 Initialisation Complete.\n",
      "2019-05-14 15:00:51 - INFO - idaes.core.unit_model - fs.H101 Initialisation Step 1 Complete.\n",
      "2019-05-14 15:00:52 - INFO - idaes.core.unit_model - fs.H101 Initialisation Step 2 Complete.\n",
      "2019-05-14 15:00:52 - INFO - idaes.core.unit_model - fs.H101 Initialisation Complete.\n",
      "2019-05-14 15:00:52 - INFO - idaes.core.unit_model - fs.R101 Initialisation Step 1 Complete.\n",
      "2019-05-14 15:00:52 - INFO - idaes.core.unit_model - fs.R101 Initialisation Step 2 Complete.\n",
      "2019-05-14 15:00:52 - INFO - idaes.core.unit_model - fs.R101 Initialisation Complete.\n",
      "2019-05-14 15:00:52 - INFO - idaes.core.unit_model - fs.F101 Initialisation Step 1 Complete.\n",
      "2019-05-14 15:00:52 - INFO - idaes.core.unit_model - fs.F101 Initialisation Step 2 Complete.\n",
      "2019-05-14 15:00:52 - INFO - idaes.core.unit_model - fs.F101 Initialisation Complete.\n",
      "2019-05-14 15:00:52 - INFO - idaes.unit_models.separator - fs.S101 Initialisation Complete.\n",
      "2019-05-14 15:00:52 - INFO - idaes.core.unit_model - fs.C101 Initialisation Step 1 Complete.\n",
      "2019-05-14 15:00:52 - INFO - idaes.core.unit_model - fs.C101 Initialisation Step 2 Complete.\n",
      "2019-05-14 15:00:52 - INFO - idaes.core.unit_model - fs.C101 Initialisation Complete.\n",
      "2019-05-14 15:00:52 - INFO - idaes.unit_models.mixer - fs.M101 Initialisation Complete.\n",
      "2019-05-14 15:00:52 - INFO - idaes.core.unit_model - fs.H101 Initialisation Step 1 Complete.\n",
      "2019-05-14 15:00:52 - INFO - idaes.core.unit_model - fs.H101 Initialisation Step 2 Complete.\n",
      "2019-05-14 15:00:52 - INFO - idaes.core.unit_model - fs.H101 Initialisation Complete.\n",
      "2019-05-14 15:00:52 - INFO - idaes.core.unit_model - fs.R101 Initialisation Step 1 Complete.\n",
      "2019-05-14 15:00:52 - INFO - idaes.core.unit_model - fs.R101 Initialisation Step 2 Complete.\n",
      "2019-05-14 15:00:52 - INFO - idaes.core.unit_model - fs.R101 Initialisation Complete.\n",
      "2019-05-14 15:00:52 - INFO - idaes.core.unit_model - fs.F101 Initialisation Step 1 Complete.\n",
      "2019-05-14 15:00:52 - INFO - idaes.core.unit_model - fs.F101 Initialisation Step 2 Complete.\n",
      "2019-05-14 15:00:52 - INFO - idaes.core.unit_model - fs.F101 Initialisation Complete.\n",
      "2019-05-14 15:00:52 - INFO - idaes.unit_models.separator - fs.S101 Initialisation Complete.\n",
      "2019-05-14 15:00:52 - INFO - idaes.core.unit_model - fs.C101 Initialisation Step 1 Complete.\n",
      "2019-05-14 15:00:52 - INFO - idaes.core.unit_model - fs.C101 Initialisation Step 2 Complete.\n",
      "2019-05-14 15:00:52 - INFO - idaes.core.unit_model - fs.C101 Initialisation Complete.\n",
      "2019-05-14 15:00:52 - INFO - idaes.unit_models.mixer - fs.M101 Initialisation Complete.\n",
      "2019-05-14 15:00:52 - INFO - idaes.core.unit_model - fs.H101 Initialisation Step 1 Complete.\n",
      "2019-05-14 15:00:52 - INFO - idaes.core.unit_model - fs.H101 Initialisation Step 2 Complete.\n",
      "2019-05-14 15:00:52 - INFO - idaes.core.unit_model - fs.H101 Initialisation Complete.\n",
      "2019-05-14 15:00:52 - INFO - idaes.core.unit_model - fs.R101 Initialisation Step 1 Complete.\n",
      "2019-05-14 15:00:52 - INFO - idaes.core.unit_model - fs.R101 Initialisation Step 2 Complete.\n",
      "2019-05-14 15:00:52 - INFO - idaes.core.unit_model - fs.R101 Initialisation Complete.\n",
      "2019-05-14 15:00:53 - INFO - idaes.core.unit_model - fs.F101 Initialisation Step 1 Complete.\n",
      "2019-05-14 15:00:53 - INFO - idaes.core.unit_model - fs.F101 Initialisation Step 2 Complete.\n",
      "2019-05-14 15:00:53 - INFO - idaes.core.unit_model - fs.F101 Initialisation Complete.\n",
      "2019-05-14 15:00:53 - INFO - idaes.unit_models.separator - fs.S101 Initialisation Complete.\n",
      "2019-05-14 15:00:53 - INFO - idaes.core.unit_model - fs.C101 Initialisation Step 1 Complete.\n",
      "2019-05-14 15:00:53 - INFO - idaes.core.unit_model - fs.C101 Initialisation Step 2 Complete.\n",
      "2019-05-14 15:00:53 - INFO - idaes.core.unit_model - fs.C101 Initialisation Complete.\n",
      "2019-05-14 15:00:53 - INFO - idaes.unit_models.mixer - fs.M101 Initialisation Complete.\n",
      "2019-05-14 15:00:53 - INFO - idaes.core.unit_model - fs.H101 Initialisation Step 1 Complete.\n",
      "2019-05-14 15:00:53 - INFO - idaes.core.unit_model - fs.H101 Initialisation Step 2 Complete.\n",
      "2019-05-14 15:00:53 - INFO - idaes.core.unit_model - fs.H101 Initialisation Complete.\n",
      "2019-05-14 15:00:53 - INFO - idaes.core.unit_model - fs.R101 Initialisation Step 1 Complete.\n",
      "2019-05-14 15:00:53 - INFO - idaes.core.unit_model - fs.R101 Initialisation Step 2 Complete.\n",
      "2019-05-14 15:00:53 - INFO - idaes.core.unit_model - fs.R101 Initialisation Complete.\n",
      "2019-05-14 15:00:53 - INFO - idaes.core.unit_model - fs.F101 Initialisation Step 1 Complete.\n",
      "2019-05-14 15:00:53 - INFO - idaes.core.unit_model - fs.F101 Initialisation Step 2 Complete.\n",
      "2019-05-14 15:00:53 - INFO - idaes.core.unit_model - fs.F101 Initialisation Complete.\n",
      "2019-05-14 15:00:53 - INFO - idaes.unit_models.separator - fs.S101 Initialisation Complete.\n",
      "2019-05-14 15:00:53 - INFO - idaes.core.unit_model - fs.C101 Initialisation Step 1 Complete.\n",
      "2019-05-14 15:00:53 - INFO - idaes.core.unit_model - fs.C101 Initialisation Step 2 Complete.\n",
      "2019-05-14 15:00:53 - INFO - idaes.core.unit_model - fs.C101 Initialisation Complete.\n",
      "2019-05-14 15:00:53 - INFO - idaes.unit_models.mixer - fs.M101 Initialisation Complete.\n",
      "2019-05-14 15:00:53 - INFO - idaes.core.unit_model - fs.H101 Initialisation Step 1 Complete.\n",
      "2019-05-14 15:00:53 - INFO - idaes.core.unit_model - fs.H101 Initialisation Step 2 Complete.\n",
      "2019-05-14 15:00:53 - INFO - idaes.core.unit_model - fs.H101 Initialisation Complete.\n",
      "2019-05-14 15:00:53 - INFO - idaes.core.unit_model - fs.R101 Initialisation Step 1 Complete.\n",
      "2019-05-14 15:00:53 - INFO - idaes.core.unit_model - fs.R101 Initialisation Step 2 Complete.\n",
      "2019-05-14 15:00:53 - INFO - idaes.core.unit_model - fs.R101 Initialisation Complete.\n",
      "2019-05-14 15:00:53 - INFO - idaes.core.unit_model - fs.F101 Initialisation Step 1 Complete.\n",
      "2019-05-14 15:00:53 - INFO - idaes.core.unit_model - fs.F101 Initialisation Step 2 Complete.\n",
      "2019-05-14 15:00:53 - INFO - idaes.core.unit_model - fs.F101 Initialisation Complete.\n",
      "2019-05-14 15:00:53 - INFO - idaes.unit_models.separator - fs.S101 Initialisation Complete.\n",
      "2019-05-14 15:00:53 - INFO - idaes.core.unit_model - fs.C101 Initialisation Step 1 Complete.\n",
      "2019-05-14 15:00:54 - INFO - idaes.core.unit_model - fs.C101 Initialisation Step 2 Complete.\n",
      "2019-05-14 15:00:54 - INFO - idaes.core.unit_model - fs.C101 Initialisation Complete.\n",
      "2019-05-14 15:00:54 - INFO - idaes.unit_models.mixer - fs.M101 Initialisation Complete.\n",
      "2019-05-14 15:00:54 - INFO - idaes.core.unit_model - fs.H101 Initialisation Step 1 Complete.\n",
      "2019-05-14 15:00:54 - INFO - idaes.core.unit_model - fs.H101 Initialisation Step 2 Complete.\n",
      "2019-05-14 15:00:54 - INFO - idaes.core.unit_model - fs.H101 Initialisation Complete.\n",
      "2019-05-14 15:00:54 - INFO - idaes.core.unit_model - fs.R101 Initialisation Step 1 Complete.\n"
     ]
    },
    {
     "name": "stderr",
     "output_type": "stream",
     "text": [
      "2019-05-14 15:00:54 - INFO - idaes.core.unit_model - fs.R101 Initialisation Step 2 Complete.\n",
      "2019-05-14 15:00:54 - INFO - idaes.core.unit_model - fs.R101 Initialisation Complete.\n",
      "2019-05-14 15:00:54 - INFO - idaes.core.unit_model - fs.F101 Initialisation Step 1 Complete.\n",
      "2019-05-14 15:00:54 - INFO - idaes.core.unit_model - fs.F101 Initialisation Step 2 Complete.\n",
      "2019-05-14 15:00:54 - INFO - idaes.core.unit_model - fs.F101 Initialisation Complete.\n",
      "2019-05-14 15:00:54 - INFO - idaes.unit_models.separator - fs.S101 Initialisation Complete.\n",
      "2019-05-14 15:00:54 - INFO - idaes.core.unit_model - fs.C101 Initialisation Step 1 Complete.\n",
      "2019-05-14 15:00:54 - INFO - idaes.core.unit_model - fs.C101 Initialisation Step 2 Complete.\n",
      "2019-05-14 15:00:54 - INFO - idaes.core.unit_model - fs.C101 Initialisation Complete.\n",
      "2019-05-14 15:00:54 - INFO - idaes.unit_models.mixer - fs.M101 Initialisation Complete.\n"
     ]
    },
    {
     "name": "stdout",
     "output_type": "stream",
     "text": [
      "WARNING: Wegstein failed to converge in 5 iterations\n"
     ]
    },
    {
     "name": "stderr",
     "output_type": "stream",
     "text": [
      "2019-05-14 15:00:54 - INFO - idaes.core.unit_model - fs.F102 Initialisation Step 1 Complete.\n",
      "2019-05-14 15:00:54 - INFO - idaes.core.unit_model - fs.F102 Initialisation Step 2 Complete.\n",
      "2019-05-14 15:00:54 - INFO - idaes.core.unit_model - fs.F102 Initialisation Complete.\n"
     ]
    }
   ],
   "source": [
    "seq.run(m, function)"
   ]
  },
  {
   "cell_type": "markdown",
   "metadata": {},
   "source": [
    "<div class=\"alert alert-block alert-info\">\n",
    "<b>Inline Exercise:</b>\n",
    "We have now initialized the flowsheet. Let us run the flowsheet in a simulation mode to look at the results. To do this, we will need to create a solver object and please follow the same instructions as from Module 1. Solve the model. \n",
    "\n",
    "Use Shift+Enter to run the cell once you have typed in your code. \n",
    "</div>\n",
    "\n"
   ]
  },
  {
   "cell_type": "code",
   "execution_count": 39,
   "metadata": {},
   "outputs": [
    {
     "name": "stdout",
     "output_type": "stream",
     "text": [
      "Ipopt 3.12: tol=1e-06\n",
      "max_iter=5000\n",
      "\n",
      "\n",
      "******************************************************************************\n",
      "This program contains Ipopt, a library for large-scale nonlinear optimization.\n",
      " Ipopt is released as open source code under the Eclipse Public License (EPL).\n",
      "         For more information visit http://projects.coin-or.org/Ipopt\n",
      "******************************************************************************\n",
      "\n",
      "This is Ipopt version 3.12, running with linear solver ma27.\n",
      "\n",
      "Number of nonzeros in equality constraint Jacobian...:     1022\n",
      "Number of nonzeros in inequality constraint Jacobian.:        0\n",
      "Number of nonzeros in Lagrangian Hessian.............:      898\n",
      "\n",
      "Total number of variables............................:      338\n",
      "                     variables with only lower bounds:        0\n",
      "                variables with lower and upper bounds:      146\n",
      "                     variables with only upper bounds:        0\n",
      "Total number of equality constraints.................:      338\n",
      "Total number of inequality constraints...............:        0\n",
      "        inequality constraints with only lower bounds:        0\n",
      "   inequality constraints with lower and upper bounds:        0\n",
      "        inequality constraints with only upper bounds:        0\n",
      "\n",
      "iter    objective    inf_pr   inf_du lg(mu)  ||d||  lg(rg) alpha_du alpha_pr  ls\n",
      "   0  0.0000000e+00 6.35e+04 0.00e+00  -1.0 0.00e+00    -  0.00e+00 0.00e+00   0\n",
      "   1  0.0000000e+00 8.71e+03 1.40e+03  -1.0 3.82e+04    -  9.72e-01 4.62e-01H  1\n",
      "   2  0.0000000e+00 3.05e+03 1.57e+03  -1.0 6.07e+03    -  9.79e-01 4.89e-01h  1\n",
      "   3  0.0000000e+00 1.59e+03 1.48e+05  -1.0 9.04e+03    -  9.91e-01 4.94e-01h  1\n",
      "   4  0.0000000e+00 7.62e+02 1.90e+07  -1.0 5.97e+03    -  1.00e+00 5.26e-01h  1\n",
      "   5  0.0000000e+00 1.35e+02 1.61e+11  -1.0 3.18e+03    -  1.00e+00 9.78e-01h  1\n",
      "   6  0.0000000e+00 6.48e+01 5.26e+08  -1.0 1.71e+02    -  1.00e+00 5.22e-01h  1\n",
      "   7  0.0000000e+00 2.53e+00 4.53e+11  -1.0 8.17e+01    -  1.00e+00 9.90e-01h  1\n",
      "   8  0.0000000e+00 1.44e-01 1.91e+10  -1.0 8.01e-01    -  1.00e+00 1.00e+00h  1\n",
      "   9  0.0000000e+00 7.61e-08 8.29e+04  -1.0 8.34e-07    -  1.00e+00 1.00e+00f  1\n",
      "Cannot recompute multipliers for feasibility problem.  Error in eq_mult_calculator\n",
      "\n",
      "Number of Iterations....: 9\n",
      "\n",
      "                                   (scaled)                 (unscaled)\n",
      "Objective...............:   0.0000000000000000e+00    0.0000000000000000e+00\n",
      "Dual infeasibility......:   1.0837356818472864e+11    1.0837356818472864e+11\n",
      "Constraint violation....:   2.9103830456733704e-11    7.6055584941059351e-08\n",
      "Complementarity.........:   0.0000000000000000e+00    0.0000000000000000e+00\n",
      "Overall NLP error.......:   2.9103830456733704e-11    1.0837356818472864e+11\n",
      "\n",
      "\n",
      "Number of objective function evaluations             = 11\n",
      "Number of objective gradient evaluations             = 10\n",
      "Number of equality constraint evaluations            = 11\n",
      "Number of inequality constraint evaluations          = 0\n",
      "Number of equality constraint Jacobian evaluations   = 10\n",
      "Number of inequality constraint Jacobian evaluations = 0\n",
      "Number of Lagrangian Hessian evaluations             = 9\n",
      "Total CPU secs in IPOPT (w/o function evaluations)   =      0.007\n",
      "Total CPU secs in NLP function evaluations           =      0.001\n",
      "\n",
      "EXIT: Optimal Solution Found.\n"
     ]
    }
   ],
   "source": [
    "solver = SolverFactory('ipopt')\n",
    "solver.options = {'tol': 1e-6}\n",
    "solver.options = {'tol': 1e-6, 'max_iter': 5000}\n",
    "results = solver.solve(m, tee=True)"
   ]
  },
  {
   "cell_type": "markdown",
   "metadata": {},
   "source": [
    "Analyze the results\n",
    "-------------------------\n",
    "\n",
    "Let us look at the total operating cost at first. "
   ]
  },
  {
   "cell_type": "code",
   "execution_count": 40,
   "metadata": {},
   "outputs": [
    {
     "name": "stdout",
     "output_type": "stream",
     "text": [
      "operating_cost : Size=1\n",
      "    Key  : Value\n",
      "    None : 419122.33876779425\n"
     ]
    }
   ],
   "source": [
    "m.fs.operating_cost.display()"
   ]
  },
  {
   "cell_type": "markdown",
   "metadata": {},
   "source": [
    "For this operating cost, what is the production rate and purity we are able to achieve? "
   ]
  },
  {
   "cell_type": "code",
   "execution_count": 41,
   "metadata": {},
   "outputs": [
    {
     "name": "stdout",
     "output_type": "stream",
     "text": [
      "vap_outlet : Size=1\n",
      "    Key  : Name                : Value\n",
      "    None : flow_mol_phase_comp : {(0.0, 'Liq', 'benzene'): 1e-08, (0.0, 'Liq', 'hydrogen'): 1e-08, (0.0, 'Liq', 'methane'): 1e-08, (0.0, 'Liq', 'toluene'): 1e-08, (0.0, 'Vap', 'benzene'): 0.1419785795205144, (0.0, 'Vap', 'hydrogen'): 1.8224249090798668e-07, (0.0, 'Vap', 'methane'): 1.8224249090798668e-07, (0.0, 'Vap', 'toluene'): 0.030263586902490442}\n",
      "         :            pressure : {0.0: 149999.999190983}\n",
      "         :         temperature : {0.0: 375}\n",
      "purity : Size=1\n",
      "    Key  : Value\n",
      "    None : 0.8242962943918916\n"
     ]
    }
   ],
   "source": [
    "m.fs.F102.vap_outlet.display()\n",
    "m.fs.purity.display()"
   ]
  },
  {
   "cell_type": "markdown",
   "metadata": {},
   "source": [
    "<div class=\"alert alert-block alert-info\">\n",
    "<b>Inline Exercise:</b>\n",
    "We are able to see that in F102, the specifications that we set do not yield the desired results. Let us look at the composition of the liq_outlet from F102. \n",
    "\n",
    "Use Shift+Enter to run the cell once you have typed in your code. \n",
    "</div>\n"
   ]
  },
  {
   "cell_type": "code",
   "execution_count": 42,
   "metadata": {},
   "outputs": [
    {
     "name": "stdout",
     "output_type": "stream",
     "text": [
      "liq_outlet : Size=1\n",
      "    Key  : Name                : Value\n",
      "    None : flow_mol_phase_comp : {(0.0, 'Liq', 'benzene'): 0.06262003393692106, (0.0, 'Liq', 'hydrogen'): 9.48771037445154e-08, (0.0, 'Liq', 'methane'): 9.48771037445154e-08, (0.0, 'Liq', 'toluene'): 0.032256880053386845, (0.0, 'Vap', 'benzene'): 1e-08, (0.0, 'Vap', 'hydrogen'): 1e-08, (0.0, 'Vap', 'methane'): 1e-08, (0.0, 'Vap', 'toluene'): 1e-08}\n",
      "         :            pressure : {0.0: 149999.999190983}\n",
      "         :         temperature : {0.0: 375}\n"
     ]
    }
   ],
   "source": [
    "m.fs.F102.liq_outlet.display()"
   ]
  },
  {
   "cell_type": "markdown",
   "metadata": {},
   "source": [
    "<div class=\"alert alert-block alert-info\">\n",
    "<b>Inline Exercise:</b>\n",
    "How much benzene are we loosing in the F101 vapor outlet stream? \n",
    "\n",
    "Use Shift+Enter to run the cell once you have typed in your code. \n",
    "</div>\n"
   ]
  },
  {
   "cell_type": "code",
   "execution_count": 43,
   "metadata": {},
   "outputs": [
    {
     "name": "stdout",
     "output_type": "stream",
     "text": [
      "vap_outlet : Size=1\n",
      "    Key  : Name                : Value\n",
      "    None : flow_mol_phase_comp : {(0.0, 'Liq', 'benzene'): 1e-08, (0.0, 'Liq', 'hydrogen'): 1e-08, (0.0, 'Liq', 'methane'): 1e-08, (0.0, 'Liq', 'toluene'): 1e-08, (0.0, 'Vap', 'benzene'): 0.1491451827474855, (0.0, 'Vap', 'hydrogen'): 0.3282105443673642, (0.0, 'Vap', 'methane'): 1.2720868644366885, (0.0, 'Vap', 'toluene'): 0.015609595185950769}\n",
      "         :            pressure : {0.0: 349999.999190983}\n",
      "         :         temperature : {0.0: 325.0}\n"
     ]
    }
   ],
   "source": [
    "m.fs.F101.vap_outlet.display()"
   ]
  },
  {
   "cell_type": "markdown",
   "metadata": {},
   "source": [
    "<div class=\"alert alert-block alert-info\">\n",
    "<b>Inline Exercise:</b>\n",
    "You can querry additional variables here if you like. \n",
    "\n",
    "Use Shift+Enter to run the cell once you have typed in your code. \n",
    "</div>\n"
   ]
  },
  {
   "cell_type": "code",
   "execution_count": null,
   "metadata": {},
   "outputs": [],
   "source": []
  },
  {
   "cell_type": "markdown",
   "metadata": {},
   "source": [
    "Optimization\n",
    "--------------------------\n",
    "\n",
    "To formulate an optimization problem, we must first define an objective function we are trying to minimize, total annual operating cost in this instance. "
   ]
  },
  {
   "cell_type": "code",
   "execution_count": 44,
   "metadata": {},
   "outputs": [],
   "source": [
    "m.fs.objective = Objective(sense=minimize, expr=m.fs.operating_cost)"
   ]
  },
  {
   "cell_type": "markdown",
   "metadata": {},
   "source": [
    "For this problem, our decision variables are as follows:\n",
    "- H101 outlet temperature\n",
    "- R101 cooling duty provided\n",
    "- <span style=\"color:blue\">**F101 outlet temperature**</span>\n",
    "- <span style=\"color:blue\">**F102 outlet temperature**</span>\n",
    "- <span style=\"color:blue\">**F102 deltaP or operating pressure of the flash tank**</span>\n",
    "\n",
    "\n",
    "We will need to unfix these variables and this can be done as follows:"
   ]
  },
  {
   "cell_type": "code",
   "execution_count": 45,
   "metadata": {},
   "outputs": [],
   "source": [
    "m.fs.H101.outlet.temperature.unfix()\n",
    "m.fs.R101.heat_duty.unfix()"
   ]
  },
  {
   "cell_type": "markdown",
   "metadata": {},
   "source": [
    "<div class=\"alert alert-block alert-info\">\n",
    "<b>Inline Exercise:</b>\n",
    "Let us now unfix the remaining variables that are highlighted in blue above. \n",
    "\n",
    "Use Shift+Enter to run the cell once you have typed in your code. \n",
    "</div>\n",
    "\n"
   ]
  },
  {
   "cell_type": "code",
   "execution_count": 46,
   "metadata": {},
   "outputs": [],
   "source": [
    "m.fs.F101.vap_outlet.temperature.unfix()\n",
    "m.fs.F102.vap_outlet.temperature.unfix()\n",
    "m.fs.F102.deltaP.unfix()"
   ]
  },
  {
   "cell_type": "markdown",
   "metadata": {},
   "source": [
    "Next, we need to set bounds on these variables. Let us first set the variable bound for the H101 outlet temperature as shown below:"
   ]
  },
  {
   "cell_type": "code",
   "execution_count": 47,
   "metadata": {},
   "outputs": [],
   "source": [
    "m.fs.H101.outlet.temperature[0].setlb(500)\n",
    "m.fs.H101.outlet.temperature[0].setub(600)"
   ]
  },
  {
   "cell_type": "markdown",
   "metadata": {},
   "source": [
    "<div class=\"alert alert-block alert-info\">\n",
    "<b>Inline Exercise:</b>\n",
    "Let us set the variable bounds for the remaining variables as follows:\n",
    "      <ul>\n",
    "         <li>R101 outlet temperature [600, 800] K</li>\n",
    "         <li>F101 outlet temperature [298, 450] K</li>\n",
    "         <li>F102 outlet temperature [298, 450] K</li>\n",
    "         <li>F102 outlet pressure [105000, 110000] Pa</li>\n",
    "      </ul>\n",
    "\n",
    "Use Shift+Enter to run the cell once you have typed in your code. \n",
    "</div>"
   ]
  },
  {
   "cell_type": "code",
   "execution_count": 48,
   "metadata": {},
   "outputs": [],
   "source": [
    "m.fs.R101.outlet.temperature[0].setlb(600)\n",
    "m.fs.R101.outlet.temperature[0].setub(800)\n",
    "m.fs.F101.vap_outlet.temperature[0].setlb(298.0)\n",
    "m.fs.F101.vap_outlet.temperature[0].setub(450.0)\n",
    "m.fs.F102.vap_outlet.temperature[0].setlb(298.0)\n",
    "m.fs.F102.vap_outlet.temperature[0].setub(450.0)\n",
    "m.fs.F102.vap_outlet.pressure[0].setlb(105000)\n",
    "m.fs.F102.vap_outlet.pressure[0].setub(110000)"
   ]
  },
  {
   "cell_type": "markdown",
   "metadata": {},
   "source": [
    "We also need to add additional performance constraints such that we minimize the overhead loss of benzene in F101 and meet a minimum flow rate at a given purity in the product stream from F102. Let us first add the constraint to limit the overhead loss of benzene in the vapor stream of F101 to less than or equal to 20% of the amount of benzene in the reactor outlet. "
   ]
  },
  {
   "cell_type": "code",
   "execution_count": 49,
   "metadata": {},
   "outputs": [],
   "source": [
    "m.fs.overhead_loss = Constraint(\n",
    "        expr=m.fs.F101.vap_outlet.flow_mol_phase_comp[0, \"Vap\", \"benzene\"] <=\n",
    "        0.20 * m.fs.R101.outlet.flow_mol_phase_comp[0, \"Vap\", \"benzene\"])"
   ]
  },
  {
   "cell_type": "markdown",
   "metadata": {},
   "source": [
    "<div class=\"alert alert-block alert-info\">\n",
    "<b>Inline Exercise:</b>\n",
    "Now, let us add the constraint such that we are producing at least 0.15 mol/s of benzene in the product stream which is the vapor outlet of F102. Let us name this constraint as m.fs.product_flow. \n",
    "\n",
    "Use Shift+Enter to run the cell once you have typed in your code. \n",
    "</div>"
   ]
  },
  {
   "cell_type": "code",
   "execution_count": 50,
   "metadata": {},
   "outputs": [],
   "source": [
    "m.fs.product_flow = Constraint(\n",
    "        expr=m.fs.F102.vap_outlet.flow_mol_phase_comp[0, \"Vap\", \"benzene\"] >=\n",
    "        0.15)"
   ]
  },
  {
   "cell_type": "markdown",
   "metadata": {},
   "source": [
    "<div class=\"alert alert-block alert-info\">\n",
    "<b>Inline Exercise:</b>\n",
    "Now, let us add the final constraint on product purity or the mole fraction of benzene in the product stream such that it is at least greater than 80%. \n",
    "\n",
    "Use Shift+Enter to run the cell once you have typed in your code. \n",
    "</div>"
   ]
  },
  {
   "cell_type": "code",
   "execution_count": 51,
   "metadata": {},
   "outputs": [],
   "source": [
    "m.fs.product_purity = Constraint(expr=m.fs.purity >= 0.80)"
   ]
  },
  {
   "cell_type": "markdown",
   "metadata": {},
   "source": [
    "<div class=\"alert alert-block alert-info\">\n",
    "<b>Inline Exercise:</b>\n",
    "We have now defined the optimization problem. We will need to create a solver object if we have not created it earlier. You can now solve the model. Please see earlier modules on how to create a solver object. \n",
    "\n",
    "Use Shift+Enter to run the cell once you have typed in your code. \n",
    "</div>\n",
    "\n"
   ]
  },
  {
   "cell_type": "code",
   "execution_count": 52,
   "metadata": {},
   "outputs": [
    {
     "name": "stdout",
     "output_type": "stream",
     "text": [
      "Ipopt 3.12: tol=1e-06\n",
      "max_iter=5000\n",
      "\n",
      "\n",
      "******************************************************************************\n",
      "This program contains Ipopt, a library for large-scale nonlinear optimization.\n",
      " Ipopt is released as open source code under the Eclipse Public License (EPL).\n",
      "         For more information visit http://projects.coin-or.org/Ipopt\n",
      "******************************************************************************\n",
      "\n",
      "This is Ipopt version 3.12, running with linear solver ma27.\n",
      "\n",
      "Number of nonzeros in equality constraint Jacobian...:     1048\n",
      "Number of nonzeros in inequality constraint Jacobian.:        5\n",
      "Number of nonzeros in Lagrangian Hessian.............:      901\n",
      "\n",
      "Total number of variables............................:      343\n",
      "                     variables with only lower bounds:        0\n",
      "                variables with lower and upper bounds:      149\n",
      "                     variables with only upper bounds:        0\n",
      "Total number of equality constraints.................:      338\n",
      "Total number of inequality constraints...............:        3\n",
      "        inequality constraints with only lower bounds:        2\n",
      "   inequality constraints with lower and upper bounds:        0\n",
      "        inequality constraints with only upper bounds:        1\n",
      "\n",
      "iter    objective    inf_pr   inf_du lg(mu)  ||d||  lg(rg) alpha_du alpha_pr  ls\n",
      "   0  4.1912234e+05 2.99e+05 6.94e+00  -1.0 0.00e+00    -  0.00e+00 0.00e+00   0\n",
      "   1  4.1628396e+05 2.99e+05 6.94e+00  -1.0 4.82e+09    -  1.80e-05 5.83e-06f  1\n",
      "   2  4.1616769e+05 2.99e+05 1.60e+02  -1.0 1.45e+09    -  5.86e-04 1.47e-05f  1\n",
      "   3  4.0783429e+05 2.94e+05 4.85e+02  -1.0 1.35e+09    -  2.61e-04 9.35e-04f  1\n",
      "   4  2.9670827e+05 2.83e+06 6.94e+02  -1.0 4.75e+08    -  7.35e-05 1.50e-03f  1\n",
      "   5  2.9557701e+05 2.82e+06 4.95e+04  -1.0 1.90e+08    -  1.88e-01 1.04e-03f  1\n",
      "   6  2.9452502e+05 2.72e+06 4.63e+05  -1.0 4.40e+07    -  1.88e-01 3.46e-02f  1\n",
      "   7  2.9632753e+05 2.13e+06 4.47e+05  -1.0 1.47e+07    -  7.61e-02 2.19e-01h  1\n",
      "   8  2.9636923e+05 2.12e+06 4.45e+05  -1.0 5.86e+06    -  6.38e-01 3.38e-03h  1\n",
      "   9  2.9647019e+05 2.10e+06 4.42e+05  -1.0 6.53e+06    -  7.25e-01 7.18e-03h  1\n",
      "iter    objective    inf_pr   inf_du lg(mu)  ||d||  lg(rg) alpha_du alpha_pr  ls\n",
      "  10  2.9958737e+05 1.63e+06 4.17e+05  -1.0 6.56e+06    -  3.55e-02 2.24e-01h  1\n",
      "  11  3.0436334e+05 9.49e+05 6.96e+05  -1.0 5.55e+06    -  9.46e-01 4.19e-01h  1\n",
      "  12  3.0792618e+05 5.00e+05 4.56e+06  -1.0 4.03e+06    -  9.90e-01 4.73e-01h  1\n",
      "  13  3.0931998e+05 3.46e+05 1.59e+08  -1.0 2.67e+06    -  1.00e+00 3.08e-01h  2\n",
      "  14  3.1261432e+05 5.80e+05 1.20e+11  -1.0 2.00e+06    -  1.00e+00 9.78e-01H  1\n",
      "  15  3.1271509e+05 2.42e+05 8.71e+08  -1.0 1.43e+05    -  1.00e+00 5.84e-01h  1\n",
      "  16  3.1278603e+05 2.73e+03 3.26e+11  -1.0 5.97e+04    -  1.00e+00 9.90e-01h  1\n",
      "  17  3.1278674e+05 1.79e-01 3.96e+09  -1.0 6.18e+02    -  1.00e+00 1.00e+00h  1\n",
      "  18  3.1278674e+05 1.91e-06 3.15e+05  -1.0 5.18e-03    -  1.00e+00 1.00e+00h  1\n",
      "  19  3.1278634e+05 3.47e-05 1.62e+06  -3.8 2.02e+02    -  1.00e+00 1.00e+00f  1\n",
      "iter    objective    inf_pr   inf_du lg(mu)  ||d||  lg(rg) alpha_du alpha_pr  ls\n",
      "  20  3.1278634e+05 2.24e-08 7.57e-04  -3.8 1.71e-01    -  1.00e+00 1.00e+00h  1\n",
      "  21  3.1278634e+05 7.45e-09 4.25e+00  -7.0 3.04e-01    -  1.00e+00 1.00e+00f  1\n",
      "  22  3.1278634e+05 7.45e-09 1.54e-05  -7.0 3.96e-07    -  1.00e+00 1.00e+00h  1\n",
      "\n",
      "Number of Iterations....: 22\n",
      "\n",
      "                                   (scaled)                 (unscaled)\n",
      "Objective...............:   3.1278633834102668e+05    3.1278633834102668e+05\n",
      "Dual infeasibility......:   1.5405640118828836e-05    1.5405640118828836e-05\n",
      "Constraint violation....:   2.9103830456733704e-11    7.4505805969238281e-09\n",
      "Complementarity.........:   9.0926527280252943e-08    9.0926527280252943e-08\n",
      "Overall NLP error.......:   2.0798568668981858e-09    1.5405640118828836e-05\n",
      "\n",
      "\n",
      "Number of objective function evaluations             = 26\n",
      "Number of objective gradient evaluations             = 23\n",
      "Number of equality constraint evaluations            = 26\n",
      "Number of inequality constraint evaluations          = 26\n",
      "Number of equality constraint Jacobian evaluations   = 23\n",
      "Number of inequality constraint Jacobian evaluations = 23\n",
      "Number of Lagrangian Hessian evaluations             = 22\n",
      "Total CPU secs in IPOPT (w/o function evaluations)   =      0.017\n",
      "Total CPU secs in NLP function evaluations           =      0.002\n",
      "\n",
      "EXIT: Optimal Solution Found.\n"
     ]
    }
   ],
   "source": [
    "results = solver.solve(m, tee=True)"
   ]
  },
  {
   "cell_type": "markdown",
   "metadata": {},
   "source": [
    "Optimization Results\n",
    "---\n",
    "Display the results and product specifications"
   ]
  },
  {
   "cell_type": "code",
   "execution_count": 53,
   "metadata": {},
   "outputs": [
    {
     "name": "stdout",
     "output_type": "stream",
     "text": [
      "operating_cost : Size=1\n",
      "    Key  : Value\n",
      "    None : 312786.3383410267\n",
      "vap_outlet : Size=1\n",
      "    Key  : Name                : Value\n",
      "    None : flow_mol_phase_comp : {(0.0, 'Liq', 'benzene'): 1e-08, (0.0, 'Liq', 'hydrogen'): 1e-08, (0.0, 'Liq', 'methane'): 1e-08, (0.0, 'Liq', 'toluene'): 1e-08, (0.0, 'Vap', 'benzene'): 0.14999999000033806, (0.0, 'Vap', 'hydrogen'): 1.9318906572512664e-07, (0.0, 'Vap', 'methane'): 1.9318906572512664e-07, (0.0, 'Vap', 'toluene'): 0.03318872934665707}\n",
      "         :            pressure : {0.0: 105000.0}\n",
      "         :         temperature : {0.0: 362.9347683054899}\n",
      "liq_outlet : Size=1\n",
      "    Key  : Name                : Value\n",
      "    None : flow_mol_phase_comp : {(0.0, 'Liq', 'benzene'): 0.06742517393587288, (0.0, 'Liq', 'hydrogen'): 1.0493211284678484e-07, (0.0, 'Liq', 'methane'): 1.0493211284678484e-07, (0.0, 'Liq', 'toluene'): 0.037506729046686275, (0.0, 'Vap', 'benzene'): 1e-08, (0.0, 'Vap', 'hydrogen'): 1e-08, (0.0, 'Vap', 'methane'): 1e-08, (0.0, 'Vap', 'toluene'): 1e-08}\n",
      "         :            pressure : {0.0: 105000.0}\n",
      "         :         temperature : {0.0: 362.9347683054899}\n",
      "purge : Size=1\n",
      "    Key  : Name                : Value\n",
      "    None : flow_mol_phase_comp : {(0.0, 'Liq', 'benzene'): 1e-08, (0.0, 'Liq', 'hydrogen'): 1e-08, (0.0, 'Liq', 'methane'): 1e-08, (0.0, 'Liq', 'toluene'): 1e-08, (0.0, 'Vap', 'benzene'): 0.010871258019931692, (0.0, 'Vap', 'hydrogen'): 0.07177331592267874, (0.0, 'Vap', 'methane'): 0.24828612383496415, (0.0, 'Vap', 'toluene'): 0.0010781556505140145}\n",
      "         :            pressure : {0.0: 349999.999190983}\n",
      "         :         temperature : {0.0: 301.8784760569282}\n"
     ]
    }
   ],
   "source": [
    "m.fs.operating_cost.display()\n",
    "m.fs.F102.vap_outlet.display()\n",
    "m.fs.F102.liq_outlet.display()\n",
    "m.fs.S101.purge.display()"
   ]
  },
  {
   "cell_type": "markdown",
   "metadata": {},
   "source": [
    "Display optimal values for the decision variables"
   ]
  },
  {
   "cell_type": "code",
   "execution_count": 54,
   "metadata": {},
   "outputs": [
    {
     "name": "stdout",
     "output_type": "stream",
     "text": [
      "_outlet_temperature_ref : Size=1, Index=fs.time\n",
      "    Key : Lower : Value : Upper : Fixed : Stale : Domain\n",
      "    0.0 :   500 : 500.0 :   600 : False : False : NonNegativeReals\n",
      "heat : Heat transfered in unit [J/s]\n",
      "    Size=1, Index=fs.time\n",
      "    Key : Lower : Value               : Upper : Fixed : Stale : Domain\n",
      "    0.0 :  None : -362.29656818968334 :  None : False : False :  Reals\n",
      "_Vap_temperature_ref : Size=1, Index=fs.time\n",
      "    Key : Lower : Value             : Upper : Fixed : Stale : Domain\n",
      "    0.0 : 298.0 : 301.8784760569282 : 450.0 : False : False : NonNegativeReals\n",
      "_Vap_temperature_ref : Size=1, Index=fs.time\n",
      "    Key : Lower : Value             : Upper : Fixed : Stale : Domain\n",
      "    0.0 : 298.0 : 362.9347683054899 : 450.0 : False : False : NonNegativeReals\n",
      "_Vap_pressure_ref : Size=1, Index=fs.time\n",
      "    Key : Lower  : Value    : Upper  : Fixed : Stale : Domain\n",
      "    0.0 : 105000 : 105000.0 : 110000 : False : False : NonNegativeReals\n"
     ]
    }
   ],
   "source": [
    "m.fs.H101.outlet.temperature.display()\n",
    "m.fs.R101.heat_duty.display()\n",
    "m.fs.F101.vap_outlet.temperature.display()\n",
    "m.fs.F102.vap_outlet.temperature.display()\n",
    "m.fs.F102.vap_outlet.pressure.display()"
   ]
  },
  {
   "cell_type": "code",
   "execution_count": null,
   "metadata": {},
   "outputs": [],
   "source": []
  }
 ],
 "metadata": {
  "kernelspec": {
   "display_name": "Python 3",
   "language": "python",
   "name": "python3"
  },
  "language_info": {
   "codemirror_mode": {
    "name": "ipython",
    "version": 3
   },
   "file_extension": ".py",
   "mimetype": "text/x-python",
   "name": "python",
   "nbconvert_exporter": "python",
   "pygments_lexer": "ipython3",
   "version": "3.7.2"
  }
 },
 "nbformat": 4,
 "nbformat_minor": 2
}
