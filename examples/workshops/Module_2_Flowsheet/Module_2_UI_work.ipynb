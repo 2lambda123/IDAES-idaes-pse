{
 "cells": [
  {
   "cell_type": "markdown",
   "metadata": {},
   "source": [
    "\n",
    "Learning outcomes\n",
    "------------------------------\n",
    "\n",
    "- Construct a steady-state flowsheet using the IDAES unit model library\n",
    "- Connecting unit models in a  flowsheet using Arcs\n",
    "- Using the SequentialDecomposition tool to initialize a flowsheet with recycle\n",
    "- Fomulate and solve an optimization problem\n",
    "    - Defining an objective function\n",
    "    - Setting variable bounds\n",
    "    - Adding additional constraints \n",
    "\n",
    "\n",
    "Problem Statement\n",
    "------\n",
    "\n",
    "Hydrodealkylation is a chemical reaction that often involves reacting\n",
    "an aromatic hydrocarbon in the presence of hydrogen gas to form a\n",
    "simpler aromatic hydrocarbon devoid of functional groups,. In this\n",
    "example, toluene will be reacted with hydrogen gas at high temperatures\n",
    " to form benzene via the following reaction:\n",
    "\n",
    "**C<sub>6</sub>H<sub>5</sub>CH<sub>3</sub> + H<sub>2</sub> → C<sub>6</sub>H<sub>6</sub> + CH<sub>4</sub>**\n",
    "\n",
    "\n",
    "This reaction is often accompanied by an equilibrium side reaction\n",
    "which forms diphenyl, which we will neglect for this example.\n",
    "\n",
    "This example is based on the 1967 AIChE Student Contest problem as\n",
    "present by Douglas, J.M., Chemical  Design of Chemical Processes, 1988,\n",
    "McGraw-Hill.\n",
    "\n",
    "The flowsheet that we will be using for this module is shown below with the stream conditions. We will be processing toluene and hydrogen to produce at least 370 TPY of benzene. As shown in the flowsheet, there are two flash tanks, F101 to separate out the non-condensibles and F102 to further separate the benzene-toluene mixture to improve the benzene purity.  Note that typically a distillation column is required to obtain high purity benzene but that is beyond the scope of this workshop. The non-condensibles separated out in F101 will be partially recycled back to M101 and the rest will be either purged or combusted for power generation.We will assume ideal gas for this flowsheet. The properties required for this module is available in the same directory:\n",
    "\n",
    "- hda_ideal_VLE.py\n",
    "- hda_reaction.py\n",
    "\n",
    "The state variables chosen for the property package are **flows of component by phase, temperature and pressure**. The components considered are: **toluene, hydrogen, benzene and methane**. Therefore, every stream has 8 flow variables, 1 temperature and 1 pressure variable. \n",
    "\n",
    "![](module_2_flowsheet.png)\n",
    "\n",
    "\n"
   ]
  },
  {
   "cell_type": "markdown",
   "metadata": {},
   "source": [
    "Importing required pyomo and idaes components\n",
    "-----------\n",
    "To construct a flowsheet, we will need several components from the pyomo and idaes package. Let us first import the following components from Pyomo:\n",
    "- Constraint (to write constraints)\n",
    "- Var (to declare variables)\n",
    "- ConcreteModel (to create the concrete model object)\n",
    "- Expression (to evaluate values as a function of variables defined in the model)\n",
    "- Objective (to define an objective function for optimization)\n",
    "- SolverFactory (to solve the problem)\n",
    "- TransformationFactory (to apply certain transformations)\n",
    "- Arc (to connect two unit models)\n",
    "- SequentialDecomposition (to initialize the flowsheet in a sequential mode)\n",
    "\n",
    "For further details on these components, please refer to the pyomo documentation: https://pyomo.readthedocs.io/en/latest/\n"
   ]
  },
  {
   "cell_type": "code",
   "execution_count": 13,
   "metadata": {},
   "outputs": [],
   "source": [
    "from pyomo.environ import (Constraint,\n",
    "                           Var,\n",
    "                           ConcreteModel,\n",
    "                           Expression,\n",
    "                           Objective,\n",
    "                           SolverFactory,\n",
    "                           TransformationFactory,\n",
    "                           value)\n",
    "from pyomo.network import Arc, SequentialDecomposition"
   ]
  },
  {
   "cell_type": "markdown",
   "metadata": {},
   "source": [
    "From idaes, we will be needing the FlowsheetBlock and the following unit models:\n",
    "- Mixer\n",
    "- Heater\n",
    "- StoichiometricReactor\n",
    "- <span style=\"color:blue\">**Flash**</span>\n",
    "- Separator (splitter) \n",
    "- PressureChanger"
   ]
  },
  {
   "cell_type": "code",
   "execution_count": 14,
   "metadata": {},
   "outputs": [],
   "source": [
    "from idaes.core import FlowsheetBlock"
   ]
  },
  {
   "cell_type": "code",
   "execution_count": 15,
   "metadata": {},
   "outputs": [],
   "source": [
    "from idaes.unit_models import (PressureChanger,\n",
    "                               Mixer,\n",
    "                               Separator as Splitter,\n",
    "                               Heater,\n",
    "                               StoichiometricReactor)"
   ]
  },
  {
   "cell_type": "markdown",
   "metadata": {},
   "source": [
    "<div class=\"alert alert-block alert-info\">\n",
    "<b>Inline Exercise:</b>\n",
    "Now, import the remaining unit models highlighted in blue above and run the cell using `Shift+Enter` after typing in the code. \n",
    "</div>\n"
   ]
  },
  {
   "cell_type": "code",
   "execution_count": 16,
   "metadata": {},
   "outputs": [],
   "source": [
    "from idaes.unit_models import Flash"
   ]
  },
  {
   "cell_type": "markdown",
   "metadata": {},
   "source": [
    "We will also be needing some utility tools to put together the flowsheet and calculate the degrees of freedom. "
   ]
  },
  {
   "cell_type": "code",
   "execution_count": 17,
   "metadata": {},
   "outputs": [],
   "source": [
    "from idaes.unit_models.pressure_changer import ThermodynamicAssumption\n",
    "from idaes.ui.report import degrees_of_freedom"
   ]
  },
  {
   "cell_type": "markdown",
   "metadata": {},
   "source": [
    "Importing required thermo and reaction package\n",
    "-----------\n"
   ]
  },
  {
   "cell_type": "markdown",
   "metadata": {},
   "source": [
    "The final set of imports are to import the thermo and reaction package for the HDA process. We have created a custom thermo package that assumes Ideal Gas with support for VLE. \n",
    "\n",
    "The reaction package here is very simple as we will be using only a StochiometricReactor and the reaction package consists the stochiometric coefficients for the reaction and the parameter for the heat of reaction. \n",
    "\n",
    "Let us import the following modules and they are in the same directory as this jupyter notebook:\n",
    "      <ul>\n",
    "         <li>hda_ideal_VLE as thermo_props</li>\n",
    "         <li>hda_reaction as reaction_props </li>\n",
    "      </ul>\n",
    "</div>"
   ]
  },
  {
   "cell_type": "code",
   "execution_count": 18,
   "metadata": {},
   "outputs": [],
   "source": [
    "import hda_ideal_VLE as thermo_props\n",
    "import hda_reaction as reaction_props"
   ]
  },
  {
   "cell_type": "markdown",
   "metadata": {},
   "source": [
    "Constructing the Flowsheet\n",
    "----------------------------------\n",
    "\n",
    "We have now imported all the components, unit models, and property modules we need to construct a flowsheet. Let us create a ConcreteModel and add the flowsheet block as we did in module 1. "
   ]
  },
  {
   "cell_type": "code",
   "execution_count": 19,
   "metadata": {},
   "outputs": [],
   "source": [
    "m = ConcreteModel()\n",
    "m.fs = FlowsheetBlock(default={\"dynamic\": False})"
   ]
  },
  {
   "cell_type": "markdown",
   "metadata": {},
   "source": [
    "We now need to add the property packages to the flowsheet. Unlike Module 1, where we only had a thermo property package, for this flowsheet we will also need to add a reaction property package. "
   ]
  },
  {
   "cell_type": "code",
   "execution_count": 20,
   "metadata": {},
   "outputs": [],
   "source": [
    "m.fs.thermo_params = thermo_props.HDAParameterBlock()\n",
    "m.fs.reaction_params = reaction_props.HDAReactionParameterBlock(\n",
    "        default={\"property_package\": m.fs.thermo_params})"
   ]
  },
  {
   "cell_type": "markdown",
   "metadata": {},
   "source": [
    "Adding Unit Models\n",
    "-----\n",
    "\n",
    "Let us start adding the unit models we have imported to the flowsheet. Here, we are adding the Mixer (assigned a name M101) and a Heater (assigned a name H101). Note that, all unit models need to be given a property package argument. In addition to that, there are several arguments depending on the unit model, please refer to the documentation for more details (https://idaes-pse.readthedocs.io/en/latest/models/index.html). For example, the Mixer unit model here is given a `list` consisting of names to the three inlets. "
   ]
  },
  {
   "cell_type": "code",
   "execution_count": 21,
   "metadata": {},
   "outputs": [],
   "source": [
    "m.fs.M101 = Mixer(default={\"property_package\": m.fs.thermo_params,\n",
    "                           \"inlet_list\": [\"toluene_feed\", \"hydrogen_feed\", \"vapor_recycle\"]})\n",
    "\n",
    "m.fs.H101 = Heater(default={\"property_package\": m.fs.thermo_params,\n",
    "                            \"has_pressure_change\": False,\n",
    "                            \"has_phase_equilibrium\": True})"
   ]
  },
  {
   "cell_type": "markdown",
   "metadata": {},
   "source": [
    "<div class=\"alert alert-block alert-info\">\n",
    "<b>Inline Exercise:</b>\n",
    "Let us now add the StoichiometricReactor(assign the name R101) and pass the following arguments:\n",
    "      <ul>\n",
    "         <li>\"property_package\": m.fs.thermo_params</li>\n",
    "         <li>\"reaction_package\": m.fs.reaction_params </li>\n",
    "         <li>\"has_heat_of_reaction\": True </li>\n",
    "         <li>\"has_heat_transfer\": True</li>\n",
    "         <li>\"has_pressure_change\": False</li>\n",
    "      </ul>\n",
    "</div>"
   ]
  },
  {
   "cell_type": "code",
   "execution_count": 22,
   "metadata": {},
   "outputs": [],
   "source": [
    "m.fs.R101 = StoichiometricReactor(\n",
    "            default={\"property_package\": m.fs.thermo_params,\n",
    "                     \"reaction_package\": m.fs.reaction_params,\n",
    "                     \"has_heat_of_reaction\": True,\n",
    "                     \"has_heat_transfer\": True,\n",
    "                     \"has_pressure_change\": False})"
   ]
  },
  {
   "cell_type": "markdown",
   "metadata": {},
   "source": [
    "Let us now add the Flash(assign the name F101) and pass the following arguments:\n",
    "      <ul>\n",
    "         <li>\"property_package\": m.fs.thermo_params</li>\n",
    "         <li>\"has_heat_transfer\": True</li>\n",
    "         <li>\"has_pressure_change\": False</li>\n",
    "      </ul>"
   ]
  },
  {
   "cell_type": "code",
   "execution_count": 23,
   "metadata": {},
   "outputs": [],
   "source": [
    "m.fs.F101 = Flash(default={\"property_package\": m.fs.thermo_params,\n",
    "                               \"has_heat_transfer\": True,\n",
    "                               \"has_pressure_change\": True})"
   ]
  },
  {
   "cell_type": "markdown",
   "metadata": {},
   "source": [
    "Let us now add the Splitter(S101), PressureChanger(C101) and the second Flash(F102). "
   ]
  },
  {
   "cell_type": "code",
   "execution_count": 24,
   "metadata": {},
   "outputs": [],
   "source": [
    "m.fs.S101 = Splitter(default={\"property_package\": m.fs.thermo_params,\n",
    "                               \"ideal_separation\": False,\n",
    "                               \"outlet_list\": [\"purge\", \"recycle\"]})\n",
    "    \n",
    "\n",
    "m.fs.C101 = PressureChanger(default={\n",
    "            \"property_package\": m.fs.thermo_params,\n",
    "            \"compressor\": True,\n",
    "            \"thermodynamic_assumption\": ThermodynamicAssumption.isothermal})\n",
    "    \n",
    "m.fs.F102 = Flash(default={\"property_package\": m.fs.thermo_params,\n",
    "                           \"has_heat_transfer\": True,\n",
    "                           \"has_pressure_change\": True})"
   ]
  },
  {
   "cell_type": "markdown",
   "metadata": {},
   "source": [
    "Connecting Unit Models using Arcs\n",
    "-----\n",
    "We have now added all the unit models we need to the flowsheet. However, we have not yet specifed how the units are to be connected. To do this, we will be using the `Arc` which is a pyomo component that takes in two arguments: `source` and `destination`. Let us connect the outlet of the mixer(M101) to the inlet of the heater(H101). "
   ]
  },
  {
   "cell_type": "code",
   "execution_count": 25,
   "metadata": {},
   "outputs": [],
   "source": [
    "m.fs.s03 = Arc(source=m.fs.M101.outlet, destination=m.fs.H101.inlet)"
   ]
  },
  {
   "cell_type": "markdown",
   "metadata": {},
   "source": [
    "\n",
    "![](module_2_flowsheet.png) \n",
    "\n",
    "<div class=\"alert alert-block alert-info\">\n",
    "<b>Inline Exercise:</b>\n",
    "Now, connect the H101 outlet to the R101 inlet using the cell above as a guide. \n",
    "</div>\n",
    "\n"
   ]
  },
  {
   "cell_type": "code",
   "execution_count": 26,
   "metadata": {},
   "outputs": [],
   "source": [
    "m.fs.s04 = Arc(source=m.fs.H101.outlet, destination=m.fs.R101.inlet)"
   ]
  },
  {
   "cell_type": "markdown",
   "metadata": {},
   "source": [
    "We will now be connecting the rest of the flowsheet as shown below. Notice how the outlet names are different for the flash tanks F101 and F102 as they have a vapor and a liquid outlet. "
   ]
  },
  {
   "cell_type": "code",
   "execution_count": 27,
   "metadata": {},
   "outputs": [],
   "source": [
    "m.fs.s05 = Arc(source=m.fs.R101.outlet, destination=m.fs.F101.inlet)\n",
    "m.fs.s06 = Arc(source=m.fs.F101.vap_outlet, destination=m.fs.S101.inlet)\n",
    "m.fs.s08 = Arc(source=m.fs.S101.recycle, destination=m.fs.C101.inlet)\n",
    "m.fs.s09 = Arc(source=m.fs.C101.outlet,\n",
    "               destination=m.fs.M101.vapor_recycle)\n",
    "m.fs.s10 = Arc(source=m.fs.F101.liq_outlet, destination=m.fs.F102.inlet)"
   ]
  },
  {
   "cell_type": "markdown",
   "metadata": {},
   "source": [
    "We have now connected the unit model block using the arcs. However, each of these arcs link to ports on the two unit models that are connected. In this case, the ports consist of the state variables that need to be linked between the unit models. Pyomo provides a convenient method to write these equality constraints for us between two ports and this is done as follows:"
   ]
  },
  {
   "cell_type": "code",
   "execution_count": 28,
   "metadata": {},
   "outputs": [],
   "source": [
    "TransformationFactory(\"network.expand_arcs\").apply_to(m)"
   ]
  },
  {
   "cell_type": "markdown",
   "metadata": {},
   "source": [
    "Adding expressions to compute purity and operating costs\n",
    "---\n",
    "In this section, we will add a few Expressions that allows us to evaluate the performance. Expressions provide a convenient way of calculating certain values that are a function of the variables defined in the model. For more details on Expressions, please refer to: https://pyomo.readthedocs.io/en/latest/pyomo_modeling_components/Expressions.html\n",
    "\n",
    "For this flowsheet, we are interested in computing the purity of the product Benzene stream (i.e. the mole fraction) and the operating cost which is a sum of the cooling and heating cost. "
   ]
  },
  {
   "cell_type": "markdown",
   "metadata": {},
   "source": [
    "Let us first add an Expression to compute the mole fraction of benzene in the `vap_outlet` of F102 which is our product stream. Please note that the var flow_mol_phase_comp has the index - [time, phase, component]. As this is a steady-state flowsheet, the time index by default is 0. The valid phases are [\"Liq\", \"Vap\"]. Similarly the valid component list is [\"benzene\", \"toluene\", \"hydrogen\", \"methane\"]."
   ]
  },
  {
   "cell_type": "code",
   "execution_count": 29,
   "metadata": {},
   "outputs": [],
   "source": [
    "m.fs.purity = Expression(\n",
    "        expr=m.fs.F102.vap_outlet.flow_mol_phase_comp[0, \"Vap\", \"benzene\"] /\n",
    "        (m.fs.F102.vap_outlet.flow_mol_phase_comp[0, \"Vap\", \"benzene\"]\n",
    "         + m.fs.F102.vap_outlet.flow_mol_phase_comp[0, \"Vap\", \"toluene\"]))"
   ]
  },
  {
   "cell_type": "markdown",
   "metadata": {},
   "source": [
    "Now, let us add an expression to compute the cooling cost assuming a cost of 0.212E-4 $/kW. Note that cooling utility is required for the reactor (R101) and the first flash (F101). "
   ]
  },
  {
   "cell_type": "code",
   "execution_count": 30,
   "metadata": {},
   "outputs": [],
   "source": [
    "m.fs.cooling_cost = Expression(expr=0.212e-7 * (-m.fs.F101.heat_duty[0]) +\n",
    "                                   0.212e-7 * (-m.fs.R101.heat_duty[0]))"
   ]
  },
  {
   "cell_type": "markdown",
   "metadata": {},
   "source": [
    "\n",
    "Now, let us add an expression to compute the heating cost assuming the utility cost as follows:\n",
    "      <ul>\n",
    "         <li>2.2E-4 dollars/kW for H101</li>\n",
    "         <li>1.9E-4 dollars/kW for F102</li>\n",
    "      </ul>\n",
    "Note that the heat duty is in units of watt (J/s). "
   ]
  },
  {
   "cell_type": "code",
   "execution_count": 31,
   "metadata": {},
   "outputs": [],
   "source": [
    "m.fs.heating_cost = Expression(expr=2.2e-7 * m.fs.H101.heat_duty[0] +\n",
    "                                   1.9e-7 * m.fs.F102.heat_duty[0])"
   ]
  },
  {
   "cell_type": "markdown",
   "metadata": {},
   "source": [
    "Let us now add an expression to compute the total operating cost per year which is basically the sum of the cooling and heating cost we defined above. "
   ]
  },
  {
   "cell_type": "code",
   "execution_count": 32,
   "metadata": {},
   "outputs": [],
   "source": [
    "m.fs.operating_cost = Expression(expr=(3600 * 24 * 365 *\n",
    "                                           (m.fs.heating_cost +\n",
    "                                            m.fs.cooling_cost)))"
   ]
  },
  {
   "cell_type": "markdown",
   "metadata": {},
   "source": [
    "Fixing feed conditions\n",
    "---\n",
    "\n",
    "Let us first check how many degrees of freedom exist for this flowsheet using the `degrees_of_freedom` tool we imported earlier. "
   ]
  },
  {
   "cell_type": "code",
   "execution_count": null,
   "metadata": {},
   "outputs": [],
   "source": [
    "print(degrees_of_freedom(m))"
   ]
  },
  {
   "cell_type": "markdown",
   "metadata": {},
   "source": [
    "We will now be fixing the toluene feed stream to the conditions shown in the flowsheet above. Please note that though this is a pure toluene feed, the remaining components are still assigned a very small non-zero value to help with convergence and initializing. "
   ]
  },
  {
   "cell_type": "code",
   "execution_count": null,
   "metadata": {},
   "outputs": [],
   "source": [
    "m.fs.M101.toluene_feed.flow_mol_phase_comp[0, \"Vap\", \"benzene\"].fix(1e-5)\n",
    "m.fs.M101.toluene_feed.flow_mol_phase_comp[0, \"Vap\", \"toluene\"].fix(1e-5)\n",
    "m.fs.M101.toluene_feed.flow_mol_phase_comp[0, \"Vap\", \"hydrogen\"].fix(1e-5)\n",
    "m.fs.M101.toluene_feed.flow_mol_phase_comp[0, \"Vap\", \"methane\"].fix(1e-5)\n",
    "m.fs.M101.toluene_feed.flow_mol_phase_comp[0, \"Liq\", \"benzene\"].fix(1e-5)\n",
    "m.fs.M101.toluene_feed.flow_mol_phase_comp[0, \"Liq\", \"toluene\"].fix(0.30)\n",
    "m.fs.M101.toluene_feed.flow_mol_phase_comp[0, \"Liq\", \"hydrogen\"].fix(1e-5)\n",
    "m.fs.M101.toluene_feed.flow_mol_phase_comp[0, \"Liq\", \"methane\"].fix(1e-5)\n",
    "m.fs.M101.toluene_feed.temperature.fix(303.2)\n",
    "m.fs.M101.toluene_feed.pressure.fix(350000)"
   ]
  },
  {
   "cell_type": "markdown",
   "metadata": {},
   "source": [
    "\n",
    "Similarly, let us fix the hydrogen feed to the following conditions in the next cell:\n",
    "      <ul>\n",
    "         <li>F<sub>H2</sub> = 0.30 mol/s</li>\n",
    "         <li>F<sub>CH4</sub> = 0.02 mol/s</li>\n",
    "         <li>Remaining components = 1e-5 mol/s</li>\n",
    "         <li>T = 303.2 K</li>\n",
    "         <li>P = 350000 Pa</li>\n",
    "      </ul>\n",
    "\n"
   ]
  },
  {
   "cell_type": "code",
   "execution_count": null,
   "metadata": {},
   "outputs": [],
   "source": [
    "m.fs.M101.hydrogen_feed.flow_mol_phase_comp[0, \"Vap\", \"benzene\"].fix(1e-5)\n",
    "m.fs.M101.hydrogen_feed.flow_mol_phase_comp[0, \"Vap\", \"toluene\"].fix(1e-5)\n",
    "m.fs.M101.hydrogen_feed.flow_mol_phase_comp[0, \"Vap\", \"hydrogen\"].fix(0.30)\n",
    "m.fs.M101.hydrogen_feed.flow_mol_phase_comp[0, \"Vap\", \"methane\"].fix(0.02)\n",
    "m.fs.M101.hydrogen_feed.flow_mol_phase_comp[0, \"Liq\", \"benzene\"].fix(1e-5)\n",
    "m.fs.M101.hydrogen_feed.flow_mol_phase_comp[0, \"Liq\", \"toluene\"].fix(1e-5)\n",
    "m.fs.M101.hydrogen_feed.flow_mol_phase_comp[0, \"Liq\", \"hydrogen\"].fix(1e-5)\n",
    "m.fs.M101.hydrogen_feed.flow_mol_phase_comp[0, \"Liq\", \"methane\"].fix(1e-5)\n",
    "m.fs.M101.hydrogen_feed.temperature.fix(303.2)\n",
    "m.fs.M101.hydrogen_feed.pressure.fix(350000)"
   ]
  },
  {
   "cell_type": "markdown",
   "metadata": {},
   "source": [
    "Fixing unit model specifications\n",
    "---\n",
    "\n",
    "Now that we have fixed our inlet feed conditions, we will now be fixing the operating conditions for the unit models in the flowsheet. Let us set set the H101 outlet temperature to 600 K. "
   ]
  },
  {
   "cell_type": "code",
   "execution_count": null,
   "metadata": {},
   "outputs": [],
   "source": [
    "m.fs.H101.outlet.temperature.fix(600)"
   ]
  },
  {
   "cell_type": "markdown",
   "metadata": {},
   "source": [
    "For the StoichiometricReactor, we have to define the conversion in terms of toluene. This requires us to create a new variable for specifying the conversion and adding a Constraint that defines the conversion with respect to toluene. The second degree of freedom for the reactor is to define the heat duty. In this case, let us assume the reactor to be adiabatic i.e. Q = 0. "
   ]
  },
  {
   "cell_type": "code",
   "execution_count": null,
   "metadata": {},
   "outputs": [],
   "source": [
    "m.fs.R101.conversion = Var(initialize=0.75, bounds=(0, 1))\n",
    "\n",
    "m.fs.R101.conv_constraint = Constraint(\n",
    "    expr=m.fs.R101.conversion*m.fs.R101.inlet.\n",
    "    flow_mol_phase_comp[0, \"Vap\", \"toluene\"] ==\n",
    "    (m.fs.R101.inlet.flow_mol_phase_comp[0, \"Vap\", \"toluene\"] -\n",
    "     m.fs.R101.outlet.flow_mol_phase_comp[0, \"Vap\", \"toluene\"]))\n",
    "\n",
    "m.fs.R101.conversion.fix(0.75)\n",
    "m.fs.R101.heat_duty.fix(0)"
   ]
  },
  {
   "cell_type": "markdown",
   "metadata": {},
   "source": [
    "The Flash conditions for F101 can be set as follows. "
   ]
  },
  {
   "cell_type": "code",
   "execution_count": null,
   "metadata": {},
   "outputs": [],
   "source": [
    "m.fs.F101.vap_outlet.temperature.fix(325.0)\n",
    "m.fs.F101.deltaP.fix(0)"
   ]
  },
  {
   "cell_type": "markdown",
   "metadata": {},
   "source": [
    "<div class=\"alert alert-block alert-info\">\n",
    "<b>Inline Exercise:</b>\n",
    "Set the conditions for Flash F102 to the following conditions:\n",
    "      <ul>\n",
    "         <li>T = 375 K</li>\n",
    "         <li>deltaP = -200000</li>\n",
    "      </ul>\n",
    "\n",
    "Use Shift+Enter to run the cell once you have typed in your code. \n",
    "</div>"
   ]
  },
  {
   "cell_type": "code",
   "execution_count": null,
   "metadata": {},
   "outputs": [],
   "source": [
    "m.fs.F102.vap_outlet.temperature.fix(375)\n",
    "m.fs.F102.deltaP.fix(-200000)"
   ]
  },
  {
   "cell_type": "markdown",
   "metadata": {},
   "source": [
    "Let us fix the purge split fraction to 20% and the outlet pressure of the compressor is set to 350000 Pa. "
   ]
  },
  {
   "cell_type": "code",
   "execution_count": null,
   "metadata": {},
   "outputs": [],
   "source": [
    "m.fs.S101.split_fraction[0, \"purge\"].fix(0.2)\n",
    "m.fs.C101.outlet.pressure.fix(350000)"
   ]
  },
  {
   "cell_type": "markdown",
   "metadata": {},
   "source": [
    "<div class=\"alert alert-block alert-info\">\n",
    "<b>Inline Exercise:</b>\n",
    "We have now defined all the feed conditions and the inputs required for the unit models. The system should now have 0 degrees of freedom i.e. should be a square problem. Please check that the degrees of freedom is 0. \n",
    "\n",
    "Use Shift+Enter to run the cell once you have typed in your code. \n",
    "</div>"
   ]
  },
  {
   "cell_type": "code",
   "execution_count": null,
   "metadata": {},
   "outputs": [],
   "source": [
    "print(degrees_of_freedom(m))"
   ]
  },
  {
   "cell_type": "markdown",
   "metadata": {},
   "source": [
    "Initialization\n",
    "------------------\n",
    "\n",
    "This section will demonstrate how to use the built-in sequential decomposition tool to initialize our flowsheet.\n",
    "\n",
    "![](module_2_flowsheet.png) \n"
   ]
  },
  {
   "cell_type": "markdown",
   "metadata": {},
   "source": [
    "Let us first create an object for the SequentialDecomposition and specify our options for this. "
   ]
  },
  {
   "cell_type": "code",
   "execution_count": null,
   "metadata": {},
   "outputs": [],
   "source": [
    "seq = SequentialDecomposition()\n",
    "seq.options.select_tear_method = \"heuristic\"\n",
    "seq.options.tear_method = \"Wegstein\"\n",
    "seq.options.iterLim = 5\n",
    "\n",
    "# Using the SD tool\n",
    "G = seq.create_graph(m)\n",
    "heuristic_tear_set = seq.tear_set_arcs(G, method=\"heuristic\")\n",
    "order = seq.calculation_order(G)"
   ]
  },
  {
   "cell_type": "markdown",
   "metadata": {},
   "source": [
    "Which is the tear stream? Display tear set and order"
   ]
  },
  {
   "cell_type": "code",
   "execution_count": null,
   "metadata": {},
   "outputs": [],
   "source": [
    "for o in heuristic_tear_set:\n",
    "    print(o.name)"
   ]
  },
  {
   "cell_type": "markdown",
   "metadata": {},
   "source": [
    "What sequence did the SD tool determine to solve this flowsheet with the least number of tears? "
   ]
  },
  {
   "cell_type": "code",
   "execution_count": null,
   "metadata": {
    "scrolled": true
   },
   "outputs": [],
   "source": [
    "for o in order:\n",
    "    print(o[0].name)"
   ]
  },
  {
   "cell_type": "markdown",
   "metadata": {},
   "source": [
    " \n",
    "\n",
    "![](module_2_tear_stream.png) \n",
    "\n",
    "\n",
    "The SequentialDecomposition tool has determined that the tear stream is the mixer outlet. We will need to provide a reasonable guess for this."
   ]
  },
  {
   "cell_type": "code",
   "execution_count": null,
   "metadata": {},
   "outputs": [],
   "source": [
    "tear_guesses = {\n",
    "        \"flow_mol_phase_comp\": {\n",
    "                (0, \"Vap\", \"benzene\"): 1e-5,\n",
    "                (0, \"Vap\", \"toluene\"): 1e-5,\n",
    "                (0, \"Vap\", \"hydrogen\"): 0.30,\n",
    "                (0, \"Vap\", \"methane\"): 0.02,\n",
    "                (0, \"Liq\", \"benzene\"): 1e-5,\n",
    "                (0, \"Liq\", \"toluene\"): 0.30,\n",
    "                (0, \"Liq\", \"hydrogen\"): 1e-5,\n",
    "                (0, \"Liq\", \"methane\"): 1e-5},\n",
    "        \"temperature\": {0: 303},\n",
    "        \"pressure\": {0: 350000}}\n",
    "\n",
    "# Pass the tear_guess to the SD tool\n",
    "seq.set_guesses_for(m.fs.H101.inlet, tear_guesses)"
   ]
  },
  {
   "cell_type": "markdown",
   "metadata": {},
   "source": [
    "Next, we need to tell the tool how to initialize a particular unit. We will be writing a python function which takes in a \"unit\" and calls the initialize method on that unit. "
   ]
  },
  {
   "cell_type": "code",
   "execution_count": null,
   "metadata": {},
   "outputs": [],
   "source": [
    "def function(unit):\n",
    "        unit.initialize(outlvl=1)"
   ]
  },
  {
   "cell_type": "markdown",
   "metadata": {},
   "source": [
    "We are now ready to initialize our flowsheet in a sequential mode. Note that we specifically set the iteration limit to be 5 as we are trying to use this tool only to get a good set of initial values such that IPOPT can then take over and solve this flowsheet for us. "
   ]
  },
  {
   "cell_type": "code",
   "execution_count": null,
   "metadata": {},
   "outputs": [],
   "source": [
    "seq.run(m, function)"
   ]
  },
  {
   "cell_type": "markdown",
   "metadata": {},
   "source": [
    "<div class=\"alert alert-block alert-info\">\n",
    "<b>Inline Exercise:</b>\n",
    "We have now initialized the flowsheet. Let us run the flowsheet in a simulation mode to look at the results. To do this, complete the last line of code where we pass the model to the solver. You will need to type the following:\n",
    "    \n",
    "results = solver.solve(m, tee=True)\n",
    "\n",
    "Use Shift+Enter to run the cell once you have typed in your code. \n",
    "</div>\n",
    "\n"
   ]
  },
  {
   "cell_type": "code",
   "execution_count": null,
   "metadata": {},
   "outputs": [],
   "source": [
    "# Create the solver object\n",
    "solver = SolverFactory('ipopt')\n",
    "solver.options = {'tol': 1e-6, 'max_iter': 5000}\n",
    "\n",
    "# Solve the model\n",
    "results = solver.solve(m, tee=False)"
   ]
  },
  {
   "cell_type": "code",
   "execution_count": null,
   "metadata": {},
   "outputs": [],
   "source": [
    "# For testing purposes\n",
    "from pyomo.environ import TerminationCondition\n",
    "assert results.solver.termination_condition == TerminationCondition.optimal"
   ]
  },
  {
   "cell_type": "markdown",
   "metadata": {},
   "source": [
    "Analyze the results of the square problem\n",
    "-------------------------\n",
    "\n",
    "What is the total operating cost? "
   ]
  },
  {
   "cell_type": "code",
   "execution_count": null,
   "metadata": {},
   "outputs": [],
   "source": [
    "print('operating cost = $', value(m.fs.operating_cost))"
   ]
  },
  {
   "cell_type": "markdown",
   "metadata": {},
   "source": [
    "For this operating cost, what is the amount of benzene we are able to produce and what purity we are able to achieve? "
   ]
  },
  {
   "cell_type": "code",
   "execution_count": null,
   "metadata": {},
   "outputs": [],
   "source": [
    "from workshoptools import print_ports_summary\n",
    "\n",
    "print_ports_summary([m.fs.F102.vap_outlet])\n",
    "\n",
    "print()\n",
    "print('benzene purity = ', value(m.fs.purity))"
   ]
  },
  {
   "cell_type": "markdown",
   "metadata": {},
   "source": [
    "<div class=\"alert alert-block alert-info\">\n",
    "<b>Inline Exercise:</b>\n",
    "How much benzene are we loosing in the F101 vapor outlet stream? \n",
    "\n",
    "Use Shift+Enter to run the cell once you have typed in your code. \n",
    "</div>\n"
   ]
  },
  {
   "cell_type": "code",
   "execution_count": null,
   "metadata": {},
   "outputs": [],
   "source": [
    "print_ports_summary([m.fs.R101.outlet, m.fs.F101.vap_outlet])"
   ]
  },
  {
   "cell_type": "markdown",
   "metadata": {},
   "source": [
    "<div class=\"alert alert-block alert-info\">\n",
    "<b>Inline Exercise:</b>\n",
    "You can querry additional variables here if you like. \n",
    "\n",
    "Use Shift+Enter to run the cell once you have typed in your code. \n",
    "</div>\n"
   ]
  },
  {
   "cell_type": "markdown",
   "metadata": {},
   "source": [
    "Optimization\n",
    "--------------------------\n",
    "\n",
    "We saw from the results above that the total operating cost for the base case was $419,122 per year. We are producing 0.142 mol/s of benzene at a purity of 82\\%. However, we are losing around 42\\% of benzene in F101 vapor outlet stream. \n",
    "\n",
    "Let us try to minimize this cost such that:\n",
    "- we are producing at least 0.15 mol/s of benzene in F102 vapor outlet i.e. our product stream\n",
    "- purity of benzne i.e. the mole fraction of benzene in F102 vapor outlet is at least 80%\n",
    "- restricting the benzene loss in F101 vapor outlet to less than 20%\n",
    "\n",
    "For this problem, our decision variables are as follows:\n",
    "- H101 outlet temperature\n",
    "- R101 cooling duty provided\n",
    "- F101 outlet temperature\n",
    "- F102 outlet temperature\n",
    "- F102 deltaP in the flash tank\n"
   ]
  },
  {
   "cell_type": "markdown",
   "metadata": {},
   "source": [
    "Let us declare our objective function for this problem. "
   ]
  },
  {
   "cell_type": "code",
   "execution_count": null,
   "metadata": {},
   "outputs": [],
   "source": [
    "m.fs.objective = Objective(expr=m.fs.operating_cost)"
   ]
  },
  {
   "cell_type": "markdown",
   "metadata": {},
   "source": [
    "Now, we need to unfix the decision variables as we had solved a square problem (degrees of freedom = 0) until now. "
   ]
  },
  {
   "cell_type": "code",
   "execution_count": null,
   "metadata": {},
   "outputs": [],
   "source": [
    "m.fs.H101.outlet.temperature.unfix()\n",
    "m.fs.R101.heat_duty.unfix()\n",
    "m.fs.F101.vap_outlet.temperature.unfix()\n",
    "m.fs.F102.vap_outlet.temperature.unfix()"
   ]
  },
  {
   "cell_type": "markdown",
   "metadata": {},
   "source": [
    "<div class=\"alert alert-block alert-info\">\n",
    "<b>Inline Exercise:</b>\n",
    "Let us now unfix the remaining variable which is F102 pressure drop (F102.deltaP) \n",
    "\n",
    "Use Shift+Enter to run the cell once you have typed in your code. \n",
    "</div>\n",
    "\n"
   ]
  },
  {
   "cell_type": "code",
   "execution_count": null,
   "metadata": {},
   "outputs": [],
   "source": [
    "m.fs.F102.deltaP.unfix()"
   ]
  },
  {
   "cell_type": "markdown",
   "metadata": {},
   "source": [
    "Next, we need to set bounds on these decision variables to values shown below:\n",
    "\n",
    " - H101 outlet temperature [500, 600] K\n",
    " - R101 outlet temperature [600, 800] K\n",
    " - F101 outlet temperature [298, 450] K\n",
    " - F102 outlet temperature [298, 450] K\n",
    " - F102 outlet pressure [105000, 110000] Pa\n",
    "\n",
    "Let us first set the variable bound for the H101 outlet temperature as shown below:"
   ]
  },
  {
   "cell_type": "code",
   "execution_count": null,
   "metadata": {},
   "outputs": [],
   "source": [
    "m.fs.H101.outlet.temperature[0].setlb(500)\n",
    "m.fs.H101.outlet.temperature[0].setub(600)"
   ]
  },
  {
   "cell_type": "markdown",
   "metadata": {},
   "source": [
    "<div class=\"alert alert-block alert-info\">\n",
    "<b>Inline Exercise:</b>\n",
    "Now, set the variable bound for the R101 outlet temperature.\n",
    "\n",
    "Use Shift+Enter to run the cell once you have typed in your code. \n",
    "</div>"
   ]
  },
  {
   "cell_type": "code",
   "execution_count": null,
   "metadata": {},
   "outputs": [],
   "source": [
    "m.fs.R101.outlet.temperature[0].setlb(600)\n",
    "m.fs.R101.outlet.temperature[0].setub(800)"
   ]
  },
  {
   "cell_type": "markdown",
   "metadata": {},
   "source": [
    "Let us fix the bounds for the rest of the decision variables. "
   ]
  },
  {
   "cell_type": "code",
   "execution_count": null,
   "metadata": {},
   "outputs": [],
   "source": [
    "m.fs.F101.vap_outlet.temperature[0].setlb(298.0)\n",
    "m.fs.F101.vap_outlet.temperature[0].setub(450.0)\n",
    "m.fs.F102.vap_outlet.temperature[0].setlb(298.0)\n",
    "m.fs.F102.vap_outlet.temperature[0].setub(450.0)\n",
    "m.fs.F102.vap_outlet.pressure[0].setlb(105000)\n",
    "m.fs.F102.vap_outlet.pressure[0].setub(110000)"
   ]
  },
  {
   "cell_type": "markdown",
   "metadata": {},
   "source": [
    "Now, the only things left to define are our constraints on overhead loss in F101, product flow rate and purity in F102. Let us first look at defining a constraint for the overhead loss in F101 where we are restricting the benzene leaving the vapor stream to less than 20 \\% of the benzene available in the reactor outlet. "
   ]
  },
  {
   "cell_type": "code",
   "execution_count": null,
   "metadata": {},
   "outputs": [],
   "source": [
    "m.fs.overhead_loss = Constraint(\n",
    "        expr=m.fs.F101.vap_outlet.flow_mol_phase_comp[0, \"Vap\", \"benzene\"] <=\n",
    "        0.20 * m.fs.R101.outlet.flow_mol_phase_comp[0, \"Vap\", \"benzene\"])"
   ]
  },
  {
   "cell_type": "markdown",
   "metadata": {},
   "source": [
    "<div class=\"alert alert-block alert-info\">\n",
    "<b>Inline Exercise:</b>\n",
    "Now, add the constraint such that we are producing at least 0.15 mol/s of benzene in the product stream which is the vapor outlet of F102. Let us name this constraint as m.fs.product_flow. \n",
    "\n",
    "Use Shift+Enter to run the cell once you have typed in your code. \n",
    "</div>"
   ]
  },
  {
   "cell_type": "code",
   "execution_count": null,
   "metadata": {},
   "outputs": [],
   "source": [
    "m.fs.product_flow = Constraint(\n",
    "        expr=m.fs.F102.vap_outlet.flow_mol_phase_comp[0, \"Vap\", \"benzene\"] >=\n",
    "        0.15)"
   ]
  },
  {
   "cell_type": "markdown",
   "metadata": {},
   "source": [
    "Let us add the final constraint on product purity or the mole fraction of benzene in the product stream such that it is at least greater than 80%. "
   ]
  },
  {
   "cell_type": "code",
   "execution_count": null,
   "metadata": {},
   "outputs": [],
   "source": [
    "m.fs.product_purity = Constraint(expr=m.fs.purity >= 0.80)"
   ]
  },
  {
   "cell_type": "markdown",
   "metadata": {},
   "source": [
    "\n",
    "We have now defined the optimization problem and we are now ready to solve this problem. \n",
    "\n",
    "\n"
   ]
  },
  {
   "cell_type": "code",
   "execution_count": null,
   "metadata": {},
   "outputs": [],
   "source": [
    "results = solver.solve(m, tee=True)"
   ]
  },
  {
   "cell_type": "code",
   "execution_count": null,
   "metadata": {},
   "outputs": [],
   "source": [
    "# For testing purposes\n",
    "from pyomo.environ import TerminationCondition\n",
    "assert results.solver.termination_condition == TerminationCondition.optimal"
   ]
  },
  {
   "cell_type": "markdown",
   "metadata": {},
   "source": [
    "Optimization Results\n",
    "---\n",
    "Display the results and product specifications"
   ]
  },
  {
   "cell_type": "code",
   "execution_count": null,
   "metadata": {},
   "outputs": [],
   "source": [
    "print('operating cost = $', value(m.fs.operating_cost))\n",
    "\n",
    "print()\n",
    "print('Product flow rate and purity in F102')\n",
    "\n",
    "print_ports_summary([m.fs.F102.vap_outlet])\n",
    "\n",
    "print()\n",
    "print('benzene purity = ', value(m.fs.purity))\n",
    "\n",
    "print()\n",
    "print('Overhead loss in F101')\n",
    "print_ports_summary([m.fs.F101.vap_outlet])"
   ]
  },
  {
   "cell_type": "markdown",
   "metadata": {},
   "source": [
    "Display optimal values for the decision variables"
   ]
  },
  {
   "cell_type": "code",
   "execution_count": null,
   "metadata": {},
   "outputs": [],
   "source": [
    "print('Optimal Values')\n",
    "print()\n",
    "\n",
    "print('H101 outlet temperature = ', value(m.fs.H101.outlet.temperature[0]), 'K')\n",
    "\n",
    "print()\n",
    "print('R101 outlet temperature = ', value(m.fs.R101.outlet.temperature[0]), 'K')\n",
    "\n",
    "print()\n",
    "print('F101 outlet temperature = ', value(m.fs.F101.vap_outlet.temperature[0]), 'K')\n",
    "\n",
    "print()\n",
    "print('F102 outlet temperature = ', value(m.fs.F102.vap_outlet.temperature[0]), 'K')\n",
    "print('F102 outlet pressure = ', value(m.fs.F102.vap_outlet.pressure[0]), 'Pa')"
   ]
  },
  {
   "cell_type": "code",
   "execution_count": null,
   "metadata": {},
   "outputs": [],
   "source": []
  },
  {
   "cell_type": "code",
   "execution_count": 34,
   "metadata": {},
   "outputs": [],
   "source": [
    "from icecream import ic"
   ]
  },
  {
   "cell_type": "code",
   "execution_count": 35,
   "metadata": {},
   "outputs": [],
   "source": [
    "from idaes.core import UnitModelBlockData\n",
    "from pyomo.network.port import SimplePort\n",
    "from pyomo.core.base.param import SimpleParam\n",
    "from pyomo.core.base.var import IndexedVar"
   ]
  },
  {
   "cell_type": "code",
   "execution_count": 57,
   "metadata": {},
   "outputs": [
    {
     "name": "stderr",
     "output_type": "stream",
     "text": [
      "ic| component: <idaes.core.process_block._ScalarMixer object at 0x7f28e6854bd0>\n",
      "ic| subcomponent: <pyomo.network.port.SimplePort object at 0x7f28e683e5f8>\n",
      "ic| subcomponent.arcs(): []\n",
      "ic| subcomponent: <pyomo.network.port.SimplePort object at 0x7f28e683e908>\n",
      "ic| subcomponent.arcs(): []\n",
      "ic| subcomponent: <pyomo.network.port.SimplePort object at 0x7f28e683e978>\n",
      "ic| subcomponent.arcs(): [<pyomo.network.arc.SimpleArc object at 0x7f28e67236a8>]\n",
      "ic| subcomponent: <pyomo.network.port.SimplePort object at 0x7f28e683e9e8>\n",
      "ic| subcomponent.arcs(): [<pyomo.network.arc.SimpleArc object at 0x7f28e6797d08>]\n",
      "ic| component: <idaes.core.process_block._ScalarHeater object at 0x7f28e6854c18>\n",
      "ic| subcomponent: <pyomo.network.port.SimplePort object at 0x7f28e683edd8>\n",
      "ic| subcomponent.arcs(): [<pyomo.network.arc.SimpleArc object at 0x7f28e6797d08>]\n",
      "ic| subcomponent: <pyomo.network.port.SimplePort object at 0x7f28e683ee48>\n",
      "ic| subcomponent.arcs(): [<pyomo.network.arc.SimpleArc object at 0x7f28e6723468>]\n",
      "ic| component: <idaes.core.process_block._ScalarStoichiometricReactor object at 0x7f28e67dc1b0>\n",
      "ic| subcomponent: <pyomo.network.port.SimplePort object at 0x7f28e683eeb8>\n",
      "ic| subcomponent.arcs(): [<pyomo.network.arc.SimpleArc object at 0x7f28e6723468>]\n",
      "ic| subcomponent: <pyomo.network.port.SimplePort object at 0x7f28e67db208>\n",
      "ic| subcomponent.arcs(): [<pyomo.network.arc.SimpleArc object at 0x7f28e6723588>]\n",
      "ic| component: <idaes.core.process_block._ScalarFlash object at 0x7f28e6a33090>\n",
      "ic| subcomponent: <pyomo.network.port.SimplePort object at 0x7f28e67db748>\n",
      "ic| subcomponent.arcs(): [<pyomo.network.arc.SimpleArc object at 0x7f28e6723588>]\n",
      "ic| subcomponent: <pyomo.network.port.SimplePort object at 0x7f28e67db908>\n",
      "ic| subcomponent.arcs(): [<pyomo.network.arc.SimpleArc object at 0x7f28e67235e8>]\n",
      "ic| subcomponent: <pyomo.network.port.SimplePort object at 0x7f28e67db978>\n",
      "ic| subcomponent.arcs(): [<pyomo.network.arc.SimpleArc object at 0x7f28e6723708>]\n",
      "ic| component: <idaes.core.process_block._ScalarSeparator object at 0x7f28e67383f0>\n",
      "ic| subcomponent: <pyomo.network.port.SimplePort object at 0x7f28e67db9e8>\n",
      "ic| subcomponent.arcs(): [<pyomo.network.arc.SimpleArc object at 0x7f28e67235e8>]\n",
      "ic| subcomponent: <pyomo.network.port.SimplePort object at 0x7f28e67dbeb8>\n",
      "ic| subcomponent.arcs(): []\n",
      "ic| subcomponent: <pyomo.network.port.SimplePort object at 0x7f28e67dba58>\n",
      "ic| subcomponent.arcs(): [<pyomo.network.arc.SimpleArc object at 0x7f28e6723648>]\n",
      "ic| component: <idaes.core.process_block._ScalarPressureChanger object at 0x7f28e6754dc8>\n",
      "ic| subcomponent: <pyomo.network.port.SimplePort object at 0x7f28e6762128>\n",
      "ic| subcomponent.arcs(): [<pyomo.network.arc.SimpleArc object at 0x7f28e6723648>]\n",
      "ic| subcomponent: <pyomo.network.port.SimplePort object at 0x7f28e6762198>\n",
      "ic| subcomponent.arcs(): [<pyomo.network.arc.SimpleArc object at 0x7f28e67236a8>]\n",
      "ic| component: <idaes.core.process_block._ScalarFlash object at 0x7f28e6754e10>\n",
      "ic| subcomponent: <pyomo.network.port.SimplePort object at 0x7f28e6762588>\n",
      "ic| subcomponent.arcs(): [<pyomo.network.arc.SimpleArc object at 0x7f28e6723708>]\n",
      "ic| subcomponent: <pyomo.network.port.SimplePort object at 0x7f28e67627b8>\n",
      "ic| subcomponent.arcs(): []\n",
      "ic| subcomponent: <pyomo.network.port.SimplePort object at 0x7f28e6762828>\n",
      "ic| subcomponent.arcs(): []\n"
     ]
    }
   ],
   "source": [
    "comps = m.component_objects(descend_into=False)\n",
    "flowsheet = next(comps)\n",
    "unit_models = {}\n",
    "for component in flowsheet.component_objects(descend_into=False):\n",
    "    if isinstance(component, UnitModelBlockData):\n",
    "        ic(component)\n",
    "        for subcomponent in component.component_objects(descend_into=False):\n",
    "            if isinstance(subcomponent, SimplePort):\n",
    "                ic(subcomponent)\n",
    "                ic(subcomponent.arcs())\n"
   ]
  },
  {
   "cell_type": "code",
   "execution_count": 36,
   "metadata": {},
   "outputs": [
    {
     "name": "stderr",
     "output_type": "stream",
     "text": [
      "ic| component: <idaes.core.process_block._ScalarMixer object at 0x7f543ce43e58>\n",
      "ic| type(component).__name__: '_ScalarMixer'\n",
      "ic| component.to_string(): 'fs.M101'\n",
      "ic| component: <idaes.core.process_block._ScalarHeater object at 0x7f543ce43ea0>\n",
      "ic| type(component).__name__: '_ScalarHeater'\n",
      "ic| component.to_string(): 'fs.H101'\n",
      "ic| component: <idaes.core.process_block._ScalarStoichiometricReactor object at 0x7f543d97d6c0>\n",
      "ic| type(component).__name__: '_ScalarStoichiometricReactor'\n",
      "ic| component.to_string(): 'fs.R101'\n",
      "ic| component: <idaes.core.process_block._ScalarFlash object at 0x7f543da4b510>\n",
      "ic| type(component).__name__: '_ScalarFlash'\n",
      "ic| component.to_string(): 'fs.F101'\n",
      "ic| component: <idaes.core.process_block._ScalarSeparator object at 0x7f543cdb2fc0>\n",
      "ic| type(component).__name__: '_ScalarSeparator'\n",
      "ic| component.to_string(): 'fs.S101'\n",
      "ic| component: <idaes.core.process_block._ScalarPressureChanger object at 0x7f543d35e7e0>\n",
      "ic| type(component).__name__: '_ScalarPressureChanger'\n",
      "ic| component.to_string(): 'fs.C101'\n",
      "ic| component: <idaes.core.process_block._ScalarFlash object at 0x7f543cdd3900>\n",
      "ic| type(component).__name__: '_ScalarFlash'\n",
      "ic| component.to_string(): 'fs.F102'\n",
      "ic| component: <idaes.core.process_block._ScalarSeparator object at 0x7f543cda6678>\n",
      "ic| type(component).__name__: '_ScalarSeparator'\n",
      "ic| component.to_string(): 'fs.F101.split'\n",
      "ic| component: <idaes.core.process_block._ScalarSeparator object at 0x7f543d1e1ee8>\n",
      "ic| type(component).__name__: '_ScalarSeparator'\n",
      "ic| component.to_string(): 'fs.F102.split'\n"
     ]
    }
   ],
   "source": [
    "comps = m.component_objects(descend_into=False)\n",
    "flowsheet = next(comps)\n",
    "for component in flowsheet.component_objects(descend_into=True):\n",
    "    if isinstance(component, UnitModelBlockData):\n",
    "        ic(component)\n",
    "        ic(type(component).__name__)\n",
    "        ic(component.to_string())\n",
    "        #for subcomponent in component.component_objects(descend_into=True):\n",
    "         #   if isinstance(subcomponent, IndexedVar):\n",
    "          #      ic(subcomponent)\n",
    "           #     ic(subcomponent._pprint())\n",
    "            #    ic(subcomponent.to_string())\n",
    "             #   ic(subcomponent)\n",
    "                "
   ]
  },
  {
   "cell_type": "code",
   "execution_count": 45,
   "metadata": {},
   "outputs": [
    {
     "name": "stderr",
     "output_type": "stream",
     "text": [
      "ic| component: <pyomo.core.base.sets.OrderedSimpleSet object at 0x7f28e68451e8>\n",
      "ic| component: <idaes.core.process_block._ScalarHDAParameterBlock object at 0x7f28e684a3f0>\n",
      "ic| component: <idaes.core.process_block._ScalarHDAReactionParameterBlock object at 0x7f28e6851d80>\n",
      "ic| component: <idaes.core.process_block._ScalarMixer object at 0x7f28e6854bd0>\n",
      "ic| component: <idaes.core.process_block._ScalarHeater object at 0x7f28e6854c18>\n",
      "ic| component: <idaes.core.process_block._ScalarStoichiometricReactor object at 0x7f28e67dc1b0>\n",
      "ic| component: <idaes.core.process_block._ScalarFlash object at 0x7f28e6a33090>\n",
      "ic| component: <idaes.core.process_block._ScalarSeparator object at 0x7f28e67383f0>\n",
      "ic| component: <idaes.core.process_block._ScalarPressureChanger object at 0x7f28e6754dc8>\n",
      "ic| component: <idaes.core.process_block._ScalarFlash object at 0x7f28e6754e10>\n",
      "ic| component: <pyomo.network.arc.SimpleArc object at 0x7f28e6797d08>\n",
      "ic| component: <pyomo.network.arc.SimpleArc object at 0x7f28e6723468>\n",
      "ic| component: <pyomo.network.arc.SimpleArc object at 0x7f28e6723588>\n",
      "ic| component: <pyomo.network.arc.SimpleArc object at 0x7f28e67235e8>\n",
      "ic| component: <pyomo.network.arc.SimpleArc object at 0x7f28e6723648>\n",
      "ic| component: <pyomo.network.arc.SimpleArc object at 0x7f28e67236a8>\n",
      "ic| component: <pyomo.network.arc.SimpleArc object at 0x7f28e6723708>\n",
      "ic| component: <pyomo.core.base.block.SimpleBlock object at 0x7f28e691df78>\n",
      "ic| component: <pyomo.core.base.block.SimpleBlock object at 0x7f28e6aad3f0>\n",
      "ic| component: <pyomo.core.base.block.SimpleBlock object at 0x7f28e705c678>\n",
      "ic| component: <pyomo.core.base.block.SimpleBlock object at 0x7f28e6aa11b0>\n",
      "ic| component: <pyomo.core.base.block.SimpleBlock object at 0x7f28e6c381b0>\n",
      "ic| component: <pyomo.core.base.block.SimpleBlock object at 0x7f28e6ad0798>\n",
      "ic| component: <pyomo.core.base.block.SimpleBlock object at 0x7f28e70a5870>\n",
      "ic| component: <pyomo.core.base.expression.SimpleExpression object at 0x7f28e672d408>\n",
      "ic| component: <pyomo.core.base.expression.SimpleExpression object at 0x7f28e66bdcc8>\n",
      "ic| component: <pyomo.core.base.expression.SimpleExpression object at 0x7f28e66bdd18>\n",
      "ic| component: <pyomo.core.base.expression.SimpleExpression object at 0x7f28e66d8098>\n",
      "ic| component: <pyomo.core.base.sets.SimpleSet object at 0x7f28e683a5c8>\n",
      "ic| component: <pyomo.core.base.sets.OrderedSimpleSet object at 0x7f28e6845118>\n",
      "ic| component: <pyomo.core.base.sets.SimpleSet object at 0x7f28e683a678>\n",
      "ic| component: <pyomo.core.base.param.SimpleParam object at 0x7f28e684a900>\n",
      "ic| component: <pyomo.core.base.param.SimpleParam object at 0x7f28e7122990>\n",
      "ic| component: <pyomo.core.base.param.IndexedParam object at 0x7f28e70319e8>\n",
      "ic| component: <pyomo.core.base.param.IndexedParam object at 0x7f28e6a6aa20>\n",
      "ic| component: <pyomo.core.base.param.SimpleParam object at 0x7f28e70acd38>\n",
      "ic| component: <pyomo.core.base.param.IndexedParam object at 0x7f28e70bb8d0>\n",
      "ic| component: <pyomo.core.base.sets.SimpleSet object at 0x7f28e683a780>\n",
      "ic| component: <pyomo.core.base.sets._SetProduct object at 0x7f28e683a7d8>\n",
      "ic| component: <pyomo.core.base.param.IndexedParam object at 0x7f28e683db70>\n",
      "ic| component: <pyomo.core.base.param.IndexedParam object at 0x7f28e683db00>\n",
      "ic| component: <pyomo.core.base.sets.SimpleSet object at 0x7f28e683a830>\n",
      "ic| component: <pyomo.core.base.sets._SetProduct object at 0x7f28e683a888>\n",
      "ic| component: <pyomo.core.base.sets._SetProduct object at 0x7f28e683a8e0>\n",
      "ic| component: <pyomo.core.base.param.IndexedParam object at 0x7f28e683dc50>\n",
      "ic| component: <pyomo.core.base.sets.SimpleSet object at 0x7f28e683a938>\n",
      "ic| component: <pyomo.core.base.sets._SetProduct object at 0x7f28e683a990>\n",
      "ic| component: <pyomo.core.base.param.IndexedParam object at 0x7f28e683dc88>\n",
      "ic| component: <pyomo.core.base.param.IndexedParam object at 0x7f28e683dcf8>\n",
      "ic| component: <pyomo.core.base.sets.SimpleSet object at 0x7f28e6857258>\n",
      "ic| component: <pyomo.core.base.sets.SimpleSet object at 0x7f28e68572b0>\n",
      "ic| component: <pyomo.core.base.sets.SimpleSet object at 0x7f28e6857308>\n",
      "ic| component: <pyomo.core.base.param.IndexedParam object at 0x7f28e683dda0>\n",
      "ic| component: <pyomo.core.base.param.SimpleParam object at 0x7f28e70826c0>\n",
      "ic| component: <idaes.core.process_block._IndexedIdealStateBlock object at 0x7f28e687eb70>\n",
      "ic| component: <idaes.core.process_block._IndexedIdealStateBlock object at 0x7f28e6894160>\n",
      "ic| component: <idaes.core.process_block._IndexedIdealStateBlock object at 0x7f28e685a4e0>\n",
      "ic| component: <idaes.core.process_block._IndexedIdealStateBlock object at 0x7f28e685a940>\n",
      "ic| component: <pyomo.core.base.sets._SetProduct object at 0x7f28e68574c0>\n",
      "ic| component: <pyomo.core.base.sets._SetProduct object at 0x7f28e6857518>\n",
      "ic| component: <pyomo.core.base.constraint.IndexedConstraint object at 0x7f28e685ad30>\n",
      "ic| component: <pyomo.core.base.param.SimpleParam object at 0x7f28e7122048>\n",
      "ic| component: <pyomo.core.base.constraint.IndexedConstraint object at 0x7f28e685acf8>\n",
      "ic| component: <pyomo.core.base.rangeset.RangeSet object at 0x7f28e68122b8>\n",
      "ic| component: <pyomo.core.base.sets._SetProduct object at 0x7f28e6857888>\n",
      "ic| component: <pyomo.core.base.var.IndexedVar object at 0x7f28e708f470>\n",
      "ic| component: <pyomo.core.base.param.SimpleParam object at 0x7f28e7102a20>\n",
      "ic| component: <pyomo.core.base.sets._SetProduct object at 0x7f28e6857360>\n",
      "ic| component: <pyomo.core.base.constraint.IndexedConstraint object at 0x7f28e67f72e8>\n",
      "ic| component: <pyomo.core.base.constraint.IndexedConstraint object at 0x7f28e6808978>\n",
      "ic| component: <pyomo.network.port.SimplePort object at 0x7f28e683e5f8>\n",
      "ic| component: <pyomo.core.base.sets._SetProduct object at 0x7f28e6857990>\n",
      "ic| component: <pyomo.core.base.sets._SetProduct object at 0x7f28e6857938>\n",
      "ic| component: <pyomo.core.base.var.IndexedVar object at 0x7f28e70bba90>\n",
      "ic| component: <pyomo.core.base.var.IndexedVar object at 0x7f28e68161d0>\n",
      "ic| component: <pyomo.core.base.var.IndexedVar object at 0x7f28e6816278>\n",
      "ic| component: <pyomo.network.port.SimplePort object at 0x7f28e683e908>\n",
      "ic| component: <pyomo.core.base.sets._SetProduct object at 0x7f28e6857a98>\n",
      "ic| component: <pyomo.core.base.sets._SetProduct object at 0x7f28e6857a40>\n",
      "ic| component: <pyomo.core.base.var.IndexedVar object at 0x7f28e6816390>\n",
      "ic| component: <pyomo.core.base.var.IndexedVar object at 0x7f28e68164a8>\n",
      "ic| component: <pyomo.core.base.var.IndexedVar object at 0x7f28e6816550>\n",
      "ic| component: <pyomo.network.port.SimplePort object at 0x7f28e683e978>\n",
      "ic| component: <pyomo.core.base.sets._SetProduct object at 0x7f28e6857ba0>\n",
      "ic| component: <pyomo.core.base.sets._SetProduct object at 0x7f28e6857b48>\n",
      "ic| component: <pyomo.core.base.var.IndexedVar object at 0x7f28e6816668>\n",
      "ic| component: <pyomo.core.base.var.IndexedVar object at 0x7f28e6816780>\n",
      "ic| component: <pyomo.core.base.var.IndexedVar object at 0x7f28e6816828>\n",
      "ic| component: <pyomo.network.port.SimplePort object at 0x7f28e683e9e8>\n",
      "ic| component: <pyomo.core.base.sets._SetProduct object at 0x7f28e6857ca8>\n",
      "ic| component: <pyomo.core.base.sets._SetProduct object at 0x7f28e6857c50>\n",
      "ic| component: <pyomo.core.base.var.IndexedVar object at 0x7f28e6816908>\n",
      "ic| component: <pyomo.core.base.var.IndexedVar object at 0x7f28e6816940>\n",
      "ic| component: <pyomo.core.base.var.IndexedVar object at 0x7f28e68169e8>\n",
      "ic| component: <pyomo.core.base.sets._SetProduct object at 0x7f28e6882200>\n",
      "ic| component: <pyomo.core.base.var.IndexedVar object at 0x7f28e711fac8>\n",
      "ic| component: <pyomo.core.base.var.SimpleVar object at 0x7f28e683e438>\n",
      "ic| component: <pyomo.core.base.var.SimpleVar object at 0x7f28e683e3c8>\n",
      "ic| component: <pyomo.core.base.expression.IndexedExpression object at 0x7f28e71c07b8>\n",
      "ic| component: <pyomo.core.base.expression.SimpleExpression object at 0x7f28e6860228>\n",
      "ic| component: <pyomo.core.base.sets._SetProduct object at 0x7f28e6882468>\n",
      "ic| component: <pyomo.core.base.expression.IndexedExpression object at 0x7f28e7294b00>\n",
      "ic| component: <pyomo.core.base.expression.IndexedExpression object at 0x7f28e69ab5c0>\n",
      "ic| component: <pyomo.core.base.var.IndexedVar object at 0x7f28e67f7240>\n",
      "ic| component: <pyomo.core.base.constraint.IndexedConstraint object at 0x7f28e67f71d0>\n",
      "ic| component: <pyomo.core.base.sets._SetProduct object at 0x7f28e68575c8>\n",
      "ic| component: <pyomo.core.base.var.IndexedVar object at 0x7f28e67f7358>\n",
      "ic| component: <pyomo.core.base.sets._SetProduct object at 0x7f28e6857620>\n",
      "ic| component: <pyomo.core.base.constraint.IndexedConstraint object at 0x7f28e67f7400>\n",
      "ic| component: <pyomo.core.base.sets._SetProduct object at 0x7f28e6882d58>\n",
      "ic| component: <pyomo.core.base.var.IndexedVar object at 0x7f28e685a518>\n",
      "ic| component: <pyomo.core.base.var.SimpleVar object at 0x7f28e683e518>\n",
      "ic| component: <pyomo.core.base.var.SimpleVar object at 0x7f28e683e588>\n",
      "ic| component: <pyomo.core.base.expression.IndexedExpression object at 0x7f28e685a4a8>\n",
      "ic| component: <pyomo.core.base.expression.SimpleExpression object at 0x7f28e6860818>\n",
      "ic| component: <pyomo.core.base.sets._SetProduct object at 0x7f28e68828e0>\n",
      "ic| component: <pyomo.core.base.expression.IndexedExpression object at 0x7f28e685a5c0>\n",
      "ic| component: <pyomo.core.base.expression.IndexedExpression object at 0x7f28e685a6d8>\n",
      "ic| component: <pyomo.core.base.var.IndexedVar object at 0x7f28e67f73c8>\n",
      "ic| component: <pyomo.core.base.constraint.IndexedConstraint object at 0x7f28e67f7a20>\n",
      "ic| component: <pyomo.core.base.sets._SetProduct object at 0x7f28e6857678>\n",
      "ic| component: <pyomo.core.base.var.IndexedVar object at 0x7f28e67f7b00>\n",
      "ic| component: <pyomo.core.base.sets._SetProduct object at 0x7f28e68576d0>\n",
      "ic| component: <pyomo.core.base.constraint.IndexedConstraint object at 0x7f28e67f7ba8>\n",
      "ic| component: <pyomo.core.base.sets._SetProduct object at 0x7f28e683a728>\n",
      "ic| component: <pyomo.core.base.var.IndexedVar object at 0x7f28e685a9e8>\n",
      "ic| component: <pyomo.core.base.var.SimpleVar object at 0x7f28e683e7b8>\n",
      "ic| component: <pyomo.core.base.var.SimpleVar object at 0x7f28e683e748>\n",
      "ic| component: <pyomo.core.base.expression.IndexedExpression object at 0x7f28e685a978>\n",
      "ic| component: <pyomo.core.base.expression.SimpleExpression object at 0x7f28e6860e58>\n",
      "ic| component: <pyomo.core.base.sets._SetProduct object at 0x7f28e683a6d0>\n",
      "ic| component: <pyomo.core.base.expression.IndexedExpression object at 0x7f28e685aa90>\n",
      "ic| component: <pyomo.core.base.expression.IndexedExpression object at 0x7f28e685ab00>\n",
      "ic| component: <pyomo.core.base.var.IndexedVar object at 0x7f28e67f7c88>\n",
      "ic| component: <pyomo.core.base.constraint.IndexedConstraint object at 0x7f28e6808198>\n",
      "ic| component: <pyomo.core.base.sets._SetProduct object at 0x7f28e6857728>\n",
      "ic| component: <pyomo.core.base.var.IndexedVar object at 0x7f28e6808278>\n",
      "ic| component: <pyomo.core.base.sets._SetProduct object at 0x7f28e6857780>\n",
      "ic| component: <pyomo.core.base.constraint.IndexedConstraint object at 0x7f28e6808320>\n",
      "ic| component: <pyomo.core.base.sets._SetProduct object at 0x7f28e683a620>\n",
      "ic| component: <pyomo.core.base.var.IndexedVar object at 0x7f28e685add8>\n",
      "ic| component: <pyomo.core.base.var.SimpleVar object at 0x7f28e683e898>\n",
      "ic| component: <pyomo.core.base.var.SimpleVar object at 0x7f28e683e828>\n",
      "ic| component: <pyomo.core.base.expression.IndexedExpression object at 0x7f28e685ad68>\n",
      "ic| component: <pyomo.core.base.expression.SimpleExpression object at 0x7f28e686e4a8>\n",
      "ic| component: <pyomo.core.base.sets._SetProduct object at 0x7f28e68573b8>\n",
      "ic| component: <pyomo.core.base.expression.IndexedExpression object at 0x7f28e685ae80>\n",
      "ic| component: <pyomo.core.base.expression.IndexedExpression object at 0x7f28e685aef0>\n",
      "ic| component: <pyomo.core.base.var.IndexedVar object at 0x7f28e68082b0>\n",
      "ic| component: <pyomo.core.base.constraint.IndexedConstraint object at 0x7f28e6808438>\n",
      "ic| component: <pyomo.core.base.sets._SetProduct object at 0x7f28e68577d8>\n",
      "ic| component: <pyomo.core.base.var.IndexedVar object at 0x7f28e68089b0>\n",
      "ic| component: <pyomo.core.base.sets._SetProduct object at 0x7f28e6857830>\n",
      "ic| component: <pyomo.core.base.constraint.IndexedConstraint object at 0x7f28e6808a58>\n",
      "ic| component: <idaes.core.process_block._ScalarControlVolume0DBlock object at 0x7f28e68286c0>\n",
      "ic| component: <pyomo.network.port.SimplePort object at 0x7f28e683edd8>\n",
      "ic| component: <pyomo.core.base.sets._SetProduct object at 0x7f28e67c7200>\n",
      "ic| component: <pyomo.core.base.sets._SetProduct object at 0x7f28e67c71a8>\n",
      "ic| component: <pyomo.core.base.var.IndexedVar object at 0x7f28e67c8da0>\n",
      "ic| component: <pyomo.core.base.var.IndexedVar object at 0x7f28e67c8eb8>\n",
      "ic| component: <pyomo.core.base.var.IndexedVar object at 0x7f28e67c8f60>\n",
      "ic| component: <pyomo.network.port.SimplePort object at 0x7f28e683ee48>\n",
      "ic| component: <pyomo.core.base.sets._SetProduct object at 0x7f28e67c7308>\n",
      "ic| component: <pyomo.core.base.sets._SetProduct object at 0x7f28e67c72b0>\n",
      "ic| component: <pyomo.core.base.var.IndexedVar object at 0x7f28e67d80b8>\n",
      "ic| component: <pyomo.core.base.var.IndexedVar object at 0x7f28e67d81d0>\n",
      "ic| component: <pyomo.core.base.var.IndexedVar object at 0x7f28e67d8278>\n",
      "ic| component: <idaes.core.process_block._IndexedIdealStateBlock object at 0x7f28e685a5f8>\n",
      "ic| component: <idaes.core.process_block._IndexedIdealStateBlock object at 0x7f28e6816b70>\n",
      "ic| component: <pyomo.core.base.sets._SetProduct object at 0x7f28e6857eb8>\n",
      "ic| component: <pyomo.core.base.var.IndexedVar object at 0x7f28e6816ef0>\n",
      "ic| component: <pyomo.core.base.sets._SetProduct object at 0x7f28e6857f68>\n",
      "ic| component: <pyomo.core.base.sets._SetProduct object at 0x7f28e6857fc0>\n",
      "ic| component: <pyomo.core.base.constraint.IndexedConstraint object at 0x7f28e6816f28>\n",
      "ic| component: <pyomo.core.base.param.SimpleParam object at 0x7f28e67be510>\n",
      "ic| component: <pyomo.core.base.var.IndexedVar object at 0x7f28e67b39e8>\n",
      "ic| component: <pyomo.core.base.constraint.IndexedConstraint object at 0x7f28e67b3b70>\n",
      "ic| component: <pyomo.core.base.param.SimpleParam object at 0x7f28e7073dc8>\n",
      "ic| component: <pyomo.core.base.constraint.IndexedConstraint object at 0x7f28e67b3d30>\n",
      "ic| component: <pyomo.core.base.sets._SetProduct object at 0x7f28e6857d58>\n",
      "ic| component: <pyomo.core.base.var.IndexedVar object at 0x7f28e6816ba8>\n",
      "ic| component: <pyomo.core.base.var.SimpleVar object at 0x7f28e683eb38>\n",
      "ic| component: <pyomo.core.base.var.SimpleVar object at 0x7f28e683ea58>\n",
      "ic| component: <pyomo.core.base.expression.IndexedExpression object at 0x7f28e6816b38>\n",
      "ic| component: <pyomo.core.base.expression.SimpleExpression object at 0x7f28e682b458>\n",
      "ic| component: <pyomo.core.base.sets._SetProduct object at 0x7f28e6857db0>\n",
      "ic| component: <pyomo.core.base.expression.IndexedExpression object at 0x7f28e6816c50>\n",
      "ic| component: <pyomo.core.base.expression.IndexedExpression object at 0x7f28e6816cc0>\n",
      "ic| component: <pyomo.core.base.var.IndexedVar object at 0x7f28e67b3da0>\n",
      "ic| component: <pyomo.core.base.constraint.IndexedConstraint object at 0x7f28e67b3d68>\n",
      "ic| component: <pyomo.core.base.sets._SetProduct object at 0x7f28e67c7048>\n",
      "ic| component: <pyomo.core.base.var.IndexedVar object at 0x7f28e67b3eb8>\n",
      "ic| component: <pyomo.core.base.sets._SetProduct object at 0x7f28e67c70a0>\n",
      "ic| component: <pyomo.core.base.constraint.IndexedConstraint object at 0x7f28e67b3f60>\n",
      "ic| component: <pyomo.core.base.sets._SetProduct object at 0x7f28e6857e08>\n",
      "ic| component: <pyomo.core.base.var.IndexedVar object at 0x7f28e6816fd0>\n",
      "ic| component: <pyomo.core.base.var.SimpleVar object at 0x7f28e683eba8>\n",
      "ic| component: <pyomo.core.base.var.SimpleVar object at 0x7f28e683eac8>\n",
      "ic| component: <pyomo.core.base.expression.IndexedExpression object at 0x7f28e6816f60>\n",
      "ic| component: <pyomo.core.base.expression.SimpleExpression object at 0x7f28e682ba48>\n",
      "ic| component: <pyomo.core.base.sets._SetProduct object at 0x7f28e6857e60>\n",
      "ic| component: <pyomo.core.base.expression.IndexedExpression object at 0x7f28e67b30b8>\n",
      "ic| component: <pyomo.core.base.expression.IndexedExpression object at 0x7f28e67b3128>\n",
      "ic| component: <pyomo.core.base.var.SimpleVar object at 0x7f28e683ec18>\n",
      "ic| component: <pyomo.core.base.var.SimpleVar object at 0x7f28e683ec88>\n",
      "ic| component: <pyomo.core.base.param.SimpleParam object at 0x7f28e67b5360>\n",
      "ic| component: <pyomo.core.base.param.SimpleParam object at 0x7f28e67b5438>\n",
      "ic| component: <pyomo.core.base.constraint.SimpleConstraint object at 0x7f28e6812c10>\n",
      "ic| component: <pyomo.core.base.param.SimpleParam object at 0x7f28e70accf0>\n"
     ]
    },
    {
     "name": "stderr",
     "output_type": "stream",
     "text": [
      "ic| component: <pyomo.core.base.constraint.SimpleConstraint object at 0x7f28e6812c78>\n",
      "ic| component: <pyomo.core.base.var.SimpleVar object at 0x7f28e683ecf8>\n",
      "ic| component: <pyomo.core.base.expression.IndexedExpression object at 0x7f28e67b3438>\n",
      "ic| component: <pyomo.core.base.constraint.SimpleConstraint object at 0x7f28e6812ce0>\n",
      "ic| component: <pyomo.core.base.expression.IndexedExpression object at 0x7f28e67b3630>\n",
      "ic| component: <pyomo.core.base.constraint.IndexedConstraint object at 0x7f28e67b36d8>\n",
      "ic| component: <pyomo.core.base.expression.IndexedExpression object at 0x7f28e67b3828>\n",
      "ic| component: <pyomo.core.base.expression.IndexedExpression object at 0x7f28e67b37b8>\n",
      "ic| component: <pyomo.core.base.var.IndexedVar object at 0x7f28e67b3898>\n",
      "ic| component: <pyomo.core.base.constraint.IndexedConstraint object at 0x7f28e67b3978>\n",
      "ic| component: <pyomo.core.base.var.IndexedVar object at 0x7f28e67b3e80>\n",
      "ic| component: <pyomo.core.base.constraint.IndexedConstraint object at 0x7f28e67c8588>\n",
      "ic| component: <pyomo.core.base.sets._SetProduct object at 0x7f28e67c70f8>\n",
      "ic| component: <pyomo.core.base.var.IndexedVar object at 0x7f28e67c8668>\n",
      "ic| component: <pyomo.core.base.sets._SetProduct object at 0x7f28e67c7150>\n",
      "ic| component: <pyomo.core.base.constraint.IndexedConstraint object at 0x7f28e67c8710>\n",
      "ic| component: <idaes.core.process_block._ScalarControlVolume0DBlock object at 0x7f28e76962d0>\n",
      "ic| component: <pyomo.network.port.SimplePort object at 0x7f28e683eeb8>\n",
      "ic| component: <pyomo.core.base.sets._SetProduct object at 0x7f28e67c7a98>\n",
      "ic| component: <pyomo.core.base.sets._SetProduct object at 0x7f28e67c7a40>\n",
      "ic| component: <pyomo.core.base.var.IndexedVar object at 0x7f28e6775d30>\n",
      "ic| component: <pyomo.core.base.var.IndexedVar object at 0x7f28e6775e48>\n",
      "ic| component: <pyomo.core.base.var.IndexedVar object at 0x7f28e6775ef0>\n",
      "ic| component: <pyomo.network.port.SimplePort object at 0x7f28e67db208>\n",
      "ic| component: <pyomo.core.base.sets._SetProduct object at 0x7f28e67c7ba0>\n",
      "ic| component: <pyomo.core.base.sets._SetProduct object at 0x7f28e67c7b48>\n",
      "ic| component: <pyomo.core.base.var.IndexedVar object at 0x7f28e6775f98>\n",
      "ic| component: <pyomo.core.base.var.IndexedVar object at 0x7f28e6782160>\n",
      "ic| component: <pyomo.core.base.var.IndexedVar object at 0x7f28e6782208>\n",
      "ic| component: <idaes.core.process_block._IndexedIdealStateBlock object at 0x7f28e6d5eb70>\n",
      "ic| component: <idaes.core.process_block._IndexedIdealStateBlock object at 0x7f28e683d6d8>\n",
      "ic| component: <idaes.core.process_block._IndexedHDAReactionBlock object at 0x7f28e67d85c0>\n",
      "ic| component: <pyomo.core.base.sets._SetProduct object at 0x7f28e67c7570>\n",
      "ic| component: <pyomo.core.base.sets._SetProduct object at 0x7f28e67c7620>\n",
      "ic| component: <pyomo.core.base.var.IndexedVar object at 0x7f28e70e9908>\n",
      "ic| component: <pyomo.core.base.sets._SetProduct object at 0x7f28e67c76d0>\n",
      "ic| component: <pyomo.core.base.sets._SetProduct object at 0x7f28e67c7728>\n",
      "ic| component: <pyomo.core.base.constraint.IndexedConstraint object at 0x7f28e67d8908>\n",
      "ic| component: <pyomo.core.base.sets._SetProduct object at 0x7f28e67c77d8>\n",
      "ic| component: <pyomo.core.base.var.IndexedVar object at 0x7f28e774a7b8>\n",
      "ic| component: <pyomo.core.base.sets._SetProduct object at 0x7f28e67c7830>\n",
      "ic| component: <pyomo.core.base.sets._SetProduct object at 0x7f28e67c7888>\n",
      "ic| component: <pyomo.core.base.constraint.IndexedConstraint object at 0x7f28e744d9b0>\n",
      "ic| component: <pyomo.core.base.param.SimpleParam object at 0x7f28e6aade58>\n",
      "ic| component: <pyomo.core.base.var.IndexedVar object at 0x7f28e67d8940>\n",
      "ic| component: <pyomo.core.base.expression.IndexedExpression object at 0x7f28e67d8ac8>\n",
      "ic| component: <pyomo.core.base.constraint.IndexedConstraint object at 0x7f28e67d8be0>\n",
      "ic| component: <pyomo.core.base.param.SimpleParam object at 0x7f28e7094e58>\n",
      "ic| component: <pyomo.core.base.constraint.IndexedConstraint object at 0x7f28e67d8d30>\n",
      "ic| component: <pyomo.core.base.sets._SetProduct object at 0x7f28e6882048>\n",
      "ic| component: <pyomo.core.base.var.IndexedVar object at 0x7f28e6daceb8>\n",
      "ic| component: <pyomo.core.base.var.SimpleVar object at 0x7f28e683ef28>\n",
      "ic| component: <pyomo.core.base.var.SimpleVar object at 0x7f28e683ef98>\n",
      "ic| component: <pyomo.core.base.expression.IndexedExpression object at 0x7f28e683d7f0>\n",
      "ic| component: <pyomo.core.base.expression.SimpleExpression object at 0x7f28e67d9868>\n",
      "ic| component: <pyomo.core.base.sets._SetProduct object at 0x7f28e6857468>\n",
      "ic| component: <pyomo.core.base.expression.IndexedExpression object at 0x7f28e6d7a128>\n",
      "ic| component: <pyomo.core.base.expression.IndexedExpression object at 0x7f28e67d8358>\n",
      "ic| component: <pyomo.core.base.var.IndexedVar object at 0x7f28e67d8da0>\n",
      "ic| component: <pyomo.core.base.constraint.IndexedConstraint object at 0x7f28e67d8d68>\n",
      "ic| component: <pyomo.core.base.sets._SetProduct object at 0x7f28e67c78e0>\n",
      "ic| component: <pyomo.core.base.var.IndexedVar object at 0x7f28e67d8e48>\n",
      "ic| component: <pyomo.core.base.sets._SetProduct object at 0x7f28e67c7938>\n",
      "ic| component: <pyomo.core.base.constraint.IndexedConstraint object at 0x7f28e67d8ef0>\n",
      "ic| component: <pyomo.core.base.sets._SetProduct object at 0x7f28e6857410>\n",
      "ic| component: <pyomo.core.base.var.IndexedVar object at 0x7f28e67d85f8>\n",
      "ic| component: <pyomo.core.base.var.SimpleVar object at 0x7f28e67db048>\n",
      "ic| component: <pyomo.core.base.var.SimpleVar object at 0x7f28e67db198>\n",
      "ic| component: <pyomo.core.base.expression.IndexedExpression object at 0x7f28e67d8588>\n",
      "ic| component: <pyomo.core.base.expression.SimpleExpression object at 0x7f28e67d9e58>\n",
      "ic| component: <pyomo.core.base.sets._SetProduct object at 0x7f28e67c7468>\n",
      "ic| component: <pyomo.core.base.expression.IndexedExpression object at 0x7f28e67d86a0>\n",
      "ic| component: <pyomo.core.base.expression.IndexedExpression object at 0x7f28e67d8710>\n",
      "ic| component: <pyomo.core.base.var.IndexedVar object at 0x7f28e67d8eb8>\n",
      "ic| component: <pyomo.core.base.constraint.IndexedConstraint object at 0x7f28e6775518>\n",
      "ic| component: <pyomo.core.base.sets._SetProduct object at 0x7f28e67c7990>\n",
      "ic| component: <pyomo.core.base.var.IndexedVar object at 0x7f28e67755f8>\n",
      "ic| component: <pyomo.core.base.sets._SetProduct object at 0x7f28e67c79e8>\n",
      "ic| component: <pyomo.core.base.constraint.IndexedConstraint object at 0x7f28e67756a0>\n",
      "ic| component: <idaes.core.process_block._ScalarControlVolume0DBlock object at 0x7f28e67818b8>\n",
      "ic| component: <pyomo.network.port.SimplePort object at 0x7f28e67db748>\n",
      "ic| component: <pyomo.core.base.sets._SetProduct object at 0x7f28e67a2150>\n",
      "ic| component: <pyomo.core.base.sets._SetProduct object at 0x7f28e67a20f8>\n",
      "ic| component: <pyomo.core.base.var.IndexedVar object at 0x7f28e67a53c8>\n",
      "ic| component: <pyomo.core.base.var.IndexedVar object at 0x7f28e67a54e0>\n",
      "ic| component: <pyomo.core.base.var.IndexedVar object at 0x7f28e67a5588>\n",
      "ic| component: <idaes.core.process_block._ScalarSeparator object at 0x7f28e67a0af8>\n",
      "ic| component: <pyomo.network.port.SimplePort object at 0x7f28e67db908>\n",
      "ic| component: <pyomo.network.port.SimplePort object at 0x7f28e67db978>\n",
      "ic| component: <idaes.core.process_block._IndexedIdealStateBlock object at 0x7f28e70bbac8>\n",
      "ic| component: <idaes.core.process_block._IndexedIdealStateBlock object at 0x7f28e6782320>\n",
      "ic| component: <pyomo.core.base.sets._SetProduct object at 0x7f28e67c74c0>\n",
      "ic| component: <pyomo.core.base.var.IndexedVar object at 0x7f28e6782630>\n",
      "ic| component: <pyomo.core.base.sets._SetProduct object at 0x7f28e67c7518>\n",
      "ic| component: <pyomo.core.base.sets._SetProduct object at 0x7f28e67c7410>\n",
      "ic| component: <pyomo.core.base.constraint.IndexedConstraint object at 0x7f28e6782668>\n",
      "ic| component: <pyomo.core.base.param.SimpleParam object at 0x7f28e69fa798>\n",
      "ic| component: <pyomo.core.base.var.IndexedVar object at 0x7f28e6782e48>\n",
      "ic| component: <pyomo.core.base.constraint.IndexedConstraint object at 0x7f28e67960b8>\n",
      "ic| component: <pyomo.core.base.var.IndexedVar object at 0x7f28e6796080>\n",
      "ic| component: <pyomo.core.base.param.SimpleParam object at 0x7f28e70455a0>\n",
      "ic| component: <pyomo.core.base.constraint.IndexedConstraint object at 0x7f28e6796390>\n",
      "ic| component: <pyomo.core.base.sets._SetProduct object at 0x7f28e67c7db0>\n",
      "ic| component: <pyomo.core.base.var.IndexedVar object at 0x7f28e6782358>\n",
      "ic| component: <pyomo.core.base.var.SimpleVar object at 0x7f28e67db518>\n",
      "ic| component: <pyomo.core.base.var.SimpleVar object at 0x7f28e67db3c8>\n",
      "ic| component: <pyomo.core.base.expression.IndexedExpression object at 0x7f28e67822e8>\n",
      "ic| component: <pyomo.core.base.expression.SimpleExpression object at 0x7f28e677e908>\n",
      "ic| component: <pyomo.core.base.sets._SetProduct object at 0x7f28e67c7e08>\n",
      "ic| component: <pyomo.core.base.expression.IndexedExpression object at 0x7f28e6782400>\n",
      "ic| component: <pyomo.core.base.expression.IndexedExpression object at 0x7f28e6782470>\n",
      "ic| component: <pyomo.core.base.var.IndexedVar object at 0x7f28e67962e8>\n",
      "ic| component: <pyomo.core.base.constraint.IndexedConstraint object at 0x7f28e67962b0>\n",
      "ic| component: <pyomo.core.base.sets._SetProduct object at 0x7f28e67c7f10>\n",
      "ic| component: <pyomo.core.base.var.IndexedVar object at 0x7f28e6796400>\n",
      "ic| component: <pyomo.core.base.sets._SetProduct object at 0x7f28e67c7f68>\n",
      "ic| component: <pyomo.core.base.constraint.IndexedConstraint object at 0x7f28e67964a8>\n",
      "ic| component: <pyomo.core.base.sets._SetProduct object at 0x7f28e67c7e60>\n",
      "ic| component: <pyomo.core.base.var.IndexedVar object at 0x7f28e6782710>\n",
      "ic| component: <pyomo.core.base.var.SimpleVar object at 0x7f28e67db588>\n",
      "ic| component: <pyomo.core.base.var.SimpleVar object at 0x7f28e67db358>\n",
      "ic| component: <pyomo.core.base.expression.IndexedExpression object at 0x7f28e67826a0>\n",
      "ic| component: <pyomo.core.base.expression.SimpleExpression object at 0x7f28e677eea8>\n",
      "ic| component: <pyomo.core.base.sets._SetProduct object at 0x7f28e67c7eb8>\n",
      "ic| component: <pyomo.core.base.expression.IndexedExpression object at 0x7f28e67827b8>\n",
      "ic| component: <pyomo.core.base.expression.IndexedExpression object at 0x7f28e6782860>\n",
      "ic| component: <pyomo.core.base.var.SimpleVar object at 0x7f28e67db668>\n",
      "ic| component: <pyomo.core.base.var.SimpleVar object at 0x7f28e67db6d8>\n",
      "ic| component: <pyomo.core.base.param.SimpleParam object at 0x7f28e678f510>\n",
      "ic| component: <pyomo.core.base.param.SimpleParam object at 0x7f28e678f5e8>\n",
      "ic| component: <pyomo.core.base.constraint.SimpleConstraint object at 0x7f28e67886c8>\n",
      "ic| component: <pyomo.core.base.param.SimpleParam object at 0x7f28e6afc0d8>\n",
      "ic| component: <pyomo.core.base.constraint.SimpleConstraint object at 0x7f28e6788730>\n",
      "ic| component: <pyomo.core.base.var.SimpleVar object at 0x7f28e67db2e8>\n",
      "ic| component: <pyomo.core.base.expression.IndexedExpression object at 0x7f28e683dac8>\n",
      "ic| component: <pyomo.core.base.constraint.SimpleConstraint object at 0x7f28e6788798>\n",
      "ic| component: <pyomo.core.base.expression.IndexedExpression object at 0x7f28e6782b70>\n",
      "ic| component: <pyomo.core.base.constraint.IndexedConstraint object at 0x7f28e6782c18>\n",
      "ic| component: <pyomo.core.base.expression.IndexedExpression object at 0x7f28e6782d68>\n",
      "ic| component: <pyomo.core.base.expression.IndexedExpression object at 0x7f28e6782cf8>\n",
      "ic| component: <pyomo.core.base.var.IndexedVar object at 0x7f28e6782dd8>\n",
      "ic| component: <pyomo.core.base.constraint.IndexedConstraint object at 0x7f28e6782eb8>\n",
      "ic| component: <pyomo.core.base.var.IndexedVar object at 0x7f28e6796470>\n",
      "ic| component: <pyomo.core.base.constraint.IndexedConstraint object at 0x7f28e6796b38>\n",
      "ic| component: <pyomo.core.base.sets._SetProduct object at 0x7f28e67c7fc0>\n",
      "ic| component: <pyomo.core.base.var.IndexedVar object at 0x7f28e6796c18>\n",
      "ic| component: <pyomo.core.base.sets._SetProduct object at 0x7f28e67a2048>\n",
      "ic| component: <pyomo.core.base.constraint.IndexedConstraint object at 0x7f28e6796cc0>\n",
      "ic| component: <pyomo.network.port.SimplePort object at 0x7f28e67db898>\n",
      "ic| component: <pyomo.core.base.sets._SetProduct object at 0x7f28e67a2258>\n",
      "ic| component: <pyomo.core.base.sets._SetProduct object at 0x7f28e67a2200>\n",
      "ic| component: <pyomo.core.base.var.IndexedVar object at 0x7f28e67a56d8>\n",
      "ic| component: <pyomo.core.base.var.IndexedVar object at 0x7f28e67a5668>\n",
      "ic| component: <pyomo.core.base.var.IndexedVar object at 0x7f28e6886e48>\n",
      "ic| component: <pyomo.core.base.param.SimpleParam object at 0x7f28e6a9b678>\n",
      "ic| component: <pyomo.network.port.SimplePort object at 0x7f28e67db5f8>\n",
      "ic| component: <pyomo.core.base.sets._SetProduct object at 0x7f28e67c7d58>\n",
      "ic| component: <pyomo.core.base.sets._SetProduct object at 0x7f28e67a2308>\n",
      "ic| component: <pyomo.core.base.expression.IndexedExpression object at 0x7f28e67a5828>\n",
      "ic| component: <pyomo.core.base.var.IndexedVar object at 0x7f28e67a5940>\n",
      "ic| component: <pyomo.core.base.var.IndexedVar object at 0x7f28e67a59e8>\n",
      "ic| component: <pyomo.network.port.SimplePort object at 0x7f28e67db828>\n",
      "ic| component: <pyomo.core.base.sets._SetProduct object at 0x7f28e67a23b8>\n",
      "ic| component: <pyomo.core.base.sets._SetProduct object at 0x7f28e67a2410>\n",
      "ic| component: <pyomo.core.base.expression.IndexedExpression object at 0x7f28e67a5978>\n",
      "ic| component: <pyomo.core.base.var.IndexedVar object at 0x7f28e67a5ac8>\n",
      "ic| component: <pyomo.core.base.var.IndexedVar object at 0x7f28e67a5b70>\n",
      "ic| component: <idaes.core.process_block._IndexedIdealStateBlock object at 0x7f28e673a630>\n",
      "ic| component: <pyomo.network.port.SimplePort object at 0x7f28e67db9e8>\n",
      "ic| component: <pyomo.core.base.sets._SetProduct object at 0x7f28e67c7d00>\n",
      "ic| component: <pyomo.core.base.sets._SetProduct object at 0x7f28e67c7c50>\n",
      "ic| component: <pyomo.core.base.var.IndexedVar object at 0x7f28e673a9e8>\n",
      "ic| component: <pyomo.core.base.var.IndexedVar object at 0x7f28e673a9b0>\n",
      "ic| component: <pyomo.core.base.var.IndexedVar object at 0x7f28e673aba8>\n",
      "ic| component: <idaes.core.process_block._IndexedIdealStateBlock object at 0x7f28e673ab38>\n",
      "ic| component: <idaes.core.process_block._IndexedIdealStateBlock object at 0x7f28e673ad30>\n",
      "ic| component: <pyomo.core.base.sets.SimpleSet object at 0x7f28e67a2938>\n",
      "ic| component: <pyomo.core.base.sets._SetProduct object at 0x7f28e67a2990>\n",
      "ic| component: <pyomo.core.base.var.IndexedVar object at 0x7f28e6747128>\n",
      "ic| component: <pyomo.core.base.constraint.IndexedConstraint object at 0x7f28e6747198>\n",
      "ic| component: <pyomo.core.base.sets._SetProduct object at 0x7f28e67a2a40>\n",
      "ic| component: <pyomo.core.base.sets._SetProduct object at 0x7f28e67a2a98>\n",
      "ic| component: <pyomo.core.base.sets._SetProduct object at 0x7f28e67a2af0>\n",
      "ic| component: <pyomo.core.base.constraint.IndexedConstraint object at 0x7f28e67474e0>\n",
      "ic| component: <pyomo.core.base.sets._SetProduct object at 0x7f28e67a2ba0>\n",
      "ic| component: <pyomo.core.base.constraint.IndexedConstraint object at 0x7f28e6747518>\n",
      "ic| component: <pyomo.core.base.sets._SetProduct object at 0x7f28e67a2bf8>\n",
      "ic| component: <pyomo.core.base.constraint.IndexedConstraint object at 0x7f28e6747588>\n",
      "ic| component: <pyomo.network.port.SimplePort object at 0x7f28e67dbeb8>\n",
      "ic| component: <pyomo.core.base.sets._SetProduct object at 0x7f28e67a2ca8>\n",
      "ic| component: <pyomo.core.base.sets._SetProduct object at 0x7f28e67a2c50>\n",
      "ic| component: <pyomo.core.base.var.IndexedVar object at 0x7f28e67477b8>\n",
      "ic| component: <pyomo.core.base.var.IndexedVar object at 0x7f28e6747828>\n",
      "ic| component: <pyomo.core.base.var.IndexedVar object at 0x7f28e67478d0>\n",
      "ic| component: <pyomo.network.port.SimplePort object at 0x7f28e67dba58>\n",
      "ic| component: <pyomo.core.base.sets._SetProduct object at 0x7f28e67a2db0>\n",
      "ic| component: <pyomo.core.base.sets._SetProduct object at 0x7f28e67a2d58>\n",
      "ic| component: <pyomo.core.base.var.IndexedVar object at 0x7f28e67479e8>\n",
      "ic| component: <pyomo.core.base.var.IndexedVar object at 0x7f28e6747978>\n",
      "ic| component: <pyomo.core.base.var.IndexedVar object at 0x7f28e6747a90>\n",
      "ic| component: <pyomo.core.base.sets._SetProduct object at 0x7f28e67a2678>\n",
      "ic| component: <pyomo.core.base.var.IndexedVar object at 0x7f28e673a7b8>\n",
      "ic| component: <pyomo.core.base.var.SimpleVar object at 0x7f28e67dbac8>\n",
      "ic| component: <pyomo.core.base.var.SimpleVar object at 0x7f28e67dbc88>\n",
      "ic| component: <pyomo.core.base.expression.IndexedExpression object at 0x7f28e673a748>\n",
      "ic| component: <pyomo.core.base.expression.SimpleExpression object at 0x7f28e673f228>\n",
      "ic| component: <pyomo.core.base.sets._SetProduct object at 0x7f28e67a27d8>\n",
      "ic| component: <pyomo.core.base.expression.IndexedExpression object at 0x7f28e673a860>\n"
     ]
    },
    {
     "name": "stderr",
     "output_type": "stream",
     "text": [
      "ic| component: <pyomo.core.base.expression.IndexedExpression object at 0x7f28e6886e10>\n",
      "ic| component: <pyomo.core.base.sets._SetProduct object at 0x7f28e67a2570>\n",
      "ic| component: <pyomo.core.base.var.IndexedVar object at 0x7f28e673ad68>\n",
      "ic| component: <pyomo.core.base.var.SimpleVar object at 0x7f28e67dbd68>\n",
      "ic| component: <pyomo.core.base.var.SimpleVar object at 0x7f28e67dbcf8>\n",
      "ic| component: <pyomo.core.base.expression.IndexedExpression object at 0x7f28e673acf8>\n",
      "ic| component: <pyomo.core.base.expression.SimpleExpression object at 0x7f28e673fa48>\n",
      "ic| component: <pyomo.core.base.sets._SetProduct object at 0x7f28e67a2830>\n",
      "ic| component: <pyomo.core.base.expression.IndexedExpression object at 0x7f28e673ae10>\n",
      "ic| component: <pyomo.core.base.expression.IndexedExpression object at 0x7f28e673ae80>\n",
      "ic| component: <pyomo.core.base.sets._SetProduct object at 0x7f28e67a2888>\n",
      "ic| component: <pyomo.core.base.var.IndexedVar object at 0x7f28e67471d0>\n",
      "ic| component: <pyomo.core.base.var.SimpleVar object at 0x7f28e67dbe48>\n",
      "ic| component: <pyomo.core.base.var.SimpleVar object at 0x7f28e67dbdd8>\n",
      "ic| component: <pyomo.core.base.expression.IndexedExpression object at 0x7f28e6747160>\n",
      "ic| component: <pyomo.core.base.expression.SimpleExpression object at 0x7f28e674a048>\n",
      "ic| component: <pyomo.core.base.sets._SetProduct object at 0x7f28e67a28e0>\n",
      "ic| component: <pyomo.core.base.expression.IndexedExpression object at 0x7f28e6747278>\n",
      "ic| component: <pyomo.core.base.expression.IndexedExpression object at 0x7f28e67472e8>\n",
      "ic| component: <idaes.core.process_block._ScalarControlVolume0DBlock object at 0x7f28e67591b0>\n",
      "ic| component: <pyomo.network.port.SimplePort object at 0x7f28e6762128>\n",
      "ic| component: <pyomo.core.base.sets._SetProduct object at 0x7f28e6765308>\n",
      "ic| component: <pyomo.core.base.sets._SetProduct object at 0x7f28e67652b0>\n",
      "ic| component: <pyomo.core.base.var.IndexedVar object at 0x7f28e676f780>\n",
      "ic| component: <pyomo.core.base.var.IndexedVar object at 0x7f28e676f898>\n",
      "ic| component: <pyomo.core.base.var.IndexedVar object at 0x7f28e676f940>\n",
      "ic| component: <pyomo.network.port.SimplePort object at 0x7f28e6762198>\n",
      "ic| component: <pyomo.core.base.sets._SetProduct object at 0x7f28e6765410>\n",
      "ic| component: <pyomo.core.base.sets._SetProduct object at 0x7f28e67653b8>\n",
      "ic| component: <pyomo.core.base.var.IndexedVar object at 0x7f28e676fa58>\n",
      "ic| component: <pyomo.core.base.var.IndexedVar object at 0x7f28e676fb70>\n",
      "ic| component: <pyomo.core.base.var.IndexedVar object at 0x7f28e676fc18>\n",
      "ic| component: <pyomo.core.base.var.IndexedVar object at 0x7f28e676fba8>\n",
      "ic| component: <pyomo.core.base.constraint.IndexedConstraint object at 0x7f28e676fbe0>\n",
      "ic| component: <pyomo.core.base.constraint.IndexedConstraint object at 0x7f28e676fc50>\n",
      "ic| component: <idaes.core.process_block._IndexedIdealStateBlock object at 0x7f28e71724a8>\n",
      "ic| component: <idaes.core.process_block._IndexedIdealStateBlock object at 0x7f28e6747be0>\n",
      "ic| component: <pyomo.core.base.sets._SetProduct object at 0x7f28e6765048>\n",
      "ic| component: <pyomo.core.base.sets._SetProduct object at 0x7f28e67650a0>\n",
      "ic| component: <pyomo.core.base.constraint.IndexedConstraint object at 0x7f28e67602b0>\n",
      "ic| component: <pyomo.core.base.param.SimpleParam object at 0x7f28e6764510>\n",
      "ic| component: <pyomo.core.base.var.IndexedVar object at 0x7f28e67602e8>\n",
      "ic| component: <pyomo.core.base.constraint.IndexedConstraint object at 0x7f28e67605c0>\n",
      "ic| component: <pyomo.core.base.var.IndexedVar object at 0x7f28e6760550>\n",
      "ic| component: <pyomo.core.base.param.SimpleParam object at 0x7f28e6d85510>\n",
      "ic| component: <pyomo.core.base.constraint.IndexedConstraint object at 0x7f28e6760828>\n",
      "ic| component: <pyomo.core.base.sets._SetProduct object at 0x7f28e67a2f10>\n",
      "ic| component: <pyomo.core.base.var.IndexedVar object at 0x7f28e6747c18>\n",
      "ic| component: <pyomo.core.base.var.SimpleVar object at 0x7f28e67dbf28>\n",
      "ic| component: <pyomo.core.base.var.SimpleVar object at 0x7f28e67dbf98>\n",
      "ic| component: <pyomo.core.base.expression.IndexedExpression object at 0x7f28e6747ba8>\n",
      "ic| component: <pyomo.core.base.expression.SimpleExpression object at 0x7f28e6756638>\n",
      "ic| component: <pyomo.core.base.sets._SetProduct object at 0x7f28e67a2eb8>\n",
      "ic| component: <pyomo.core.base.expression.IndexedExpression object at 0x7f28e6747cc0>\n",
      "ic| component: <pyomo.core.base.expression.IndexedExpression object at 0x7f28e6747d30>\n",
      "ic| component: <pyomo.core.base.var.IndexedVar object at 0x7f28e6760780>\n",
      "ic| component: <pyomo.core.base.constraint.IndexedConstraint object at 0x7f28e6760748>\n",
      "ic| component: <pyomo.core.base.sets._SetProduct object at 0x7f28e67650f8>\n",
      "ic| component: <pyomo.core.base.var.IndexedVar object at 0x7f28e6760898>\n",
      "ic| component: <pyomo.core.base.sets._SetProduct object at 0x7f28e6765150>\n",
      "ic| component: <pyomo.core.base.constraint.IndexedConstraint object at 0x7f28e6760940>\n",
      "ic| component: <pyomo.core.base.sets._SetProduct object at 0x7f28e67a2f68>\n",
      "ic| component: <pyomo.core.base.var.IndexedVar object at 0x7f28e6747fd0>\n",
      "ic| component: <pyomo.core.base.var.SimpleVar object at 0x7f28e6762048>\n",
      "ic| component: <pyomo.core.base.var.SimpleVar object at 0x7f28e67620b8>\n",
      "ic| component: <pyomo.core.base.expression.IndexedExpression object at 0x7f28e6760080>\n",
      "ic| component: <pyomo.core.base.expression.SimpleExpression object at 0x7f28e6756c28>\n",
      "ic| component: <pyomo.core.base.sets._SetProduct object at 0x7f28e67a2fc0>\n",
      "ic| component: <pyomo.core.base.expression.IndexedExpression object at 0x7f28e6760128>\n",
      "ic| component: <pyomo.core.base.expression.IndexedExpression object at 0x7f28e6760198>\n",
      "ic| component: <pyomo.core.base.var.IndexedVar object at 0x7f28e6760908>\n",
      "ic| component: <pyomo.core.base.constraint.IndexedConstraint object at 0x7f28e6760f28>\n",
      "ic| component: <pyomo.core.base.sets._SetProduct object at 0x7f28e67651a8>\n",
      "ic| component: <pyomo.core.base.var.IndexedVar object at 0x7f28e676f048>\n",
      "ic| component: <pyomo.core.base.sets._SetProduct object at 0x7f28e6765200>\n",
      "ic| component: <pyomo.core.base.constraint.IndexedConstraint object at 0x7f28e676f0f0>\n",
      "ic| component: <idaes.core.process_block._ScalarControlVolume0DBlock object at 0x7f28e66fc360>\n",
      "ic| component: <pyomo.network.port.SimplePort object at 0x7f28e6762588>\n",
      "ic| component: <pyomo.core.base.sets._SetProduct object at 0x7f28e6765938>\n",
      "ic| component: <pyomo.core.base.sets._SetProduct object at 0x7f28e67658e0>\n",
      "ic| component: <pyomo.core.base.var.IndexedVar object at 0x7f28e67270b8>\n",
      "ic| component: <pyomo.core.base.var.IndexedVar object at 0x7f28e67271d0>\n",
      "ic| component: <pyomo.core.base.var.IndexedVar object at 0x7f28e6727278>\n",
      "ic| component: <idaes.core.process_block._ScalarSeparator object at 0x7f28e6726708>\n",
      "ic| component: <pyomo.network.port.SimplePort object at 0x7f28e67627b8>\n",
      "ic| component: <pyomo.network.port.SimplePort object at 0x7f28e6762828>\n",
      "ic| component: <idaes.core.process_block._IndexedIdealStateBlock object at 0x7f28e673a5f8>\n",
      "ic| component: <idaes.core.process_block._IndexedIdealStateBlock object at 0x7f28e676fe80>\n",
      "ic| component: <pyomo.core.base.sets._SetProduct object at 0x7f28e6765620>\n",
      "ic| component: <pyomo.core.base.var.IndexedVar object at 0x7f28e6709240>\n",
      "ic| component: <pyomo.core.base.sets._SetProduct object at 0x7f28e67656d0>\n",
      "ic| component: <pyomo.core.base.sets._SetProduct object at 0x7f28e6765728>\n",
      "ic| component: <pyomo.core.base.constraint.IndexedConstraint object at 0x7f28e6709278>\n",
      "ic| component: <pyomo.core.base.param.SimpleParam object at 0x7f28e6715438>\n",
      "ic| component: <pyomo.core.base.var.IndexedVar object at 0x7f28e6709c88>\n",
      "ic| component: <pyomo.core.base.constraint.IndexedConstraint object at 0x7f28e6709e10>\n",
      "ic| component: <pyomo.core.base.var.IndexedVar object at 0x7f28e6709dd8>\n",
      "ic| component: <pyomo.core.base.param.SimpleParam object at 0x7f28e6715f30>\n",
      "ic| component: <pyomo.core.base.constraint.IndexedConstraint object at 0x7f28e6718128>\n",
      "ic| component: <pyomo.core.base.sets._SetProduct object at 0x7f28e67654c0>\n",
      "ic| component: <pyomo.core.base.var.IndexedVar object at 0x7f28e676feb8>\n",
      "ic| component: <pyomo.core.base.var.SimpleVar object at 0x7f28e67622e8>\n",
      "ic| component: <pyomo.core.base.var.SimpleVar object at 0x7f28e6762208>\n",
      "ic| component: <pyomo.core.base.expression.IndexedExpression object at 0x7f28e676fe48>\n",
      "ic| component: <pyomo.core.base.expression.SimpleExpression object at 0x7f28e67041d8>\n",
      "ic| component: <pyomo.core.base.sets._SetProduct object at 0x7f28e6765518>\n",
      "ic| component: <pyomo.core.base.expression.IndexedExpression object at 0x7f28e676ff60>\n",
      "ic| component: <pyomo.core.base.expression.IndexedExpression object at 0x7f28e676ffd0>\n",
      "ic| component: <pyomo.core.base.var.IndexedVar object at 0x7f28e6709f98>\n",
      "ic| component: <pyomo.core.base.constraint.IndexedConstraint object at 0x7f28e67180b8>\n",
      "ic| component: <pyomo.core.base.sets._SetProduct object at 0x7f28e6765780>\n",
      "ic| component: <pyomo.core.base.var.IndexedVar object at 0x7f28e6718198>\n",
      "ic| component: <pyomo.core.base.sets._SetProduct object at 0x7f28e67657d8>\n",
      "ic| component: <pyomo.core.base.constraint.IndexedConstraint object at 0x7f28e6718240>\n",
      "ic| component: <pyomo.core.base.sets._SetProduct object at 0x7f28e6765570>\n",
      "ic| component: <pyomo.core.base.var.IndexedVar object at 0x7f28e6709320>\n",
      "ic| component: <pyomo.core.base.var.SimpleVar object at 0x7f28e6762358>\n",
      "ic| component: <pyomo.core.base.var.SimpleVar object at 0x7f28e6762278>\n",
      "ic| component: <pyomo.core.base.expression.IndexedExpression object at 0x7f28e67092b0>\n",
      "ic| component: <pyomo.core.base.expression.SimpleExpression object at 0x7f28e67047c8>\n",
      "ic| component: <pyomo.core.base.sets._SetProduct object at 0x7f28e67655c8>\n",
      "ic| component: <pyomo.core.base.expression.IndexedExpression object at 0x7f28e67093c8>\n",
      "ic| component: <pyomo.core.base.expression.IndexedExpression object at 0x7f28e6709438>\n",
      "ic| component: <pyomo.core.base.var.SimpleVar object at 0x7f28e67623c8>\n",
      "ic| component: <pyomo.core.base.var.SimpleVar object at 0x7f28e6762438>\n",
      "ic| component: <pyomo.core.base.param.SimpleParam object at 0x7f28e670c0d8>\n",
      "ic| component: <pyomo.core.base.param.SimpleParam object at 0x7f28e670c1b0>\n",
      "ic| component: <pyomo.core.base.constraint.SimpleConstraint object at 0x7f28e66f0868>\n",
      "ic| component: <pyomo.core.base.param.SimpleParam object at 0x7f28e670c360>\n",
      "ic| component: <pyomo.core.base.constraint.SimpleConstraint object at 0x7f28e66f08d0>\n",
      "ic| component: <pyomo.core.base.var.SimpleVar object at 0x7f28e67624a8>\n",
      "ic| component: <pyomo.core.base.expression.IndexedExpression object at 0x7f28e67096d8>\n",
      "ic| component: <pyomo.core.base.constraint.SimpleConstraint object at 0x7f28e66f0938>\n",
      "ic| component: <pyomo.core.base.expression.IndexedExpression object at 0x7f28e67098d0>\n",
      "ic| component: <pyomo.core.base.constraint.IndexedConstraint object at 0x7f28e6709978>\n",
      "ic| component: <pyomo.core.base.expression.IndexedExpression object at 0x7f28e6709ac8>\n",
      "ic| component: <pyomo.core.base.expression.IndexedExpression object at 0x7f28e6709a58>\n",
      "ic| component: <pyomo.core.base.var.IndexedVar object at 0x7f28e6709b38>\n",
      "ic| component: <pyomo.core.base.constraint.IndexedConstraint object at 0x7f28e6709c18>\n",
      "ic| component: <pyomo.core.base.var.IndexedVar object at 0x7f28e6718208>\n",
      "ic| component: <pyomo.core.base.constraint.IndexedConstraint object at 0x7f28e6718828>\n",
      "ic| component: <pyomo.core.base.sets._SetProduct object at 0x7f28e67a2620>\n",
      "ic| component: <pyomo.core.base.var.IndexedVar object at 0x7f28e6718908>\n",
      "ic| component: <pyomo.core.base.sets._SetProduct object at 0x7f28e6765830>\n",
      "ic| component: <pyomo.core.base.constraint.IndexedConstraint object at 0x7f28e67189b0>\n",
      "ic| component: <pyomo.network.port.SimplePort object at 0x7f28e67626d8>\n",
      "ic| component: <pyomo.core.base.sets._SetProduct object at 0x7f28e6765a40>\n",
      "ic| component: <pyomo.core.base.sets._SetProduct object at 0x7f28e67659e8>\n",
      "ic| component: <pyomo.core.base.var.IndexedVar object at 0x7f28e67273c8>\n",
      "ic| component: <pyomo.core.base.var.IndexedVar object at 0x7f28e67274e0>\n",
      "ic| component: <pyomo.core.base.var.IndexedVar object at 0x7f28e6727588>\n",
      "ic| component: <pyomo.core.base.param.SimpleParam object at 0x7f28e672a3f0>\n",
      "ic| component: <pyomo.network.port.SimplePort object at 0x7f28e6762668>\n",
      "ic| component: <pyomo.core.base.sets._SetProduct object at 0x7f28e6765af0>\n",
      "ic| component: <pyomo.core.base.sets._SetProduct object at 0x7f28e6765b48>\n",
      "ic| component: <pyomo.core.base.expression.IndexedExpression object at 0x7f28e6727518>\n",
      "ic| component: <pyomo.core.base.var.IndexedVar object at 0x7f28e67276a0>\n",
      "ic| component: <pyomo.core.base.var.IndexedVar object at 0x7f28e6727780>\n",
      "ic| component: <pyomo.network.port.SimplePort object at 0x7f28e6762748>\n",
      "ic| component: <pyomo.core.base.sets._SetProduct object at 0x7f28e6765bf8>\n",
      "ic| component: <pyomo.core.base.sets._SetProduct object at 0x7f28e6765c50>\n",
      "ic| component: <pyomo.core.base.expression.IndexedExpression object at 0x7f28e67276d8>\n",
      "ic| component: <pyomo.core.base.var.IndexedVar object at 0x7f28e6727898>\n",
      "ic| component: <pyomo.core.base.var.IndexedVar object at 0x7f28e6727978>\n",
      "ic| component: <pyomo.core.base.constraint.IndexedConstraint object at 0x7f28e6727c50>\n",
      "ic| component: <pyomo.core.base.constraint.IndexedConstraint object at 0x7f28e6727c88>\n",
      "ic| component: <pyomo.core.base.constraint.IndexedConstraint object at 0x7f28e6727cc0>\n",
      "ic| component: <pyomo.core.base.constraint.IndexedConstraint object at 0x7f28e6727ba8>\n",
      "ic| component: <pyomo.core.base.constraint.IndexedConstraint object at 0x7f28e6727da0>\n",
      "ic| component: <pyomo.core.base.constraint.IndexedConstraint object at 0x7f28e6727d30>\n",
      "ic| component: <pyomo.core.base.constraint.IndexedConstraint object at 0x7f28e685a160>\n",
      "ic| component: <pyomo.core.base.constraint.IndexedConstraint object at 0x7f28e67a5b00>\n",
      "ic| component: <pyomo.core.base.constraint.IndexedConstraint object at 0x7f28e67a5c50>\n",
      "ic| component: <pyomo.core.base.constraint.IndexedConstraint object at 0x7f28e66c82e8>\n",
      "ic| component: <pyomo.core.base.constraint.IndexedConstraint object at 0x7f28e67a5d30>\n",
      "ic| component: <pyomo.core.base.constraint.IndexedConstraint object at 0x7f28e70ff160>\n",
      "ic| component: <pyomo.core.base.constraint.IndexedConstraint object at 0x7f28e67a5e80>\n",
      "ic| component: <pyomo.core.base.constraint.IndexedConstraint object at 0x7f28e67a5dd8>\n",
      "ic| component: <pyomo.core.base.constraint.IndexedConstraint object at 0x7f28e67a5b38>\n",
      "ic| component: <pyomo.core.base.constraint.IndexedConstraint object at 0x7f28e66c89e8>\n",
      "ic| component: <pyomo.core.base.constraint.IndexedConstraint object at 0x7f28e66c8a58>\n",
      "ic| component: <pyomo.core.base.constraint.IndexedConstraint object at 0x7f28e66c8f28>\n",
      "ic| component: <pyomo.core.base.constraint.IndexedConstraint object at 0x7f28e66c8ef0>\n",
      "ic| component: <pyomo.core.base.constraint.IndexedConstraint object at 0x7f28e66c8fd0>\n",
      "ic| component: <pyomo.core.base.constraint.IndexedConstraint object at 0x7f28e66c8f60>\n"
     ]
    }
   ],
   "source": [
    "for component in flowsheet.component_objects(descend_into=True):\n",
    "    ic(component)"
   ]
  },
  {
   "cell_type": "code",
   "execution_count": null,
   "metadata": {},
   "outputs": [],
   "source": [
    "# components = {object: comp_info}\n",
    "# comp_info = {name: unit model type, state data: X, ports?: X}\n",
    "\n",
    "# edges = {(start component, end component): edge_info}\n",
    "#    or maybe the keys should be the Arc objects, analogous to the components above?\n",
    "# edge_info = {source_port: X, dest_port: X, name?: X, flow/etc.: X}\n",
    "\n",
    "# parameter blocks\n",
    "# ???\n",
    "\n",
    "# possible utility dictionary\n",
    "# ports = {object: port_info}\n",
    "# port_info = {source?: X, dest?: X, parent_component?: X}\n",
    "\n",
    "# the _info objects could be namedtuples (collections.namedtuple, python 2.6) \n",
    "# or maybe data classes (dataclasses.dataclass, python 3.7)\n",
    "# or maybe a class with __slots__ (python 3...?)\n",
    "# but to start with probably use a dict for mutability until we narrow down what exactly is needed\n",
    "# see https://stackoverflow.com/questions/35988/c-like-structures-in-python"
   ]
  },
  {
   "cell_type": "code",
   "execution_count": null,
   "metadata": {},
   "outputs": [],
   "source": [
    "a.ports\n",
    "a.outlet\n",
    "a.source\n",
    "(m.fs.M101.outlet, m.fs.H101.inlet)\n",
    "m.fs.M101.outlet.dests()\n",
    "m.fs.M101.outlet.sources()"
   ]
  },
  {
   "cell_type": "code",
   "execution_count": 39,
   "metadata": {},
   "outputs": [
    {
     "name": "stdout",
     "output_type": "stream",
     "text": [
      "/bin/sh: 1: Syntax error: word unexpected (expecting \")\")\r\n"
     ]
    }
   ],
   "source": [
    "![](module_2_flowsheet.png) "
   ]
  },
  {
   "cell_type": "code",
   "execution_count": 8,
   "metadata": {},
   "outputs": [],
   "source": [
    "import json\n",
    "from os.path import join\n",
    "\n",
    "with open('icon_mapping.cfg', 'r') as f:\n",
    "    config_raw = json.load(f)\n",
    "    "
   ]
  },
  {
   "cell_type": "code",
   "execution_count": 4,
   "metadata": {},
   "outputs": [
    {
     "data": {
      "text/plain": [
       "{'_ScalarMixer': 'mixer.svg',\n",
       " '_ScalarHeater': 'heater_1.svg',\n",
       " '_ScalarStoichiometricReactor': 'reactor_s.svg',\n",
       " '_ScalarFlash': 'flash.svg',\n",
       " '_ScalarSeparator': 'splitter.svg',\n",
       " '_ScalarPressureChanger': 'compressor_2.svg'}"
      ]
     },
     "execution_count": 4,
     "metadata": {},
     "output_type": "execute_result"
    }
   ],
   "source": [
    "config_raw"
   ]
  },
  {
   "cell_type": "code",
   "execution_count": 7,
   "metadata": {},
   "outputs": [
    {
     "data": {
      "text/plain": [
       "dict_items([('_ScalarMixer', 'mixer.svg'), ('_ScalarHeater', 'heater_1.svg'), ('_ScalarStoichiometricReactor', 'reactor_s.svg'), ('_ScalarFlash', 'flash.svg'), ('_ScalarSeparator', 'splitter.svg'), ('_ScalarPressureChanger', 'compressor_2.svg')])"
      ]
     },
     "execution_count": 7,
     "metadata": {},
     "output_type": "execute_result"
    }
   ],
   "source": [
    "config_raw.items()"
   ]
  },
  {
   "cell_type": "code",
   "execution_count": 38,
   "metadata": {},
   "outputs": [
    {
     "name": "stderr",
     "output_type": "stream",
     "text": [
      "ic| type(component).__name__: '_ScalarMixer'\n",
      "ic| type(component).__name__: '_ScalarHeater'\n",
      "ic| type(component).__name__: '_ScalarStoichiometricReactor'\n",
      "ic| type(component).__name__: '_ScalarFlash'\n",
      "ic| type(component).__name__: '_ScalarSeparator'\n",
      "ic| type(component).__name__: '_ScalarPressureChanger'\n",
      "ic| type(component).__name__: '_ScalarFlash'\n",
      "ic| type(component).__name__: '_ScalarSeparator'\n",
      "ic| type(component).__name__: '_ScalarSeparator'\n"
     ]
    }
   ],
   "source": [
    "base_path = \"/home/perrenyang/wsl/idaes-dev-py/idaes-dev/idaes/unit_models/icons/\"\n",
    "\n",
    "icon_mapping = {}\n",
    "for component, imagename in config_raw.items():\n",
    "    icon_mapping[component] = join(base_path, imagename)\n",
    "    \n",
    "\n",
    "comps = m.component_objects(descend_into=False)\n",
    "flowsheet = next(comps)\n",
    "for component in flowsheet.component_objects(descend_into=True):\n",
    "    if isinstance(component, UnitModelBlockData):\n",
    "        \n",
    "        ic(type(component).__name__)\n",
    "    "
   ]
  },
  {
   "cell_type": "code",
   "execution_count": null,
   "metadata": {},
   "outputs": [],
   "source": []
  }
 ],
 "metadata": {
  "kernelspec": {
   "display_name": "Python 3",
   "language": "python",
   "name": "python3"
  },
  "language_info": {
   "codemirror_mode": {
    "name": "ipython",
    "version": 3
   },
   "file_extension": ".py",
   "mimetype": "text/x-python",
   "name": "python",
   "nbconvert_exporter": "python",
   "pygments_lexer": "ipython3",
   "version": "3.7.3"
  }
 },
 "nbformat": 4,
 "nbformat_minor": 2
}
