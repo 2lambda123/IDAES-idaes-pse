{
 "cells": [
  {
   "cell_type": "markdown",
   "metadata": {},
   "source": [
    "\n",
    "![](idaes_icon.png)\n",
    "\n",
    "<h1><center>Welcome to the IDAES Stakeholder Workshop</center></h1>"
   ]
  },
  {
   "cell_type": "markdown",
   "metadata": {},
   "source": [
    "Welcome and thank you for taking the time to attend today's workshop. Today we will introduce you to the fundamentals of working with the IDAES process modeling toolset, and demonstrate how these tools can be applied for optimization applications.\n",
    "\n",
    "Today's workshop will be conducted using Jupyter Notebooks which provide an online, interactive Python environment for you to use (without the need for installing anything).\n",
    "\n",
    "Before we get started on some actual examples, let's make sure that everything is working correctly. The cell below contains a command to run a simple test script that will test that everything we will need for today is working properly.\n",
    "\n",
    "You can execute a cell by pressing `Shift+Enter`."
   ]
  },
  {
   "cell_type": "code",
   "execution_count": null,
   "metadata": {},
   "outputs": [],
   "source": [
    "run 'notebook_test_script.py'"
   ]
  },
  {
   "cell_type": "markdown",
   "metadata": {},
   "source": [
    "If everything worked properly, you should see a message saying `All good!` and a summary of all the checks that were run. If you don't see this, please contact someone for assistance."
   ]
  },
  {
   "cell_type": "markdown",
   "metadata": {},
   "source": [
    "Outline of Workshop\n",
    "------------------------------\n",
    "\n",
    "Today's workshop is divided into a three of modules which will take your through the steps of setting up a model for your process.\n",
    "\n",
    "Module 1 will cover:\n",
    "\n",
    "* how to import models from the core IDAES model library,\n",
    "* how to create a model for a single unit operation,\n",
    "* how to define feed and operating conditions,\n",
    "* how to initialize and a single unit model,\n",
    "* some ways we can manipulate the model and examine the results.\n",
    "\n",
    "Module 2 will demonstrate:\n",
    "\n",
    "* how to combine unit models together to form flowsheets,\n",
    "* tools to initialize and solve flowsheets with recycle loops,\n",
    "* how to optimize process operating conditions to meet product specifications.\n",
    "\n",
    "Module 3 will demonstrate:\n",
    "\n",
    "* how to build new unit models using the IDAES tools,\n",
    "* how to include new unit models into flowsheets.\n"
   ]
  },
  {
   "cell_type": "code",
   "execution_count": null,
   "metadata": {},
   "outputs": [],
   "source": []
  }
 ],
 "metadata": {
  "kernelspec": {
   "display_name": "Python 3",
   "language": "python",
   "name": "python3"
  },
  "language_info": {
   "codemirror_mode": {
    "name": "ipython",
    "version": 3
   },
   "file_extension": ".py",
   "mimetype": "text/x-python",
   "name": "python",
   "nbconvert_exporter": "python",
   "pygments_lexer": "ipython3",
   "version": "3.7.3"
  }
 },
 "nbformat": 4,
 "nbformat_minor": 2
}
