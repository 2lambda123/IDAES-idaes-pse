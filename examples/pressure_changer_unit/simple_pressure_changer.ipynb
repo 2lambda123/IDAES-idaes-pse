{
 "cells": [
  {
   "cell_type": "markdown",
   "metadata": {},
   "source": [
    "## Simple Example with Steam and Pressure Changer\n",
    "\n",
    "This notebook demonstrates how to assemble, initialize, and run a very simple flowsheet using steam and a pressure changer. This breifly demonstrates the basics of setting up a unit model.  See the documentation for a more complete description of the framework."
   ]
  },
  {
   "cell_type": "markdown",
   "metadata": {},
   "source": [
    "## Imports\n",
    "Standard Pyomo and IDAES core components are imported below along with Panda which will be used in this example to print a table of steam states in the unit model."
   ]
  },
  {
   "cell_type": "code",
   "execution_count": 15,
   "metadata": {},
   "outputs": [],
   "source": [
    "import pyomo.environ as pe\n",
    "from idaes.core import FlowsheetBlock, StateBlockBase\n",
    "from idaes.unit_models.pressure_changer import PressureChanger\n",
    "from idaes.property_models import iapws95_ph\n",
    "import pandas as pd"
   ]
  },
  {
   "cell_type": "markdown",
   "metadata": {},
   "source": [
    "## Create a Unit model\n",
    "\n",
    "The lines below create a Pyomo concrete model, pressure changer unit model and steam property parameter block instance. The steam property parameter block contains constants that can be shared among all similar state blocks in a unit model. The iapws (international association of properties of water and steam) property model is used."
   ]
  },
  {
   "cell_type": "code",
   "execution_count": 23,
   "metadata": {},
   "outputs": [],
   "source": [
    "model = pe.ConcreteModel()\n",
    "model.fs = FlowsheetBlock(default={\"dynamic\": False})\n",
    "model.fs.properties = iapws95_ph.Iapws95ParameterBlock()"
   ]
  },
  {
   "cell_type": "markdown",
   "metadata": {},
   "source": [
    "## Create a Pressure Changer Model\n",
    "\n",
    "Here the pressure changer model is created. Four different types of pressure changer operations are considered;  \n",
    "1. isothermal; constant temperature,\n",
    "2. Adiabatic; net heat of zero,\n",
    "3. pump; assuming incompressible fluid,\n",
    "4. isentropic; constant entropy.\n",
    "\n",
    "We will use the isothermal assumption for this example."
   ]
  },
  {
   "cell_type": "code",
   "execution_count": 24,
   "metadata": {},
   "outputs": [],
   "source": [
    "model.fs.pressure_changer = PressureChanger(default={\"property_package\": model.fs.properties,\n",
    "                            \"thermodynamic_assumption\":'isothermal'})"
   ]
  },
  {
   "cell_type": "markdown",
   "metadata": {},
   "source": [
    "## Fix Inlets and Initialize"
   ]
  },
  {
   "cell_type": "code",
   "execution_count": 28,
   "metadata": {},
   "outputs": [],
   "source": [
    "init_state = {\n",
    "        \"flow_mol\":100,\n",
    "        \"pressure\":101325,\n",
    "        \"enth_mol\":4000}\n",
    "\n",
    "model.fs.pressure_changer.initialize(state_args=init_state)"
   ]
  },
  {
   "cell_type": "markdown",
   "metadata": {},
   "source": [
    "## Solve the Disconnected Unit model\n",
    "\n",
    "Solve the model after initialization"
   ]
  },
  {
   "cell_type": "code",
   "execution_count": 32,
   "metadata": {},
   "outputs": [],
   "source": [
    "solver = pe.SolverFactory('ipopt')"
   ]
  },
  {
   "cell_type": "code",
   "execution_count": 33,
   "metadata": {},
   "outputs": [
    {
     "name": "stdout",
     "output_type": "stream",
     "text": [
      "Ipopt 3.12.9: \n",
      "\n",
      "******************************************************************************\n",
      "This program contains Ipopt, a library for large-scale nonlinear optimization.\n",
      " Ipopt is released as open source code under the Eclipse Public License (EPL).\n",
      "         For more information visit http://projects.coin-or.org/Ipopt\n",
      "******************************************************************************\n",
      "\n",
      "This is Ipopt version 3.12.9, running with linear solver ma27.\n",
      "\n",
      "Number of nonzeros in equality constraint Jacobian...:       17\n",
      "Number of nonzeros in inequality constraint Jacobian.:        0\n",
      "Number of nonzeros in Lagrangian Hessian.............:        9\n",
      "\n",
      "Total number of variables............................:        9\n",
      "                     variables with only lower bounds:        4\n",
      "                variables with lower and upper bounds:        0\n",
      "                     variables with only upper bounds:        0\n",
      "Total number of equality constraints.................:        5\n",
      "Total number of inequality constraints...............:        0\n",
      "        inequality constraints with only lower bounds:        0\n",
      "   inequality constraints with lower and upper bounds:        0\n",
      "        inequality constraints with only upper bounds:        0\n",
      "\n",
      "iter    objective    inf_pr   inf_du lg(mu)  ||d||  lg(rg) alpha_du alpha_pr  ls\n",
      "   0  0.0000000e+00 1.93e-12 1.00e+00  -1.0 0.00e+00    -  0.00e+00 0.00e+00   0\n",
      "   1  0.0000000e+00 1.19e-12 1.00e-02  -1.0 9.37e-02    -  9.90e-01 1.00e+00f  1\n",
      "   2  0.0000000e+00 7.96e-13 1.00e-04  -1.0 9.37e+00    -  9.90e-01 1.00e+00f  1\n",
      "   3  0.0000000e+00 6.09e-11 1.00e-06  -1.0 1.76e+03    -  1.00e+00 1.00e+00f  1\n",
      "   4  0.0000000e+00 1.82e-12 3.89e-07  -2.5 3.61e-03  -4.0 1.00e+00 1.00e+00h  1\n",
      "   5  0.0000000e+00 3.69e-12 2.07e-08  -3.8 5.75e-04  -4.5 1.00e+00 1.00e+00h  1\n",
      "   6  0.0000000e+00 2.67e-12 2.54e-10  -5.7 2.12e-05  -5.0 1.00e+00 1.00e+00h  1\n",
      "   7  0.0000000e+00 2.84e-13 5.42e-12  -8.6 1.46e-06  -5.4 1.00e+00 1.00e+00h  1\n",
      "\n",
      "Number of Iterations....: 7\n",
      "\n",
      "                                   (scaled)                 (unscaled)\n",
      "Objective...............:   0.0000000000000000e+00    0.0000000000000000e+00\n",
      "Dual infeasibility......:   5.4169395772559880e-12    5.4169395772559880e-12\n",
      "Constraint violation....:   2.8421709430404007e-13    2.8421709430404007e-13\n",
      "Complementarity.........:   2.5059035606270984e-09    2.5059035606270984e-09\n",
      "Overall NLP error.......:   2.5059035606270984e-09    2.5059035606270984e-09\n",
      "\n",
      "\n",
      "Number of objective function evaluations             = 8\n",
      "Number of objective gradient evaluations             = 8\n",
      "Number of equality constraint evaluations            = 8\n",
      "Number of inequality constraint evaluations          = 0\n",
      "Number of equality constraint Jacobian evaluations   = 8\n",
      "Number of inequality constraint Jacobian evaluations = 0\n",
      "Number of Lagrangian Hessian evaluations             = 7\n",
      "Total CPU secs in IPOPT (w/o function evaluations)   =      0.035\n",
      "Total CPU secs in NLP function evaluations           =      0.169\n",
      "\n",
      "EXIT: Optimal Solution Found.\n"
     ]
    },
    {
     "data": {
      "text/plain": [
       "{'Problem': [{'Lower bound': -inf, 'Upper bound': inf, 'Number of objectives': 1, 'Number of constraints': 5, 'Number of variables': 9, 'Sense': 'unknown'}], 'Solver': [{'Status': 'ok', 'Message': 'Ipopt 3.12.9\\\\x3a Optimal Solution Found', 'Termination condition': 'optimal', 'Id': 0, 'Error rc': 0, 'Time': 0.2298426628112793}], 'Solution': [OrderedDict([('number of solutions', 0), ('number of solutions displayed', 0)])]}"
      ]
     },
     "execution_count": 33,
     "metadata": {},
     "output_type": "execute_result"
    }
   ],
   "source": [
    "solver.solve(model, tee=True)"
   ]
  },
  {
   "cell_type": "markdown",
   "metadata": {},
   "source": [
    "## Write a Function to Show States at Ports\n",
    "\n",
    "Write a function that will give a nice tabulated overview of the conditions in the process."
   ]
  },
  {
   "cell_type": "code",
   "execution_count": 34,
   "metadata": {},
   "outputs": [],
   "source": [
    "def state_table(m):\n",
    "    head = [\"State Block\", \n",
    "        \"Flow (mol/s)\",\n",
    "        \"Temperature (K)\",\n",
    "        \"Pressure (Pa)\",\n",
    "        \"Enthalpy (J/mol)\",\n",
    "        \"Vapor Fraction\"]\n",
    "    st = pd.DataFrame(columns=head)\n",
    "    j = 0\n",
    "    for c in model.component_objects():\n",
    "        if isinstance(c, StateBlockBase):\n",
    "            for i in c:\n",
    "                row = [c[i].name, \n",
    "                       pe.value(c[i].flow_mol), \n",
    "                       pe.value(c[i].temperature), \n",
    "                       pe.value(c[i].pressure), \n",
    "                       pe.value(c[i].enth_mol),\n",
    "                       pe.value(c[i].vapor_frac)]\n",
    "                st.loc[j] = row\n",
    "                j += 1\n",
    "    return st"
   ]
  },
  {
   "cell_type": "markdown",
   "metadata": {},
   "source": [
    "## Show States\n",
    "\n",
    "Have a look at the results for the disconneted sheet."
   ]
  },
  {
   "cell_type": "code",
   "execution_count": 35,
   "metadata": {},
   "outputs": [
    {
     "data": {
      "text/html": [
       "<div>\n",
       "<style scoped>\n",
       "    .dataframe tbody tr th:only-of-type {\n",
       "        vertical-align: middle;\n",
       "    }\n",
       "\n",
       "    .dataframe tbody tr th {\n",
       "        vertical-align: top;\n",
       "    }\n",
       "\n",
       "    .dataframe thead th {\n",
       "        text-align: right;\n",
       "    }\n",
       "</style>\n",
       "<table border=\"1\" class=\"dataframe\">\n",
       "  <thead>\n",
       "    <tr style=\"text-align: right;\">\n",
       "      <th></th>\n",
       "      <th>State Block</th>\n",
       "      <th>Flow (mol/s)</th>\n",
       "      <th>Temperature (K)</th>\n",
       "      <th>Pressure (Pa)</th>\n",
       "      <th>Enthalpy (J/mol)</th>\n",
       "      <th>Vapor Fraction</th>\n",
       "    </tr>\n",
       "  </thead>\n",
       "  <tbody>\n",
       "    <tr>\n",
       "      <th>0</th>\n",
       "      <td>fs.pressure_changer.control_volume.properties_...</td>\n",
       "      <td>7274.452914</td>\n",
       "      <td>349.37418</td>\n",
       "      <td>100000.028928</td>\n",
       "      <td>5750.715615</td>\n",
       "      <td>0.0</td>\n",
       "    </tr>\n",
       "    <tr>\n",
       "      <th>1</th>\n",
       "      <td>fs.pressure_changer.control_volume.properties_...</td>\n",
       "      <td>7274.452914</td>\n",
       "      <td>349.37418</td>\n",
       "      <td>99999.971072</td>\n",
       "      <td>5750.715614</td>\n",
       "      <td>0.0</td>\n",
       "    </tr>\n",
       "  </tbody>\n",
       "</table>\n",
       "</div>"
      ],
      "text/plain": [
       "                                         State Block  Flow (mol/s)  \\\n",
       "0  fs.pressure_changer.control_volume.properties_...   7274.452914   \n",
       "1  fs.pressure_changer.control_volume.properties_...   7274.452914   \n",
       "\n",
       "   Temperature (K)  Pressure (Pa)  Enthalpy (J/mol)  Vapor Fraction  \n",
       "0        349.37418  100000.028928       5750.715615             0.0  \n",
       "1        349.37418   99999.971072       5750.715614             0.0  "
      ]
     },
     "execution_count": 35,
     "metadata": {},
     "output_type": "execute_result"
    }
   ],
   "source": [
    "state_table(model)"
   ]
  },
  {
   "cell_type": "code",
   "execution_count": null,
   "metadata": {},
   "outputs": [],
   "source": []
  }
 ],
 "metadata": {
  "kernelspec": {
   "display_name": "Python 3",
   "language": "python",
   "name": "python3"
  },
  "language_info": {
   "codemirror_mode": {
    "name": "ipython",
    "version": 3
   },
   "file_extension": ".py",
   "mimetype": "text/x-python",
   "name": "python",
   "nbconvert_exporter": "python",
   "pygments_lexer": "ipython3",
   "version": "3.7.0"
  }
 },
 "nbformat": 4,
 "nbformat_minor": 2
}
