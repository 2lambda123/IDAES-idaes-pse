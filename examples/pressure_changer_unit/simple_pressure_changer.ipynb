{
 "cells": [
  {
   "cell_type": "markdown",
   "metadata": {},
   "source": [
    "## Simple Example with Steam and Pressure Changer\n",
    "\n",
    "This notebook demonstrates how to assemble, initialize, and run a very simple flowsheet using steam and a pressure changer. This breifly demonstrates the basics of setting up a unit model.  See the documentation for a more complete description of the framework."
   ]
  },
  {
   "cell_type": "markdown",
   "metadata": {},
   "source": [
    "## Imports\n",
    "Standard Pyomo and IDAES core components are imported below along with Panda which will be used in this example to print a table of steam states in the unit model."
   ]
  },
  {
   "cell_type": "code",
   "execution_count": 1,
   "metadata": {},
   "outputs": [],
   "source": [
    "import pyomo.environ as pe\n",
    "from idaes.core import FlowsheetBlock, StateBlockBase\n",
    "from idaes.unit_models.pressure_changer import PressureChanger\n",
    "from idaes.property_models import iapws95_ph\n",
    "import pandas as pd"
   ]
  },
  {
   "cell_type": "markdown",
   "metadata": {},
   "source": [
    "## Create a Unit model\n",
    "\n",
    "The lines below create a Pyomo concrete model, pressure changer unit model and steam property parameter block instance. The steam property parameter block contains constants that can be shared among all similar state blocks in a unit model. The iapws (international association of properties of water and steam) property model is used."
   ]
  },
  {
   "cell_type": "code",
   "execution_count": 2,
   "metadata": {},
   "outputs": [],
   "source": [
    "model = pe.ConcreteModel()\n",
    "model.fs = FlowsheetBlock(default={\"dynamic\": False})\n",
    "model.fs.properties = iapws95_ph.Iapws95ParameterBlock()"
   ]
  },
  {
   "cell_type": "markdown",
   "metadata": {},
   "source": [
    "## Create a Pressure Changer Model\n",
    "\n",
    "Here the pressure changer model is created. Four different types of pressure changer operations are considered;  \n",
    "1. isothermal; constant temperature,\n",
    "2. Adiabatic; net heat of zero,\n",
    "3. pump; assuming incompressible fluid,\n",
    "4. isentropic; constant entropy.\n",
    "\n",
    "We will use the isothermal assumption for this example."
   ]
  },
  {
   "cell_type": "code",
   "execution_count": 3,
   "metadata": {},
   "outputs": [],
   "source": [
    "model.fs.pressure_changer = PressureChanger(default={\"property_package\": model.fs.properties,\n",
    "                            \"thermodynamic_assumption\":'isentropic'})"
   ]
  },
  {
   "cell_type": "markdown",
   "metadata": {},
   "source": [
    "## Fix Inlets and Initialize"
   ]
  },
  {
   "cell_type": "code",
   "execution_count": 4,
   "metadata": {},
   "outputs": [
    {
     "name": "stdout",
     "output_type": "stream",
     "text": [
      "WARNING: Loading a SolverResults object with a warning status into\n",
      "    model=fs.pressure_changer;\n",
      "        message from solver=Ipopt 3.12.9\\x3a Converged to a locally infeasible\n",
      "        point. Problem may be infeasible.\n"
     ]
    }
   ],
   "source": [
    "init_state = {\n",
    "        \"flow_mol\":100,\n",
    "        \"pressure\":1e7,\n",
    "        \"enth_mol\":40000}\n",
    "#model.fs.pressure_changer.inlet[0].flow_mol.fix(100)\n",
    "#model.fs.pressure_changer.inlet[0].pressure.fix(1e7)\n",
    "#model.fs.pressure_changer.inlet[0].enth_mol.fix(400000)\n",
    "model.fs.pressure_changer.deltaP.fix(100)\n",
    "model.fs.pressure_changer.efficiency_isentropic.fix(0.9)\n",
    "\n",
    "model.fs.pressure_changer.initialize(state_args=init_state)"
   ]
  },
  {
   "cell_type": "markdown",
   "metadata": {},
   "source": [
    "## Solve the Disconnected Unit model\n",
    "\n",
    "Solve the model after initialization"
   ]
  },
  {
   "cell_type": "code",
   "execution_count": 5,
   "metadata": {},
   "outputs": [],
   "source": [
    "solver = pe.SolverFactory('ipopt')"
   ]
  },
  {
   "cell_type": "code",
   "execution_count": 6,
   "metadata": {},
   "outputs": [
    {
     "name": "stdout",
     "output_type": "stream",
     "text": [
      "Ipopt 3.12.9: \n",
      "\n",
      "******************************************************************************\n",
      "This program contains Ipopt, a library for large-scale nonlinear optimization.\n",
      " Ipopt is released as open source code under the Eclipse Public License (EPL).\n",
      "         For more information visit http://projects.coin-or.org/Ipopt\n",
      "******************************************************************************\n",
      "\n",
      "This is Ipopt version 3.12.9, running with linear solver ma27.\n",
      "\n",
      "Number of nonzeros in equality constraint Jacobian...:       28\n",
      "Number of nonzeros in inequality constraint Jacobian.:        0\n",
      "Number of nonzeros in Lagrangian Hessian.............:       10\n",
      "\n",
      "Total number of variables............................:        9\n",
      "                     variables with only lower bounds:        4\n",
      "                variables with lower and upper bounds:        0\n",
      "                     variables with only upper bounds:        0\n",
      "Total number of equality constraints.................:        9\n",
      "Total number of inequality constraints...............:        0\n",
      "        inequality constraints with only lower bounds:        0\n",
      "   inequality constraints with lower and upper bounds:        0\n",
      "        inequality constraints with only upper bounds:        0\n",
      "\n",
      "iter    objective    inf_pr   inf_du lg(mu)  ||d||  lg(rg) alpha_du alpha_pr  ls\n",
      "   0  0.0000000e+00 1.00e-02 1.00e+00  -1.0 0.00e+00    -  0.00e+00 0.00e+00   0\n",
      "   1  0.0000000e+00 6.67e-03 1.98e+03  -1.0 1.67e+01    -  9.90e-01 1.00e+00f  1\n",
      "Warning: Cutting back alpha due to evaluation error\n",
      "Warning: Cutting back alpha due to evaluation error\n",
      "Warning: Cutting back alpha due to evaluation error\n",
      "   2  0.0000000e+00 6.67e-03 1.73e+03  -1.0 2.21e+05    -  9.90e-01 1.25e-01f  4\n",
      "Warning: Cutting back alpha due to evaluation error\n",
      "Warning: Cutting back alpha due to evaluation error\n",
      "Warning: Cutting back alpha due to evaluation error\n",
      "Warning: Cutting back alpha due to evaluation error\n",
      "Warning: Cutting back alpha due to evaluation error\n",
      "Warning: Cutting back alpha due to evaluation error\n",
      "Warning: Cutting back alpha due to evaluation error\n",
      "Warning: Cutting back alpha due to evaluation error\n",
      "   3  0.0000000e+00 6.67e-03 1.72e+03  -1.0 3.56e+06    -  7.69e-02 3.91e-03f  9\n",
      "   4  0.0000000e+00 6.67e-03 9.69e+00  -1.0 5.23e+02  -4.0 1.00e+00 1.00e+00f  1\n",
      "   5  0.0000000e+00 6.67e-03 3.57e-03  -1.0 1.72e+01  -4.5 9.90e-01 1.00e+00h  1\n",
      "   6  0.0000000e+00 6.67e-03 2.45e-03  -1.7 6.92e+00  -5.0 1.00e+00 1.00e+00h  1\n",
      "   7  0.0000000e+00 6.67e-03 2.84e+02  -3.8 2.76e+03    -  1.00e+00 1.00e+00h  1\n",
      "   8  0.0000000e+00 6.67e-03 4.10e-04  -3.8 1.34e+00  -5.4 1.00e+00 1.00e+00h  1\n",
      "   9r 0.0000000e+00 6.67e-03 9.99e+02  -2.2 0.00e+00  -5.9 0.00e+00 4.77e-07R 22\n",
      "iter    objective    inf_pr   inf_du lg(mu)  ||d||  lg(rg) alpha_du alpha_pr  ls\n",
      "  10r 0.0000000e+00 9.97e-03 9.95e+02  -2.2 3.59e+03    -  9.21e-03 4.61e-03f  1\n",
      "  11r 0.0000000e+00 9.99e-03 9.85e+02  -2.2 8.50e+00    -  1.00e+00 9.74e-03f  2\n",
      "  12r 0.0000000e+00 9.99e-03 2.35e-03  -2.2 8.01e-02    -  1.00e+00 1.00e+00f  1\n",
      "  13r 0.0000000e+00 1.00e-02 1.47e-01  -4.9 8.11e-02    -  1.00e+00 9.89e-01f  1\n",
      "  14r 0.0000000e+00 1.00e-02 4.42e-07  -4.9 8.23e-02    -  1.00e+00 1.00e+00f  1\n",
      "  15r 0.0000000e+00 1.00e-02 1.21e+00  -7.3 1.87e-02    -  1.00e+00 9.70e-01f  1\n",
      "  16r 0.0000000e+00 1.00e-02 3.24e+01  -7.3 2.69e-03    -  1.00e+00 8.30e-01f  1\n",
      "\n",
      "Number of Iterations....: 16\n",
      "\n",
      "                                   (scaled)                 (unscaled)\n",
      "Objective...............:   0.0000000000000000e+00    0.0000000000000000e+00\n",
      "Dual infeasibility......:   2.1937452774997213e-05    2.1937452774997213e-05\n",
      "Constraint violation....:   9.9999999396553820e-03    9.9999999396553820e-03\n",
      "Complementarity.........:   4.5257647041892500e-08    4.5257647041892500e-08\n",
      "Overall NLP error.......:   9.9999999396553820e-03    9.9999999396553820e-03\n",
      "\n",
      "\n",
      "Number of objective function evaluations             = 43\n",
      "Number of objective gradient evaluations             = 11\n",
      "Number of equality constraint evaluations            = 54\n",
      "Number of inequality constraint evaluations          = 0\n",
      "Number of equality constraint Jacobian evaluations   = 19\n",
      "Number of inequality constraint Jacobian evaluations = 0\n",
      "Number of Lagrangian Hessian evaluations             = 17\n",
      "Total CPU secs in IPOPT (w/o function evaluations)   =      0.030\n",
      "Total CPU secs in NLP function evaluations           =      3.631\n",
      "\n",
      "EXIT: Converged to a point of local infeasibility. Problem may be infeasible.\n",
      "WARNING: Loading a SolverResults object with a warning status into\n",
      "    model=unknown;\n",
      "        message from solver=Ipopt 3.12.9\\x3a Converged to a locally infeasible\n",
      "        point. Problem may be infeasible.\n"
     ]
    },
    {
     "data": {
      "text/plain": [
       "{'Problem': [{'Lower bound': -inf, 'Upper bound': inf, 'Number of objectives': 1, 'Number of constraints': 9, 'Number of variables': 9, 'Sense': 'unknown'}], 'Solver': [{'Status': 'warning', 'Message': 'Ipopt 3.12.9\\\\x3a Converged to a locally infeasible point. Problem may be infeasible.', 'Termination condition': 'infeasible', 'Id': 200, 'Error rc': 0, 'Time': 3.716298818588257}], 'Solution': [OrderedDict([('number of solutions', 0), ('number of solutions displayed', 0)])]}"
      ]
     },
     "execution_count": 6,
     "metadata": {},
     "output_type": "execute_result"
    }
   ],
   "source": [
    "solver.solve(model, tee=True)"
   ]
  },
  {
   "cell_type": "markdown",
   "metadata": {},
   "source": [
    "## Write a Function to Show States at Ports\n",
    "\n",
    "Write a function that will give a nice tabulated overview of the conditions in the process."
   ]
  },
  {
   "cell_type": "code",
   "execution_count": 7,
   "metadata": {},
   "outputs": [],
   "source": [
    "def state_table(m):\n",
    "    head = [\"State Block\", \n",
    "        \"Flow (mol/s)\",\n",
    "        \"Temperature (K)\",\n",
    "        \"Pressure (Pa)\",\n",
    "        \"Enthalpy (J/mol)\",\n",
    "        \"Vapor Fraction\"]\n",
    "    st = pd.DataFrame(columns=head)\n",
    "    j = 0\n",
    "    for c in model.component_objects():\n",
    "        if isinstance(c, StateBlockBase):\n",
    "            for i in c:\n",
    "                row = [c[i].name, \n",
    "                       pe.value(c[i].flow_mol), \n",
    "                       pe.value(c[i].temperature), \n",
    "                       pe.value(c[i].pressure), \n",
    "                       pe.value(c[i].enth_mol),\n",
    "                       pe.value(c[i].vapor_frac)]\n",
    "                st.loc[j] = row\n",
    "                j += 1\n",
    "    return st"
   ]
  },
  {
   "cell_type": "markdown",
   "metadata": {},
   "source": [
    "## Show States\n",
    "\n",
    "Have a look at the results for the disconneted sheet."
   ]
  },
  {
   "cell_type": "code",
   "execution_count": 8,
   "metadata": {},
   "outputs": [
    {
     "data": {
      "text/html": [
       "<div>\n",
       "<style scoped>\n",
       "    .dataframe tbody tr th:only-of-type {\n",
       "        vertical-align: middle;\n",
       "    }\n",
       "\n",
       "    .dataframe tbody tr th {\n",
       "        vertical-align: top;\n",
       "    }\n",
       "\n",
       "    .dataframe thead th {\n",
       "        text-align: right;\n",
       "    }\n",
       "</style>\n",
       "<table border=\"1\" class=\"dataframe\">\n",
       "  <thead>\n",
       "    <tr style=\"text-align: right;\">\n",
       "      <th></th>\n",
       "      <th>State Block</th>\n",
       "      <th>Flow (mol/s)</th>\n",
       "      <th>Temperature (K)</th>\n",
       "      <th>Pressure (Pa)</th>\n",
       "      <th>Enthalpy (J/mol)</th>\n",
       "      <th>Vapor Fraction</th>\n",
       "    </tr>\n",
       "  </thead>\n",
       "  <tbody>\n",
       "    <tr>\n",
       "      <th>0</th>\n",
       "      <td>fs.pressure_changer.control_volume.properties_...</td>\n",
       "      <td>440.064357</td>\n",
       "      <td>249.996137</td>\n",
       "      <td>97236.002787</td>\n",
       "      <td>-1794.772036</td>\n",
       "      <td>0.0</td>\n",
       "    </tr>\n",
       "    <tr>\n",
       "      <th>1</th>\n",
       "      <td>fs.pressure_changer.control_volume.properties_...</td>\n",
       "      <td>440.064357</td>\n",
       "      <td>249.996137</td>\n",
       "      <td>97236.002787</td>\n",
       "      <td>-1794.772036</td>\n",
       "      <td>0.0</td>\n",
       "    </tr>\n",
       "  </tbody>\n",
       "</table>\n",
       "</div>"
      ],
      "text/plain": [
       "                                         State Block  Flow (mol/s)  \\\n",
       "0  fs.pressure_changer.control_volume.properties_...    440.064357   \n",
       "1  fs.pressure_changer.control_volume.properties_...    440.064357   \n",
       "\n",
       "   Temperature (K)  Pressure (Pa)  Enthalpy (J/mol)  Vapor Fraction  \n",
       "0       249.996137   97236.002787      -1794.772036             0.0  \n",
       "1       249.996137   97236.002787      -1794.772036             0.0  "
      ]
     },
     "execution_count": 8,
     "metadata": {},
     "output_type": "execute_result"
    }
   ],
   "source": [
    "state_table(model)"
   ]
  },
  {
   "cell_type": "code",
   "execution_count": null,
   "metadata": {},
   "outputs": [],
   "source": []
  }
 ],
 "metadata": {
  "kernelspec": {
   "display_name": "Python 3",
   "language": "python",
   "name": "python3"
  },
  "language_info": {
   "codemirror_mode": {
    "name": "ipython",
    "version": 3
   },
   "file_extension": ".py",
   "mimetype": "text/x-python",
   "name": "python",
   "nbconvert_exporter": "python",
   "pygments_lexer": "ipython3",
   "version": "3.7.0"
  }
 },
 "nbformat": 4,
 "nbformat_minor": 2
}
