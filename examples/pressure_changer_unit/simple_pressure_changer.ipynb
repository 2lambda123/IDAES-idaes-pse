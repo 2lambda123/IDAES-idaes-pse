{
 "cells": [
  {
   "cell_type": "markdown",
   "metadata": {},
   "source": [
    "## Simple Pressure Changer Example using Steam Property Package\n",
    "\n",
    "This notebook demonstrates how to assemble, initialize, and run a simple unit model using pressure changer with steam property package. This breifly demonstrates the basics of setting up a unit model.  See the documentation for a more complete description of the framework."
   ]
  },
  {
   "cell_type": "markdown",
   "metadata": {},
   "source": [
    "## Imports\n",
    "Standard Pyomo and IDAES core components are imported below along with Panda which will be used in this example to print a table of steam states in the unit model."
   ]
  },
  {
   "cell_type": "code",
   "execution_count": null,
   "metadata": {},
   "outputs": [],
   "source": [
    "import pyomo.environ as pe\n",
    "from idaes.core import FlowsheetBlock, StateBlockBase\n",
    "from idaes.unit_models.pressure_changer import PressureChanger\n",
    "from idaes.property_models import iapws95_ph\n",
    "import pandas as pd"
   ]
  },
  {
   "cell_type": "markdown",
   "metadata": {},
   "source": [
    "## Create a Unit model\n",
    "\n",
    "The lines below create a Pyomo concrete model, pressure changer unit model and steam property parameter block instance. The steam property parameter block contains constants that can be shared among all similar state blocks in a unit model. The iapws (international association of properties of water and steam) property model is used."
   ]
  },
  {
   "cell_type": "code",
   "execution_count": null,
   "metadata": {},
   "outputs": [],
   "source": [
    "model = pe.ConcreteModel()\n",
    "model.fs = FlowsheetBlock(default={\"dynamic\": False})\n",
    "model.fs.properties = iapws95_ph.Iapws95ParameterBlock()"
   ]
  },
  {
   "cell_type": "markdown",
   "metadata": {},
   "source": [
    "## Create a Pressure Changer Model\n",
    "\n",
    "Here the pressure changer model is created using the defined property above. Four different types of pressure changer operations are considered;  \n",
    "1. isothermal; constant temperature,\n",
    "2. Adiabatic; net heat transfer of zero,\n",
    "3. pump; assuming incompressible fluid,\n",
    "4. isentropic; constant entropy.\n",
    "\n",
    "We will test the isentropic assumption for this example."
   ]
  },
  {
   "cell_type": "code",
   "execution_count": null,
   "metadata": {},
   "outputs": [],
   "source": [
    "model.fs.pressure_changer = PressureChanger(default={\"property_package\": model.fs.properties,\n",
    "                            \"thermodynamic_assumption\":'isentropic'})"
   ]
  },
  {
   "cell_type": "markdown",
   "metadata": {},
   "source": [
    "## Fix Inlets and Initialize"
   ]
  },
  {
   "cell_type": "code",
   "execution_count": null,
   "metadata": {},
   "outputs": [],
   "source": [
    "init_state = {\n",
    "        \"flow_mol\":1e3,\n",
    "        \"pressure\":1e6,\n",
    "        \"enth_mol\":100000\n",
    "    }\n",
    "model.fs.pressure_changer.inlet[0].flow_mol.fix(1e3)\n",
    "model.fs.pressure_changer.inlet[0].pressure.fix(1e6)\n",
    "model.fs.pressure_changer.inlet[0].enth_mol.fix(100000)\n",
    "model.fs.pressure_changer.deltaP.fix(500)\n",
    "model.fs.pressure_changer.efficiency_isentropic.fix(0.9)\n",
    "\n",
    "model.fs.pressure_changer.initialize(state_args=init_state)"
   ]
  },
  {
   "cell_type": "markdown",
   "metadata": {},
   "source": [
    "## Solve the Disconnected Unit model\n",
    "\n",
    "Solve the model after initialization."
   ]
  },
  {
   "cell_type": "code",
   "execution_count": null,
   "metadata": {},
   "outputs": [],
   "source": [
    "solver = pe.SolverFactory('ipopt') # Set up the solver IPOPT"
   ]
  },
  {
   "cell_type": "code",
   "execution_count": null,
   "metadata": {},
   "outputs": [],
   "source": [
    "solver.solve(model, tee=True)"
   ]
  },
  {
   "cell_type": "markdown",
   "metadata": {},
   "source": [
    "## Write a Function to Show States at Ports\n",
    "\n",
    "Write a function that will give a nice tabulated overview of the conditions in the process."
   ]
  },
  {
   "cell_type": "code",
   "execution_count": null,
   "metadata": {},
   "outputs": [],
   "source": [
    "def state_table(m):\n",
    "    head = [\"State Block\", \n",
    "        \"Flow (mol/s)\",\n",
    "        \"Temperature (K)\",\n",
    "        \"Pressure (Pa)\",\n",
    "        \"Enthalpy (J/mol)\",\n",
    "        \"Vapor Fraction\"]\n",
    "    st = pd.DataFrame(columns=head)\n",
    "    j = 0\n",
    "    for c in model.component_objects():\n",
    "        if isinstance(c, StateBlockBase):\n",
    "            for i in c:\n",
    "                row = [c[i].name, \n",
    "                       pe.value(c[i].flow_mol), \n",
    "                       pe.value(c[i].temperature), \n",
    "                       pe.value(c[i].pressure), \n",
    "                       pe.value(c[i].enth_mol),\n",
    "                       pe.value(c[i].vapor_frac)]\n",
    "                st.loc[j] = row\n",
    "                j += 1\n",
    "    return st"
   ]
  },
  {
   "cell_type": "markdown",
   "metadata": {},
   "source": [
    "## Show States\n",
    "\n",
    "The table below shows the properties of the state blocks created by the pressure changer unit model."
   ]
  },
  {
   "cell_type": "code",
   "execution_count": null,
   "metadata": {},
   "outputs": [],
   "source": [
    "state_table(model)"
   ]
  },
  {
   "cell_type": "code",
   "execution_count": null,
   "metadata": {},
   "outputs": [],
   "source": []
  }
 ],
 "metadata": {
  "kernelspec": {
   "display_name": "Python 3",
   "language": "python",
   "name": "python3"
  },
  "language_info": {
   "codemirror_mode": {
    "name": "ipython",
    "version": 3
   },
   "file_extension": ".py",
   "mimetype": "text/x-python",
   "name": "python",
   "nbconvert_exporter": "python",
   "pygments_lexer": "ipython3",
   "version": "3.6.8"
  }
 },
 "nbformat": 4,
 "nbformat_minor": 2
}
