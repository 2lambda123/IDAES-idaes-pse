{
 "cells": [
  {
   "cell_type": "markdown",
   "metadata": {},
   "source": [
    "## Pressure Changer Example using Steam Property Package\n",
    "\n",
    "This notebook demonstrates how to assemble, initialize, and run a simple unit model using pressure changer with steam property package. This briefly demonstrates the basics of setting up a unit model.  See the documentation for a more complete description of the framework."
   ]
  },
  {
   "cell_type": "markdown",
   "metadata": {},
   "source": [
    "## Imports\n",
    "Standard Pyomo and IDAES core components are imported below along with Panda which will be used in this example to print a table of steam states in the unit model."
   ]
  },
  {
   "cell_type": "code",
   "execution_count": null,
   "metadata": {},
   "outputs": [],
   "source": [
    "import pyomo.environ as pe\n",
    "from idaes.core import FlowsheetBlock, StateBlock\n",
    "from idaes.unit_models.pressure_changer import PressureChanger\n",
    "from idaes.property_models import iapws95_ph\n",
    "import pandas as pd"
   ]
  },
  {
   "cell_type": "markdown",
   "metadata": {},
   "source": [
    "## Create a Unit model\n",
    "\n",
    "The lines below create a Pyomo concrete model, pressure changer unit model. It is a steady state example so the \"dynamic\" option is set to \"False\"."
   ]
  },
  {
   "cell_type": "code",
   "execution_count": null,
   "metadata": {},
   "outputs": [],
   "source": [
    "model = pe.ConcreteModel()\n",
    "model.fs = FlowsheetBlock(default={\"dynamic\": False})"
   ]
  },
  {
   "cell_type": "markdown",
   "metadata": {},
   "source": [
    "## Adding the IAPWS property package to Flowsheet\n",
    "Unit models require a property package. The iapws (international association of properties of water and steam) property model is used in this example.The steam property parameter block contains constants that can be shared among all similar state blocks in a unit model. "
   ]
  },
  {
   "cell_type": "code",
   "execution_count": null,
   "metadata": {},
   "outputs": [],
   "source": [
    "model.fs.properties = iapws95_ph.Iapws95ParameterBlock()"
   ]
  },
  {
   "cell_type": "markdown",
   "metadata": {},
   "source": [
    "## Create a Pressure Changer Model\n",
    "\n",
    "Here the pressure changer model is created using the defined property above. Four different types of pressure changer operations are considered;  \n",
    "1. isothermal; constant temperature,\n",
    "2. Adiabatic; net heat transfer of zero,\n",
    "3. pump; assuming incompressible fluid,\n",
    "4. isentropic; constant entropy.\n",
    "\n",
    "We will test the isentropic assumption for this example."
   ]
  },
  {
   "cell_type": "code",
   "execution_count": null,
   "metadata": {},
   "outputs": [],
   "source": [
    "model.fs.pressure_changer = PressureChanger(default={\"property_package\": model.fs.properties,\n",
    "                            \"thermodynamic_assumption\":'isentropic'})"
   ]
  },
  {
   "cell_type": "markdown",
   "metadata": {},
   "source": [
    "## Fix model inlets and initial states"
   ]
  },
  {
   "cell_type": "code",
   "execution_count": null,
   "metadata": {},
   "outputs": [],
   "source": [
    "model.fs.pressure_changer.inlet.flow_mol.fix(27.5e3)\n",
    "model.fs.pressure_changer.inlet.pressure.fix(2e6)\n",
    "model.fs.pressure_changer.inlet.enth_mol.fix(100000)\n",
    "model.fs.pressure_changer.deltaP.fix(300)\n",
    "model.fs.pressure_changer.efficiency_isentropic.fix(0.9)"
   ]
  },
  {
   "cell_type": "markdown",
   "metadata": {},
   "source": [
    "## Check degree of freedom"
   ]
  },
  {
   "cell_type": "code",
   "execution_count": null,
   "metadata": {},
   "outputs": [],
   "source": [
    "from idaes.ui.report import degrees_of_freedom\n",
    "def check_dof(model):\n",
    "    dof = degrees_of_freedom(model)\n",
    "    if dof == 0:\n",
    "        print('Model has zero degrees of freedom. Good to go!')\n",
    "    else:\n",
    "        print('Error: Model has {:d} degrees of freedom!'.format(dof))\n",
    "check_dof(model)"
   ]
  },
  {
   "cell_type": "markdown",
   "metadata": {},
   "source": [
    "## Initialize model"
   ]
  },
  {
   "cell_type": "code",
   "execution_count": null,
   "metadata": {},
   "outputs": [],
   "source": [
    "init_state = {\n",
    "        \"flow_mol\": 27.5e3,\n",
    "        \"pressure\": 2e6,\n",
    "        \"enth_mol\": 100000\n",
    "    }\n",
    "model.fs.pressure_changer.initialize(state_args=init_state)"
   ]
  },
  {
   "cell_type": "markdown",
   "metadata": {},
   "source": [
    "## Load the Solver"
   ]
  },
  {
   "cell_type": "code",
   "execution_count": null,
   "metadata": {},
   "outputs": [],
   "source": [
    "from pyomo.environ import SolverFactory\n",
    "\n",
    "if SolverFactory('ipopt').available():\n",
    "    solver = SolverFactory('ipopt')\n",
    "    solver.options = {'tol': 1e-6}\n",
    "    print('IPOPT solver found')\n",
    "else:\n",
    "    solver = None\n",
    "    print('Error: IPOPT not found: Cannot solve the system!')"
   ]
  },
  {
   "cell_type": "markdown",
   "metadata": {},
   "source": [
    "## Solve the Disconnected Unit model\n",
    "\n",
    "Solve the model after initialization."
   ]
  },
  {
   "cell_type": "code",
   "execution_count": null,
   "metadata": {},
   "outputs": [],
   "source": [
    "solver.solve(model, tee=True)"
   ]
  },
  {
   "cell_type": "markdown",
   "metadata": {},
   "source": [
    "## Write a Function to Show States at Ports\n",
    "\n",
    "Write a function that will give a nice tabulated overview of the conditions in the process."
   ]
  },
  {
   "cell_type": "code",
   "execution_count": null,
   "metadata": {},
   "outputs": [],
   "source": [
    "def state_table(m):\n",
    "    head = [\"State Block\", \n",
    "        \"Flow (mol/s)\",\n",
    "        \"Temperature (K)\",\n",
    "        \"Pressure (Pa)\",\n",
    "        \"Enthalpy (J/mol)\",\n",
    "        \"Vapor Fraction\"]\n",
    "    st = pd.DataFrame(columns=head)\n",
    "    j = 0\n",
    "    for c in model.component_objects():\n",
    "        if isinstance(c, StateBlock):\n",
    "            for i in c:\n",
    "                row = [c[i].name, \n",
    "                       pe.value(c[i].flow_mol), \n",
    "                       pe.value(c[i].temperature), \n",
    "                       pe.value(c[i].pressure), \n",
    "                       pe.value(c[i].enth_mol),\n",
    "                       pe.value(c[i].vapor_frac)]\n",
    "                st.loc[j] = row\n",
    "                j += 1\n",
    "    return st"
   ]
  },
  {
   "cell_type": "markdown",
   "metadata": {},
   "source": [
    "## Show States\n",
    "\n",
    "The table below shows the properties of the state blocks created by the pressure changer unit model."
   ]
  },
  {
   "cell_type": "code",
   "execution_count": null,
   "metadata": {},
   "outputs": [],
   "source": [
    "state_table(model)"
   ]
  },
  {
   "cell_type": "code",
   "execution_count": null,
   "metadata": {},
   "outputs": [],
   "source": []
  }
 ],
 "metadata": {
  "kernelspec": {
   "display_name": "Python 3",
   "language": "python",
   "name": "python3"
  },
  "language_info": {
   "codemirror_mode": {
    "name": "ipython",
    "version": 3
   },
   "file_extension": ".py",
   "mimetype": "text/x-python",
   "name": "python",
   "nbconvert_exporter": "python",
   "pygments_lexer": "ipython3",
   "version": "3.7.2"
  }
 },
 "nbformat": 4,
 "nbformat_minor": 2
}
