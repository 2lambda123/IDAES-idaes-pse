{
 "cells": [
  {
   "cell_type": "code",
   "execution_count": 1,
   "metadata": {},
   "outputs": [],
   "source": [
    "from idaes.dmf import DMF\n",
    "from idaes.dmf import resource\n",
    "import pandas"
   ]
  },
  {
   "cell_type": "code",
   "execution_count": 2,
   "metadata": {},
   "outputs": [],
   "source": [
    "# Import Pyomo libraries\n",
    "from pyomo.environ import Constraint, Expression, log, NonNegativeReals,\\\n",
    "    value, Var, Set, Param, sqrt, log10\n",
    "from pyomo.opt import SolverFactory, TerminationCondition\n",
    "from pyomo.util.calc_var_value import calculate_variable_from_constraint\n",
    "\n",
    "# Import IDAES cores\n",
    "from idaes.core import (declare_process_block_class,\n",
    "                        MaterialFlowBasis,\n",
    "                        PhysicalParameterBlock,\n",
    "                        StateBlockData,\n",
    "                        StateBlock)\n",
    "from idaes.core.util.initialization import solve_indexed_blocks\n",
    "from idaes.core.util.misc import add_object_reference\n",
    "from idaes.core.util.model_statistics import degrees_of_freedom, \\\n",
    "                                             number_unfixed_variables\n",
    "from idaes.core.util.misc import extract_data"
   ]
  },
  {
   "cell_type": "code",
   "execution_count": 3,
   "metadata": {},
   "outputs": [],
   "source": [
    "wspace = DMF(path='.')"
   ]
  },
  {
   "cell_type": "code",
   "execution_count": 5,
   "metadata": {},
   "outputs": [
    {
     "name": "stdout",
     "output_type": "stream",
     "text": [
      "{'variables': ['compound', 'pressure'], 'units': [None, 'Pa'], 'observations': [['benzene', 4890000.0], ['toluene', 4100000.0], ['hydrogen', 1290000.0], ['methane', 4600000.0], ['diphenyl', 3850000.0]]}\n",
      "{'benzene': 4890000.0, 'toluene': 4100000.0, 'hydrogen': 1290000.0, 'methane': 4600000.0, 'diphenyl': 3850000.0}\n"
     ]
    }
   ],
   "source": [
    "r = wspace.find_one(name='pressure_crit')\n",
    "print(r.data)\n",
    "td = resource.TidyUnitData(**r.data)\n",
    "print(td.param_data)"
   ]
  },
  {
   "cell_type": "code",
   "execution_count": 6,
   "metadata": {},
   "outputs": [],
   "source": [
    "component_list = Set(initialize=['benzene',\n",
    "                                              'toluene',\n",
    "                                              'hydrogen',\n",
    "                                              'methane'])"
   ]
  },
  {
   "cell_type": "code",
   "execution_count": 7,
   "metadata": {},
   "outputs": [],
   "source": [
    "temperature_crit = Param(\n",
    "            component_list,\n",
    "            within=NonNegativeReals,\n",
    "            mutable=False,\n",
    "            initialize=extract_data(td.param_data),\n",
    "            doc='Critical temperature [K]')"
   ]
  },
  {
   "cell_type": "code",
   "execution_count": 8,
   "metadata": {},
   "outputs": [],
   "source": [
    "r = resource.Resource(type_ = resource.TY_PROPERTY)"
   ]
  },
  {
   "cell_type": "code",
   "execution_count": 48,
   "metadata": {},
   "outputs": [],
   "source": [
    "r.data = dict(variables=('compound', 'pressure'), units=(None, 'Pa'), \n",
    "                      observations=[['benzene', 48.9e5],['toluene', 41e5],\n",
    "                              ['hydrogen', 12.9e5],\n",
    "                              ['methane', 46e5],\n",
    "                              ['diphenyl', 38.5e5]\n",
    "                         ])"
   ]
  },
  {
   "cell_type": "code",
   "execution_count": 13,
   "metadata": {},
   "outputs": [],
   "source": [
    "reid_source = dict(date='1987', isbn='9780070517998', language='en', \n",
    "                   source=\"Reid, R. C., Prausnitz, J. M., & Poling, B. E. (1987). The properties of gases and liquids.\")\n",
    "r.v[\"sources\"].append(reid_source)"
   ]
  },
  {
   "cell_type": "code",
   "execution_count": 14,
   "metadata": {},
   "outputs": [
    {
     "data": {
      "text/plain": [
       "[{'date': '1987',\n",
       "  'isbn': '9780070517998',\n",
       "  'language': 'en',\n",
       "  'source': 'Reid, R. C., Prausnitz, J. M., & Poling, B. E. (1987). The properties of gases and liquids.'}]"
      ]
     },
     "execution_count": 14,
     "metadata": {},
     "output_type": "execute_result"
    }
   ],
   "source": [
    "r.v[\"sources\"]"
   ]
  },
  {
   "cell_type": "code",
   "execution_count": 19,
   "metadata": {},
   "outputs": [],
   "source": [
    "r.v['tags'] = ['pressure', 'critical pressure']"
   ]
  },
  {
   "cell_type": "code",
   "execution_count": 20,
   "metadata": {},
   "outputs": [],
   "source": [
    "r.v['aliases'] = ['pressure_crit']"
   ]
  },
  {
   "cell_type": "code",
   "execution_count": 52,
   "metadata": {},
   "outputs": [
    {
     "data": {
      "text/plain": [
       "'623804ff69564eda9f92ae3871ed8687'"
      ]
     },
     "execution_count": 52,
     "metadata": {},
     "output_type": "execute_result"
    }
   ],
   "source": [
    "wspace.add(r)"
   ]
  },
  {
   "cell_type": "code",
   "execution_count": 4,
   "metadata": {},
   "outputs": [],
   "source": [
    "reid_source = dict(date='1987', isbn='9780070517998', language='en', \n",
    "                   source=\"Reid, R. C., Prausnitz, J. M., & Poling, B. E. (1987). The properties of gases and liquids.\")\n",
    "perry_source = dict(date='2019', isbn='9780071834087', language='en', \n",
    "                   source=\"Green, W. and Southard, M., ed. 'Perry's Chemical Engineer's Handbook', 9th Edition\")"
   ]
  },
  {
   "cell_type": "code",
   "execution_count": 10,
   "metadata": {},
   "outputs": [],
   "source": [
    "r = resource.Resource(type_ = resource.TY_PROPERTY)\n",
    "r.data = dict(variables=('compound', 'temperature'), units=(None, 'K'), \n",
    "                      observations=[\n",
    "                          ['benzene', 562.2],\n",
    "                        ['toluene', 591.8],\n",
    "                        ['hydrogen', 33.0],\n",
    "                        ['methane', 190.4],\n",
    "                        ['diphenyl', 789]\n",
    "                         ])\n",
    "r.v[\"sources\"].append(reid_source)\n",
    "r.v['tags'] = ['temperature', 'critical']\n",
    "r.v['aliases'] = 'temperature_crit'"
   ]
  },
  {
   "cell_type": "code",
   "execution_count": 11,
   "metadata": {},
   "outputs": [
    {
     "data": {
      "text/plain": [
       "{'id_': 'b0b333fdd4574e4eae1c4cef98c19ee8',\n",
       " 'type': 'propertydb',\n",
       " 'aliases': 'temperature_crit',\n",
       " 'codes': [],\n",
       " 'collaborators': [],\n",
       " 'created': 1565634717.614104,\n",
       " 'modified': 1565634717.614104,\n",
       " 'creator': {'name': 'dang'},\n",
       " 'data': {'variables': ('compound', 'temperature'),\n",
       "  'units': (None, 'K'),\n",
       "  'observations': [['benzene', 562.2],\n",
       "   ['toluene', 591.8],\n",
       "   ['hydrogen', 33.0],\n",
       "   ['methane', 190.4],\n",
       "   ['diphenyl', 789]]},\n",
       " 'datafiles': [],\n",
       " 'datafiles_dir': '',\n",
       " 'desc': '',\n",
       " 'relations': [],\n",
       " 'sources': [{'date': '1987',\n",
       "   'isbn': '9780070517998',\n",
       "   'language': 'en',\n",
       "   'source': 'Reid, R. C., Prausnitz, J. M., & Poling, B. E. (1987). The properties of gases and liquids.'}],\n",
       " 'tags': ['temperature', 'critical'],\n",
       " 'version_info': {'created': 1565634717.614104,\n",
       "  'version': (0, 0, 0),\n",
       "  'name': ''}}"
      ]
     },
     "execution_count": 11,
     "metadata": {},
     "output_type": "execute_result"
    }
   ],
   "source": [
    "r.v"
   ]
  },
  {
   "cell_type": "code",
   "execution_count": 12,
   "metadata": {},
   "outputs": [
    {
     "data": {
      "text/plain": [
       "'b0b333fdd4574e4eae1c4cef98c19ee8'"
      ]
     },
     "execution_count": 12,
     "metadata": {},
     "output_type": "execute_result"
    }
   ],
   "source": [
    "wspace.add(r)"
   ]
  },
  {
   "cell_type": "code",
   "execution_count": 5,
   "metadata": {},
   "outputs": [],
   "source": [
    "r = resource.Resource(type_ = resource.TY_PROPERTY)\n",
    "r.data = dict(variables=('compound', 'molecular weight'), units=(None, 'Kg/mol'), \n",
    "                      observations=[\n",
    "                        ['benzene', 78.1136E-3],\n",
    "                        ['toluene', 92.1405E-3],\n",
    "                        ['hydrogen', 2.016e-3],\n",
    "                        ['methane', 16.043e-3],\n",
    "                        ['diphenyl', 154.212e-4]\n",
    "                         ])\n",
    "r.v[\"sources\"].append(reid_source)\n",
    "r.v['tags'] = ['mw', 'molecular', 'weight']\n",
    "r.v['aliases'] = 'mw'\n",
    "r.v['desc'] = 'Molecular weight'"
   ]
  },
  {
   "cell_type": "code",
   "execution_count": 6,
   "metadata": {},
   "outputs": [
    {
     "data": {
      "text/plain": [
       "'d9b59dffe0e4428baab2f80f42c62c3c'"
      ]
     },
     "execution_count": 6,
     "metadata": {},
     "output_type": "execute_result"
    }
   ],
   "source": [
    "wspace.add(r)"
   ]
  },
  {
   "cell_type": "code",
   "execution_count": 7,
   "metadata": {},
   "outputs": [
    {
     "data": {
      "text/plain": [
       "\u001b[0;31mSignature:\u001b[0m \u001b[0mwspace\u001b[0m\u001b[0;34m.\u001b[0m\u001b[0mupdate\u001b[0m\u001b[0;34m(\u001b[0m\u001b[0mrsrc\u001b[0m\u001b[0;34m,\u001b[0m \u001b[0msync_relations\u001b[0m\u001b[0;34m=\u001b[0m\u001b[0;32mFalse\u001b[0m\u001b[0;34m,\u001b[0m \u001b[0mupsert\u001b[0m\u001b[0;34m=\u001b[0m\u001b[0;32mFalse\u001b[0m\u001b[0;34m)\u001b[0m\u001b[0;34m\u001b[0m\u001b[0;34m\u001b[0m\u001b[0m\n",
       "\u001b[0;31mDocstring:\u001b[0m\n",
       "Update/insert stored resource.\n",
       "\n",
       "Args:\n",
       "    rsrc (resource.Resource): Resource instance\n",
       "    sync_relations (bool): If True, and if resource\n",
       "        exists in the DB, then the \"relations\" attribute of\n",
       "        the provided resource will be changed to the stored value.\n",
       "    upsert (bool): If true, and the resource is not in the DMF,\n",
       "                   then insert it. If false, and the resource is\n",
       "                   not in the DMF, then do nothing.\n",
       "Returns:\n",
       "    bool: True if the resource was updated or added, False if nothing\n",
       "          was done.\n",
       "Raises:\n",
       "    errors.DMFError: If the input resource was invalid.\n",
       "\u001b[0;31mFile:\u001b[0m      ~/src/idaes/dangunter/idaes-dev/idaes/dmf/dmfbase.py\n",
       "\u001b[0;31mType:\u001b[0m      method\n"
      ]
     },
     "metadata": {},
     "output_type": "display_data"
    }
   ],
   "source": [
    "wspace.update?"
   ]
  },
  {
   "cell_type": "code",
   "execution_count": 8,
   "metadata": {},
   "outputs": [],
   "source": [
    "r_pressure = wspace.find_one(name=\"pressure_crit\")"
   ]
  },
  {
   "cell_type": "code",
   "execution_count": 9,
   "metadata": {},
   "outputs": [
    {
     "data": {
      "text/plain": [
       "<idaes.dmf.resource.Resource at 0x7fa7a4c35080>"
      ]
     },
     "execution_count": 9,
     "metadata": {},
     "output_type": "execute_result"
    }
   ],
   "source": [
    "r_pressure"
   ]
  },
  {
   "cell_type": "code",
   "execution_count": 11,
   "metadata": {},
   "outputs": [],
   "source": [
    "r_pressure.v['desc'] = \"Critical pressure\""
   ]
  },
  {
   "cell_type": "code",
   "execution_count": 12,
   "metadata": {},
   "outputs": [
    {
     "data": {
      "text/plain": [
       "False"
      ]
     },
     "execution_count": 12,
     "metadata": {},
     "output_type": "execute_result"
    }
   ],
   "source": [
    "wspace.update(r_pressure)"
   ]
  },
  {
   "cell_type": "code",
   "execution_count": 17,
   "metadata": {},
   "outputs": [],
   "source": [
    "r_temp = wspace.fetch_one('b0b333fdd4574e4eae1c4cef98c19ee8')"
   ]
  },
  {
   "cell_type": "code",
   "execution_count": 18,
   "metadata": {},
   "outputs": [
    {
     "data": {
      "text/plain": [
       "<idaes.dmf.resource.Resource at 0x7fa7a342c780>"
      ]
     },
     "execution_count": 18,
     "metadata": {},
     "output_type": "execute_result"
    }
   ],
   "source": [
    "r_temp"
   ]
  },
  {
   "cell_type": "code",
   "execution_count": 20,
   "metadata": {},
   "outputs": [],
   "source": [
    "r_temp.v['desc'] = \"Critical temperature\""
   ]
  },
  {
   "cell_type": "code",
   "execution_count": 21,
   "metadata": {},
   "outputs": [
    {
     "data": {
      "text/plain": [
       "False"
      ]
     },
     "execution_count": 21,
     "metadata": {},
     "output_type": "execute_result"
    }
   ],
   "source": [
    "wspace.update(r_temp)"
   ]
  },
  {
   "cell_type": "code",
   "execution_count": 29,
   "metadata": {},
   "outputs": [],
   "source": [
    "obs_dict = {('benzene', '1'): 1.0162,\n",
    "                         ('benzene', '2'): 0.2655,\n",
    "                         ('benzene', '3'): 562.16,\n",
    "                         ('benzene', '4'): 0.28212,\n",
    "                         ('toluene', '1'): 0.8488,\n",
    "                         ('toluene', '2'): 0.26655,\n",
    "                         ('toluene', '3'): 591.8,\n",
    "                         ('toluene', '4'): 0.2878,\n",
    "                         ('hydrogen', '1'): 5.414,\n",
    "                         ('hydrogen', '2'): 0.34893,\n",
    "                         ('hydrogen', '3'): 33.19,\n",
    "                         ('hydrogen', '4'): 0.2706,\n",
    "                         ('methane', '1'): 2.9214,\n",
    "                         ('methane', '2'): 0.28976,\n",
    "                         ('methane', '3'): 190.56,\n",
    "                         ('methane', '4'): 0.28881,\n",
    "                         ('diphenyl', '1'): 0.5039,\n",
    "                         ('diphenyl', '2'): 0.25273,\n",
    "                         ('diphenyl', '3'): 789.26,\n",
    "                         ('diphenyl', '4'): 0.281}\n",
    "obs = [[k[0], k[1], v] for k, v in obs_dict.items()] \n",
    "r = resource.Resource(type_ = resource.TY_PROPERTY)\n",
    "r.data = dict(variables=('compound', 'n', 'Liquid density'), units=(None, None, None), \n",
    "                      observations=obs)\n",
    "r.v[\"sources\"].append(reid_source)\n",
    "r.v['tags'] = ['liquid', 'density']\n",
    "r.v['aliases'] = 'cp_liq'\n",
    "r.v['desc'] = 'Liquid densities'"
   ]
  },
  {
   "cell_type": "code",
   "execution_count": 32,
   "metadata": {},
   "outputs": [
    {
     "data": {
      "text/plain": [
       "'30ad5a72c576471b8b0a6efcab1114c8'"
      ]
     },
     "execution_count": 32,
     "metadata": {},
     "output_type": "execute_result"
    }
   ],
   "source": [
    "wspace.add(r)"
   ]
  },
  {
   "cell_type": "code",
   "execution_count": 36,
   "metadata": {},
   "outputs": [],
   "source": [
    "bp_data = {('benzene'): 353.25,\n",
    "                   ('toluene'): 383.95,\n",
    "                   ('hydrogen'): 20.45,\n",
    "                   ('methane'): 111.75,\n",
    "                   ('diphenyl'): 528.05}\n",
    "obs = [[k, v] for k, v in bp_data.items()]\n",
    "r = resource.Resource(type_ = resource.TY_PROPERTY)\n",
    "r.data = dict(variables=('compound', 'temperature'), units=(None, 'K'), \n",
    "                      observations=obs)\n",
    "r.v['sources'].append(perry_source)\n",
    "r.v['tags'] = ['boiling', 'boiling point']\n",
    "r.v['aliases'] = 'bp'\n",
    "r.v['desc'] = 'Pure component boiling points at standard pressure [K]'"
   ]
  },
  {
   "cell_type": "code",
   "execution_count": 37,
   "metadata": {},
   "outputs": [
    {
     "data": {
      "text/plain": [
       "{'id_': '4ef9d2ce193f4a0487763fbe4b94c347',\n",
       " 'type': 'propertydb',\n",
       " 'aliases': 'bp',\n",
       " 'codes': [],\n",
       " 'collaborators': [],\n",
       " 'created': 1565647456.847174,\n",
       " 'modified': 1565647456.847174,\n",
       " 'creator': {'name': 'dang'},\n",
       " 'data': {'variables': ('compound', 'temperature'),\n",
       "  'units': (None, 'K'),\n",
       "  'observations': [['benzene', 353.25],\n",
       "   ['toluene', 383.95],\n",
       "   ['hydrogen', 20.45],\n",
       "   ['methane', 111.75],\n",
       "   ['diphenyl', 528.05]]},\n",
       " 'datafiles': [],\n",
       " 'datafiles_dir': '',\n",
       " 'desc': 'Pure component boiling points at standard pressure [K]',\n",
       " 'relations': [],\n",
       " 'sources': [{'date': '2019',\n",
       "   'isbn': '9780071834087',\n",
       "   'language': 'en',\n",
       "   'source': \"Green, W. and Southard, M., ed. 'Perry's Chemical Engineer's Handbook', 9th Edition\"}],\n",
       " 'tags': ['boiling', 'boiling point'],\n",
       " 'version_info': {'created': 1565647456.847174,\n",
       "  'version': (0, 0, 0),\n",
       "  'name': ''}}"
      ]
     },
     "execution_count": 37,
     "metadata": {},
     "output_type": "execute_result"
    }
   ],
   "source": [
    "r.v"
   ]
  },
  {
   "cell_type": "code",
   "execution_count": 38,
   "metadata": {},
   "outputs": [
    {
     "data": {
      "text/plain": [
       "'4ef9d2ce193f4a0487763fbe4b94c347'"
      ]
     },
     "execution_count": 38,
     "metadata": {},
     "output_type": "execute_result"
    }
   ],
   "source": [
    "wspace.add(r)"
   ]
  },
  {
   "cell_type": "code",
   "execution_count": 39,
   "metadata": {},
   "outputs": [],
   "source": [
    "cp_ig_data = {('Liq', 'benzene', '1'): 1.29E5,\n",
    "                      ('Liq', 'benzene', '2'): -1.7E2,\n",
    "                      ('Liq', 'benzene', '3'): 6.48E-1,\n",
    "                      ('Liq', 'benzene', '4'): 0,\n",
    "                      ('Liq', 'benzene', '5'): 0,\n",
    "                      ('Vap', 'benzene', '1'): -3.392E1,\n",
    "                      ('Vap', 'benzene', '2'): 4.739E-1,\n",
    "                      ('Vap', 'benzene', '3'): -3.017E-4,\n",
    "                      ('Vap', 'benzene', '4'): 7.130E-8,\n",
    "                      ('Vap', 'benzene', '5'): 0,\n",
    "                      ('Liq', 'toluene', '1'): 1.40E5,\n",
    "                      ('Liq', 'toluene', '2'): -1.52E2,\n",
    "                      ('Liq', 'toluene', '3'): 6.95E-1,\n",
    "                      ('Liq', 'toluene', '4'): 0,\n",
    "                      ('Liq', 'toluene', '5'): 0,\n",
    "                      ('Vap', 'toluene', '1'): -2.435E1,\n",
    "                      ('Vap', 'toluene', '2'): 5.125E-1,\n",
    "                      ('Vap', 'toluene', '3'): -2.765E-4,\n",
    "                      ('Vap', 'toluene', '4'): 4.911E-8,\n",
    "                      ('Vap', 'toluene', '5'): 0,\n",
    "                      ('Liq', 'hydrogen', '1'): 0,  # 6.6653e1,\n",
    "                      ('Liq', 'hydrogen', '2'): 0,  # 6.7659e3,\n",
    "                      ('Liq', 'hydrogen', '3'): 0,  # -1.2363e2,\n",
    "                      ('Liq', 'hydrogen', '4'): 0,  # 4.7827e2, # Eqn 2\n",
    "                      ('Liq', 'hydrogen', '5'): 0,\n",
    "                      ('Vap', 'hydrogen', '1'): 2.714e1,\n",
    "                      ('Vap', 'hydrogen', '2'): 9.274e-3,\n",
    "                      ('Vap', 'hydrogen', '3'): -1.381e-5,\n",
    "                      ('Vap', 'hydrogen', '4'): 7.645e-9,\n",
    "                      ('Vap', 'hydrogen', '5'): 0,\n",
    "                      ('Liq', 'methane', '1'): 0,  # 6.5708e1,\n",
    "                      ('Liq', 'methane', '2'): 0,  # 3.8883e4,\n",
    "                      ('Liq', 'methane', '3'): 0,  # -2.5795e2,\n",
    "                      ('Liq', 'methane', '4'): 0,  # 6.1407e2, # Eqn 2\n",
    "                      ('Liq', 'methane', '5'): 0,\n",
    "                      ('Vap', 'methane', '1'): 1.925e1,\n",
    "                      ('Vap', 'methane', '2'): 5.213e-2,\n",
    "                      ('Vap', 'methane', '3'): 1.197e-5,\n",
    "                      ('Vap', 'methane', '4'): -1.132e-8,\n",
    "                      ('Vap', 'methane', '5'): 0,\n",
    "                      ('Liq', 'diphenyl', '1'): 1.2177e5,\n",
    "                      ('Liq', 'diphenyl', '2'): 4.2930e2,\n",
    "                      ('Liq', 'diphenyl', '3'): 0,\n",
    "                      ('Liq', 'diphenyl', '4'): 0,\n",
    "                      ('Liq', 'diphenyl', '5'): 0,\n",
    "                      ('Vap', 'diphenyl', '1'): -9.707e1,\n",
    "                      ('Vap', 'diphenyl', '2'): 1.106e0,\n",
    "                      ('Vap', 'diphenyl', '3'): -8.855e-4,\n",
    "                      ('Vap', 'diphenyl', '4'): 2.790e-7,\n",
    "                      ('Vap', 'diphenyl', '5'): 0}"
   ]
  },
  {
   "cell_type": "code",
   "execution_count": 40,
   "metadata": {},
   "outputs": [],
   "source": [
    "obs = [[k[0], k[1], k[2], v] for k, v in cp_ig_data.items()]\n",
    "r = resource.Resource(type_ = resource.TY_PROPERTY)\n",
    "r.data = dict(variables=('phase', 'compound', 'n', 'value'), units=(None, None, None, None), \n",
    "                      observations=obs)\n",
    "r.v['sources'].append(perry_source)\n",
    "r.v['tags'] = ['Cp', 'heat capacity', 'enthalpy']\n",
    "r.v['aliases'] = 'cp'\n",
    "r.v['desc'] = 'Specific heat capacity, enthalpy'"
   ]
  },
  {
   "cell_type": "code",
   "execution_count": 42,
   "metadata": {},
   "outputs": [
    {
     "data": {
      "text/plain": [
       "'5bc493a1ccb74639b0403d0d66924b51'"
      ]
     },
     "execution_count": 42,
     "metadata": {},
     "output_type": "execute_result"
    }
   ],
   "source": [
    "wspace.add(r)"
   ]
  },
  {
   "cell_type": "code",
   "execution_count": 43,
   "metadata": {},
   "outputs": [],
   "source": [
    "pressure_sat_coeff_data = {('benzene', 'A'): 4.202,\n",
    "                                   ('benzene', 'B'): 1322,\n",
    "                                   ('benzene', 'C'): -38.56,\n",
    "                                   ('toluene', 'A'): 4.216,\n",
    "                                   ('toluene', 'B'): 1435,\n",
    "                                   ('toluene', 'C'): -43.33,\n",
    "                                   ('hydrogen', 'A'): 3.543,\n",
    "                                   ('hydrogen', 'B'): 99.40,\n",
    "                                   ('hydrogen', 'C'): 7.726,\n",
    "                                   ('methane', 'A'): 3.990,\n",
    "                                   ('methane', 'B'): 443.0,\n",
    "                                   ('methane', 'C'): -0.49,\n",
    "                                   ('diphenyl', 'A'): 4.345,\n",
    "                                   ('diphenyl', 'B'): 1988,\n",
    "                                   ('diphenyl', 'C'): -70.82}"
   ]
  },
  {
   "cell_type": "code",
   "execution_count": 44,
   "metadata": {},
   "outputs": [],
   "source": [
    "obs = [[k[0], k[1], v] for k, v in pressure_sat_coeff_data.items()]\n",
    "r = resource.Resource(type_ = resource.TY_PROPERTY)\n",
    "r.data = dict(variables=('compound', 'letter', 'value'), units=(None, None, None, None), \n",
    "                      observations=obs)\n",
    "r.v['sources'].append(reid_source)\n",
    "r.v['tags'] = ['pressure', 'saturation']\n",
    "r.v['aliases'] = 'pressure_sat_coeff'\n",
    "r.v['desc'] = 'Pressure saturation coefficient'"
   ]
  },
  {
   "cell_type": "code",
   "execution_count": 45,
   "metadata": {},
   "outputs": [
    {
     "data": {
      "text/plain": [
       "'6ff47009063047c58d70779374175d9c'"
      ]
     },
     "execution_count": 45,
     "metadata": {},
     "output_type": "execute_result"
    }
   ],
   "source": [
    "wspace.add(r)"
   ]
  },
  {
   "cell_type": "code",
   "execution_count": 8,
   "metadata": {},
   "outputs": [],
   "source": [
    "dh_vap = {'benzene': 3.387e4, 'toluene': 3.8262e4,\n",
    "                  'hydrogen': 0, 'methane': 0, \"diphenyl\": 6.271e4}"
   ]
  },
  {
   "cell_type": "code",
   "execution_count": 9,
   "metadata": {},
   "outputs": [],
   "source": [
    "obs = [[k, v] for k, v in dh_vap.items()]\n",
    "r = resource.Resource(type_ = resource.TY_PROPERTY)\n",
    "r.data = dict(variables=('compound', 'value'), units=(None, 'K'), \n",
    "                      observations=obs)\n",
    "r.v['sources'].append(reid_source)\n",
    "r.v['tags'] = ['heat', 'vaporization']\n",
    "r.v['aliases'] = ['dh_vap']\n",
    "r.v['desc'] = 'Heat of vaporization'"
   ]
  },
  {
   "cell_type": "code",
   "execution_count": 10,
   "metadata": {},
   "outputs": [
    {
     "data": {
      "text/plain": [
       "'15907525b89643c08bf9bc0a0b8e2fe6'"
      ]
     },
     "execution_count": 10,
     "metadata": {},
     "output_type": "execute_result"
    }
   ],
   "source": [
    "wspace.add(r)"
   ]
  },
  {
   "cell_type": "code",
   "execution_count": 5,
   "metadata": {},
   "outputs": [
    {
     "data": {
      "text/plain": [
       "<idaes.dmf.resource.Resource at 0x7f81ebcd3940>"
      ]
     },
     "execution_count": 5,
     "metadata": {},
     "output_type": "execute_result"
    }
   ],
   "source": [
    "r"
   ]
  },
  {
   "cell_type": "code",
   "execution_count": null,
   "metadata": {},
   "outputs": [],
   "source": []
  }
 ],
 "metadata": {
  "kernelspec": {
   "display_name": "idaes37",
   "language": "python",
   "name": "idaes37"
  },
  "language_info": {
   "codemirror_mode": {
    "name": "ipython",
    "version": 3
   },
   "file_extension": ".py",
   "mimetype": "text/x-python",
   "name": "python",
   "nbconvert_exporter": "python",
   "pygments_lexer": "ipython3",
   "version": "3.7.3"
  }
 },
 "nbformat": 4,
 "nbformat_minor": 4
}
