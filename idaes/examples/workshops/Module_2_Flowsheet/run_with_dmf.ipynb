{
 "cells": [
  {
   "cell_type": "code",
   "execution_count": 1,
   "metadata": {},
   "outputs": [],
   "source": [
    "from idaes import dmf\n",
    "from idaes.dmf.resource import TidyUnitData\n",
    "from idaes.core.util.misc import extract_data"
   ]
  },
  {
   "cell_type": "code",
   "execution_count": 2,
   "metadata": {},
   "outputs": [],
   "source": [
    "from pyomo.environ import (Constraint,\n",
    "                           Var,\n",
    "                           ConcreteModel,\n",
    "                           Expression,\n",
    "                           Objective,\n",
    "                           SolverFactory,\n",
    "                           TransformationFactory,\n",
    "                           value)\n",
    "from pyomo.network import Arc, SequentialDecomposition\n",
    "from idaes.core import FlowsheetBlock\n",
    "from idaes.unit_models import (PressureChanger,\n",
    "                               Mixer,\n",
    "                               Separator as Splitter,\n",
    "                               Heater,\n",
    "                               StoichiometricReactor)"
   ]
  },
  {
   "cell_type": "code",
   "execution_count": 3,
   "metadata": {},
   "outputs": [],
   "source": [
    "import hda_ideal_VLE_dmf as thermo_props"
   ]
  },
  {
   "cell_type": "code",
   "execution_count": 4,
   "metadata": {},
   "outputs": [],
   "source": [
    "m = ConcreteModel()\n",
    "m.fs = FlowsheetBlock(default={\"dynamic\": False})"
   ]
  },
  {
   "cell_type": "code",
   "execution_count": 5,
   "metadata": {},
   "outputs": [],
   "source": [
    "m.fs.thermo_params = thermo_props.HDAParameterBlock()"
   ]
  },
  {
   "cell_type": "code",
   "execution_count": 7,
   "metadata": {},
   "outputs": [],
   "source": [
    "from idaes.dmf import magics"
   ]
  },
  {
   "cell_type": "code",
   "execution_count": 10,
   "metadata": {},
   "outputs": [
    {
     "data": {
      "text/markdown": [
       "*Success!* Using workspace at \".\""
      ]
     },
     "metadata": {},
     "output_type": "display_data"
    }
   ],
   "source": [
    "%dmf init ."
   ]
  },
  {
   "cell_type": "code",
   "execution_count": 11,
   "metadata": {},
   "outputs": [
    {
     "data": {
      "text/markdown": [
       "| ID | Name(s) | Type | Modified | Description | \n",
       "| -- | ------- | ---- | -------- | ----------- |\n",
       "| 623804ff69564eda9f92ae3871ed8687 | pressure_crit | propertydb | 3 days ago | Critical pressure |\n",
       "| b0b333fdd4574e4eae1c4cef98c19ee8 | temperature_crit | propertydb | 11 hours ago | Critical temperature |\n",
       "| d9b59dffe0e4428baab2f80f42c62c3c | mw | propertydb | 9 hours ago | Molecular weight |\n",
       "| 30ad5a72c576471b8b0a6efcab1114c8 | cp_liq | propertydb | 9 hours ago | Liquid densities |\n",
       "| 4ef9d2ce193f4a0487763fbe4b94c347 | bp | propertydb | 7 hours ago | Pure component boiling points at standard pressure [K] |\n",
       "| 5bc493a1ccb74639b0403d0d66924b51 | cp_ig | propertydb | 7 hours ago | Specific heat capacity, enthalpy |\n",
       "| 6ff47009063047c58d70779374175d9c | pressure_sat_coeff | propertydb | 6 hours ago | Pressure saturation coefficient |\n",
       "| 15907525b89643c08bf9bc0a0b8e2fe6 | dh_vap | propertydb | 2 minutes ago | Heat of vaporization |"
      ]
     },
     "metadata": {},
     "output_type": "display_data"
    },
    {
     "data": {
      "text/plain": [
       "True"
      ]
     },
     "execution_count": 11,
     "metadata": {},
     "output_type": "execute_result"
    }
   ],
   "source": [
    "%dmf list"
   ]
  },
  {
   "cell_type": "code",
   "execution_count": null,
   "metadata": {},
   "outputs": [],
   "source": []
  }
 ],
 "metadata": {
  "kernelspec": {
   "display_name": "idaes37",
   "language": "python",
   "name": "idaes37"
  },
  "language_info": {
   "codemirror_mode": {
    "name": "ipython",
    "version": 3
   },
   "file_extension": ".py",
   "mimetype": "text/x-python",
   "name": "python",
   "nbconvert_exporter": "python",
   "pygments_lexer": "ipython3",
   "version": "3.7.3"
  }
 },
 "nbformat": 4,
 "nbformat_minor": 4
}
