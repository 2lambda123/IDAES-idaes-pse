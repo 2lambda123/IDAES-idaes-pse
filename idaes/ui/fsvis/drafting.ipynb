{
 "cells": [
  {
   "cell_type": "code",
   "execution_count": 1,
   "metadata": {},
   "outputs": [],
   "source": [
    "import idaes.examples.workshops.Module_2_Flowsheet.hda_ideal_VLE as thermo_props\n",
    "import idaes.examples.workshops.Module_2_Flowsheet.hda_reaction as reaction_props\n",
    "\n",
    "from pyomo.environ import (Constraint,\n",
    "                           Var,\n",
    "                           ConcreteModel,\n",
    "                           Expression,\n",
    "                           Objective,\n",
    "                           SolverFactory,\n",
    "                           TransformationFactory,\n",
    "                           value)\n",
    "from pyomo.network import Arc, SequentialDecomposition\n",
    "\n",
    "from idaes.core import FlowsheetBlock\n",
    "\n",
    "from idaes.generic_models.unit_models import (Flash,\n",
    "                               PressureChanger,\n",
    "                               Mixer,\n",
    "                               Separator as Splitter,\n",
    "                               Heater,\n",
    "                               StoichiometricReactor)\n",
    "from idaes.generic_models.unit_models.pressure_changer import ThermodynamicAssumption"
   ]
  },
  {
   "cell_type": "code",
   "execution_count": 2,
   "metadata": {},
   "outputs": [],
   "source": [
    "# Construct the model from idaes/examples/workshops/Module_2_Flowsheet/Module_2_Flowsheet_Solution.ipynb\n",
    "m = ConcreteModel()\n",
    "m.fs = FlowsheetBlock(default={\"dynamic\": False})\n",
    "m.fs.thermo_params = thermo_props.HDAParameterBlock()\n",
    "m.fs.reaction_params = reaction_props.HDAReactionParameterBlock(default={\"property_package\": m.fs.thermo_params})\n",
    "\n",
    "m.fs.M101 = Mixer(default={\"property_package\": m.fs.thermo_params,\n",
    "                           \"inlet_list\": [\"toluene_feed\", \"hydrogen_feed\", \"vapor_recycle\"]\n",
    "                           })\n",
    "\n",
    "m.fs.H101 = Heater(default={\"property_package\": m.fs.thermo_params,\n",
    "                            \"has_pressure_change\": False,\n",
    "                            \"has_phase_equilibrium\": True})\n",
    "m.fs.R101 = StoichiometricReactor(default={\"property_package\": m.fs.thermo_params,\n",
    "                                           \"reaction_package\": m.fs.reaction_params,\n",
    "                                           \"has_heat_of_reaction\": True,\n",
    "                                           \"has_heat_transfer\": True,\n",
    "                                           \"has_pressure_change\": False\n",
    "                                           })\n",
    "m.fs.F101 = Flash(default={\"property_package\": m.fs.thermo_params,\n",
    "                           \"has_heat_transfer\": True,\n",
    "                           \"has_pressure_change\": True\n",
    "                           })\n",
    "m.fs.S101 = Splitter(default={\"property_package\": m.fs.thermo_params,\n",
    "                              \"ideal_separation\": False,\n",
    "                              \"outlet_list\": [\"purge\", \"recycle\"]\n",
    "                              })\n",
    "m.fs.C101 = PressureChanger(default={\"property_package\": m.fs.thermo_params,\n",
    "                                     \"compressor\": True,\n",
    "                                     \"thermodynamic_assumption\": ThermodynamicAssumption.isothermal\n",
    "                                     })\n",
    "m.fs.F102 = Flash(default={\"property_package\": m.fs.thermo_params,\n",
    "                           \"has_heat_transfer\": True,\n",
    "                           \"has_pressure_change\": True\n",
    "                           })"
   ]
  },
  {
   "cell_type": "code",
   "execution_count": 3,
   "metadata": {},
   "outputs": [],
   "source": [
    "m.fs.s03 = Arc(source=m.fs.M101.outlet, destination=m.fs.H101.inlet)\n",
    "m.fs.s04 = Arc(source=m.fs.H101.outlet, destination=m.fs.R101.inlet)\n",
    "m.fs.s05 = Arc(source=m.fs.R101.outlet, destination=m.fs.F101.inlet)\n",
    "m.fs.s06 = Arc(source=m.fs.F101.vap_outlet, destination=m.fs.S101.inlet)\n",
    "m.fs.s08 = Arc(source=m.fs.S101.recycle, destination=m.fs.C101.inlet)\n",
    "m.fs.s09 = Arc(source=m.fs.C101.outlet, destination=m.fs.M101.vapor_recycle)\n",
    "m.fs.s10 = Arc(source=m.fs.F101.liq_outlet, destination=m.fs.F102.inlet)"
   ]
  },
  {
   "cell_type": "code",
   "execution_count": 4,
   "metadata": {},
   "outputs": [],
   "source": [
    "# Below three lines are a demonstration of the current visualize() function"
   ]
  },
  {
   "cell_type": "code",
   "execution_count": 5,
   "metadata": {},
   "outputs": [],
   "source": [
    "from idaes.ui.fsvis.fsvis import visualize"
   ]
  },
  {
   "cell_type": "code",
   "execution_count": 6,
   "metadata": {},
   "outputs": [
    {
     "name": "stdout",
     "output_type": "stream",
     "text": [
      " * Serving Flask app \"idaes.ui.fsvis.flask_server\" (lazy loading)\n",
      " * Environment: production\n",
      "   Use a production WSGI server instead.\n",
      "   WARNING: This is a development server. Do not use it in a production deployment.\n",
      " * Debug mode: off\n"
     ]
    },
    {
     "name": "stderr",
     "output_type": "stream",
     "text": [
      " * Running on http://127.0.0.1:5555/ (Press CTRL+C to quit)\n",
      "127.0.0.1 - - [18/Mar/2020 10:47:06] \"\u001b[37mPOST /fs?id=draftmodel&id=draftmodel HTTP/1.1\u001b[0m\" 200 -\n"
     ]
    },
    {
     "name": "stdout",
     "output_type": "stream",
     "text": [
      "attempt 0 of 127\n",
      "Opened in browser window: True\n",
      "http://127.0.0.1:5555/fs?id=draftmodel\n"
     ]
    },
    {
     "data": {
      "text/plain": [
       "<idaes.ui.fsvis.flask_server.App at 0x7ff1a249e390>"
      ]
     },
     "execution_count": 6,
     "metadata": {},
     "output_type": "execute_result"
    },
    {
     "name": "stderr",
     "output_type": "stream",
     "text": [
      "127.0.0.1 - - [18/Mar/2020 10:47:06] \"\u001b[37mGET /fs?id=draftmodel HTTP/1.1\u001b[0m\" 200 -\n"
     ]
    },
    {
     "name": "stdout",
     "output_type": "stream",
     "text": [
      "{'model': {'id': 0, 'unit_models': {'M101': {'type': 'mixer', 'image': 'mixer.svg'}, 'H101': {'type': 'heater', 'image': 'heater_2.svg'}, 'R101': {'type': 'stoichiometric_reactor', 'image': 'reactor_s.svg'}, 'F101': {'type': 'flash', 'image': 'flash.svg'}, 'S101': {'type': 'separator', 'image': 'splitter.svg'}, 'C101': {'type': 'pressure_changer', 'image': 'compressor.svg'}, 'F102': {'type': 'flash', 'image': 'flash.svg'}}, 'arcs': {'s03': {'source': 'M101', 'dest': 'H101', 'label': \"Molar Flow ('Liq', 'benzene') 0.5\\nMolar Flow ('Liq', 'toluene') 0.5\\nMolar Flow ('Liq', 'hydrogen') 0.5\\nMolar Flow ('Liq', 'methane') 0.5\\nMolar Flow ('Vap', 'benzene') 0.5\\nMolar Flow ('Vap', 'toluene') 0.5\\nMolar Flow ('Vap', 'hydrogen') 0.5\\nMolar Flow ('Vap', 'methane') 0.5\\nTemperature 298.15\\nPressure 10132\"}, 's04': {'source': 'H101', 'dest': 'R101', 'label': \"Molar Flow ('Liq', 'benzene') 0.5\\nMolar Flow ('Liq', 'toluene') 0.5\\nMolar Flow ('Liq', 'hydrogen') 0.5\\nMolar Flow ('Liq', 'methane') 0.5\\nMolar Flow ('Vap', 'benzene') 0.5\\nMolar Flow ('Vap', 'toluene') 0.5\\nMolar Flow ('Vap', 'hydrogen') 0.5\\nMolar Flow ('Vap', 'methane') 0.5\\nTemperature 298.15\\nPressure 10132\"}, 's05': {'source': 'R101', 'dest': 'F101', 'label': \"Molar Flow ('Liq', 'benzene') 0.5\\nMolar Flow ('Liq', 'toluene') 0.5\\nMolar Flow ('Liq', 'hydrogen') 0.5\\nMolar Flow ('Liq', 'methane') 0.5\\nMolar Flow ('Vap', 'benzene') 0.5\\nMolar Flow ('Vap', 'toluene') 0.5\\nMolar Flow ('Vap', 'hydrogen') 0.5\\nMolar Flow ('Vap', 'methane') 0.5\\nTemperature 298.15\\nPressure 10132\"}, 's06': {'source': 'F101', 'dest': 'S101', 'label': \"Molar Flow ('Liq', 'benzene') 0.5\\nMolar Flow ('Liq', 'toluene') 0.5\\nMolar Flow ('Liq', 'hydrogen') 0.5\\nMolar Flow ('Liq', 'methane') 0.5\\nMolar Flow ('Vap', 'benzene') 0.5\\nMolar Flow ('Vap', 'toluene') 0.5\\nMolar Flow ('Vap', 'hydrogen') 0.5\\nMolar Flow ('Vap', 'methane') 0.5\\nTemperature 298.15\\nPressure 10132\"}, 's08': {'source': 'S101', 'dest': 'C101', 'label': \"Molar Flow ('Liq', 'benzene') 0.5\\nMolar Flow ('Liq', 'toluene') 0.5\\nMolar Flow ('Liq', 'hydrogen') 0.5\\nMolar Flow ('Liq', 'methane') 0.5\\nMolar Flow ('Vap', 'benzene') 0.5\\nMolar Flow ('Vap', 'toluene') 0.5\\nMolar Flow ('Vap', 'hydrogen') 0.5\\nMolar Flow ('Vap', 'methane') 0.5\\nTemperature 298.15\\nPressure 10132\"}, 's09': {'source': 'C101', 'dest': 'M101', 'label': \"Molar Flow ('Liq', 'benzene') 0.5\\nMolar Flow ('Liq', 'toluene') 0.5\\nMolar Flow ('Liq', 'hydrogen') 0.5\\nMolar Flow ('Liq', 'methane') 0.5\\nMolar Flow ('Vap', 'benzene') 0.5\\nMolar Flow ('Vap', 'toluene') 0.5\\nMolar Flow ('Vap', 'hydrogen') 0.5\\nMolar Flow ('Vap', 'methane') 0.5\\nTemperature 298.15\\nPressure 10132\"}, 's10': {'source': 'F101', 'dest': 'F102', 'label': \"Molar Flow ('Liq', 'benzene') 0.5\\nMolar Flow ('Liq', 'toluene') 0.5\\nMolar Flow ('Liq', 'hydrogen') 0.5\\nMolar Flow ('Liq', 'methane') 0.5\\nMolar Flow ('Vap', 'benzene') 0.5\\nMolar Flow ('Vap', 'toluene') 0.5\\nMolar Flow ('Vap', 'hydrogen') 0.5\\nMolar Flow ('Vap', 'methane') 0.5\\nTemperature 298.15\\nPressure 10132\"}}}, 'cells': [{'type': 'standard.Image', 'position': {'x': 100, 'y': 100}, 'size': {'width': 50, 'height': 50}, 'angle': 0, 'id': 'M101', 'z': [1], 'attrs': {'image': {'xlinkHref': 'mixer.svg'}, 'label': {'text': 'M101'}, 'root': {'title': 'mixer'}}}, {'type': 'standard.Image', 'position': {'x': 200, 'y': 200}, 'size': {'width': 50, 'height': 50}, 'angle': 0, 'id': 'H101', 'z': [1], 'attrs': {'image': {'xlinkHref': 'heater_2.svg'}, 'label': {'text': 'H101'}, 'root': {'title': 'heater'}}}, {'type': 'standard.Image', 'position': {'x': 300, 'y': 300}, 'size': {'width': 50, 'height': 50}, 'angle': 0, 'id': 'R101', 'z': [1], 'attrs': {'image': {'xlinkHref': 'reactor_s.svg'}, 'label': {'text': 'R101'}, 'root': {'title': 'stoichiometric_reactor'}}}, {'type': 'standard.Image', 'position': {'x': 400, 'y': 400}, 'size': {'width': 50, 'height': 50}, 'angle': 0, 'id': 'F101', 'z': [1], 'attrs': {'image': {'xlinkHref': 'flash.svg'}, 'label': {'text': 'F101'}, 'root': {'title': 'flash'}}}, {'type': 'standard.Image', 'position': {'x': 500, 'y': 500}, 'size': {'width': 50, 'height': 50}, 'angle': 0, 'id': 'S101', 'z': [1], 'attrs': {'image': {'xlinkHref': 'splitter.svg'}, 'label': {'text': 'S101'}, 'root': {'title': 'separator'}}}, {'type': 'standard.Image', 'position': {'x': 600, 'y': 600}, 'size': {'width': 50, 'height': 50}, 'angle': 0, 'id': 'C101', 'z': [1], 'attrs': {'image': {'xlinkHref': 'compressor.svg'}, 'label': {'text': 'C101'}, 'root': {'title': 'pressure_changer'}}}, {'type': 'standard.Image', 'position': {'x': 700, 'y': 700}, 'size': {'width': 50, 'height': 50}, 'angle': 0, 'id': 'F102', 'z': [1], 'attrs': {'image': {'xlinkHref': 'flash.svg'}, 'label': {'text': 'F102'}, 'root': {'title': 'flash'}}}, {'type': 'standard.Link', 'source': {'anchor': {'name': 'right', 'args': {'rotate': 'false', 'padding': 0}}, 'id': 'M101'}, 'target': {'anchor': {'name': 'left', 'args': {'rotate': 'false', 'padding': 0}}, 'id': 'H101'}, 'router': {'name': 'orthogonal', 'padding': 10}, 'connector': {'name': 'normal', 'attrs': {'line': {'stroke': '#5c9adb'}}}, 'id': 's03', 'labels': [{'attrs': {'rect': {'fill': '#d7dce0', 'stroke': '#FFFFFF', 'stroke-width': 1}, 'text': {'text': \"Molar Flow ('Liq', 'benzene') 0.5\\nMolar Flow ('Liq', 'toluene') 0.5\\nMolar Flow ('Liq', 'hydrogen') 0.5\\nMolar Flow ('Liq', 'methane') 0.5\\nMolar Flow ('Vap', 'benzene') 0.5\\nMolar Flow ('Vap', 'toluene') 0.5\\nMolar Flow ('Vap', 'hydrogen') 0.5\\nMolar Flow ('Vap', 'methane') 0.5\\nTemperature 298.15\\nPressure 10132\", 'fill': 'black', 'text-anchor': 'left'}}, 'position': {'distance': 0.66, 'offset': -40}}], 'z': 2}, {'type': 'standard.Link', 'source': {'anchor': {'name': 'right', 'args': {'rotate': 'false', 'padding': 0}}, 'id': 'H101'}, 'target': {'anchor': {'name': 'topLeft', 'args': {'rotate': 'false', 'padding': 0}}, 'id': 'R101'}, 'router': {'name': 'orthogonal', 'padding': 10}, 'connector': {'name': 'normal', 'attrs': {'line': {'stroke': '#5c9adb'}}}, 'id': 's04', 'labels': [{'attrs': {'rect': {'fill': '#d7dce0', 'stroke': '#FFFFFF', 'stroke-width': 1}, 'text': {'text': \"Molar Flow ('Liq', 'benzene') 0.5\\nMolar Flow ('Liq', 'toluene') 0.5\\nMolar Flow ('Liq', 'hydrogen') 0.5\\nMolar Flow ('Liq', 'methane') 0.5\\nMolar Flow ('Vap', 'benzene') 0.5\\nMolar Flow ('Vap', 'toluene') 0.5\\nMolar Flow ('Vap', 'hydrogen') 0.5\\nMolar Flow ('Vap', 'methane') 0.5\\nTemperature 298.15\\nPressure 10132\", 'fill': 'black', 'text-anchor': 'left'}}, 'position': {'distance': 0.66, 'offset': -40}}], 'z': 2}, {'type': 'standard.Link', 'source': {'anchor': {'name': 'bottomRight', 'args': {'rotate': 'false', 'padding': 0}}, 'id': 'R101'}, 'target': {'anchor': {'name': 'left', 'args': {'rotate': 'false', 'padding': 0}}, 'id': 'F101'}, 'router': {'name': 'orthogonal', 'padding': 10}, 'connector': {'name': 'normal', 'attrs': {'line': {'stroke': '#5c9adb'}}}, 'id': 's05', 'labels': [{'attrs': {'rect': {'fill': '#d7dce0', 'stroke': '#FFFFFF', 'stroke-width': 1}, 'text': {'text': \"Molar Flow ('Liq', 'benzene') 0.5\\nMolar Flow ('Liq', 'toluene') 0.5\\nMolar Flow ('Liq', 'hydrogen') 0.5\\nMolar Flow ('Liq', 'methane') 0.5\\nMolar Flow ('Vap', 'benzene') 0.5\\nMolar Flow ('Vap', 'toluene') 0.5\\nMolar Flow ('Vap', 'hydrogen') 0.5\\nMolar Flow ('Vap', 'methane') 0.5\\nTemperature 298.15\\nPressure 10132\", 'fill': 'black', 'text-anchor': 'left'}}, 'position': {'distance': 0.66, 'offset': -40}}], 'z': 2}, {'type': 'standard.Link', 'source': {'anchor': {'name': 'top', 'args': {'rotate': 'false', 'padding': 0}}, 'id': 'F101'}, 'target': {'anchor': {'name': 'left', 'args': {'rotate': 'false', 'padding': 0}}, 'id': 'S101'}, 'router': {'name': 'orthogonal', 'padding': 10}, 'connector': {'name': 'normal', 'attrs': {'line': {'stroke': '#5c9adb'}}}, 'id': 's06', 'labels': [{'attrs': {'rect': {'fill': '#d7dce0', 'stroke': '#FFFFFF', 'stroke-width': 1}, 'text': {'text': \"Molar Flow ('Liq', 'benzene') 0.5\\nMolar Flow ('Liq', 'toluene') 0.5\\nMolar Flow ('Liq', 'hydrogen') 0.5\\nMolar Flow ('Liq', 'methane') 0.5\\nMolar Flow ('Vap', 'benzene') 0.5\\nMolar Flow ('Vap', 'toluene') 0.5\\nMolar Flow ('Vap', 'hydrogen') 0.5\\nMolar Flow ('Vap', 'methane') 0.5\\nTemperature 298.15\\nPressure 10132\", 'fill': 'black', 'text-anchor': 'left'}}, 'position': {'distance': 0.66, 'offset': -40}}], 'z': 2}, {'type': 'standard.Link', 'source': {'anchor': {'name': 'right', 'args': {'rotate': 'false', 'padding': 0}}, 'id': 'S101'}, 'target': {'anchor': {'name': 'left', 'args': {'rotate': 'false', 'padding': 0}}, 'id': 'C101'}, 'router': {'name': 'orthogonal', 'padding': 10}, 'connector': {'name': 'normal', 'attrs': {'line': {'stroke': '#5c9adb'}}}, 'id': 's08', 'labels': [{'attrs': {'rect': {'fill': '#d7dce0', 'stroke': '#FFFFFF', 'stroke-width': 1}, 'text': {'text': \"Molar Flow ('Liq', 'benzene') 0.5\\nMolar Flow ('Liq', 'toluene') 0.5\\nMolar Flow ('Liq', 'hydrogen') 0.5\\nMolar Flow ('Liq', 'methane') 0.5\\nMolar Flow ('Vap', 'benzene') 0.5\\nMolar Flow ('Vap', 'toluene') 0.5\\nMolar Flow ('Vap', 'hydrogen') 0.5\\nMolar Flow ('Vap', 'methane') 0.5\\nTemperature 298.15\\nPressure 10132\", 'fill': 'black', 'text-anchor': 'left'}}, 'position': {'distance': 0.66, 'offset': -40}}], 'z': 2}, {'type': 'standard.Link', 'source': {'anchor': {'name': 'right', 'args': {'rotate': 'false', 'padding': 0}}, 'id': 'C101'}, 'target': {'anchor': {'name': 'left', 'args': {'rotate': 'false', 'padding': 0}}, 'id': 'M101'}, 'router': {'name': 'orthogonal', 'padding': 10}, 'connector': {'name': 'normal', 'attrs': {'line': {'stroke': '#5c9adb'}}}, 'id': 's09', 'labels': [{'attrs': {'rect': {'fill': '#d7dce0', 'stroke': '#FFFFFF', 'stroke-width': 1}, 'text': {'text': \"Molar Flow ('Liq', 'benzene') 0.5\\nMolar Flow ('Liq', 'toluene') 0.5\\nMolar Flow ('Liq', 'hydrogen') 0.5\\nMolar Flow ('Liq', 'methane') 0.5\\nMolar Flow ('Vap', 'benzene') 0.5\\nMolar Flow ('Vap', 'toluene') 0.5\\nMolar Flow ('Vap', 'hydrogen') 0.5\\nMolar Flow ('Vap', 'methane') 0.5\\nTemperature 298.15\\nPressure 10132\", 'fill': 'black', 'text-anchor': 'left'}}, 'position': {'distance': 0.66, 'offset': -40}}], 'z': 2}, {'type': 'standard.Link', 'source': {'anchor': {'name': 'bottom', 'args': {'rotate': 'false', 'padding': 0}}, 'id': 'F101'}, 'target': {'anchor': {'name': 'left', 'args': {'rotate': 'false', 'padding': 0}}, 'id': 'F102'}, 'router': {'name': 'orthogonal', 'padding': 10}, 'connector': {'name': 'normal', 'attrs': {'line': {'stroke': '#5c9adb'}}}, 'id': 's10', 'labels': [{'attrs': {'rect': {'fill': '#d7dce0', 'stroke': '#FFFFFF', 'stroke-width': 1}, 'text': {'text': \"Molar Flow ('Liq', 'benzene') 0.5\\nMolar Flow ('Liq', 'toluene') 0.5\\nMolar Flow ('Liq', 'hydrogen') 0.5\\nMolar Flow ('Liq', 'methane') 0.5\\nMolar Flow ('Vap', 'benzene') 0.5\\nMolar Flow ('Vap', 'toluene') 0.5\\nMolar Flow ('Vap', 'hydrogen') 0.5\\nMolar Flow ('Vap', 'methane') 0.5\\nTemperature 298.15\\nPressure 10132\", 'fill': 'black', 'text-anchor': 'left'}}, 'position': {'distance': 0.66, 'offset': -40}}], 'z': 2}]}\n",
      "{'model': {'unit_models': {'H101': {'type': 'heater', 'image': 'heater_2.svg'}}, 'arcs': {'s03': {'source': 'M101', 'dest': 'H101', 'label': 'Hello World!'}}, 'id': 0}, 'cells': ['hello', 'world']}\n"
     ]
    },
    {
     "name": "stderr",
     "output_type": "stream",
     "text": [
      "127.0.0.1 - - [18/Mar/2020 10:47:13] \"\u001b[37mPOST /fs?id=draftmodel HTTP/1.1\u001b[0m\" 200 -\n"
     ]
    },
    {
     "name": "stdout",
     "output_type": "stream",
     "text": [
      "{'model': {'unit_models': {'H101': {'type': 'heater', 'image': 'heater_2.svg'}}, 'arcs': {'s03': {'source': 'M101', 'dest': 'H101', 'label': 'Hello World!', 'action': 3, 'class': 'arc'}}, 'id': 0}, 'cells': [{'type': 'standard.Image', 'position': {'x': 200, 'y': 200}, 'size': {'width': 50, 'height': 50}, 'angle': 0, 'id': 'H101', 'z': [1], 'attrs': {'image': {'xlinkHref': 'heater_2.svg'}, 'label': {'text': 'H101'}, 'root': {'title': 'heater'}}}, {'type': 'standard.Link', 'source': {'anchor': {'name': 'right', 'args': {'rotate': 'false', 'padding': 0}}, 'id': 'M101'}, 'target': {'anchor': {'name': 'left', 'args': {'rotate': 'false', 'padding': 0}}, 'id': 'H101'}, 'router': {'name': 'orthogonal', 'padding': 10}, 'connector': {'name': 'normal', 'attrs': {'line': {'stroke': '#5c9adb'}}}, 'id': 's03', 'labels': [{'attrs': {'rect': {'fill': '#d7dce0', 'stroke': '#FFFFFF', 'stroke-width': 1}, 'text': {'text': 'Hello World!', 'fill': 'black', 'text-anchor': 'left'}}, 'position': {'distance': 0.66, 'offset': -40}}], 'z': 2}]}\n",
      "{'model': {'unit_models': {'H101': {'type': 'heater', 'image': 'heater_2.svg'}}, 'arcs': {'s03': {'source': 'M101', 'dest': 'H101', 'label': 'Hello World!'}}, 'id': 0}, 'cells': ['hello', 'world']}\n"
     ]
    },
    {
     "name": "stderr",
     "output_type": "stream",
     "text": [
      "127.0.0.1 - - [18/Mar/2020 10:47:17] \"\u001b[37mPOST /fs?id=draftmodel HTTP/1.1\u001b[0m\" 200 -\n"
     ]
    }
   ],
   "source": [
    "\n",
    "visualize(m.fs, 'draftmodel')"
   ]
  },
  {
   "cell_type": "code",
   "execution_count": null,
   "metadata": {},
   "outputs": [],
   "source": []
  },
  {
   "cell_type": "code",
   "execution_count": null,
   "metadata": {},
   "outputs": [],
   "source": [
    "'''The below is historical work temporarily kept; the entire notebook is to be removed soon anyways'''"
   ]
  },
  {
   "cell_type": "code",
   "execution_count": null,
   "metadata": {},
   "outputs": [],
   "source": [
    "import requests\n",
    "from requests.exceptions import ConnectionError\n",
    "import time\n",
    "import webbrowser\n",
    "\n",
    "from idaes.ui.fsvis.flask_server import App as fsvis_server"
   ]
  },
  {
   "cell_type": "code",
   "execution_count": null,
   "metadata": {},
   "outputs": [],
   "source": [
    "def visualize(model, modelname):\n",
    "    server = fsvis_server()\n",
    "    url = f\"http://{server.host}:{server.port}/fs\"\n",
    "    \n",
    "    repeat_until_connection_available(requests.post, url, json={'model': str(model)}, \n",
    "                        params={'id': modelname})\n",
    "    success = webbrowser.open(url)\n",
    "    print(f'Opened in browser window: {success}')\n",
    "    print(f'{url}?id={modelname}')\n",
    "    return server\n",
    "\n",
    "def repeat_until_connection_available(f, *args, retries=127, **kwargs):\n",
    "    for i in range(retries):\n",
    "        try:\n",
    "            print(f'attempt {i} of {retries}')\n",
    "            return f(*args, **kwargs)\n",
    "        except ConnectionError as e:\n",
    "            time.sleep(0.1)\n",
    "            print(f'connection error: attempt {i}; {e}')\n",
    "            continue # consider logging\n",
    "            \n",
    "    # raise ConnectionRefusedError?? how\n",
    "    # or maybe just print to debug and stop?\n",
    "        \n"
   ]
  },
  {
   "cell_type": "code",
   "execution_count": null,
   "metadata": {},
   "outputs": [],
   "source": [
    "s = visualize('fooooo', 'hellllo')"
   ]
  },
  {
   "cell_type": "code",
   "execution_count": null,
   "metadata": {},
   "outputs": [],
   "source": [
    "s.stop() # calling this and then trying to spin up the server again seems to \n",
    "    # cause a fairly long delay before the server (re)starts??"
   ]
  },
  {
   "cell_type": "code",
   "execution_count": null,
   "metadata": {},
   "outputs": [],
   "source": []
  },
  {
   "cell_type": "code",
   "execution_count": null,
   "metadata": {},
   "outputs": [],
   "source": [
    "import webbrowser\n",
    "\n",
    "webbrowser.open(\"http://127.0.0.1:5555/fs\")"
   ]
  },
  {
   "cell_type": "code",
   "execution_count": null,
   "metadata": {},
   "outputs": [],
   "source": []
  }
 ],
 "metadata": {
  "kernelspec": {
   "display_name": "Python 3",
   "language": "python",
   "name": "python3"
  },
  "language_info": {
   "codemirror_mode": {
    "name": "ipython",
    "version": 3
   },
   "file_extension": ".py",
   "mimetype": "text/x-python",
   "name": "python",
   "nbconvert_exporter": "python",
   "pygments_lexer": "ipython3",
   "version": "3.7.4"
  }
 },
 "nbformat": 4,
 "nbformat_minor": 4
}
