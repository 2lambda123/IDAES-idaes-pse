{
 "cells": [
  {
   "cell_type": "code",
   "execution_count": null,
   "metadata": {},
   "outputs": [],
   "source": [
    "from idaes.ui.fsvis.fsvis import visualize"
   ]
  },
  {
   "cell_type": "code",
   "execution_count": null,
   "metadata": {},
   "outputs": [],
   "source": [
    "fs = 'totally a model and not just a string'\n",
    "visualize(fs, 'draft_model')"
   ]
  },
  {
   "cell_type": "code",
   "execution_count": null,
   "metadata": {},
   "outputs": [],
   "source": []
  },
  {
   "cell_type": "code",
   "execution_count": null,
   "metadata": {},
   "outputs": [],
   "source": [
    "import requests\n",
    "from requests.exceptions import ConnectionError\n",
    "import time\n",
    "import webbrowser\n",
    "\n",
    "from idaes.ui.fsvis.flask_server import App as fsvis_server"
   ]
  },
  {
   "cell_type": "code",
   "execution_count": null,
   "metadata": {},
   "outputs": [],
   "source": [
    "def visualize(model, modelname):\n",
    "    server = fsvis_server()\n",
    "    url = f\"http://{server.host}:{server.port}/fs\"\n",
    "    \n",
    "    repeat_until_connection_available(requests.post, url, json={'model': str(model)}, \n",
    "                        params={'id': modelname})\n",
    "    success = webbrowser.open(url)\n",
    "    print(f'Opened in browser window: {success}')\n",
    "    print(f'{url}?id={modelname}')\n",
    "    return server\n",
    "\n",
    "def repeat_until_connection_available(f, *args, retries=127, **kwargs):\n",
    "    for i in range(retries):\n",
    "        try:\n",
    "            print(f'attempt {i} of {retries}')\n",
    "            return f(*args, **kwargs)\n",
    "        except ConnectionError as e:\n",
    "            time.sleep(0.1)\n",
    "            print(f'connection error: attempt {i}; {e}')\n",
    "            continue # consider logging\n",
    "            \n",
    "    # raise ConnectionRefusedError?? how\n",
    "    # or maybe just print to debug and stop?\n",
    "        \n"
   ]
  },
  {
   "cell_type": "code",
   "execution_count": null,
   "metadata": {},
   "outputs": [],
   "source": [
    "s = visualize('fooooo', 'hellllo')"
   ]
  },
  {
   "cell_type": "code",
   "execution_count": null,
   "metadata": {},
   "outputs": [],
   "source": [
    "s.stop() # calling this and then trying to spin up the server again seems to \n",
    "    # cause a fairly long delay before the server (re)starts??"
   ]
  },
  {
   "cell_type": "code",
   "execution_count": null,
   "metadata": {},
   "outputs": [],
   "source": []
  },
  {
   "cell_type": "code",
   "execution_count": null,
   "metadata": {},
   "outputs": [],
   "source": [
    "import webbrowser\n",
    "\n",
    "webbrowser.open(\"http://127.0.0.1:5555/fs\")"
   ]
  },
  {
   "cell_type": "code",
   "execution_count": null,
   "metadata": {},
   "outputs": [],
   "source": []
  }
 ],
 "metadata": {
  "kernelspec": {
   "display_name": "Python 3",
   "language": "python",
   "name": "python3"
  },
  "language_info": {
   "codemirror_mode": {
    "name": "ipython",
    "version": 3
   },
   "file_extension": ".py",
   "mimetype": "text/x-python",
   "name": "python",
   "nbconvert_exporter": "python",
   "pygments_lexer": "ipython3",
   "version": "3.7.6"
  }
 },
 "nbformat": 4,
 "nbformat_minor": 4
}
